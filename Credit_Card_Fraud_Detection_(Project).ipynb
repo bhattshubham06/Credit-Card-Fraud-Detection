{
 "cells": [
  {
   "cell_type": "code",
   "execution_count": 1,
   "metadata": {
    "colab": {
     "base_uri": "https://localhost:8080/"
    },
    "id": "JsGQvI6Fws33",
    "outputId": "4de78ebc-34ab-4d37-f67b-b29eabc6ec2a"
   },
   "outputs": [
    {
     "name": "stdout",
     "output_type": "stream",
     "text": [
      "Drive already mounted at /content/gdrive; to attempt to forcibly remount, call drive.mount(\"/content/gdrive\", force_remount=True).\n"
     ]
    }
   ],
   "source": [
    "# connecting collab with google drive\n",
    "\n",
    "from google.colab import drive\n",
    "drive.mount('/content/gdrive')"
   ]
  },
  {
   "cell_type": "markdown",
   "metadata": {
    "id": "doLELFV7LF3K"
   },
   "source": [
    "### **Problem Statement**\n",
    "\n",
    "Finex is a leading financial service provider based out of Florida, US. It offers a wide range of products and business services to customers through different channels, ranging from in-person banking and ATMs to online banking. Over the last few years, Finex has observed that a significantly large number of unauthorised transactions are being made, due to which the bank has been facing a huge revenue and profitability crisis. Many customers have been complaining about unauthorised transactions being made through their credit/debit cards. It has been reported that fraudsters use stolen/lost cards and hack private systems to access the personal and sensitive data of many cardholders. They also indulge in ATM skimming at various POS terminals such as gas stations, shopping malls, and ATMs that do not send alerts or do not have OTP systems through banks. Such fraudulent activities have been reported to happen during non-peak and odd hours of the day leaving no room for suspicion.\n",
    "\n",
    " \n",
    "\n",
    "In most cases, customers get to know of such unauthorised transactions happening through their cards quite late as they are unaware of such ongoing credit card frauds or they do not monitor their bank account activities closely. This has led to late complaint registration with Finex and by the time the case is flagged fraudulent, the bank incurs heavy losses and ends up paying the lost amount to the cardholders.\n",
    "\n",
    " \n",
    "\n",
    "Now, Finex is also not really equipped with the latest financial technologies, and it is becoming difficult for the bank to track these data breaches on time to prevent further losses. The Branch Manager is worried about the ongoing situation and wants to identify the possible root causes and action areas to come up with a long-term solution that would help the bank generate high revenue with minimal losses.\n",
    "\n",
    "\n",
    "\n",
    "### **Project Pipeline**\n",
    "\n",
    "\n",
    "1. Understanding the Data\n",
    "2. Exploratory Data Analysis (EDA)\n",
    "3. Train/Test Data Splitting\n",
    "4. Model Building or Hyperparameter Tuning\n",
    "5. Model Evaluation\n",
    "6. Business Impact\n"
   ]
  },
  {
   "cell_type": "markdown",
   "metadata": {
    "id": "3Bs49D8PLF6-"
   },
   "source": [
    "### **Data Dictionary**\n",
    "- <b>trans_date_trans_time -></b> Transaction time stamp\n",
    "- <b>cc_num -></b> Credit card number\n",
    "- <b>merchant -></b> merchant name\n",
    "- <b>category -></b> transaction category\n",
    "- <b>amt -></b> Transaction amount\n",
    "- <b>first -></b> First name of card holder\n",
    "- <b>last -></b> Last name of card holder\n",
    "- <b>gender -></b> Sex of card holder\n",
    "- <b>street -></b> transaction address\n",
    "- <b>city -></b> transaction city\n",
    "- <b>state -></b> transaction state\n",
    "- <b>zip -></b> transaction zipcode\n",
    "- <b>lat -></b> transaction lattitude\n",
    "- <b>long -></b> transaction longitude\n",
    "- <b>city_pop -></b> Population of the city\n",
    "- <b>job -></b> job of the card holder\n",
    "- <b>dob -></b> date of birth of card holder\n",
    "- <b>trans_num -></b> transaction number of transaction\n",
    "- <b>unix_time -></b> time in unix format\n",
    "- <b>merch_lat -></b> lattitude of the merchant\n",
    "- <b>merch_long -></b> longitude of merchant\n",
    "- <b>is_fraud -></b> nature of transaction (fraud or not fraud)"
   ]
  },
  {
   "cell_type": "markdown",
   "metadata": {
    "id": "j3WgSTT_zEn5"
   },
   "source": [
    "## **Step 1: Understanding the Data**"
   ]
  },
  {
   "cell_type": "code",
   "execution_count": 2,
   "metadata": {
    "id": "zc373zW4w3Nx"
   },
   "outputs": [],
   "source": [
    "# importing libraries\n",
    "import numpy as np\n",
    "import pandas as pd\n",
    "import matplotlib.pyplot as plt\n",
    "%matplotlib inline\n",
    "import seaborn as sns\n",
    "\n",
    "import warnings\n",
    "warnings.filterwarnings('ignore')"
   ]
  },
  {
   "cell_type": "code",
   "execution_count": 3,
   "metadata": {
    "id": "Yx1F2QNaxIzs"
   },
   "outputs": [],
   "source": [
    "# Reading train and test dataset\n",
    "train_data = pd.read_csv('/content/gdrive/MyDrive/Credit Card Fraud Detection Project/fraudTrain.csv')\n",
    "test_data = pd.read_csv('/content/gdrive/MyDrive/Credit Card Fraud Detection Project/fraudTest.csv')"
   ]
  },
  {
   "cell_type": "code",
   "execution_count": 4,
   "metadata": {
    "colab": {
     "base_uri": "https://localhost:8080/",
     "height": 595
    },
    "id": "MBRu6bEjxUq3",
    "outputId": "1053f316-e20f-4a12-ff04-b1aeb41a1e9b"
   },
   "outputs": [
    {
     "data": {
      "text/html": [
       "\n",
       "  <div id=\"df-0148e773-7836-41a4-80c6-a14c35cf2317\">\n",
       "    <div class=\"colab-df-container\">\n",
       "      <div>\n",
       "<style scoped>\n",
       "    .dataframe tbody tr th:only-of-type {\n",
       "        vertical-align: middle;\n",
       "    }\n",
       "\n",
       "    .dataframe tbody tr th {\n",
       "        vertical-align: top;\n",
       "    }\n",
       "\n",
       "    .dataframe thead th {\n",
       "        text-align: right;\n",
       "    }\n",
       "</style>\n",
       "<table border=\"1\" class=\"dataframe\">\n",
       "  <thead>\n",
       "    <tr style=\"text-align: right;\">\n",
       "      <th></th>\n",
       "      <th>Unnamed: 0</th>\n",
       "      <th>trans_date_trans_time</th>\n",
       "      <th>cc_num</th>\n",
       "      <th>merchant</th>\n",
       "      <th>category</th>\n",
       "      <th>amt</th>\n",
       "      <th>first</th>\n",
       "      <th>last</th>\n",
       "      <th>gender</th>\n",
       "      <th>street</th>\n",
       "      <th>...</th>\n",
       "      <th>lat</th>\n",
       "      <th>long</th>\n",
       "      <th>city_pop</th>\n",
       "      <th>job</th>\n",
       "      <th>dob</th>\n",
       "      <th>trans_num</th>\n",
       "      <th>unix_time</th>\n",
       "      <th>merch_lat</th>\n",
       "      <th>merch_long</th>\n",
       "      <th>is_fraud</th>\n",
       "    </tr>\n",
       "  </thead>\n",
       "  <tbody>\n",
       "    <tr>\n",
       "      <th>0</th>\n",
       "      <td>0</td>\n",
       "      <td>2019-01-01 00:00:18</td>\n",
       "      <td>2703186189652095</td>\n",
       "      <td>fraud_Rippin, Kub and Mann</td>\n",
       "      <td>misc_net</td>\n",
       "      <td>4.97</td>\n",
       "      <td>Jennifer</td>\n",
       "      <td>Banks</td>\n",
       "      <td>F</td>\n",
       "      <td>561 Perry Cove</td>\n",
       "      <td>...</td>\n",
       "      <td>36.0788</td>\n",
       "      <td>-81.1781</td>\n",
       "      <td>3495</td>\n",
       "      <td>Psychologist, counselling</td>\n",
       "      <td>1988-03-09</td>\n",
       "      <td>0b242abb623afc578575680df30655b9</td>\n",
       "      <td>1325376018</td>\n",
       "      <td>36.011293</td>\n",
       "      <td>-82.048315</td>\n",
       "      <td>0</td>\n",
       "    </tr>\n",
       "    <tr>\n",
       "      <th>1</th>\n",
       "      <td>1</td>\n",
       "      <td>2019-01-01 00:00:44</td>\n",
       "      <td>630423337322</td>\n",
       "      <td>fraud_Heller, Gutmann and Zieme</td>\n",
       "      <td>grocery_pos</td>\n",
       "      <td>107.23</td>\n",
       "      <td>Stephanie</td>\n",
       "      <td>Gill</td>\n",
       "      <td>F</td>\n",
       "      <td>43039 Riley Greens Suite 393</td>\n",
       "      <td>...</td>\n",
       "      <td>48.8878</td>\n",
       "      <td>-118.2105</td>\n",
       "      <td>149</td>\n",
       "      <td>Special educational needs teacher</td>\n",
       "      <td>1978-06-21</td>\n",
       "      <td>1f76529f8574734946361c461b024d99</td>\n",
       "      <td>1325376044</td>\n",
       "      <td>49.159047</td>\n",
       "      <td>-118.186462</td>\n",
       "      <td>0</td>\n",
       "    </tr>\n",
       "    <tr>\n",
       "      <th>2</th>\n",
       "      <td>2</td>\n",
       "      <td>2019-01-01 00:00:51</td>\n",
       "      <td>38859492057661</td>\n",
       "      <td>fraud_Lind-Buckridge</td>\n",
       "      <td>entertainment</td>\n",
       "      <td>220.11</td>\n",
       "      <td>Edward</td>\n",
       "      <td>Sanchez</td>\n",
       "      <td>M</td>\n",
       "      <td>594 White Dale Suite 530</td>\n",
       "      <td>...</td>\n",
       "      <td>42.1808</td>\n",
       "      <td>-112.2620</td>\n",
       "      <td>4154</td>\n",
       "      <td>Nature conservation officer</td>\n",
       "      <td>1962-01-19</td>\n",
       "      <td>a1a22d70485983eac12b5b88dad1cf95</td>\n",
       "      <td>1325376051</td>\n",
       "      <td>43.150704</td>\n",
       "      <td>-112.154481</td>\n",
       "      <td>0</td>\n",
       "    </tr>\n",
       "    <tr>\n",
       "      <th>3</th>\n",
       "      <td>3</td>\n",
       "      <td>2019-01-01 00:01:16</td>\n",
       "      <td>3534093764340240</td>\n",
       "      <td>fraud_Kutch, Hermiston and Farrell</td>\n",
       "      <td>gas_transport</td>\n",
       "      <td>45.00</td>\n",
       "      <td>Jeremy</td>\n",
       "      <td>White</td>\n",
       "      <td>M</td>\n",
       "      <td>9443 Cynthia Court Apt. 038</td>\n",
       "      <td>...</td>\n",
       "      <td>46.2306</td>\n",
       "      <td>-112.1138</td>\n",
       "      <td>1939</td>\n",
       "      <td>Patent attorney</td>\n",
       "      <td>1967-01-12</td>\n",
       "      <td>6b849c168bdad6f867558c3793159a81</td>\n",
       "      <td>1325376076</td>\n",
       "      <td>47.034331</td>\n",
       "      <td>-112.561071</td>\n",
       "      <td>0</td>\n",
       "    </tr>\n",
       "    <tr>\n",
       "      <th>4</th>\n",
       "      <td>4</td>\n",
       "      <td>2019-01-01 00:03:06</td>\n",
       "      <td>375534208663984</td>\n",
       "      <td>fraud_Keeling-Crist</td>\n",
       "      <td>misc_pos</td>\n",
       "      <td>41.96</td>\n",
       "      <td>Tyler</td>\n",
       "      <td>Garcia</td>\n",
       "      <td>M</td>\n",
       "      <td>408 Bradley Rest</td>\n",
       "      <td>...</td>\n",
       "      <td>38.4207</td>\n",
       "      <td>-79.4629</td>\n",
       "      <td>99</td>\n",
       "      <td>Dance movement psychotherapist</td>\n",
       "      <td>1986-03-28</td>\n",
       "      <td>a41d7549acf90789359a9aa5346dcb46</td>\n",
       "      <td>1325376186</td>\n",
       "      <td>38.674999</td>\n",
       "      <td>-78.632459</td>\n",
       "      <td>0</td>\n",
       "    </tr>\n",
       "  </tbody>\n",
       "</table>\n",
       "<p>5 rows × 23 columns</p>\n",
       "</div>\n",
       "      <button class=\"colab-df-convert\" onclick=\"convertToInteractive('df-0148e773-7836-41a4-80c6-a14c35cf2317')\"\n",
       "              title=\"Convert this dataframe to an interactive table.\"\n",
       "              style=\"display:none;\">\n",
       "        \n",
       "  <svg xmlns=\"http://www.w3.org/2000/svg\" height=\"24px\"viewBox=\"0 0 24 24\"\n",
       "       width=\"24px\">\n",
       "    <path d=\"M0 0h24v24H0V0z\" fill=\"none\"/>\n",
       "    <path d=\"M18.56 5.44l.94 2.06.94-2.06 2.06-.94-2.06-.94-.94-2.06-.94 2.06-2.06.94zm-11 1L8.5 8.5l.94-2.06 2.06-.94-2.06-.94L8.5 2.5l-.94 2.06-2.06.94zm10 10l.94 2.06.94-2.06 2.06-.94-2.06-.94-.94-2.06-.94 2.06-2.06.94z\"/><path d=\"M17.41 7.96l-1.37-1.37c-.4-.4-.92-.59-1.43-.59-.52 0-1.04.2-1.43.59L10.3 9.45l-7.72 7.72c-.78.78-.78 2.05 0 2.83L4 21.41c.39.39.9.59 1.41.59.51 0 1.02-.2 1.41-.59l7.78-7.78 2.81-2.81c.8-.78.8-2.07 0-2.86zM5.41 20L4 18.59l7.72-7.72 1.47 1.35L5.41 20z\"/>\n",
       "  </svg>\n",
       "      </button>\n",
       "      \n",
       "  <style>\n",
       "    .colab-df-container {\n",
       "      display:flex;\n",
       "      flex-wrap:wrap;\n",
       "      gap: 12px;\n",
       "    }\n",
       "\n",
       "    .colab-df-convert {\n",
       "      background-color: #E8F0FE;\n",
       "      border: none;\n",
       "      border-radius: 50%;\n",
       "      cursor: pointer;\n",
       "      display: none;\n",
       "      fill: #1967D2;\n",
       "      height: 32px;\n",
       "      padding: 0 0 0 0;\n",
       "      width: 32px;\n",
       "    }\n",
       "\n",
       "    .colab-df-convert:hover {\n",
       "      background-color: #E2EBFA;\n",
       "      box-shadow: 0px 1px 2px rgba(60, 64, 67, 0.3), 0px 1px 3px 1px rgba(60, 64, 67, 0.15);\n",
       "      fill: #174EA6;\n",
       "    }\n",
       "\n",
       "    [theme=dark] .colab-df-convert {\n",
       "      background-color: #3B4455;\n",
       "      fill: #D2E3FC;\n",
       "    }\n",
       "\n",
       "    [theme=dark] .colab-df-convert:hover {\n",
       "      background-color: #434B5C;\n",
       "      box-shadow: 0px 1px 3px 1px rgba(0, 0, 0, 0.15);\n",
       "      filter: drop-shadow(0px 1px 2px rgba(0, 0, 0, 0.3));\n",
       "      fill: #FFFFFF;\n",
       "    }\n",
       "  </style>\n",
       "\n",
       "      <script>\n",
       "        const buttonEl =\n",
       "          document.querySelector('#df-0148e773-7836-41a4-80c6-a14c35cf2317 button.colab-df-convert');\n",
       "        buttonEl.style.display =\n",
       "          google.colab.kernel.accessAllowed ? 'block' : 'none';\n",
       "\n",
       "        async function convertToInteractive(key) {\n",
       "          const element = document.querySelector('#df-0148e773-7836-41a4-80c6-a14c35cf2317');\n",
       "          const dataTable =\n",
       "            await google.colab.kernel.invokeFunction('convertToInteractive',\n",
       "                                                     [key], {});\n",
       "          if (!dataTable) return;\n",
       "\n",
       "          const docLinkHtml = 'Like what you see? Visit the ' +\n",
       "            '<a target=\"_blank\" href=https://colab.research.google.com/notebooks/data_table.ipynb>data table notebook</a>'\n",
       "            + ' to learn more about interactive tables.';\n",
       "          element.innerHTML = '';\n",
       "          dataTable['output_type'] = 'display_data';\n",
       "          await google.colab.output.renderOutput(dataTable, element);\n",
       "          const docLink = document.createElement('div');\n",
       "          docLink.innerHTML = docLinkHtml;\n",
       "          element.appendChild(docLink);\n",
       "        }\n",
       "      </script>\n",
       "    </div>\n",
       "  </div>\n",
       "  "
      ],
      "text/plain": [
       "   Unnamed: 0 trans_date_trans_time            cc_num  \\\n",
       "0           0   2019-01-01 00:00:18  2703186189652095   \n",
       "1           1   2019-01-01 00:00:44      630423337322   \n",
       "2           2   2019-01-01 00:00:51    38859492057661   \n",
       "3           3   2019-01-01 00:01:16  3534093764340240   \n",
       "4           4   2019-01-01 00:03:06   375534208663984   \n",
       "\n",
       "                             merchant       category     amt      first  \\\n",
       "0          fraud_Rippin, Kub and Mann       misc_net    4.97   Jennifer   \n",
       "1     fraud_Heller, Gutmann and Zieme    grocery_pos  107.23  Stephanie   \n",
       "2                fraud_Lind-Buckridge  entertainment  220.11     Edward   \n",
       "3  fraud_Kutch, Hermiston and Farrell  gas_transport   45.00     Jeremy   \n",
       "4                 fraud_Keeling-Crist       misc_pos   41.96      Tyler   \n",
       "\n",
       "      last gender                        street  ...      lat      long  \\\n",
       "0    Banks      F                561 Perry Cove  ...  36.0788  -81.1781   \n",
       "1     Gill      F  43039 Riley Greens Suite 393  ...  48.8878 -118.2105   \n",
       "2  Sanchez      M      594 White Dale Suite 530  ...  42.1808 -112.2620   \n",
       "3    White      M   9443 Cynthia Court Apt. 038  ...  46.2306 -112.1138   \n",
       "4   Garcia      M              408 Bradley Rest  ...  38.4207  -79.4629   \n",
       "\n",
       "   city_pop                                job         dob  \\\n",
       "0      3495          Psychologist, counselling  1988-03-09   \n",
       "1       149  Special educational needs teacher  1978-06-21   \n",
       "2      4154        Nature conservation officer  1962-01-19   \n",
       "3      1939                    Patent attorney  1967-01-12   \n",
       "4        99     Dance movement psychotherapist  1986-03-28   \n",
       "\n",
       "                          trans_num   unix_time  merch_lat  merch_long  \\\n",
       "0  0b242abb623afc578575680df30655b9  1325376018  36.011293  -82.048315   \n",
       "1  1f76529f8574734946361c461b024d99  1325376044  49.159047 -118.186462   \n",
       "2  a1a22d70485983eac12b5b88dad1cf95  1325376051  43.150704 -112.154481   \n",
       "3  6b849c168bdad6f867558c3793159a81  1325376076  47.034331 -112.561071   \n",
       "4  a41d7549acf90789359a9aa5346dcb46  1325376186  38.674999  -78.632459   \n",
       "\n",
       "   is_fraud  \n",
       "0         0  \n",
       "1         0  \n",
       "2         0  \n",
       "3         0  \n",
       "4         0  \n",
       "\n",
       "[5 rows x 23 columns]"
      ]
     },
     "execution_count": 4,
     "metadata": {},
     "output_type": "execute_result"
    }
   ],
   "source": [
    "# printing top 5 rows\n",
    "train_data.head()"
   ]
  },
  {
   "cell_type": "code",
   "execution_count": 5,
   "metadata": {
    "id": "33g-GzVpxYAZ"
   },
   "outputs": [],
   "source": [
    "# dropping the 'Unnamed: 0' column\n",
    "train_data = train_data.drop('Unnamed: 0', axis=1)"
   ]
  },
  {
   "cell_type": "code",
   "execution_count": 6,
   "metadata": {
    "colab": {
     "base_uri": "https://localhost:8080/"
    },
    "id": "5PtHCc09xd7F",
    "outputId": "0d79bb1e-63e4-436c-b237-2235223bf6d5"
   },
   "outputs": [
    {
     "name": "stdout",
     "output_type": "stream",
     "text": [
      "<class 'pandas.core.frame.DataFrame'>\n",
      "RangeIndex: 1296675 entries, 0 to 1296674\n",
      "Data columns (total 22 columns):\n",
      " #   Column                 Non-Null Count    Dtype  \n",
      "---  ------                 --------------    -----  \n",
      " 0   trans_date_trans_time  1296675 non-null  object \n",
      " 1   cc_num                 1296675 non-null  int64  \n",
      " 2   merchant               1296675 non-null  object \n",
      " 3   category               1296675 non-null  object \n",
      " 4   amt                    1296675 non-null  float64\n",
      " 5   first                  1296675 non-null  object \n",
      " 6   last                   1296675 non-null  object \n",
      " 7   gender                 1296675 non-null  object \n",
      " 8   street                 1296675 non-null  object \n",
      " 9   city                   1296675 non-null  object \n",
      " 10  state                  1296675 non-null  object \n",
      " 11  zip                    1296675 non-null  int64  \n",
      " 12  lat                    1296675 non-null  float64\n",
      " 13  long                   1296675 non-null  float64\n",
      " 14  city_pop               1296675 non-null  int64  \n",
      " 15  job                    1296675 non-null  object \n",
      " 16  dob                    1296675 non-null  object \n",
      " 17  trans_num              1296675 non-null  object \n",
      " 18  unix_time              1296675 non-null  int64  \n",
      " 19  merch_lat              1296675 non-null  float64\n",
      " 20  merch_long             1296675 non-null  float64\n",
      " 21  is_fraud               1296675 non-null  int64  \n",
      "dtypes: float64(5), int64(5), object(12)\n",
      "memory usage: 217.6+ MB\n"
     ]
    }
   ],
   "source": [
    "# info about dataset\n",
    "train_data.info()"
   ]
  },
  {
   "cell_type": "code",
   "execution_count": 7,
   "metadata": {
    "id": "Bg-R-3YtdiI2"
   },
   "outputs": [],
   "source": [
    "# renaming columns for better understanding\n",
    "\n",
    "train_data.rename(columns = {\"trans_date_trans_time\":\"transaction_date_time\",\n",
    "                         \"cc_num\":\"credit_card_number\",\n",
    "                         \"amt\":\"amount\",\n",
    "                         \"first\":\"first_name\",\n",
    "                         \"last\":\"last_name\",\n",
    "                         \"lat\":\"latitude\",\n",
    "                         \"long\":\"longitude\",\n",
    "                         \"trans_num\":\"transaction_id\",\n",
    "                         \"merch_lat\":\"merchant_latitude\",\n",
    "                         \"merch_long\":\"merchant_longitude\"},\n",
    "                inplace=True)"
   ]
  },
  {
   "cell_type": "code",
   "execution_count": 8,
   "metadata": {
    "colab": {
     "base_uri": "https://localhost:8080/"
    },
    "id": "2y3072aFemqg",
    "outputId": "14459785-71ff-4c0c-98c3-cc045348d4a9"
   },
   "outputs": [
    {
     "data": {
      "text/plain": [
       "Index(['transaction_date_time', 'credit_card_number', 'merchant', 'category',\n",
       "       'amount', 'first_name', 'last_name', 'gender', 'street', 'city',\n",
       "       'state', 'zip', 'latitude', 'longitude', 'city_pop', 'job', 'dob',\n",
       "       'transaction_id', 'unix_time', 'merchant_latitude',\n",
       "       'merchant_longitude', 'is_fraud'],\n",
       "      dtype='object')"
      ]
     },
     "execution_count": 8,
     "metadata": {},
     "output_type": "execute_result"
    }
   ],
   "source": [
    "# looking at the names of all columns\n",
    "train_data.columns"
   ]
  },
  {
   "cell_type": "code",
   "execution_count": 9,
   "metadata": {
    "colab": {
     "base_uri": "https://localhost:8080/"
    },
    "id": "E4uaGZwTxfty",
    "outputId": "e48189e7-76b9-4490-b4b8-6cf3b2d6bdd3"
   },
   "outputs": [
    {
     "data": {
      "text/plain": [
       "(1296675, 22)"
      ]
     },
     "execution_count": 9,
     "metadata": {},
     "output_type": "execute_result"
    }
   ],
   "source": [
    "# shape of dataset\n",
    "train_data.shape"
   ]
  },
  {
   "cell_type": "code",
   "execution_count": 10,
   "metadata": {
    "colab": {
     "base_uri": "https://localhost:8080/"
    },
    "id": "qb06IGSrxj8x",
    "outputId": "0f0de390-c7d6-4d23-bb4e-4c7bf39bc71f"
   },
   "outputs": [
    {
     "data": {
      "text/plain": [
       "0"
      ]
     },
     "execution_count": 10,
     "metadata": {},
     "output_type": "execute_result"
    }
   ],
   "source": [
    "# Looking for duplicate data\n",
    "train_data.duplicated().sum()"
   ]
  },
  {
   "cell_type": "markdown",
   "metadata": {
    "id": "Bib_Zy3-AF0H"
   },
   "source": [
    "- There is `no duplicate` data in the dataset."
   ]
  },
  {
   "cell_type": "code",
   "execution_count": 11,
   "metadata": {
    "colab": {
     "base_uri": "https://localhost:8080/",
     "height": 540
    },
    "id": "H_4enqqoxlqj",
    "outputId": "bbe4eacb-6cb6-4e20-e3da-efb755260555"
   },
   "outputs": [
    {
     "data": {
      "text/html": [
       "\n",
       "  <div id=\"df-baa512a6-4e08-42fb-8a8d-2ec726192263\">\n",
       "    <div class=\"colab-df-container\">\n",
       "      <div>\n",
       "<style scoped>\n",
       "    .dataframe tbody tr th:only-of-type {\n",
       "        vertical-align: middle;\n",
       "    }\n",
       "\n",
       "    .dataframe tbody tr th {\n",
       "        vertical-align: top;\n",
       "    }\n",
       "\n",
       "    .dataframe thead th {\n",
       "        text-align: right;\n",
       "    }\n",
       "</style>\n",
       "<table border=\"1\" class=\"dataframe\">\n",
       "  <thead>\n",
       "    <tr style=\"text-align: right;\">\n",
       "      <th></th>\n",
       "      <th>transaction_date_time</th>\n",
       "      <th>credit_card_number</th>\n",
       "      <th>merchant</th>\n",
       "      <th>category</th>\n",
       "      <th>amount</th>\n",
       "      <th>first_name</th>\n",
       "      <th>last_name</th>\n",
       "      <th>gender</th>\n",
       "      <th>street</th>\n",
       "      <th>city</th>\n",
       "      <th>...</th>\n",
       "      <th>latitude</th>\n",
       "      <th>longitude</th>\n",
       "      <th>city_pop</th>\n",
       "      <th>job</th>\n",
       "      <th>dob</th>\n",
       "      <th>transaction_id</th>\n",
       "      <th>unix_time</th>\n",
       "      <th>merchant_latitude</th>\n",
       "      <th>merchant_longitude</th>\n",
       "      <th>is_fraud</th>\n",
       "    </tr>\n",
       "  </thead>\n",
       "  <tbody>\n",
       "    <tr>\n",
       "      <th>count</th>\n",
       "      <td>1296675</td>\n",
       "      <td>1.296675e+06</td>\n",
       "      <td>1296675</td>\n",
       "      <td>1296675</td>\n",
       "      <td>1.296675e+06</td>\n",
       "      <td>1296675</td>\n",
       "      <td>1296675</td>\n",
       "      <td>1296675</td>\n",
       "      <td>1296675</td>\n",
       "      <td>1296675</td>\n",
       "      <td>...</td>\n",
       "      <td>1.296675e+06</td>\n",
       "      <td>1.296675e+06</td>\n",
       "      <td>1.296675e+06</td>\n",
       "      <td>1296675</td>\n",
       "      <td>1296675</td>\n",
       "      <td>1296675</td>\n",
       "      <td>1.296675e+06</td>\n",
       "      <td>1.296675e+06</td>\n",
       "      <td>1.296675e+06</td>\n",
       "      <td>1.296675e+06</td>\n",
       "    </tr>\n",
       "    <tr>\n",
       "      <th>unique</th>\n",
       "      <td>1274791</td>\n",
       "      <td>NaN</td>\n",
       "      <td>693</td>\n",
       "      <td>14</td>\n",
       "      <td>NaN</td>\n",
       "      <td>352</td>\n",
       "      <td>481</td>\n",
       "      <td>2</td>\n",
       "      <td>983</td>\n",
       "      <td>894</td>\n",
       "      <td>...</td>\n",
       "      <td>NaN</td>\n",
       "      <td>NaN</td>\n",
       "      <td>NaN</td>\n",
       "      <td>494</td>\n",
       "      <td>968</td>\n",
       "      <td>1296675</td>\n",
       "      <td>NaN</td>\n",
       "      <td>NaN</td>\n",
       "      <td>NaN</td>\n",
       "      <td>NaN</td>\n",
       "    </tr>\n",
       "    <tr>\n",
       "      <th>top</th>\n",
       "      <td>2019-04-22 16:02:01</td>\n",
       "      <td>NaN</td>\n",
       "      <td>fraud_Kilback LLC</td>\n",
       "      <td>gas_transport</td>\n",
       "      <td>NaN</td>\n",
       "      <td>Christopher</td>\n",
       "      <td>Smith</td>\n",
       "      <td>F</td>\n",
       "      <td>0069 Robin Brooks Apt. 695</td>\n",
       "      <td>Birmingham</td>\n",
       "      <td>...</td>\n",
       "      <td>NaN</td>\n",
       "      <td>NaN</td>\n",
       "      <td>NaN</td>\n",
       "      <td>Film/video editor</td>\n",
       "      <td>1977-03-23</td>\n",
       "      <td>0b242abb623afc578575680df30655b9</td>\n",
       "      <td>NaN</td>\n",
       "      <td>NaN</td>\n",
       "      <td>NaN</td>\n",
       "      <td>NaN</td>\n",
       "    </tr>\n",
       "    <tr>\n",
       "      <th>freq</th>\n",
       "      <td>4</td>\n",
       "      <td>NaN</td>\n",
       "      <td>4403</td>\n",
       "      <td>131659</td>\n",
       "      <td>NaN</td>\n",
       "      <td>26669</td>\n",
       "      <td>28794</td>\n",
       "      <td>709863</td>\n",
       "      <td>3123</td>\n",
       "      <td>5617</td>\n",
       "      <td>...</td>\n",
       "      <td>NaN</td>\n",
       "      <td>NaN</td>\n",
       "      <td>NaN</td>\n",
       "      <td>9779</td>\n",
       "      <td>5636</td>\n",
       "      <td>1</td>\n",
       "      <td>NaN</td>\n",
       "      <td>NaN</td>\n",
       "      <td>NaN</td>\n",
       "      <td>NaN</td>\n",
       "    </tr>\n",
       "    <tr>\n",
       "      <th>mean</th>\n",
       "      <td>NaN</td>\n",
       "      <td>4.171920e+17</td>\n",
       "      <td>NaN</td>\n",
       "      <td>NaN</td>\n",
       "      <td>7.035104e+01</td>\n",
       "      <td>NaN</td>\n",
       "      <td>NaN</td>\n",
       "      <td>NaN</td>\n",
       "      <td>NaN</td>\n",
       "      <td>NaN</td>\n",
       "      <td>...</td>\n",
       "      <td>3.853762e+01</td>\n",
       "      <td>-9.022634e+01</td>\n",
       "      <td>8.882444e+04</td>\n",
       "      <td>NaN</td>\n",
       "      <td>NaN</td>\n",
       "      <td>NaN</td>\n",
       "      <td>1.349244e+09</td>\n",
       "      <td>3.853734e+01</td>\n",
       "      <td>-9.022646e+01</td>\n",
       "      <td>5.788652e-03</td>\n",
       "    </tr>\n",
       "    <tr>\n",
       "      <th>std</th>\n",
       "      <td>NaN</td>\n",
       "      <td>1.308806e+18</td>\n",
       "      <td>NaN</td>\n",
       "      <td>NaN</td>\n",
       "      <td>1.603160e+02</td>\n",
       "      <td>NaN</td>\n",
       "      <td>NaN</td>\n",
       "      <td>NaN</td>\n",
       "      <td>NaN</td>\n",
       "      <td>NaN</td>\n",
       "      <td>...</td>\n",
       "      <td>5.075808e+00</td>\n",
       "      <td>1.375908e+01</td>\n",
       "      <td>3.019564e+05</td>\n",
       "      <td>NaN</td>\n",
       "      <td>NaN</td>\n",
       "      <td>NaN</td>\n",
       "      <td>1.284128e+07</td>\n",
       "      <td>5.109788e+00</td>\n",
       "      <td>1.377109e+01</td>\n",
       "      <td>7.586269e-02</td>\n",
       "    </tr>\n",
       "    <tr>\n",
       "      <th>min</th>\n",
       "      <td>NaN</td>\n",
       "      <td>6.041621e+10</td>\n",
       "      <td>NaN</td>\n",
       "      <td>NaN</td>\n",
       "      <td>1.000000e+00</td>\n",
       "      <td>NaN</td>\n",
       "      <td>NaN</td>\n",
       "      <td>NaN</td>\n",
       "      <td>NaN</td>\n",
       "      <td>NaN</td>\n",
       "      <td>...</td>\n",
       "      <td>2.002710e+01</td>\n",
       "      <td>-1.656723e+02</td>\n",
       "      <td>2.300000e+01</td>\n",
       "      <td>NaN</td>\n",
       "      <td>NaN</td>\n",
       "      <td>NaN</td>\n",
       "      <td>1.325376e+09</td>\n",
       "      <td>1.902779e+01</td>\n",
       "      <td>-1.666712e+02</td>\n",
       "      <td>0.000000e+00</td>\n",
       "    </tr>\n",
       "    <tr>\n",
       "      <th>25%</th>\n",
       "      <td>NaN</td>\n",
       "      <td>1.800429e+14</td>\n",
       "      <td>NaN</td>\n",
       "      <td>NaN</td>\n",
       "      <td>9.650000e+00</td>\n",
       "      <td>NaN</td>\n",
       "      <td>NaN</td>\n",
       "      <td>NaN</td>\n",
       "      <td>NaN</td>\n",
       "      <td>NaN</td>\n",
       "      <td>...</td>\n",
       "      <td>3.462050e+01</td>\n",
       "      <td>-9.679800e+01</td>\n",
       "      <td>7.430000e+02</td>\n",
       "      <td>NaN</td>\n",
       "      <td>NaN</td>\n",
       "      <td>NaN</td>\n",
       "      <td>1.338751e+09</td>\n",
       "      <td>3.473357e+01</td>\n",
       "      <td>-9.689728e+01</td>\n",
       "      <td>0.000000e+00</td>\n",
       "    </tr>\n",
       "    <tr>\n",
       "      <th>50%</th>\n",
       "      <td>NaN</td>\n",
       "      <td>3.521417e+15</td>\n",
       "      <td>NaN</td>\n",
       "      <td>NaN</td>\n",
       "      <td>4.752000e+01</td>\n",
       "      <td>NaN</td>\n",
       "      <td>NaN</td>\n",
       "      <td>NaN</td>\n",
       "      <td>NaN</td>\n",
       "      <td>NaN</td>\n",
       "      <td>...</td>\n",
       "      <td>3.935430e+01</td>\n",
       "      <td>-8.747690e+01</td>\n",
       "      <td>2.456000e+03</td>\n",
       "      <td>NaN</td>\n",
       "      <td>NaN</td>\n",
       "      <td>NaN</td>\n",
       "      <td>1.349250e+09</td>\n",
       "      <td>3.936568e+01</td>\n",
       "      <td>-8.743839e+01</td>\n",
       "      <td>0.000000e+00</td>\n",
       "    </tr>\n",
       "    <tr>\n",
       "      <th>75%</th>\n",
       "      <td>NaN</td>\n",
       "      <td>4.642255e+15</td>\n",
       "      <td>NaN</td>\n",
       "      <td>NaN</td>\n",
       "      <td>8.314000e+01</td>\n",
       "      <td>NaN</td>\n",
       "      <td>NaN</td>\n",
       "      <td>NaN</td>\n",
       "      <td>NaN</td>\n",
       "      <td>NaN</td>\n",
       "      <td>...</td>\n",
       "      <td>4.194040e+01</td>\n",
       "      <td>-8.015800e+01</td>\n",
       "      <td>2.032800e+04</td>\n",
       "      <td>NaN</td>\n",
       "      <td>NaN</td>\n",
       "      <td>NaN</td>\n",
       "      <td>1.359385e+09</td>\n",
       "      <td>4.195716e+01</td>\n",
       "      <td>-8.023680e+01</td>\n",
       "      <td>0.000000e+00</td>\n",
       "    </tr>\n",
       "    <tr>\n",
       "      <th>max</th>\n",
       "      <td>NaN</td>\n",
       "      <td>4.992346e+18</td>\n",
       "      <td>NaN</td>\n",
       "      <td>NaN</td>\n",
       "      <td>2.894890e+04</td>\n",
       "      <td>NaN</td>\n",
       "      <td>NaN</td>\n",
       "      <td>NaN</td>\n",
       "      <td>NaN</td>\n",
       "      <td>NaN</td>\n",
       "      <td>...</td>\n",
       "      <td>6.669330e+01</td>\n",
       "      <td>-6.795030e+01</td>\n",
       "      <td>2.906700e+06</td>\n",
       "      <td>NaN</td>\n",
       "      <td>NaN</td>\n",
       "      <td>NaN</td>\n",
       "      <td>1.371817e+09</td>\n",
       "      <td>6.751027e+01</td>\n",
       "      <td>-6.695090e+01</td>\n",
       "      <td>1.000000e+00</td>\n",
       "    </tr>\n",
       "  </tbody>\n",
       "</table>\n",
       "<p>11 rows × 22 columns</p>\n",
       "</div>\n",
       "      <button class=\"colab-df-convert\" onclick=\"convertToInteractive('df-baa512a6-4e08-42fb-8a8d-2ec726192263')\"\n",
       "              title=\"Convert this dataframe to an interactive table.\"\n",
       "              style=\"display:none;\">\n",
       "        \n",
       "  <svg xmlns=\"http://www.w3.org/2000/svg\" height=\"24px\"viewBox=\"0 0 24 24\"\n",
       "       width=\"24px\">\n",
       "    <path d=\"M0 0h24v24H0V0z\" fill=\"none\"/>\n",
       "    <path d=\"M18.56 5.44l.94 2.06.94-2.06 2.06-.94-2.06-.94-.94-2.06-.94 2.06-2.06.94zm-11 1L8.5 8.5l.94-2.06 2.06-.94-2.06-.94L8.5 2.5l-.94 2.06-2.06.94zm10 10l.94 2.06.94-2.06 2.06-.94-2.06-.94-.94-2.06-.94 2.06-2.06.94z\"/><path d=\"M17.41 7.96l-1.37-1.37c-.4-.4-.92-.59-1.43-.59-.52 0-1.04.2-1.43.59L10.3 9.45l-7.72 7.72c-.78.78-.78 2.05 0 2.83L4 21.41c.39.39.9.59 1.41.59.51 0 1.02-.2 1.41-.59l7.78-7.78 2.81-2.81c.8-.78.8-2.07 0-2.86zM5.41 20L4 18.59l7.72-7.72 1.47 1.35L5.41 20z\"/>\n",
       "  </svg>\n",
       "      </button>\n",
       "      \n",
       "  <style>\n",
       "    .colab-df-container {\n",
       "      display:flex;\n",
       "      flex-wrap:wrap;\n",
       "      gap: 12px;\n",
       "    }\n",
       "\n",
       "    .colab-df-convert {\n",
       "      background-color: #E8F0FE;\n",
       "      border: none;\n",
       "      border-radius: 50%;\n",
       "      cursor: pointer;\n",
       "      display: none;\n",
       "      fill: #1967D2;\n",
       "      height: 32px;\n",
       "      padding: 0 0 0 0;\n",
       "      width: 32px;\n",
       "    }\n",
       "\n",
       "    .colab-df-convert:hover {\n",
       "      background-color: #E2EBFA;\n",
       "      box-shadow: 0px 1px 2px rgba(60, 64, 67, 0.3), 0px 1px 3px 1px rgba(60, 64, 67, 0.15);\n",
       "      fill: #174EA6;\n",
       "    }\n",
       "\n",
       "    [theme=dark] .colab-df-convert {\n",
       "      background-color: #3B4455;\n",
       "      fill: #D2E3FC;\n",
       "    }\n",
       "\n",
       "    [theme=dark] .colab-df-convert:hover {\n",
       "      background-color: #434B5C;\n",
       "      box-shadow: 0px 1px 3px 1px rgba(0, 0, 0, 0.15);\n",
       "      filter: drop-shadow(0px 1px 2px rgba(0, 0, 0, 0.3));\n",
       "      fill: #FFFFFF;\n",
       "    }\n",
       "  </style>\n",
       "\n",
       "      <script>\n",
       "        const buttonEl =\n",
       "          document.querySelector('#df-baa512a6-4e08-42fb-8a8d-2ec726192263 button.colab-df-convert');\n",
       "        buttonEl.style.display =\n",
       "          google.colab.kernel.accessAllowed ? 'block' : 'none';\n",
       "\n",
       "        async function convertToInteractive(key) {\n",
       "          const element = document.querySelector('#df-baa512a6-4e08-42fb-8a8d-2ec726192263');\n",
       "          const dataTable =\n",
       "            await google.colab.kernel.invokeFunction('convertToInteractive',\n",
       "                                                     [key], {});\n",
       "          if (!dataTable) return;\n",
       "\n",
       "          const docLinkHtml = 'Like what you see? Visit the ' +\n",
       "            '<a target=\"_blank\" href=https://colab.research.google.com/notebooks/data_table.ipynb>data table notebook</a>'\n",
       "            + ' to learn more about interactive tables.';\n",
       "          element.innerHTML = '';\n",
       "          dataTable['output_type'] = 'display_data';\n",
       "          await google.colab.output.renderOutput(dataTable, element);\n",
       "          const docLink = document.createElement('div');\n",
       "          docLink.innerHTML = docLinkHtml;\n",
       "          element.appendChild(docLink);\n",
       "        }\n",
       "      </script>\n",
       "    </div>\n",
       "  </div>\n",
       "  "
      ],
      "text/plain": [
       "       transaction_date_time  credit_card_number           merchant  \\\n",
       "count                1296675        1.296675e+06            1296675   \n",
       "unique               1274791                 NaN                693   \n",
       "top      2019-04-22 16:02:01                 NaN  fraud_Kilback LLC   \n",
       "freq                       4                 NaN               4403   \n",
       "mean                     NaN        4.171920e+17                NaN   \n",
       "std                      NaN        1.308806e+18                NaN   \n",
       "min                      NaN        6.041621e+10                NaN   \n",
       "25%                      NaN        1.800429e+14                NaN   \n",
       "50%                      NaN        3.521417e+15                NaN   \n",
       "75%                      NaN        4.642255e+15                NaN   \n",
       "max                      NaN        4.992346e+18                NaN   \n",
       "\n",
       "             category        amount   first_name last_name   gender  \\\n",
       "count         1296675  1.296675e+06      1296675   1296675  1296675   \n",
       "unique             14           NaN          352       481        2   \n",
       "top     gas_transport           NaN  Christopher     Smith        F   \n",
       "freq           131659           NaN        26669     28794   709863   \n",
       "mean              NaN  7.035104e+01          NaN       NaN      NaN   \n",
       "std               NaN  1.603160e+02          NaN       NaN      NaN   \n",
       "min               NaN  1.000000e+00          NaN       NaN      NaN   \n",
       "25%               NaN  9.650000e+00          NaN       NaN      NaN   \n",
       "50%               NaN  4.752000e+01          NaN       NaN      NaN   \n",
       "75%               NaN  8.314000e+01          NaN       NaN      NaN   \n",
       "max               NaN  2.894890e+04          NaN       NaN      NaN   \n",
       "\n",
       "                            street        city  ...      latitude  \\\n",
       "count                      1296675     1296675  ...  1.296675e+06   \n",
       "unique                         983         894  ...           NaN   \n",
       "top     0069 Robin Brooks Apt. 695  Birmingham  ...           NaN   \n",
       "freq                          3123        5617  ...           NaN   \n",
       "mean                           NaN         NaN  ...  3.853762e+01   \n",
       "std                            NaN         NaN  ...  5.075808e+00   \n",
       "min                            NaN         NaN  ...  2.002710e+01   \n",
       "25%                            NaN         NaN  ...  3.462050e+01   \n",
       "50%                            NaN         NaN  ...  3.935430e+01   \n",
       "75%                            NaN         NaN  ...  4.194040e+01   \n",
       "max                            NaN         NaN  ...  6.669330e+01   \n",
       "\n",
       "           longitude      city_pop                job         dob  \\\n",
       "count   1.296675e+06  1.296675e+06            1296675     1296675   \n",
       "unique           NaN           NaN                494         968   \n",
       "top              NaN           NaN  Film/video editor  1977-03-23   \n",
       "freq             NaN           NaN               9779        5636   \n",
       "mean   -9.022634e+01  8.882444e+04                NaN         NaN   \n",
       "std     1.375908e+01  3.019564e+05                NaN         NaN   \n",
       "min    -1.656723e+02  2.300000e+01                NaN         NaN   \n",
       "25%    -9.679800e+01  7.430000e+02                NaN         NaN   \n",
       "50%    -8.747690e+01  2.456000e+03                NaN         NaN   \n",
       "75%    -8.015800e+01  2.032800e+04                NaN         NaN   \n",
       "max    -6.795030e+01  2.906700e+06                NaN         NaN   \n",
       "\n",
       "                          transaction_id     unix_time merchant_latitude  \\\n",
       "count                            1296675  1.296675e+06      1.296675e+06   \n",
       "unique                           1296675           NaN               NaN   \n",
       "top     0b242abb623afc578575680df30655b9           NaN               NaN   \n",
       "freq                                   1           NaN               NaN   \n",
       "mean                                 NaN  1.349244e+09      3.853734e+01   \n",
       "std                                  NaN  1.284128e+07      5.109788e+00   \n",
       "min                                  NaN  1.325376e+09      1.902779e+01   \n",
       "25%                                  NaN  1.338751e+09      3.473357e+01   \n",
       "50%                                  NaN  1.349250e+09      3.936568e+01   \n",
       "75%                                  NaN  1.359385e+09      4.195716e+01   \n",
       "max                                  NaN  1.371817e+09      6.751027e+01   \n",
       "\n",
       "        merchant_longitude      is_fraud  \n",
       "count         1.296675e+06  1.296675e+06  \n",
       "unique                 NaN           NaN  \n",
       "top                    NaN           NaN  \n",
       "freq                   NaN           NaN  \n",
       "mean         -9.022646e+01  5.788652e-03  \n",
       "std           1.377109e+01  7.586269e-02  \n",
       "min          -1.666712e+02  0.000000e+00  \n",
       "25%          -9.689728e+01  0.000000e+00  \n",
       "50%          -8.743839e+01  0.000000e+00  \n",
       "75%          -8.023680e+01  0.000000e+00  \n",
       "max          -6.695090e+01  1.000000e+00  \n",
       "\n",
       "[11 rows x 22 columns]"
      ]
     },
     "execution_count": 11,
     "metadata": {},
     "output_type": "execute_result"
    }
   ],
   "source": [
    "# description of data\n",
    "train_data.describe(include='all')"
   ]
  },
  {
   "cell_type": "code",
   "execution_count": 12,
   "metadata": {
    "colab": {
     "base_uri": "https://localhost:8080/"
    },
    "id": "XN0gM-9IxoDX",
    "outputId": "028b8056-cbce-4a41-8370-23de62562d46"
   },
   "outputs": [
    {
     "data": {
      "text/plain": [
       "transaction_date_time    0\n",
       "credit_card_number       0\n",
       "merchant                 0\n",
       "category                 0\n",
       "amount                   0\n",
       "first_name               0\n",
       "last_name                0\n",
       "gender                   0\n",
       "street                   0\n",
       "city                     0\n",
       "state                    0\n",
       "zip                      0\n",
       "latitude                 0\n",
       "longitude                0\n",
       "city_pop                 0\n",
       "job                      0\n",
       "dob                      0\n",
       "transaction_id           0\n",
       "unix_time                0\n",
       "merchant_latitude        0\n",
       "merchant_longitude       0\n",
       "is_fraud                 0\n",
       "dtype: int64"
      ]
     },
     "execution_count": 12,
     "metadata": {},
     "output_type": "execute_result"
    }
   ],
   "source": [
    "# Looking for missing values in dataset\n",
    "train_data.isna().sum()"
   ]
  },
  {
   "cell_type": "markdown",
   "metadata": {
    "id": "fEBmx0a3Ipwr"
   },
   "source": [
    "- There is `no missing data` in the given dataset."
   ]
  },
  {
   "cell_type": "markdown",
   "metadata": {
    "id": "AXorM6xSy55e"
   },
   "source": [
    "#### **Data Preprocessing and Cleaning**"
   ]
  },
  {
   "cell_type": "code",
   "execution_count": 13,
   "metadata": {
    "id": "piEwfYjyHS38"
   },
   "outputs": [],
   "source": [
    "# converting 'trans_date_trans_time' and 'dob' into datetime format\n",
    "\n",
    "train_data['transaction_date_time'] = pd.to_datetime(train_data['transaction_date_time'])\n",
    "train_data['dob'] = pd.to_datetime(train_data['dob'])"
   ]
  },
  {
   "cell_type": "code",
   "execution_count": 14,
   "metadata": {
    "colab": {
     "base_uri": "https://localhost:8080/"
    },
    "id": "wJxhfvNPIu4R",
    "outputId": "042f2d34-76aa-42f4-8252-e85b78956733"
   },
   "outputs": [
    {
     "name": "stdout",
     "output_type": "stream",
     "text": [
      "<class 'pandas.core.frame.DataFrame'>\n",
      "RangeIndex: 1296675 entries, 0 to 1296674\n",
      "Data columns (total 22 columns):\n",
      " #   Column                 Non-Null Count    Dtype         \n",
      "---  ------                 --------------    -----         \n",
      " 0   transaction_date_time  1296675 non-null  datetime64[ns]\n",
      " 1   credit_card_number     1296675 non-null  int64         \n",
      " 2   merchant               1296675 non-null  object        \n",
      " 3   category               1296675 non-null  object        \n",
      " 4   amount                 1296675 non-null  float64       \n",
      " 5   first_name             1296675 non-null  object        \n",
      " 6   last_name              1296675 non-null  object        \n",
      " 7   gender                 1296675 non-null  object        \n",
      " 8   street                 1296675 non-null  object        \n",
      " 9   city                   1296675 non-null  object        \n",
      " 10  state                  1296675 non-null  object        \n",
      " 11  zip                    1296675 non-null  int64         \n",
      " 12  latitude               1296675 non-null  float64       \n",
      " 13  longitude              1296675 non-null  float64       \n",
      " 14  city_pop               1296675 non-null  int64         \n",
      " 15  job                    1296675 non-null  object        \n",
      " 16  dob                    1296675 non-null  datetime64[ns]\n",
      " 17  transaction_id         1296675 non-null  object        \n",
      " 18  unix_time              1296675 non-null  int64         \n",
      " 19  merchant_latitude      1296675 non-null  float64       \n",
      " 20  merchant_longitude     1296675 non-null  float64       \n",
      " 21  is_fraud               1296675 non-null  int64         \n",
      "dtypes: datetime64[ns](2), float64(5), int64(5), object(10)\n",
      "memory usage: 217.6+ MB\n"
     ]
    }
   ],
   "source": [
    "# info about data\n",
    "train_data.info()"
   ]
  },
  {
   "cell_type": "markdown",
   "metadata": {
    "id": "j4uQeNb1BEax"
   },
   "source": [
    "**merchant column**"
   ]
  },
  {
   "cell_type": "code",
   "execution_count": 15,
   "metadata": {
    "colab": {
     "base_uri": "https://localhost:8080/"
    },
    "id": "ytruUKhT15-j",
    "outputId": "49647590-41f9-47f3-b269-cea017b02b19"
   },
   "outputs": [
    {
     "data": {
      "text/plain": [
       "fraud_Kilback LLC                       4403\n",
       "fraud_Cormier LLC                       3649\n",
       "fraud_Schumm PLC                        3634\n",
       "fraud_Kuhn LLC                          3510\n",
       "fraud_Boyer PLC                         3493\n",
       "                                        ... \n",
       "fraud_Douglas, DuBuque and McKenzie      775\n",
       "fraud_Treutel-King                       775\n",
       "fraud_Medhurst, Labadie and Gottlieb     759\n",
       "fraud_Reichert-Weissnat                  753\n",
       "fraud_Hahn, Douglas and Schowalter       727\n",
       "Name: merchant, Length: 693, dtype: int64"
      ]
     },
     "execution_count": 15,
     "metadata": {},
     "output_type": "execute_result"
    }
   ],
   "source": [
    "train_data['merchant'].value_counts()"
   ]
  },
  {
   "cell_type": "code",
   "execution_count": 16,
   "metadata": {
    "id": "J2-gdrE6z4qg"
   },
   "outputs": [],
   "source": [
    "# removing fraud prefix from the merchant name\n",
    "train_data['merchant'] = train_data['merchant'].apply(lambda x: x.split('_')[1])"
   ]
  },
  {
   "cell_type": "code",
   "execution_count": 17,
   "metadata": {
    "colab": {
     "base_uri": "https://localhost:8080/"
    },
    "id": "4tADuW7x1q5O",
    "outputId": "8925bc2b-24a1-4998-fad9-8c72046b4301"
   },
   "outputs": [
    {
     "data": {
      "text/plain": [
       "Kilback LLC                       4403\n",
       "Cormier LLC                       3649\n",
       "Schumm PLC                        3634\n",
       "Kuhn LLC                          3510\n",
       "Boyer PLC                         3493\n",
       "                                  ... \n",
       "Douglas, DuBuque and McKenzie      775\n",
       "Treutel-King                       775\n",
       "Medhurst, Labadie and Gottlieb     759\n",
       "Reichert-Weissnat                  753\n",
       "Hahn, Douglas and Schowalter       727\n",
       "Name: merchant, Length: 693, dtype: int64"
      ]
     },
     "execution_count": 17,
     "metadata": {},
     "output_type": "execute_result"
    }
   ],
   "source": [
    "train_data['merchant'].value_counts()"
   ]
  },
  {
   "cell_type": "markdown",
   "metadata": {
    "id": "kMch5GGMBOaB"
   },
   "source": [
    "**category column**"
   ]
  },
  {
   "cell_type": "code",
   "execution_count": 18,
   "metadata": {
    "colab": {
     "base_uri": "https://localhost:8080/"
    },
    "id": "b1Amqqyixy5r",
    "outputId": "d8f4067a-b3f7-43d0-8c8c-dbab1b2b9fb5"
   },
   "outputs": [
    {
     "data": {
      "text/plain": [
       "gas_transport     131659\n",
       "grocery_pos       123638\n",
       "home              123115\n",
       "shopping_pos      116672\n",
       "kids_pets         113035\n",
       "shopping_net       97543\n",
       "entertainment      94014\n",
       "food_dining        91461\n",
       "personal_care      90758\n",
       "health_fitness     85879\n",
       "misc_pos           79655\n",
       "misc_net           63287\n",
       "grocery_net        45452\n",
       "travel             40507\n",
       "Name: category, dtype: int64"
      ]
     },
     "execution_count": 18,
     "metadata": {},
     "output_type": "execute_result"
    }
   ],
   "source": [
    "train_data['category'].value_counts()"
   ]
  },
  {
   "cell_type": "markdown",
   "metadata": {
    "id": "RYW9GUlhBTPX"
   },
   "source": [
    "**gender column**"
   ]
  },
  {
   "cell_type": "code",
   "execution_count": 19,
   "metadata": {
    "colab": {
     "base_uri": "https://localhost:8080/"
    },
    "id": "AGCZ57FK0pwr",
    "outputId": "54393cdb-98b8-446e-dd88-90dc2fe85192"
   },
   "outputs": [
    {
     "data": {
      "text/plain": [
       "F    709863\n",
       "M    586812\n",
       "Name: gender, dtype: int64"
      ]
     },
     "execution_count": 19,
     "metadata": {},
     "output_type": "execute_result"
    }
   ],
   "source": [
    "train_data['gender'].value_counts()"
   ]
  },
  {
   "cell_type": "markdown",
   "metadata": {
    "id": "RdsGXh4GBYKK"
   },
   "source": [
    "**state column**"
   ]
  },
  {
   "cell_type": "code",
   "execution_count": 20,
   "metadata": {
    "colab": {
     "base_uri": "https://localhost:8080/"
    },
    "id": "M2wcBFGo0zAx",
    "outputId": "e0dc5c14-d965-4cf4-83e1-a02fae242a67"
   },
   "outputs": [
    {
     "data": {
      "text/plain": [
       "TX    94876\n",
       "NY    83501\n",
       "PA    79847\n",
       "CA    56360\n",
       "OH    46480\n",
       "MI    46154\n",
       "IL    43252\n",
       "FL    42671\n",
       "AL    40989\n",
       "MO    38403\n",
       "MN    31714\n",
       "AR    31127\n",
       "NC    30266\n",
       "WI    29368\n",
       "VA    29250\n",
       "SC    29190\n",
       "KY    28475\n",
       "IN    27580\n",
       "IA    26985\n",
       "OK    26671\n",
       "MD    26193\n",
       "GA    26063\n",
       "WV    25691\n",
       "NJ    24603\n",
       "NE    24168\n",
       "KS    22996\n",
       "MS    21188\n",
       "LA    20965\n",
       "WY    19322\n",
       "WA    18924\n",
       "OR    18597\n",
       "TN    17554\n",
       "ME    16505\n",
       "NM    16407\n",
       "ND    14786\n",
       "CO    13880\n",
       "MA    12376\n",
       "SD    12324\n",
       "VT    11768\n",
       "MT    11754\n",
       "AZ    10770\n",
       "UT    10699\n",
       "NH     8278\n",
       "CT     7702\n",
       "NV     5607\n",
       "ID     5545\n",
       "DC     3613\n",
       "HI     2559\n",
       "AK     2120\n",
       "RI      550\n",
       "DE        9\n",
       "Name: state, dtype: int64"
      ]
     },
     "execution_count": 20,
     "metadata": {},
     "output_type": "execute_result"
    }
   ],
   "source": [
    "train_data['state'].value_counts()"
   ]
  },
  {
   "cell_type": "markdown",
   "metadata": {
    "id": "OPfWF6YPBbFi"
   },
   "source": [
    "**job column**"
   ]
  },
  {
   "cell_type": "code",
   "execution_count": 21,
   "metadata": {
    "colab": {
     "base_uri": "https://localhost:8080/"
    },
    "id": "0PxdWjtW2oze",
    "outputId": "395a678d-8b2e-40ea-ff9d-a547f4fa9236"
   },
   "outputs": [
    {
     "data": {
      "text/plain": [
       "Film/video editor             9779\n",
       "Exhibition designer           9199\n",
       "Naval architect               8684\n",
       "Surveyor, land/geomatics      8680\n",
       "Materials engineer            8270\n",
       "                              ... \n",
       "Information officer              8\n",
       "Veterinary surgeon               8\n",
       "Ship broker                      7\n",
       "Contracting civil engineer       7\n",
       "Warehouse manager                7\n",
       "Name: job, Length: 494, dtype: int64"
      ]
     },
     "execution_count": 21,
     "metadata": {},
     "output_type": "execute_result"
    }
   ],
   "source": [
    "train_data['job'].value_counts()"
   ]
  },
  {
   "cell_type": "markdown",
   "metadata": {
    "id": "o7QFsLXUBmCb"
   },
   "source": [
    "**amount column**"
   ]
  },
  {
   "cell_type": "code",
   "execution_count": 22,
   "metadata": {
    "colab": {
     "base_uri": "https://localhost:8080/"
    },
    "id": "VL9LR1Qf0dOV",
    "outputId": "45bbbe9d-15de-42e8-af1c-ac0603bd64a4"
   },
   "outputs": [
    {
     "data": {
      "text/plain": [
       "1.14       542\n",
       "1.04       538\n",
       "1.25       535\n",
       "1.02       533\n",
       "1.01       523\n",
       "          ... \n",
       "334.21       1\n",
       "674.31       1\n",
       "358.59       1\n",
       "1159.68      1\n",
       "255.52       1\n",
       "Name: amount, Length: 52928, dtype: int64"
      ]
     },
     "execution_count": 22,
     "metadata": {},
     "output_type": "execute_result"
    }
   ],
   "source": [
    "train_data['amount'].value_counts()"
   ]
  },
  {
   "cell_type": "code",
   "execution_count": 23,
   "metadata": {
    "colab": {
     "base_uri": "https://localhost:8080/"
    },
    "id": "x3FusDwD3G2u",
    "outputId": "7d1a7519-851b-41df-b6e0-f1503207eb61"
   },
   "outputs": [
    {
     "data": {
      "text/plain": [
       "count    1296675.00\n",
       "mean          70.35\n",
       "std          160.32\n",
       "min            1.00\n",
       "25%            9.65\n",
       "50%           47.52\n",
       "75%           83.14\n",
       "max        28948.90\n",
       "Name: amount, dtype: float64"
      ]
     },
     "execution_count": 23,
     "metadata": {},
     "output_type": "execute_result"
    }
   ],
   "source": [
    "# description\n",
    "np.round(train_data['amount'].describe(),2)"
   ]
  },
  {
   "cell_type": "code",
   "execution_count": 24,
   "metadata": {
    "colab": {
     "base_uri": "https://localhost:8080/"
    },
    "id": "5fC8eQrs3bPU",
    "outputId": "2ed95c66-9ded-418f-f14b-8ca9d24ecb6b"
   },
   "outputs": [
    {
     "data": {
      "text/plain": [
       "0.25        9.65\n",
       "0.50       47.52\n",
       "0.75       83.14\n",
       "0.90      136.67\n",
       "0.95      196.31\n",
       "0.99      545.99\n",
       "1.00    28948.90\n",
       "Name: amount, dtype: float64"
      ]
     },
     "execution_count": 24,
     "metadata": {},
     "output_type": "execute_result"
    }
   ],
   "source": [
    "np.round(train_data['amount'].quantile([.25,.5,.75,.90,.95,.99,1]),2)"
   ]
  },
  {
   "cell_type": "markdown",
   "metadata": {
    "id": "u0qRK7MNLbe5"
   },
   "source": [
    "#### **Feature Extraction**"
   ]
  },
  {
   "cell_type": "code",
   "execution_count": 25,
   "metadata": {
    "id": "AxYud8MbW9EE"
   },
   "outputs": [],
   "source": [
    "# importing library\n",
    "from datetime import date"
   ]
  },
  {
   "cell_type": "code",
   "execution_count": 26,
   "metadata": {
    "id": "_YFXl7fiL5lz"
   },
   "outputs": [],
   "source": [
    "# Extracting age from dob column\n",
    "\n",
    "train_data['age'] = np.round((train_data['transaction_date_time'] - train_data['dob'])/np.timedelta64(1, 'Y')) \n",
    "train_data['age'] = train_data['age'].astype(int)"
   ]
  },
  {
   "cell_type": "code",
   "execution_count": 27,
   "metadata": {
    "colab": {
     "base_uri": "https://localhost:8080/",
     "height": 577
    },
    "id": "KZapjjp_j3fV",
    "outputId": "8b885fcb-d652-4206-cd13-553c3e25e254"
   },
   "outputs": [
    {
     "data": {
      "text/html": [
       "\n",
       "  <div id=\"df-19af7338-9979-4b82-a8df-4ea94af7e665\">\n",
       "    <div class=\"colab-df-container\">\n",
       "      <div>\n",
       "<style scoped>\n",
       "    .dataframe tbody tr th:only-of-type {\n",
       "        vertical-align: middle;\n",
       "    }\n",
       "\n",
       "    .dataframe tbody tr th {\n",
       "        vertical-align: top;\n",
       "    }\n",
       "\n",
       "    .dataframe thead th {\n",
       "        text-align: right;\n",
       "    }\n",
       "</style>\n",
       "<table border=\"1\" class=\"dataframe\">\n",
       "  <thead>\n",
       "    <tr style=\"text-align: right;\">\n",
       "      <th></th>\n",
       "      <th>transaction_date_time</th>\n",
       "      <th>credit_card_number</th>\n",
       "      <th>merchant</th>\n",
       "      <th>category</th>\n",
       "      <th>amount</th>\n",
       "      <th>first_name</th>\n",
       "      <th>last_name</th>\n",
       "      <th>gender</th>\n",
       "      <th>street</th>\n",
       "      <th>city</th>\n",
       "      <th>...</th>\n",
       "      <th>longitude</th>\n",
       "      <th>city_pop</th>\n",
       "      <th>job</th>\n",
       "      <th>dob</th>\n",
       "      <th>transaction_id</th>\n",
       "      <th>unix_time</th>\n",
       "      <th>merchant_latitude</th>\n",
       "      <th>merchant_longitude</th>\n",
       "      <th>is_fraud</th>\n",
       "      <th>age</th>\n",
       "    </tr>\n",
       "  </thead>\n",
       "  <tbody>\n",
       "    <tr>\n",
       "      <th>0</th>\n",
       "      <td>2019-01-01 00:00:18</td>\n",
       "      <td>2703186189652095</td>\n",
       "      <td>Rippin, Kub and Mann</td>\n",
       "      <td>misc_net</td>\n",
       "      <td>4.97</td>\n",
       "      <td>Jennifer</td>\n",
       "      <td>Banks</td>\n",
       "      <td>F</td>\n",
       "      <td>561 Perry Cove</td>\n",
       "      <td>Moravian Falls</td>\n",
       "      <td>...</td>\n",
       "      <td>-81.1781</td>\n",
       "      <td>3495</td>\n",
       "      <td>Psychologist, counselling</td>\n",
       "      <td>1988-03-09</td>\n",
       "      <td>0b242abb623afc578575680df30655b9</td>\n",
       "      <td>1325376018</td>\n",
       "      <td>36.011293</td>\n",
       "      <td>-82.048315</td>\n",
       "      <td>0</td>\n",
       "      <td>31</td>\n",
       "    </tr>\n",
       "    <tr>\n",
       "      <th>1</th>\n",
       "      <td>2019-01-01 00:00:44</td>\n",
       "      <td>630423337322</td>\n",
       "      <td>Heller, Gutmann and Zieme</td>\n",
       "      <td>grocery_pos</td>\n",
       "      <td>107.23</td>\n",
       "      <td>Stephanie</td>\n",
       "      <td>Gill</td>\n",
       "      <td>F</td>\n",
       "      <td>43039 Riley Greens Suite 393</td>\n",
       "      <td>Orient</td>\n",
       "      <td>...</td>\n",
       "      <td>-118.2105</td>\n",
       "      <td>149</td>\n",
       "      <td>Special educational needs teacher</td>\n",
       "      <td>1978-06-21</td>\n",
       "      <td>1f76529f8574734946361c461b024d99</td>\n",
       "      <td>1325376044</td>\n",
       "      <td>49.159047</td>\n",
       "      <td>-118.186462</td>\n",
       "      <td>0</td>\n",
       "      <td>41</td>\n",
       "    </tr>\n",
       "    <tr>\n",
       "      <th>2</th>\n",
       "      <td>2019-01-01 00:00:51</td>\n",
       "      <td>38859492057661</td>\n",
       "      <td>Lind-Buckridge</td>\n",
       "      <td>entertainment</td>\n",
       "      <td>220.11</td>\n",
       "      <td>Edward</td>\n",
       "      <td>Sanchez</td>\n",
       "      <td>M</td>\n",
       "      <td>594 White Dale Suite 530</td>\n",
       "      <td>Malad City</td>\n",
       "      <td>...</td>\n",
       "      <td>-112.2620</td>\n",
       "      <td>4154</td>\n",
       "      <td>Nature conservation officer</td>\n",
       "      <td>1962-01-19</td>\n",
       "      <td>a1a22d70485983eac12b5b88dad1cf95</td>\n",
       "      <td>1325376051</td>\n",
       "      <td>43.150704</td>\n",
       "      <td>-112.154481</td>\n",
       "      <td>0</td>\n",
       "      <td>57</td>\n",
       "    </tr>\n",
       "    <tr>\n",
       "      <th>3</th>\n",
       "      <td>2019-01-01 00:01:16</td>\n",
       "      <td>3534093764340240</td>\n",
       "      <td>Kutch, Hermiston and Farrell</td>\n",
       "      <td>gas_transport</td>\n",
       "      <td>45.00</td>\n",
       "      <td>Jeremy</td>\n",
       "      <td>White</td>\n",
       "      <td>M</td>\n",
       "      <td>9443 Cynthia Court Apt. 038</td>\n",
       "      <td>Boulder</td>\n",
       "      <td>...</td>\n",
       "      <td>-112.1138</td>\n",
       "      <td>1939</td>\n",
       "      <td>Patent attorney</td>\n",
       "      <td>1967-01-12</td>\n",
       "      <td>6b849c168bdad6f867558c3793159a81</td>\n",
       "      <td>1325376076</td>\n",
       "      <td>47.034331</td>\n",
       "      <td>-112.561071</td>\n",
       "      <td>0</td>\n",
       "      <td>52</td>\n",
       "    </tr>\n",
       "    <tr>\n",
       "      <th>4</th>\n",
       "      <td>2019-01-01 00:03:06</td>\n",
       "      <td>375534208663984</td>\n",
       "      <td>Keeling-Crist</td>\n",
       "      <td>misc_pos</td>\n",
       "      <td>41.96</td>\n",
       "      <td>Tyler</td>\n",
       "      <td>Garcia</td>\n",
       "      <td>M</td>\n",
       "      <td>408 Bradley Rest</td>\n",
       "      <td>Doe Hill</td>\n",
       "      <td>...</td>\n",
       "      <td>-79.4629</td>\n",
       "      <td>99</td>\n",
       "      <td>Dance movement psychotherapist</td>\n",
       "      <td>1986-03-28</td>\n",
       "      <td>a41d7549acf90789359a9aa5346dcb46</td>\n",
       "      <td>1325376186</td>\n",
       "      <td>38.674999</td>\n",
       "      <td>-78.632459</td>\n",
       "      <td>0</td>\n",
       "      <td>33</td>\n",
       "    </tr>\n",
       "  </tbody>\n",
       "</table>\n",
       "<p>5 rows × 23 columns</p>\n",
       "</div>\n",
       "      <button class=\"colab-df-convert\" onclick=\"convertToInteractive('df-19af7338-9979-4b82-a8df-4ea94af7e665')\"\n",
       "              title=\"Convert this dataframe to an interactive table.\"\n",
       "              style=\"display:none;\">\n",
       "        \n",
       "  <svg xmlns=\"http://www.w3.org/2000/svg\" height=\"24px\"viewBox=\"0 0 24 24\"\n",
       "       width=\"24px\">\n",
       "    <path d=\"M0 0h24v24H0V0z\" fill=\"none\"/>\n",
       "    <path d=\"M18.56 5.44l.94 2.06.94-2.06 2.06-.94-2.06-.94-.94-2.06-.94 2.06-2.06.94zm-11 1L8.5 8.5l.94-2.06 2.06-.94-2.06-.94L8.5 2.5l-.94 2.06-2.06.94zm10 10l.94 2.06.94-2.06 2.06-.94-2.06-.94-.94-2.06-.94 2.06-2.06.94z\"/><path d=\"M17.41 7.96l-1.37-1.37c-.4-.4-.92-.59-1.43-.59-.52 0-1.04.2-1.43.59L10.3 9.45l-7.72 7.72c-.78.78-.78 2.05 0 2.83L4 21.41c.39.39.9.59 1.41.59.51 0 1.02-.2 1.41-.59l7.78-7.78 2.81-2.81c.8-.78.8-2.07 0-2.86zM5.41 20L4 18.59l7.72-7.72 1.47 1.35L5.41 20z\"/>\n",
       "  </svg>\n",
       "      </button>\n",
       "      \n",
       "  <style>\n",
       "    .colab-df-container {\n",
       "      display:flex;\n",
       "      flex-wrap:wrap;\n",
       "      gap: 12px;\n",
       "    }\n",
       "\n",
       "    .colab-df-convert {\n",
       "      background-color: #E8F0FE;\n",
       "      border: none;\n",
       "      border-radius: 50%;\n",
       "      cursor: pointer;\n",
       "      display: none;\n",
       "      fill: #1967D2;\n",
       "      height: 32px;\n",
       "      padding: 0 0 0 0;\n",
       "      width: 32px;\n",
       "    }\n",
       "\n",
       "    .colab-df-convert:hover {\n",
       "      background-color: #E2EBFA;\n",
       "      box-shadow: 0px 1px 2px rgba(60, 64, 67, 0.3), 0px 1px 3px 1px rgba(60, 64, 67, 0.15);\n",
       "      fill: #174EA6;\n",
       "    }\n",
       "\n",
       "    [theme=dark] .colab-df-convert {\n",
       "      background-color: #3B4455;\n",
       "      fill: #D2E3FC;\n",
       "    }\n",
       "\n",
       "    [theme=dark] .colab-df-convert:hover {\n",
       "      background-color: #434B5C;\n",
       "      box-shadow: 0px 1px 3px 1px rgba(0, 0, 0, 0.15);\n",
       "      filter: drop-shadow(0px 1px 2px rgba(0, 0, 0, 0.3));\n",
       "      fill: #FFFFFF;\n",
       "    }\n",
       "  </style>\n",
       "\n",
       "      <script>\n",
       "        const buttonEl =\n",
       "          document.querySelector('#df-19af7338-9979-4b82-a8df-4ea94af7e665 button.colab-df-convert');\n",
       "        buttonEl.style.display =\n",
       "          google.colab.kernel.accessAllowed ? 'block' : 'none';\n",
       "\n",
       "        async function convertToInteractive(key) {\n",
       "          const element = document.querySelector('#df-19af7338-9979-4b82-a8df-4ea94af7e665');\n",
       "          const dataTable =\n",
       "            await google.colab.kernel.invokeFunction('convertToInteractive',\n",
       "                                                     [key], {});\n",
       "          if (!dataTable) return;\n",
       "\n",
       "          const docLinkHtml = 'Like what you see? Visit the ' +\n",
       "            '<a target=\"_blank\" href=https://colab.research.google.com/notebooks/data_table.ipynb>data table notebook</a>'\n",
       "            + ' to learn more about interactive tables.';\n",
       "          element.innerHTML = '';\n",
       "          dataTable['output_type'] = 'display_data';\n",
       "          await google.colab.output.renderOutput(dataTable, element);\n",
       "          const docLink = document.createElement('div');\n",
       "          docLink.innerHTML = docLinkHtml;\n",
       "          element.appendChild(docLink);\n",
       "        }\n",
       "      </script>\n",
       "    </div>\n",
       "  </div>\n",
       "  "
      ],
      "text/plain": [
       "  transaction_date_time  credit_card_number                      merchant  \\\n",
       "0   2019-01-01 00:00:18    2703186189652095          Rippin, Kub and Mann   \n",
       "1   2019-01-01 00:00:44        630423337322     Heller, Gutmann and Zieme   \n",
       "2   2019-01-01 00:00:51      38859492057661                Lind-Buckridge   \n",
       "3   2019-01-01 00:01:16    3534093764340240  Kutch, Hermiston and Farrell   \n",
       "4   2019-01-01 00:03:06     375534208663984                 Keeling-Crist   \n",
       "\n",
       "        category  amount first_name last_name gender  \\\n",
       "0       misc_net    4.97   Jennifer     Banks      F   \n",
       "1    grocery_pos  107.23  Stephanie      Gill      F   \n",
       "2  entertainment  220.11     Edward   Sanchez      M   \n",
       "3  gas_transport   45.00     Jeremy     White      M   \n",
       "4       misc_pos   41.96      Tyler    Garcia      M   \n",
       "\n",
       "                         street            city  ... longitude  city_pop  \\\n",
       "0                561 Perry Cove  Moravian Falls  ...  -81.1781      3495   \n",
       "1  43039 Riley Greens Suite 393          Orient  ... -118.2105       149   \n",
       "2      594 White Dale Suite 530      Malad City  ... -112.2620      4154   \n",
       "3   9443 Cynthia Court Apt. 038         Boulder  ... -112.1138      1939   \n",
       "4              408 Bradley Rest        Doe Hill  ...  -79.4629        99   \n",
       "\n",
       "                                 job        dob  \\\n",
       "0          Psychologist, counselling 1988-03-09   \n",
       "1  Special educational needs teacher 1978-06-21   \n",
       "2        Nature conservation officer 1962-01-19   \n",
       "3                    Patent attorney 1967-01-12   \n",
       "4     Dance movement psychotherapist 1986-03-28   \n",
       "\n",
       "                     transaction_id   unix_time merchant_latitude  \\\n",
       "0  0b242abb623afc578575680df30655b9  1325376018         36.011293   \n",
       "1  1f76529f8574734946361c461b024d99  1325376044         49.159047   \n",
       "2  a1a22d70485983eac12b5b88dad1cf95  1325376051         43.150704   \n",
       "3  6b849c168bdad6f867558c3793159a81  1325376076         47.034331   \n",
       "4  a41d7549acf90789359a9aa5346dcb46  1325376186         38.674999   \n",
       "\n",
       "  merchant_longitude  is_fraud  age  \n",
       "0         -82.048315         0   31  \n",
       "1        -118.186462         0   41  \n",
       "2        -112.154481         0   57  \n",
       "3        -112.561071         0   52  \n",
       "4         -78.632459         0   33  \n",
       "\n",
       "[5 rows x 23 columns]"
      ]
     },
     "execution_count": 27,
     "metadata": {},
     "output_type": "execute_result"
    }
   ],
   "source": [
    "# top 5 rows\n",
    "train_data.head()"
   ]
  },
  {
   "cell_type": "code",
   "execution_count": 28,
   "metadata": {
    "colab": {
     "base_uri": "https://localhost:8080/"
    },
    "id": "UhLMvB2Z-RFE",
    "outputId": "d0253b86-ec03-4289-f1fa-d26b3d667852"
   },
   "outputs": [
    {
     "data": {
      "text/plain": [
       "count    1296675.0\n",
       "mean          46.0\n",
       "std           17.4\n",
       "min           14.0\n",
       "25%           33.0\n",
       "50%           44.0\n",
       "75%           57.0\n",
       "max           96.0\n",
       "Name: age, dtype: float64"
      ]
     },
     "execution_count": 28,
     "metadata": {},
     "output_type": "execute_result"
    }
   ],
   "source": [
    "# description\n",
    "np.round(train_data['age'].describe(),2)"
   ]
  },
  {
   "cell_type": "code",
   "execution_count": 29,
   "metadata": {
    "colab": {
     "base_uri": "https://localhost:8080/",
     "height": 577
    },
    "id": "XTNpl6fQ-d0A",
    "outputId": "e0f1bf5e-0f9e-4f12-9318-9a89bb9f00f8"
   },
   "outputs": [
    {
     "data": {
      "text/html": [
       "\n",
       "  <div id=\"df-0946edfb-9c5e-42dc-bf0f-37bdcf5b35f6\">\n",
       "    <div class=\"colab-df-container\">\n",
       "      <div>\n",
       "<style scoped>\n",
       "    .dataframe tbody tr th:only-of-type {\n",
       "        vertical-align: middle;\n",
       "    }\n",
       "\n",
       "    .dataframe tbody tr th {\n",
       "        vertical-align: top;\n",
       "    }\n",
       "\n",
       "    .dataframe thead th {\n",
       "        text-align: right;\n",
       "    }\n",
       "</style>\n",
       "<table border=\"1\" class=\"dataframe\">\n",
       "  <thead>\n",
       "    <tr style=\"text-align: right;\">\n",
       "      <th></th>\n",
       "      <th>transaction_date_time</th>\n",
       "      <th>credit_card_number</th>\n",
       "      <th>merchant</th>\n",
       "      <th>category</th>\n",
       "      <th>amount</th>\n",
       "      <th>first_name</th>\n",
       "      <th>last_name</th>\n",
       "      <th>gender</th>\n",
       "      <th>street</th>\n",
       "      <th>city</th>\n",
       "      <th>...</th>\n",
       "      <th>city_pop</th>\n",
       "      <th>job</th>\n",
       "      <th>dob</th>\n",
       "      <th>transaction_id</th>\n",
       "      <th>unix_time</th>\n",
       "      <th>merchant_latitude</th>\n",
       "      <th>merchant_longitude</th>\n",
       "      <th>is_fraud</th>\n",
       "      <th>age</th>\n",
       "      <th>age_group</th>\n",
       "    </tr>\n",
       "  </thead>\n",
       "  <tbody>\n",
       "    <tr>\n",
       "      <th>0</th>\n",
       "      <td>2019-01-01 00:00:18</td>\n",
       "      <td>2703186189652095</td>\n",
       "      <td>Rippin, Kub and Mann</td>\n",
       "      <td>misc_net</td>\n",
       "      <td>4.97</td>\n",
       "      <td>Jennifer</td>\n",
       "      <td>Banks</td>\n",
       "      <td>F</td>\n",
       "      <td>561 Perry Cove</td>\n",
       "      <td>Moravian Falls</td>\n",
       "      <td>...</td>\n",
       "      <td>3495</td>\n",
       "      <td>Psychologist, counselling</td>\n",
       "      <td>1988-03-09</td>\n",
       "      <td>0b242abb623afc578575680df30655b9</td>\n",
       "      <td>1325376018</td>\n",
       "      <td>36.011293</td>\n",
       "      <td>-82.048315</td>\n",
       "      <td>0</td>\n",
       "      <td>31</td>\n",
       "      <td>31-40</td>\n",
       "    </tr>\n",
       "    <tr>\n",
       "      <th>1</th>\n",
       "      <td>2019-01-01 00:00:44</td>\n",
       "      <td>630423337322</td>\n",
       "      <td>Heller, Gutmann and Zieme</td>\n",
       "      <td>grocery_pos</td>\n",
       "      <td>107.23</td>\n",
       "      <td>Stephanie</td>\n",
       "      <td>Gill</td>\n",
       "      <td>F</td>\n",
       "      <td>43039 Riley Greens Suite 393</td>\n",
       "      <td>Orient</td>\n",
       "      <td>...</td>\n",
       "      <td>149</td>\n",
       "      <td>Special educational needs teacher</td>\n",
       "      <td>1978-06-21</td>\n",
       "      <td>1f76529f8574734946361c461b024d99</td>\n",
       "      <td>1325376044</td>\n",
       "      <td>49.159047</td>\n",
       "      <td>-118.186462</td>\n",
       "      <td>0</td>\n",
       "      <td>41</td>\n",
       "      <td>41-50</td>\n",
       "    </tr>\n",
       "    <tr>\n",
       "      <th>2</th>\n",
       "      <td>2019-01-01 00:00:51</td>\n",
       "      <td>38859492057661</td>\n",
       "      <td>Lind-Buckridge</td>\n",
       "      <td>entertainment</td>\n",
       "      <td>220.11</td>\n",
       "      <td>Edward</td>\n",
       "      <td>Sanchez</td>\n",
       "      <td>M</td>\n",
       "      <td>594 White Dale Suite 530</td>\n",
       "      <td>Malad City</td>\n",
       "      <td>...</td>\n",
       "      <td>4154</td>\n",
       "      <td>Nature conservation officer</td>\n",
       "      <td>1962-01-19</td>\n",
       "      <td>a1a22d70485983eac12b5b88dad1cf95</td>\n",
       "      <td>1325376051</td>\n",
       "      <td>43.150704</td>\n",
       "      <td>-112.154481</td>\n",
       "      <td>0</td>\n",
       "      <td>57</td>\n",
       "      <td>51-60</td>\n",
       "    </tr>\n",
       "    <tr>\n",
       "      <th>3</th>\n",
       "      <td>2019-01-01 00:01:16</td>\n",
       "      <td>3534093764340240</td>\n",
       "      <td>Kutch, Hermiston and Farrell</td>\n",
       "      <td>gas_transport</td>\n",
       "      <td>45.00</td>\n",
       "      <td>Jeremy</td>\n",
       "      <td>White</td>\n",
       "      <td>M</td>\n",
       "      <td>9443 Cynthia Court Apt. 038</td>\n",
       "      <td>Boulder</td>\n",
       "      <td>...</td>\n",
       "      <td>1939</td>\n",
       "      <td>Patent attorney</td>\n",
       "      <td>1967-01-12</td>\n",
       "      <td>6b849c168bdad6f867558c3793159a81</td>\n",
       "      <td>1325376076</td>\n",
       "      <td>47.034331</td>\n",
       "      <td>-112.561071</td>\n",
       "      <td>0</td>\n",
       "      <td>52</td>\n",
       "      <td>51-60</td>\n",
       "    </tr>\n",
       "    <tr>\n",
       "      <th>4</th>\n",
       "      <td>2019-01-01 00:03:06</td>\n",
       "      <td>375534208663984</td>\n",
       "      <td>Keeling-Crist</td>\n",
       "      <td>misc_pos</td>\n",
       "      <td>41.96</td>\n",
       "      <td>Tyler</td>\n",
       "      <td>Garcia</td>\n",
       "      <td>M</td>\n",
       "      <td>408 Bradley Rest</td>\n",
       "      <td>Doe Hill</td>\n",
       "      <td>...</td>\n",
       "      <td>99</td>\n",
       "      <td>Dance movement psychotherapist</td>\n",
       "      <td>1986-03-28</td>\n",
       "      <td>a41d7549acf90789359a9aa5346dcb46</td>\n",
       "      <td>1325376186</td>\n",
       "      <td>38.674999</td>\n",
       "      <td>-78.632459</td>\n",
       "      <td>0</td>\n",
       "      <td>33</td>\n",
       "      <td>31-40</td>\n",
       "    </tr>\n",
       "  </tbody>\n",
       "</table>\n",
       "<p>5 rows × 24 columns</p>\n",
       "</div>\n",
       "      <button class=\"colab-df-convert\" onclick=\"convertToInteractive('df-0946edfb-9c5e-42dc-bf0f-37bdcf5b35f6')\"\n",
       "              title=\"Convert this dataframe to an interactive table.\"\n",
       "              style=\"display:none;\">\n",
       "        \n",
       "  <svg xmlns=\"http://www.w3.org/2000/svg\" height=\"24px\"viewBox=\"0 0 24 24\"\n",
       "       width=\"24px\">\n",
       "    <path d=\"M0 0h24v24H0V0z\" fill=\"none\"/>\n",
       "    <path d=\"M18.56 5.44l.94 2.06.94-2.06 2.06-.94-2.06-.94-.94-2.06-.94 2.06-2.06.94zm-11 1L8.5 8.5l.94-2.06 2.06-.94-2.06-.94L8.5 2.5l-.94 2.06-2.06.94zm10 10l.94 2.06.94-2.06 2.06-.94-2.06-.94-.94-2.06-.94 2.06-2.06.94z\"/><path d=\"M17.41 7.96l-1.37-1.37c-.4-.4-.92-.59-1.43-.59-.52 0-1.04.2-1.43.59L10.3 9.45l-7.72 7.72c-.78.78-.78 2.05 0 2.83L4 21.41c.39.39.9.59 1.41.59.51 0 1.02-.2 1.41-.59l7.78-7.78 2.81-2.81c.8-.78.8-2.07 0-2.86zM5.41 20L4 18.59l7.72-7.72 1.47 1.35L5.41 20z\"/>\n",
       "  </svg>\n",
       "      </button>\n",
       "      \n",
       "  <style>\n",
       "    .colab-df-container {\n",
       "      display:flex;\n",
       "      flex-wrap:wrap;\n",
       "      gap: 12px;\n",
       "    }\n",
       "\n",
       "    .colab-df-convert {\n",
       "      background-color: #E8F0FE;\n",
       "      border: none;\n",
       "      border-radius: 50%;\n",
       "      cursor: pointer;\n",
       "      display: none;\n",
       "      fill: #1967D2;\n",
       "      height: 32px;\n",
       "      padding: 0 0 0 0;\n",
       "      width: 32px;\n",
       "    }\n",
       "\n",
       "    .colab-df-convert:hover {\n",
       "      background-color: #E2EBFA;\n",
       "      box-shadow: 0px 1px 2px rgba(60, 64, 67, 0.3), 0px 1px 3px 1px rgba(60, 64, 67, 0.15);\n",
       "      fill: #174EA6;\n",
       "    }\n",
       "\n",
       "    [theme=dark] .colab-df-convert {\n",
       "      background-color: #3B4455;\n",
       "      fill: #D2E3FC;\n",
       "    }\n",
       "\n",
       "    [theme=dark] .colab-df-convert:hover {\n",
       "      background-color: #434B5C;\n",
       "      box-shadow: 0px 1px 3px 1px rgba(0, 0, 0, 0.15);\n",
       "      filter: drop-shadow(0px 1px 2px rgba(0, 0, 0, 0.3));\n",
       "      fill: #FFFFFF;\n",
       "    }\n",
       "  </style>\n",
       "\n",
       "      <script>\n",
       "        const buttonEl =\n",
       "          document.querySelector('#df-0946edfb-9c5e-42dc-bf0f-37bdcf5b35f6 button.colab-df-convert');\n",
       "        buttonEl.style.display =\n",
       "          google.colab.kernel.accessAllowed ? 'block' : 'none';\n",
       "\n",
       "        async function convertToInteractive(key) {\n",
       "          const element = document.querySelector('#df-0946edfb-9c5e-42dc-bf0f-37bdcf5b35f6');\n",
       "          const dataTable =\n",
       "            await google.colab.kernel.invokeFunction('convertToInteractive',\n",
       "                                                     [key], {});\n",
       "          if (!dataTable) return;\n",
       "\n",
       "          const docLinkHtml = 'Like what you see? Visit the ' +\n",
       "            '<a target=\"_blank\" href=https://colab.research.google.com/notebooks/data_table.ipynb>data table notebook</a>'\n",
       "            + ' to learn more about interactive tables.';\n",
       "          element.innerHTML = '';\n",
       "          dataTable['output_type'] = 'display_data';\n",
       "          await google.colab.output.renderOutput(dataTable, element);\n",
       "          const docLink = document.createElement('div');\n",
       "          docLink.innerHTML = docLinkHtml;\n",
       "          element.appendChild(docLink);\n",
       "        }\n",
       "      </script>\n",
       "    </div>\n",
       "  </div>\n",
       "  "
      ],
      "text/plain": [
       "  transaction_date_time  credit_card_number                      merchant  \\\n",
       "0   2019-01-01 00:00:18    2703186189652095          Rippin, Kub and Mann   \n",
       "1   2019-01-01 00:00:44        630423337322     Heller, Gutmann and Zieme   \n",
       "2   2019-01-01 00:00:51      38859492057661                Lind-Buckridge   \n",
       "3   2019-01-01 00:01:16    3534093764340240  Kutch, Hermiston and Farrell   \n",
       "4   2019-01-01 00:03:06     375534208663984                 Keeling-Crist   \n",
       "\n",
       "        category  amount first_name last_name gender  \\\n",
       "0       misc_net    4.97   Jennifer     Banks      F   \n",
       "1    grocery_pos  107.23  Stephanie      Gill      F   \n",
       "2  entertainment  220.11     Edward   Sanchez      M   \n",
       "3  gas_transport   45.00     Jeremy     White      M   \n",
       "4       misc_pos   41.96      Tyler    Garcia      M   \n",
       "\n",
       "                         street            city  ... city_pop  \\\n",
       "0                561 Perry Cove  Moravian Falls  ...     3495   \n",
       "1  43039 Riley Greens Suite 393          Orient  ...      149   \n",
       "2      594 White Dale Suite 530      Malad City  ...     4154   \n",
       "3   9443 Cynthia Court Apt. 038         Boulder  ...     1939   \n",
       "4              408 Bradley Rest        Doe Hill  ...       99   \n",
       "\n",
       "                                 job        dob  \\\n",
       "0          Psychologist, counselling 1988-03-09   \n",
       "1  Special educational needs teacher 1978-06-21   \n",
       "2        Nature conservation officer 1962-01-19   \n",
       "3                    Patent attorney 1967-01-12   \n",
       "4     Dance movement psychotherapist 1986-03-28   \n",
       "\n",
       "                     transaction_id   unix_time merchant_latitude  \\\n",
       "0  0b242abb623afc578575680df30655b9  1325376018         36.011293   \n",
       "1  1f76529f8574734946361c461b024d99  1325376044         49.159047   \n",
       "2  a1a22d70485983eac12b5b88dad1cf95  1325376051         43.150704   \n",
       "3  6b849c168bdad6f867558c3793159a81  1325376076         47.034331   \n",
       "4  a41d7549acf90789359a9aa5346dcb46  1325376186         38.674999   \n",
       "\n",
       "  merchant_longitude is_fraud  age  age_group  \n",
       "0         -82.048315        0   31      31-40  \n",
       "1        -118.186462        0   41      41-50  \n",
       "2        -112.154481        0   57      51-60  \n",
       "3        -112.561071        0   52      51-60  \n",
       "4         -78.632459        0   33      31-40  \n",
       "\n",
       "[5 rows x 24 columns]"
      ]
     },
     "execution_count": 29,
     "metadata": {},
     "output_type": "execute_result"
    }
   ],
   "source": [
    "# creating new column age_group by binnig age\n",
    "train_data['age_group'] = pd.cut(train_data.age, [0,20,30,40,50,60,99], labels=['<20','21-30','31-40','41-50','51-60','60+'])\n",
    "train_data.head()"
   ]
  },
  {
   "cell_type": "code",
   "execution_count": 30,
   "metadata": {
    "id": "K5tvPD3NXVRs"
   },
   "outputs": [],
   "source": [
    "#extracting 'transaction_hour' from transaction_date_time column\n",
    "train_data['transaction_hour'] = train_data['transaction_date_time'].dt.hour\n",
    "\n",
    "#extracting 'day of the week' from transaction_date_time column\n",
    "train_data['transaction_day_of_week'] = train_data['transaction_date_time'].dt.day_name()\n",
    "\n",
    "#extracting 'year_month' from transaction_date_time column\n",
    "train_data['transaction_year_month'] = train_data['transaction_date_time'].dt.to_period('M')"
   ]
  },
  {
   "cell_type": "code",
   "execution_count": 31,
   "metadata": {
    "colab": {
     "base_uri": "https://localhost:8080/",
     "height": 577
    },
    "id": "aUwxO-B5GRXk",
    "outputId": "43a64687-0748-421f-80c4-c8c668bec316"
   },
   "outputs": [
    {
     "data": {
      "text/html": [
       "\n",
       "  <div id=\"df-38133994-8529-4a86-af9a-f74315a155da\">\n",
       "    <div class=\"colab-df-container\">\n",
       "      <div>\n",
       "<style scoped>\n",
       "    .dataframe tbody tr th:only-of-type {\n",
       "        vertical-align: middle;\n",
       "    }\n",
       "\n",
       "    .dataframe tbody tr th {\n",
       "        vertical-align: top;\n",
       "    }\n",
       "\n",
       "    .dataframe thead th {\n",
       "        text-align: right;\n",
       "    }\n",
       "</style>\n",
       "<table border=\"1\" class=\"dataframe\">\n",
       "  <thead>\n",
       "    <tr style=\"text-align: right;\">\n",
       "      <th></th>\n",
       "      <th>transaction_date_time</th>\n",
       "      <th>credit_card_number</th>\n",
       "      <th>merchant</th>\n",
       "      <th>category</th>\n",
       "      <th>amount</th>\n",
       "      <th>first_name</th>\n",
       "      <th>last_name</th>\n",
       "      <th>gender</th>\n",
       "      <th>street</th>\n",
       "      <th>city</th>\n",
       "      <th>...</th>\n",
       "      <th>transaction_id</th>\n",
       "      <th>unix_time</th>\n",
       "      <th>merchant_latitude</th>\n",
       "      <th>merchant_longitude</th>\n",
       "      <th>is_fraud</th>\n",
       "      <th>age</th>\n",
       "      <th>age_group</th>\n",
       "      <th>transaction_hour</th>\n",
       "      <th>transaction_day_of_week</th>\n",
       "      <th>transaction_year_month</th>\n",
       "    </tr>\n",
       "  </thead>\n",
       "  <tbody>\n",
       "    <tr>\n",
       "      <th>0</th>\n",
       "      <td>2019-01-01 00:00:18</td>\n",
       "      <td>2703186189652095</td>\n",
       "      <td>Rippin, Kub and Mann</td>\n",
       "      <td>misc_net</td>\n",
       "      <td>4.97</td>\n",
       "      <td>Jennifer</td>\n",
       "      <td>Banks</td>\n",
       "      <td>F</td>\n",
       "      <td>561 Perry Cove</td>\n",
       "      <td>Moravian Falls</td>\n",
       "      <td>...</td>\n",
       "      <td>0b242abb623afc578575680df30655b9</td>\n",
       "      <td>1325376018</td>\n",
       "      <td>36.011293</td>\n",
       "      <td>-82.048315</td>\n",
       "      <td>0</td>\n",
       "      <td>31</td>\n",
       "      <td>31-40</td>\n",
       "      <td>0</td>\n",
       "      <td>Tuesday</td>\n",
       "      <td>2019-01</td>\n",
       "    </tr>\n",
       "    <tr>\n",
       "      <th>1</th>\n",
       "      <td>2019-01-01 00:00:44</td>\n",
       "      <td>630423337322</td>\n",
       "      <td>Heller, Gutmann and Zieme</td>\n",
       "      <td>grocery_pos</td>\n",
       "      <td>107.23</td>\n",
       "      <td>Stephanie</td>\n",
       "      <td>Gill</td>\n",
       "      <td>F</td>\n",
       "      <td>43039 Riley Greens Suite 393</td>\n",
       "      <td>Orient</td>\n",
       "      <td>...</td>\n",
       "      <td>1f76529f8574734946361c461b024d99</td>\n",
       "      <td>1325376044</td>\n",
       "      <td>49.159047</td>\n",
       "      <td>-118.186462</td>\n",
       "      <td>0</td>\n",
       "      <td>41</td>\n",
       "      <td>41-50</td>\n",
       "      <td>0</td>\n",
       "      <td>Tuesday</td>\n",
       "      <td>2019-01</td>\n",
       "    </tr>\n",
       "    <tr>\n",
       "      <th>2</th>\n",
       "      <td>2019-01-01 00:00:51</td>\n",
       "      <td>38859492057661</td>\n",
       "      <td>Lind-Buckridge</td>\n",
       "      <td>entertainment</td>\n",
       "      <td>220.11</td>\n",
       "      <td>Edward</td>\n",
       "      <td>Sanchez</td>\n",
       "      <td>M</td>\n",
       "      <td>594 White Dale Suite 530</td>\n",
       "      <td>Malad City</td>\n",
       "      <td>...</td>\n",
       "      <td>a1a22d70485983eac12b5b88dad1cf95</td>\n",
       "      <td>1325376051</td>\n",
       "      <td>43.150704</td>\n",
       "      <td>-112.154481</td>\n",
       "      <td>0</td>\n",
       "      <td>57</td>\n",
       "      <td>51-60</td>\n",
       "      <td>0</td>\n",
       "      <td>Tuesday</td>\n",
       "      <td>2019-01</td>\n",
       "    </tr>\n",
       "    <tr>\n",
       "      <th>3</th>\n",
       "      <td>2019-01-01 00:01:16</td>\n",
       "      <td>3534093764340240</td>\n",
       "      <td>Kutch, Hermiston and Farrell</td>\n",
       "      <td>gas_transport</td>\n",
       "      <td>45.00</td>\n",
       "      <td>Jeremy</td>\n",
       "      <td>White</td>\n",
       "      <td>M</td>\n",
       "      <td>9443 Cynthia Court Apt. 038</td>\n",
       "      <td>Boulder</td>\n",
       "      <td>...</td>\n",
       "      <td>6b849c168bdad6f867558c3793159a81</td>\n",
       "      <td>1325376076</td>\n",
       "      <td>47.034331</td>\n",
       "      <td>-112.561071</td>\n",
       "      <td>0</td>\n",
       "      <td>52</td>\n",
       "      <td>51-60</td>\n",
       "      <td>0</td>\n",
       "      <td>Tuesday</td>\n",
       "      <td>2019-01</td>\n",
       "    </tr>\n",
       "    <tr>\n",
       "      <th>4</th>\n",
       "      <td>2019-01-01 00:03:06</td>\n",
       "      <td>375534208663984</td>\n",
       "      <td>Keeling-Crist</td>\n",
       "      <td>misc_pos</td>\n",
       "      <td>41.96</td>\n",
       "      <td>Tyler</td>\n",
       "      <td>Garcia</td>\n",
       "      <td>M</td>\n",
       "      <td>408 Bradley Rest</td>\n",
       "      <td>Doe Hill</td>\n",
       "      <td>...</td>\n",
       "      <td>a41d7549acf90789359a9aa5346dcb46</td>\n",
       "      <td>1325376186</td>\n",
       "      <td>38.674999</td>\n",
       "      <td>-78.632459</td>\n",
       "      <td>0</td>\n",
       "      <td>33</td>\n",
       "      <td>31-40</td>\n",
       "      <td>0</td>\n",
       "      <td>Tuesday</td>\n",
       "      <td>2019-01</td>\n",
       "    </tr>\n",
       "  </tbody>\n",
       "</table>\n",
       "<p>5 rows × 27 columns</p>\n",
       "</div>\n",
       "      <button class=\"colab-df-convert\" onclick=\"convertToInteractive('df-38133994-8529-4a86-af9a-f74315a155da')\"\n",
       "              title=\"Convert this dataframe to an interactive table.\"\n",
       "              style=\"display:none;\">\n",
       "        \n",
       "  <svg xmlns=\"http://www.w3.org/2000/svg\" height=\"24px\"viewBox=\"0 0 24 24\"\n",
       "       width=\"24px\">\n",
       "    <path d=\"M0 0h24v24H0V0z\" fill=\"none\"/>\n",
       "    <path d=\"M18.56 5.44l.94 2.06.94-2.06 2.06-.94-2.06-.94-.94-2.06-.94 2.06-2.06.94zm-11 1L8.5 8.5l.94-2.06 2.06-.94-2.06-.94L8.5 2.5l-.94 2.06-2.06.94zm10 10l.94 2.06.94-2.06 2.06-.94-2.06-.94-.94-2.06-.94 2.06-2.06.94z\"/><path d=\"M17.41 7.96l-1.37-1.37c-.4-.4-.92-.59-1.43-.59-.52 0-1.04.2-1.43.59L10.3 9.45l-7.72 7.72c-.78.78-.78 2.05 0 2.83L4 21.41c.39.39.9.59 1.41.59.51 0 1.02-.2 1.41-.59l7.78-7.78 2.81-2.81c.8-.78.8-2.07 0-2.86zM5.41 20L4 18.59l7.72-7.72 1.47 1.35L5.41 20z\"/>\n",
       "  </svg>\n",
       "      </button>\n",
       "      \n",
       "  <style>\n",
       "    .colab-df-container {\n",
       "      display:flex;\n",
       "      flex-wrap:wrap;\n",
       "      gap: 12px;\n",
       "    }\n",
       "\n",
       "    .colab-df-convert {\n",
       "      background-color: #E8F0FE;\n",
       "      border: none;\n",
       "      border-radius: 50%;\n",
       "      cursor: pointer;\n",
       "      display: none;\n",
       "      fill: #1967D2;\n",
       "      height: 32px;\n",
       "      padding: 0 0 0 0;\n",
       "      width: 32px;\n",
       "    }\n",
       "\n",
       "    .colab-df-convert:hover {\n",
       "      background-color: #E2EBFA;\n",
       "      box-shadow: 0px 1px 2px rgba(60, 64, 67, 0.3), 0px 1px 3px 1px rgba(60, 64, 67, 0.15);\n",
       "      fill: #174EA6;\n",
       "    }\n",
       "\n",
       "    [theme=dark] .colab-df-convert {\n",
       "      background-color: #3B4455;\n",
       "      fill: #D2E3FC;\n",
       "    }\n",
       "\n",
       "    [theme=dark] .colab-df-convert:hover {\n",
       "      background-color: #434B5C;\n",
       "      box-shadow: 0px 1px 3px 1px rgba(0, 0, 0, 0.15);\n",
       "      filter: drop-shadow(0px 1px 2px rgba(0, 0, 0, 0.3));\n",
       "      fill: #FFFFFF;\n",
       "    }\n",
       "  </style>\n",
       "\n",
       "      <script>\n",
       "        const buttonEl =\n",
       "          document.querySelector('#df-38133994-8529-4a86-af9a-f74315a155da button.colab-df-convert');\n",
       "        buttonEl.style.display =\n",
       "          google.colab.kernel.accessAllowed ? 'block' : 'none';\n",
       "\n",
       "        async function convertToInteractive(key) {\n",
       "          const element = document.querySelector('#df-38133994-8529-4a86-af9a-f74315a155da');\n",
       "          const dataTable =\n",
       "            await google.colab.kernel.invokeFunction('convertToInteractive',\n",
       "                                                     [key], {});\n",
       "          if (!dataTable) return;\n",
       "\n",
       "          const docLinkHtml = 'Like what you see? Visit the ' +\n",
       "            '<a target=\"_blank\" href=https://colab.research.google.com/notebooks/data_table.ipynb>data table notebook</a>'\n",
       "            + ' to learn more about interactive tables.';\n",
       "          element.innerHTML = '';\n",
       "          dataTable['output_type'] = 'display_data';\n",
       "          await google.colab.output.renderOutput(dataTable, element);\n",
       "          const docLink = document.createElement('div');\n",
       "          docLink.innerHTML = docLinkHtml;\n",
       "          element.appendChild(docLink);\n",
       "        }\n",
       "      </script>\n",
       "    </div>\n",
       "  </div>\n",
       "  "
      ],
      "text/plain": [
       "  transaction_date_time  credit_card_number                      merchant  \\\n",
       "0   2019-01-01 00:00:18    2703186189652095          Rippin, Kub and Mann   \n",
       "1   2019-01-01 00:00:44        630423337322     Heller, Gutmann and Zieme   \n",
       "2   2019-01-01 00:00:51      38859492057661                Lind-Buckridge   \n",
       "3   2019-01-01 00:01:16    3534093764340240  Kutch, Hermiston and Farrell   \n",
       "4   2019-01-01 00:03:06     375534208663984                 Keeling-Crist   \n",
       "\n",
       "        category  amount first_name last_name gender  \\\n",
       "0       misc_net    4.97   Jennifer     Banks      F   \n",
       "1    grocery_pos  107.23  Stephanie      Gill      F   \n",
       "2  entertainment  220.11     Edward   Sanchez      M   \n",
       "3  gas_transport   45.00     Jeremy     White      M   \n",
       "4       misc_pos   41.96      Tyler    Garcia      M   \n",
       "\n",
       "                         street            city  ...  \\\n",
       "0                561 Perry Cove  Moravian Falls  ...   \n",
       "1  43039 Riley Greens Suite 393          Orient  ...   \n",
       "2      594 White Dale Suite 530      Malad City  ...   \n",
       "3   9443 Cynthia Court Apt. 038         Boulder  ...   \n",
       "4              408 Bradley Rest        Doe Hill  ...   \n",
       "\n",
       "                     transaction_id   unix_time  merchant_latitude  \\\n",
       "0  0b242abb623afc578575680df30655b9  1325376018          36.011293   \n",
       "1  1f76529f8574734946361c461b024d99  1325376044          49.159047   \n",
       "2  a1a22d70485983eac12b5b88dad1cf95  1325376051          43.150704   \n",
       "3  6b849c168bdad6f867558c3793159a81  1325376076          47.034331   \n",
       "4  a41d7549acf90789359a9aa5346dcb46  1325376186          38.674999   \n",
       "\n",
       "   merchant_longitude  is_fraud age age_group transaction_hour  \\\n",
       "0          -82.048315         0  31     31-40                0   \n",
       "1         -118.186462         0  41     41-50                0   \n",
       "2         -112.154481         0  57     51-60                0   \n",
       "3         -112.561071         0  52     51-60                0   \n",
       "4          -78.632459         0  33     31-40                0   \n",
       "\n",
       "   transaction_day_of_week  transaction_year_month  \n",
       "0                  Tuesday                 2019-01  \n",
       "1                  Tuesday                 2019-01  \n",
       "2                  Tuesday                 2019-01  \n",
       "3                  Tuesday                 2019-01  \n",
       "4                  Tuesday                 2019-01  \n",
       "\n",
       "[5 rows x 27 columns]"
      ]
     },
     "execution_count": 31,
     "metadata": {},
     "output_type": "execute_result"
    }
   ],
   "source": [
    "train_data.head()"
   ]
  },
  {
   "cell_type": "code",
   "execution_count": 32,
   "metadata": {
    "id": "L9QXd8hPG6Ax"
   },
   "outputs": [],
   "source": [
    "# calulating distance from customer to merchant\n",
    "lat_diff = abs(train_data['latitude'] - train_data['merchant_latitude'])\n",
    "long_diff = abs(train_data['longitude'] - train_data['merchant_longitude'])\n",
    "\n",
    "# between each degree of longitude and latitude is about 69 miles or 110 kilometers.\n",
    "# apply pythagoras to calculate the displacement\n",
    "\n",
    "train_data['distance'] = np.round(np.sqrt(pow(lat_diff*110,2)+pow(long_diff*110,2)),2)\n",
    "train_data['distance'] = train_data['distance'].astype(int)"
   ]
  },
  {
   "cell_type": "code",
   "execution_count": 33,
   "metadata": {
    "colab": {
     "base_uri": "https://localhost:8080/"
    },
    "id": "CSEOFemlgORT",
    "outputId": "3ef8c818-154a-447f-c343-38f95da08524"
   },
   "outputs": [
    {
     "data": {
      "text/plain": [
       "0     96\n",
       "1     29\n",
       "2    107\n",
       "3    101\n",
       "4     95\n",
       "Name: distance, dtype: int64"
      ]
     },
     "execution_count": 33,
     "metadata": {},
     "output_type": "execute_result"
    }
   ],
   "source": [
    "train_data['distance'].head()"
   ]
  },
  {
   "cell_type": "code",
   "execution_count": 34,
   "metadata": {
    "colab": {
     "base_uri": "https://localhost:8080/"
    },
    "id": "_HjFqahbgS1y",
    "outputId": "3eba3267-d301-48cc-b59e-a992c41ae94f"
   },
   "outputs": [
    {
     "data": {
      "text/plain": [
       "count    1296675.00\n",
       "mean          83.73\n",
       "std           31.32\n",
       "min            0.00\n",
       "25%           62.00\n",
       "50%           87.00\n",
       "75%          107.00\n",
       "max          155.00\n",
       "Name: distance, dtype: float64"
      ]
     },
     "execution_count": 34,
     "metadata": {},
     "output_type": "execute_result"
    }
   ],
   "source": [
    "np.round(train_data['distance'].describe(),2)"
   ]
  },
  {
   "cell_type": "code",
   "execution_count": 35,
   "metadata": {
    "id": "MA-QVxUBgC7H"
   },
   "outputs": [],
   "source": [
    "# ceating new column city_pop_segment from city_pop for better understanding\n",
    "train_data['distance_segment'] = pd.cut(train_data.distance, [0,50,100,200], labels=['nearby','far','far_away'])"
   ]
  },
  {
   "cell_type": "code",
   "execution_count": 36,
   "metadata": {
    "colab": {
     "base_uri": "https://localhost:8080/",
     "height": 577
    },
    "id": "WIrDBnvOXViy",
    "outputId": "59e9713e-96ff-4d2d-9132-a1c943f6ba07"
   },
   "outputs": [
    {
     "data": {
      "text/html": [
       "\n",
       "  <div id=\"df-1d2f02c0-1f0a-4901-a0b5-0519227c7421\">\n",
       "    <div class=\"colab-df-container\">\n",
       "      <div>\n",
       "<style scoped>\n",
       "    .dataframe tbody tr th:only-of-type {\n",
       "        vertical-align: middle;\n",
       "    }\n",
       "\n",
       "    .dataframe tbody tr th {\n",
       "        vertical-align: top;\n",
       "    }\n",
       "\n",
       "    .dataframe thead th {\n",
       "        text-align: right;\n",
       "    }\n",
       "</style>\n",
       "<table border=\"1\" class=\"dataframe\">\n",
       "  <thead>\n",
       "    <tr style=\"text-align: right;\">\n",
       "      <th></th>\n",
       "      <th>transaction_date_time</th>\n",
       "      <th>credit_card_number</th>\n",
       "      <th>merchant</th>\n",
       "      <th>category</th>\n",
       "      <th>amount</th>\n",
       "      <th>first_name</th>\n",
       "      <th>last_name</th>\n",
       "      <th>gender</th>\n",
       "      <th>street</th>\n",
       "      <th>city</th>\n",
       "      <th>...</th>\n",
       "      <th>merchant_latitude</th>\n",
       "      <th>merchant_longitude</th>\n",
       "      <th>is_fraud</th>\n",
       "      <th>age</th>\n",
       "      <th>age_group</th>\n",
       "      <th>transaction_hour</th>\n",
       "      <th>transaction_day_of_week</th>\n",
       "      <th>transaction_year_month</th>\n",
       "      <th>distance</th>\n",
       "      <th>distance_segment</th>\n",
       "    </tr>\n",
       "  </thead>\n",
       "  <tbody>\n",
       "    <tr>\n",
       "      <th>0</th>\n",
       "      <td>2019-01-01 00:00:18</td>\n",
       "      <td>2703186189652095</td>\n",
       "      <td>Rippin, Kub and Mann</td>\n",
       "      <td>misc_net</td>\n",
       "      <td>4.97</td>\n",
       "      <td>Jennifer</td>\n",
       "      <td>Banks</td>\n",
       "      <td>F</td>\n",
       "      <td>561 Perry Cove</td>\n",
       "      <td>Moravian Falls</td>\n",
       "      <td>...</td>\n",
       "      <td>36.011293</td>\n",
       "      <td>-82.048315</td>\n",
       "      <td>0</td>\n",
       "      <td>31</td>\n",
       "      <td>31-40</td>\n",
       "      <td>0</td>\n",
       "      <td>Tuesday</td>\n",
       "      <td>2019-01</td>\n",
       "      <td>96</td>\n",
       "      <td>far</td>\n",
       "    </tr>\n",
       "    <tr>\n",
       "      <th>1</th>\n",
       "      <td>2019-01-01 00:00:44</td>\n",
       "      <td>630423337322</td>\n",
       "      <td>Heller, Gutmann and Zieme</td>\n",
       "      <td>grocery_pos</td>\n",
       "      <td>107.23</td>\n",
       "      <td>Stephanie</td>\n",
       "      <td>Gill</td>\n",
       "      <td>F</td>\n",
       "      <td>43039 Riley Greens Suite 393</td>\n",
       "      <td>Orient</td>\n",
       "      <td>...</td>\n",
       "      <td>49.159047</td>\n",
       "      <td>-118.186462</td>\n",
       "      <td>0</td>\n",
       "      <td>41</td>\n",
       "      <td>41-50</td>\n",
       "      <td>0</td>\n",
       "      <td>Tuesday</td>\n",
       "      <td>2019-01</td>\n",
       "      <td>29</td>\n",
       "      <td>nearby</td>\n",
       "    </tr>\n",
       "    <tr>\n",
       "      <th>2</th>\n",
       "      <td>2019-01-01 00:00:51</td>\n",
       "      <td>38859492057661</td>\n",
       "      <td>Lind-Buckridge</td>\n",
       "      <td>entertainment</td>\n",
       "      <td>220.11</td>\n",
       "      <td>Edward</td>\n",
       "      <td>Sanchez</td>\n",
       "      <td>M</td>\n",
       "      <td>594 White Dale Suite 530</td>\n",
       "      <td>Malad City</td>\n",
       "      <td>...</td>\n",
       "      <td>43.150704</td>\n",
       "      <td>-112.154481</td>\n",
       "      <td>0</td>\n",
       "      <td>57</td>\n",
       "      <td>51-60</td>\n",
       "      <td>0</td>\n",
       "      <td>Tuesday</td>\n",
       "      <td>2019-01</td>\n",
       "      <td>107</td>\n",
       "      <td>far_away</td>\n",
       "    </tr>\n",
       "    <tr>\n",
       "      <th>3</th>\n",
       "      <td>2019-01-01 00:01:16</td>\n",
       "      <td>3534093764340240</td>\n",
       "      <td>Kutch, Hermiston and Farrell</td>\n",
       "      <td>gas_transport</td>\n",
       "      <td>45.00</td>\n",
       "      <td>Jeremy</td>\n",
       "      <td>White</td>\n",
       "      <td>M</td>\n",
       "      <td>9443 Cynthia Court Apt. 038</td>\n",
       "      <td>Boulder</td>\n",
       "      <td>...</td>\n",
       "      <td>47.034331</td>\n",
       "      <td>-112.561071</td>\n",
       "      <td>0</td>\n",
       "      <td>52</td>\n",
       "      <td>51-60</td>\n",
       "      <td>0</td>\n",
       "      <td>Tuesday</td>\n",
       "      <td>2019-01</td>\n",
       "      <td>101</td>\n",
       "      <td>far_away</td>\n",
       "    </tr>\n",
       "    <tr>\n",
       "      <th>4</th>\n",
       "      <td>2019-01-01 00:03:06</td>\n",
       "      <td>375534208663984</td>\n",
       "      <td>Keeling-Crist</td>\n",
       "      <td>misc_pos</td>\n",
       "      <td>41.96</td>\n",
       "      <td>Tyler</td>\n",
       "      <td>Garcia</td>\n",
       "      <td>M</td>\n",
       "      <td>408 Bradley Rest</td>\n",
       "      <td>Doe Hill</td>\n",
       "      <td>...</td>\n",
       "      <td>38.674999</td>\n",
       "      <td>-78.632459</td>\n",
       "      <td>0</td>\n",
       "      <td>33</td>\n",
       "      <td>31-40</td>\n",
       "      <td>0</td>\n",
       "      <td>Tuesday</td>\n",
       "      <td>2019-01</td>\n",
       "      <td>95</td>\n",
       "      <td>far</td>\n",
       "    </tr>\n",
       "  </tbody>\n",
       "</table>\n",
       "<p>5 rows × 29 columns</p>\n",
       "</div>\n",
       "      <button class=\"colab-df-convert\" onclick=\"convertToInteractive('df-1d2f02c0-1f0a-4901-a0b5-0519227c7421')\"\n",
       "              title=\"Convert this dataframe to an interactive table.\"\n",
       "              style=\"display:none;\">\n",
       "        \n",
       "  <svg xmlns=\"http://www.w3.org/2000/svg\" height=\"24px\"viewBox=\"0 0 24 24\"\n",
       "       width=\"24px\">\n",
       "    <path d=\"M0 0h24v24H0V0z\" fill=\"none\"/>\n",
       "    <path d=\"M18.56 5.44l.94 2.06.94-2.06 2.06-.94-2.06-.94-.94-2.06-.94 2.06-2.06.94zm-11 1L8.5 8.5l.94-2.06 2.06-.94-2.06-.94L8.5 2.5l-.94 2.06-2.06.94zm10 10l.94 2.06.94-2.06 2.06-.94-2.06-.94-.94-2.06-.94 2.06-2.06.94z\"/><path d=\"M17.41 7.96l-1.37-1.37c-.4-.4-.92-.59-1.43-.59-.52 0-1.04.2-1.43.59L10.3 9.45l-7.72 7.72c-.78.78-.78 2.05 0 2.83L4 21.41c.39.39.9.59 1.41.59.51 0 1.02-.2 1.41-.59l7.78-7.78 2.81-2.81c.8-.78.8-2.07 0-2.86zM5.41 20L4 18.59l7.72-7.72 1.47 1.35L5.41 20z\"/>\n",
       "  </svg>\n",
       "      </button>\n",
       "      \n",
       "  <style>\n",
       "    .colab-df-container {\n",
       "      display:flex;\n",
       "      flex-wrap:wrap;\n",
       "      gap: 12px;\n",
       "    }\n",
       "\n",
       "    .colab-df-convert {\n",
       "      background-color: #E8F0FE;\n",
       "      border: none;\n",
       "      border-radius: 50%;\n",
       "      cursor: pointer;\n",
       "      display: none;\n",
       "      fill: #1967D2;\n",
       "      height: 32px;\n",
       "      padding: 0 0 0 0;\n",
       "      width: 32px;\n",
       "    }\n",
       "\n",
       "    .colab-df-convert:hover {\n",
       "      background-color: #E2EBFA;\n",
       "      box-shadow: 0px 1px 2px rgba(60, 64, 67, 0.3), 0px 1px 3px 1px rgba(60, 64, 67, 0.15);\n",
       "      fill: #174EA6;\n",
       "    }\n",
       "\n",
       "    [theme=dark] .colab-df-convert {\n",
       "      background-color: #3B4455;\n",
       "      fill: #D2E3FC;\n",
       "    }\n",
       "\n",
       "    [theme=dark] .colab-df-convert:hover {\n",
       "      background-color: #434B5C;\n",
       "      box-shadow: 0px 1px 3px 1px rgba(0, 0, 0, 0.15);\n",
       "      filter: drop-shadow(0px 1px 2px rgba(0, 0, 0, 0.3));\n",
       "      fill: #FFFFFF;\n",
       "    }\n",
       "  </style>\n",
       "\n",
       "      <script>\n",
       "        const buttonEl =\n",
       "          document.querySelector('#df-1d2f02c0-1f0a-4901-a0b5-0519227c7421 button.colab-df-convert');\n",
       "        buttonEl.style.display =\n",
       "          google.colab.kernel.accessAllowed ? 'block' : 'none';\n",
       "\n",
       "        async function convertToInteractive(key) {\n",
       "          const element = document.querySelector('#df-1d2f02c0-1f0a-4901-a0b5-0519227c7421');\n",
       "          const dataTable =\n",
       "            await google.colab.kernel.invokeFunction('convertToInteractive',\n",
       "                                                     [key], {});\n",
       "          if (!dataTable) return;\n",
       "\n",
       "          const docLinkHtml = 'Like what you see? Visit the ' +\n",
       "            '<a target=\"_blank\" href=https://colab.research.google.com/notebooks/data_table.ipynb>data table notebook</a>'\n",
       "            + ' to learn more about interactive tables.';\n",
       "          element.innerHTML = '';\n",
       "          dataTable['output_type'] = 'display_data';\n",
       "          await google.colab.output.renderOutput(dataTable, element);\n",
       "          const docLink = document.createElement('div');\n",
       "          docLink.innerHTML = docLinkHtml;\n",
       "          element.appendChild(docLink);\n",
       "        }\n",
       "      </script>\n",
       "    </div>\n",
       "  </div>\n",
       "  "
      ],
      "text/plain": [
       "  transaction_date_time  credit_card_number                      merchant  \\\n",
       "0   2019-01-01 00:00:18    2703186189652095          Rippin, Kub and Mann   \n",
       "1   2019-01-01 00:00:44        630423337322     Heller, Gutmann and Zieme   \n",
       "2   2019-01-01 00:00:51      38859492057661                Lind-Buckridge   \n",
       "3   2019-01-01 00:01:16    3534093764340240  Kutch, Hermiston and Farrell   \n",
       "4   2019-01-01 00:03:06     375534208663984                 Keeling-Crist   \n",
       "\n",
       "        category  amount first_name last_name gender  \\\n",
       "0       misc_net    4.97   Jennifer     Banks      F   \n",
       "1    grocery_pos  107.23  Stephanie      Gill      F   \n",
       "2  entertainment  220.11     Edward   Sanchez      M   \n",
       "3  gas_transport   45.00     Jeremy     White      M   \n",
       "4       misc_pos   41.96      Tyler    Garcia      M   \n",
       "\n",
       "                         street            city  ... merchant_latitude  \\\n",
       "0                561 Perry Cove  Moravian Falls  ...         36.011293   \n",
       "1  43039 Riley Greens Suite 393          Orient  ...         49.159047   \n",
       "2      594 White Dale Suite 530      Malad City  ...         43.150704   \n",
       "3   9443 Cynthia Court Apt. 038         Boulder  ...         47.034331   \n",
       "4              408 Bradley Rest        Doe Hill  ...         38.674999   \n",
       "\n",
       "   merchant_longitude  is_fraud  age  age_group transaction_hour  \\\n",
       "0          -82.048315         0   31      31-40                0   \n",
       "1         -118.186462         0   41      41-50                0   \n",
       "2         -112.154481         0   57      51-60                0   \n",
       "3         -112.561071         0   52      51-60                0   \n",
       "4          -78.632459         0   33      31-40                0   \n",
       "\n",
       "  transaction_day_of_week transaction_year_month  distance  distance_segment  \n",
       "0                 Tuesday                2019-01        96               far  \n",
       "1                 Tuesday                2019-01        29            nearby  \n",
       "2                 Tuesday                2019-01       107          far_away  \n",
       "3                 Tuesday                2019-01       101          far_away  \n",
       "4                 Tuesday                2019-01        95               far  \n",
       "\n",
       "[5 rows x 29 columns]"
      ]
     },
     "execution_count": 36,
     "metadata": {},
     "output_type": "execute_result"
    }
   ],
   "source": [
    "train_data.head()"
   ]
  },
  {
   "cell_type": "code",
   "execution_count": 37,
   "metadata": {
    "colab": {
     "base_uri": "https://localhost:8080/"
    },
    "id": "rqdff-65__Dd",
    "outputId": "789d43ae-8f1b-4074-85ab-fd8e52fdc778"
   },
   "outputs": [
    {
     "data": {
      "text/plain": [
       "count    1296675.00\n",
       "mean       88824.44\n",
       "std       301956.36\n",
       "min           23.00\n",
       "25%          743.00\n",
       "50%         2456.00\n",
       "75%        20328.00\n",
       "max      2906700.00\n",
       "Name: city_pop, dtype: float64"
      ]
     },
     "execution_count": 37,
     "metadata": {},
     "output_type": "execute_result"
    }
   ],
   "source": [
    "# city population description\n",
    "np.round(train_data['city_pop'].describe(),2)"
   ]
  },
  {
   "cell_type": "code",
   "execution_count": 38,
   "metadata": {
    "id": "rqBTnrkgAdPy"
   },
   "outputs": [],
   "source": [
    "# ceating new column city_pop_segment from city_pop for better understanding\n",
    "train_data['city_pop_segment'] = pd.cut(train_data.city_pop, [0,500000,1000000,5000000], labels=['less','moderate','dense'])"
   ]
  },
  {
   "cell_type": "code",
   "execution_count": 39,
   "metadata": {
    "colab": {
     "base_uri": "https://localhost:8080/",
     "height": 577
    },
    "id": "EPp-T8XCCDzo",
    "outputId": "de5404b5-0fa5-45e7-bc99-04ce0e2b3ede"
   },
   "outputs": [
    {
     "data": {
      "text/html": [
       "\n",
       "  <div id=\"df-e1376534-3d61-44d8-9284-aecea7d0def6\">\n",
       "    <div class=\"colab-df-container\">\n",
       "      <div>\n",
       "<style scoped>\n",
       "    .dataframe tbody tr th:only-of-type {\n",
       "        vertical-align: middle;\n",
       "    }\n",
       "\n",
       "    .dataframe tbody tr th {\n",
       "        vertical-align: top;\n",
       "    }\n",
       "\n",
       "    .dataframe thead th {\n",
       "        text-align: right;\n",
       "    }\n",
       "</style>\n",
       "<table border=\"1\" class=\"dataframe\">\n",
       "  <thead>\n",
       "    <tr style=\"text-align: right;\">\n",
       "      <th></th>\n",
       "      <th>transaction_date_time</th>\n",
       "      <th>credit_card_number</th>\n",
       "      <th>merchant</th>\n",
       "      <th>category</th>\n",
       "      <th>amount</th>\n",
       "      <th>first_name</th>\n",
       "      <th>last_name</th>\n",
       "      <th>gender</th>\n",
       "      <th>street</th>\n",
       "      <th>city</th>\n",
       "      <th>...</th>\n",
       "      <th>merchant_longitude</th>\n",
       "      <th>is_fraud</th>\n",
       "      <th>age</th>\n",
       "      <th>age_group</th>\n",
       "      <th>transaction_hour</th>\n",
       "      <th>transaction_day_of_week</th>\n",
       "      <th>transaction_year_month</th>\n",
       "      <th>distance</th>\n",
       "      <th>distance_segment</th>\n",
       "      <th>city_pop_segment</th>\n",
       "    </tr>\n",
       "  </thead>\n",
       "  <tbody>\n",
       "    <tr>\n",
       "      <th>0</th>\n",
       "      <td>2019-01-01 00:00:18</td>\n",
       "      <td>2703186189652095</td>\n",
       "      <td>Rippin, Kub and Mann</td>\n",
       "      <td>misc_net</td>\n",
       "      <td>4.97</td>\n",
       "      <td>Jennifer</td>\n",
       "      <td>Banks</td>\n",
       "      <td>F</td>\n",
       "      <td>561 Perry Cove</td>\n",
       "      <td>Moravian Falls</td>\n",
       "      <td>...</td>\n",
       "      <td>-82.048315</td>\n",
       "      <td>0</td>\n",
       "      <td>31</td>\n",
       "      <td>31-40</td>\n",
       "      <td>0</td>\n",
       "      <td>Tuesday</td>\n",
       "      <td>2019-01</td>\n",
       "      <td>96</td>\n",
       "      <td>far</td>\n",
       "      <td>less</td>\n",
       "    </tr>\n",
       "    <tr>\n",
       "      <th>1</th>\n",
       "      <td>2019-01-01 00:00:44</td>\n",
       "      <td>630423337322</td>\n",
       "      <td>Heller, Gutmann and Zieme</td>\n",
       "      <td>grocery_pos</td>\n",
       "      <td>107.23</td>\n",
       "      <td>Stephanie</td>\n",
       "      <td>Gill</td>\n",
       "      <td>F</td>\n",
       "      <td>43039 Riley Greens Suite 393</td>\n",
       "      <td>Orient</td>\n",
       "      <td>...</td>\n",
       "      <td>-118.186462</td>\n",
       "      <td>0</td>\n",
       "      <td>41</td>\n",
       "      <td>41-50</td>\n",
       "      <td>0</td>\n",
       "      <td>Tuesday</td>\n",
       "      <td>2019-01</td>\n",
       "      <td>29</td>\n",
       "      <td>nearby</td>\n",
       "      <td>less</td>\n",
       "    </tr>\n",
       "    <tr>\n",
       "      <th>2</th>\n",
       "      <td>2019-01-01 00:00:51</td>\n",
       "      <td>38859492057661</td>\n",
       "      <td>Lind-Buckridge</td>\n",
       "      <td>entertainment</td>\n",
       "      <td>220.11</td>\n",
       "      <td>Edward</td>\n",
       "      <td>Sanchez</td>\n",
       "      <td>M</td>\n",
       "      <td>594 White Dale Suite 530</td>\n",
       "      <td>Malad City</td>\n",
       "      <td>...</td>\n",
       "      <td>-112.154481</td>\n",
       "      <td>0</td>\n",
       "      <td>57</td>\n",
       "      <td>51-60</td>\n",
       "      <td>0</td>\n",
       "      <td>Tuesday</td>\n",
       "      <td>2019-01</td>\n",
       "      <td>107</td>\n",
       "      <td>far_away</td>\n",
       "      <td>less</td>\n",
       "    </tr>\n",
       "    <tr>\n",
       "      <th>3</th>\n",
       "      <td>2019-01-01 00:01:16</td>\n",
       "      <td>3534093764340240</td>\n",
       "      <td>Kutch, Hermiston and Farrell</td>\n",
       "      <td>gas_transport</td>\n",
       "      <td>45.00</td>\n",
       "      <td>Jeremy</td>\n",
       "      <td>White</td>\n",
       "      <td>M</td>\n",
       "      <td>9443 Cynthia Court Apt. 038</td>\n",
       "      <td>Boulder</td>\n",
       "      <td>...</td>\n",
       "      <td>-112.561071</td>\n",
       "      <td>0</td>\n",
       "      <td>52</td>\n",
       "      <td>51-60</td>\n",
       "      <td>0</td>\n",
       "      <td>Tuesday</td>\n",
       "      <td>2019-01</td>\n",
       "      <td>101</td>\n",
       "      <td>far_away</td>\n",
       "      <td>less</td>\n",
       "    </tr>\n",
       "    <tr>\n",
       "      <th>4</th>\n",
       "      <td>2019-01-01 00:03:06</td>\n",
       "      <td>375534208663984</td>\n",
       "      <td>Keeling-Crist</td>\n",
       "      <td>misc_pos</td>\n",
       "      <td>41.96</td>\n",
       "      <td>Tyler</td>\n",
       "      <td>Garcia</td>\n",
       "      <td>M</td>\n",
       "      <td>408 Bradley Rest</td>\n",
       "      <td>Doe Hill</td>\n",
       "      <td>...</td>\n",
       "      <td>-78.632459</td>\n",
       "      <td>0</td>\n",
       "      <td>33</td>\n",
       "      <td>31-40</td>\n",
       "      <td>0</td>\n",
       "      <td>Tuesday</td>\n",
       "      <td>2019-01</td>\n",
       "      <td>95</td>\n",
       "      <td>far</td>\n",
       "      <td>less</td>\n",
       "    </tr>\n",
       "  </tbody>\n",
       "</table>\n",
       "<p>5 rows × 30 columns</p>\n",
       "</div>\n",
       "      <button class=\"colab-df-convert\" onclick=\"convertToInteractive('df-e1376534-3d61-44d8-9284-aecea7d0def6')\"\n",
       "              title=\"Convert this dataframe to an interactive table.\"\n",
       "              style=\"display:none;\">\n",
       "        \n",
       "  <svg xmlns=\"http://www.w3.org/2000/svg\" height=\"24px\"viewBox=\"0 0 24 24\"\n",
       "       width=\"24px\">\n",
       "    <path d=\"M0 0h24v24H0V0z\" fill=\"none\"/>\n",
       "    <path d=\"M18.56 5.44l.94 2.06.94-2.06 2.06-.94-2.06-.94-.94-2.06-.94 2.06-2.06.94zm-11 1L8.5 8.5l.94-2.06 2.06-.94-2.06-.94L8.5 2.5l-.94 2.06-2.06.94zm10 10l.94 2.06.94-2.06 2.06-.94-2.06-.94-.94-2.06-.94 2.06-2.06.94z\"/><path d=\"M17.41 7.96l-1.37-1.37c-.4-.4-.92-.59-1.43-.59-.52 0-1.04.2-1.43.59L10.3 9.45l-7.72 7.72c-.78.78-.78 2.05 0 2.83L4 21.41c.39.39.9.59 1.41.59.51 0 1.02-.2 1.41-.59l7.78-7.78 2.81-2.81c.8-.78.8-2.07 0-2.86zM5.41 20L4 18.59l7.72-7.72 1.47 1.35L5.41 20z\"/>\n",
       "  </svg>\n",
       "      </button>\n",
       "      \n",
       "  <style>\n",
       "    .colab-df-container {\n",
       "      display:flex;\n",
       "      flex-wrap:wrap;\n",
       "      gap: 12px;\n",
       "    }\n",
       "\n",
       "    .colab-df-convert {\n",
       "      background-color: #E8F0FE;\n",
       "      border: none;\n",
       "      border-radius: 50%;\n",
       "      cursor: pointer;\n",
       "      display: none;\n",
       "      fill: #1967D2;\n",
       "      height: 32px;\n",
       "      padding: 0 0 0 0;\n",
       "      width: 32px;\n",
       "    }\n",
       "\n",
       "    .colab-df-convert:hover {\n",
       "      background-color: #E2EBFA;\n",
       "      box-shadow: 0px 1px 2px rgba(60, 64, 67, 0.3), 0px 1px 3px 1px rgba(60, 64, 67, 0.15);\n",
       "      fill: #174EA6;\n",
       "    }\n",
       "\n",
       "    [theme=dark] .colab-df-convert {\n",
       "      background-color: #3B4455;\n",
       "      fill: #D2E3FC;\n",
       "    }\n",
       "\n",
       "    [theme=dark] .colab-df-convert:hover {\n",
       "      background-color: #434B5C;\n",
       "      box-shadow: 0px 1px 3px 1px rgba(0, 0, 0, 0.15);\n",
       "      filter: drop-shadow(0px 1px 2px rgba(0, 0, 0, 0.3));\n",
       "      fill: #FFFFFF;\n",
       "    }\n",
       "  </style>\n",
       "\n",
       "      <script>\n",
       "        const buttonEl =\n",
       "          document.querySelector('#df-e1376534-3d61-44d8-9284-aecea7d0def6 button.colab-df-convert');\n",
       "        buttonEl.style.display =\n",
       "          google.colab.kernel.accessAllowed ? 'block' : 'none';\n",
       "\n",
       "        async function convertToInteractive(key) {\n",
       "          const element = document.querySelector('#df-e1376534-3d61-44d8-9284-aecea7d0def6');\n",
       "          const dataTable =\n",
       "            await google.colab.kernel.invokeFunction('convertToInteractive',\n",
       "                                                     [key], {});\n",
       "          if (!dataTable) return;\n",
       "\n",
       "          const docLinkHtml = 'Like what you see? Visit the ' +\n",
       "            '<a target=\"_blank\" href=https://colab.research.google.com/notebooks/data_table.ipynb>data table notebook</a>'\n",
       "            + ' to learn more about interactive tables.';\n",
       "          element.innerHTML = '';\n",
       "          dataTable['output_type'] = 'display_data';\n",
       "          await google.colab.output.renderOutput(dataTable, element);\n",
       "          const docLink = document.createElement('div');\n",
       "          docLink.innerHTML = docLinkHtml;\n",
       "          element.appendChild(docLink);\n",
       "        }\n",
       "      </script>\n",
       "    </div>\n",
       "  </div>\n",
       "  "
      ],
      "text/plain": [
       "  transaction_date_time  credit_card_number                      merchant  \\\n",
       "0   2019-01-01 00:00:18    2703186189652095          Rippin, Kub and Mann   \n",
       "1   2019-01-01 00:00:44        630423337322     Heller, Gutmann and Zieme   \n",
       "2   2019-01-01 00:00:51      38859492057661                Lind-Buckridge   \n",
       "3   2019-01-01 00:01:16    3534093764340240  Kutch, Hermiston and Farrell   \n",
       "4   2019-01-01 00:03:06     375534208663984                 Keeling-Crist   \n",
       "\n",
       "        category  amount first_name last_name gender  \\\n",
       "0       misc_net    4.97   Jennifer     Banks      F   \n",
       "1    grocery_pos  107.23  Stephanie      Gill      F   \n",
       "2  entertainment  220.11     Edward   Sanchez      M   \n",
       "3  gas_transport   45.00     Jeremy     White      M   \n",
       "4       misc_pos   41.96      Tyler    Garcia      M   \n",
       "\n",
       "                         street            city  ... merchant_longitude  \\\n",
       "0                561 Perry Cove  Moravian Falls  ...         -82.048315   \n",
       "1  43039 Riley Greens Suite 393          Orient  ...        -118.186462   \n",
       "2      594 White Dale Suite 530      Malad City  ...        -112.154481   \n",
       "3   9443 Cynthia Court Apt. 038         Boulder  ...        -112.561071   \n",
       "4              408 Bradley Rest        Doe Hill  ...         -78.632459   \n",
       "\n",
       "   is_fraud  age  age_group  transaction_hour transaction_day_of_week  \\\n",
       "0         0   31      31-40                 0                 Tuesday   \n",
       "1         0   41      41-50                 0                 Tuesday   \n",
       "2         0   57      51-60                 0                 Tuesday   \n",
       "3         0   52      51-60                 0                 Tuesday   \n",
       "4         0   33      31-40                 0                 Tuesday   \n",
       "\n",
       "  transaction_year_month distance  distance_segment  city_pop_segment  \n",
       "0                2019-01       96               far              less  \n",
       "1                2019-01       29            nearby              less  \n",
       "2                2019-01      107          far_away              less  \n",
       "3                2019-01      101          far_away              less  \n",
       "4                2019-01       95               far              less  \n",
       "\n",
       "[5 rows x 30 columns]"
      ]
     },
     "execution_count": 39,
     "metadata": {},
     "output_type": "execute_result"
    }
   ],
   "source": [
    "train_data.head()"
   ]
  },
  {
   "cell_type": "code",
   "execution_count": 40,
   "metadata": {
    "colab": {
     "base_uri": "https://localhost:8080/"
    },
    "id": "VFLXeDtmKzAF",
    "outputId": "9714b2d7-4eac-4147-cdca-20c348a58948"
   },
   "outputs": [
    {
     "name": "stdout",
     "output_type": "stream",
     "text": [
      "<class 'pandas.core.frame.DataFrame'>\n",
      "RangeIndex: 1296675 entries, 0 to 1296674\n",
      "Data columns (total 30 columns):\n",
      " #   Column                   Non-Null Count    Dtype         \n",
      "---  ------                   --------------    -----         \n",
      " 0   transaction_date_time    1296675 non-null  datetime64[ns]\n",
      " 1   credit_card_number       1296675 non-null  int64         \n",
      " 2   merchant                 1296675 non-null  object        \n",
      " 3   category                 1296675 non-null  object        \n",
      " 4   amount                   1296675 non-null  float64       \n",
      " 5   first_name               1296675 non-null  object        \n",
      " 6   last_name                1296675 non-null  object        \n",
      " 7   gender                   1296675 non-null  object        \n",
      " 8   street                   1296675 non-null  object        \n",
      " 9   city                     1296675 non-null  object        \n",
      " 10  state                    1296675 non-null  object        \n",
      " 11  zip                      1296675 non-null  int64         \n",
      " 12  latitude                 1296675 non-null  float64       \n",
      " 13  longitude                1296675 non-null  float64       \n",
      " 14  city_pop                 1296675 non-null  int64         \n",
      " 15  job                      1296675 non-null  object        \n",
      " 16  dob                      1296675 non-null  datetime64[ns]\n",
      " 17  transaction_id           1296675 non-null  object        \n",
      " 18  unix_time                1296675 non-null  int64         \n",
      " 19  merchant_latitude        1296675 non-null  float64       \n",
      " 20  merchant_longitude       1296675 non-null  float64       \n",
      " 21  is_fraud                 1296675 non-null  int64         \n",
      " 22  age                      1296675 non-null  int64         \n",
      " 23  age_group                1296675 non-null  category      \n",
      " 24  transaction_hour         1296675 non-null  int64         \n",
      " 25  transaction_day_of_week  1296675 non-null  object        \n",
      " 26  transaction_year_month   1296675 non-null  period[M]     \n",
      " 27  distance                 1296675 non-null  int64         \n",
      " 28  distance_segment         1296585 non-null  category      \n",
      " 29  city_pop_segment         1296675 non-null  category      \n",
      "dtypes: category(3), datetime64[ns](2), float64(5), int64(8), object(11), period[M](1)\n",
      "memory usage: 270.8+ MB\n"
     ]
    }
   ],
   "source": [
    "train_data.info()"
   ]
  },
  {
   "cell_type": "markdown",
   "metadata": {
    "id": "B11LYyssKMqT"
   },
   "source": [
    "## **Step 2: Exploratory Data Analysis (EDA)**"
   ]
  },
  {
   "cell_type": "code",
   "execution_count": 41,
   "metadata": {
    "colab": {
     "base_uri": "https://localhost:8080/"
    },
    "id": "7BT16VmwXV4-",
    "outputId": "36b61dda-2367-4db9-9d25-9242eb89e830"
   },
   "outputs": [
    {
     "data": {
      "text/plain": [
       "0    99.421135\n",
       "1     0.578865\n",
       "Name: is_fraud, dtype: float64"
      ]
     },
     "execution_count": 41,
     "metadata": {},
     "output_type": "execute_result"
    }
   ],
   "source": [
    "# fraud transaction composition\n",
    "100*(train_data['is_fraud'].value_counts(normalize=True))"
   ]
  },
  {
   "cell_type": "markdown",
   "metadata": {
    "id": "MKS5xblfI3WD"
   },
   "source": [
    "- The data is highly imbalance the percentage of `fraud transaction` is only `0.57%` where as `non-fraudulent is 99.4%`.\n",
    "- Therefore, this is an **`imbalanced dataset`** and there is a need to balance the data, in order to not produce any biases in our analysis.\n",
    "\n",
    "\n"
   ]
  },
  {
   "cell_type": "code",
   "execution_count": 42,
   "metadata": {
    "colab": {
     "base_uri": "https://localhost:8080/",
     "height": 647
    },
    "id": "d0hMjwVp07fW",
    "outputId": "4aa9feff-be1b-436e-d5e7-bf3ba177b6c3"
   },
   "outputs": [
    {
     "data": {
      "text/html": [
       "\n",
       "  <div id=\"df-e224c701-90eb-4c4f-ae40-4c21301fd170\">\n",
       "    <div class=\"colab-df-container\">\n",
       "      <div>\n",
       "<style scoped>\n",
       "    .dataframe tbody tr th:only-of-type {\n",
       "        vertical-align: middle;\n",
       "    }\n",
       "\n",
       "    .dataframe tbody tr th {\n",
       "        vertical-align: top;\n",
       "    }\n",
       "\n",
       "    .dataframe thead th {\n",
       "        text-align: right;\n",
       "    }\n",
       "</style>\n",
       "<table border=\"1\" class=\"dataframe\">\n",
       "  <thead>\n",
       "    <tr style=\"text-align: right;\">\n",
       "      <th></th>\n",
       "      <th>transaction_date_time</th>\n",
       "      <th>credit_card_number</th>\n",
       "      <th>merchant</th>\n",
       "      <th>category</th>\n",
       "      <th>amount</th>\n",
       "      <th>first_name</th>\n",
       "      <th>last_name</th>\n",
       "      <th>gender</th>\n",
       "      <th>street</th>\n",
       "      <th>city</th>\n",
       "      <th>...</th>\n",
       "      <th>merchant_longitude</th>\n",
       "      <th>is_fraud</th>\n",
       "      <th>age</th>\n",
       "      <th>age_group</th>\n",
       "      <th>transaction_hour</th>\n",
       "      <th>transaction_day_of_week</th>\n",
       "      <th>transaction_year_month</th>\n",
       "      <th>distance</th>\n",
       "      <th>distance_segment</th>\n",
       "      <th>city_pop_segment</th>\n",
       "    </tr>\n",
       "  </thead>\n",
       "  <tbody>\n",
       "    <tr>\n",
       "      <th>2449</th>\n",
       "      <td>2019-01-02 01:06:37</td>\n",
       "      <td>4613314721966</td>\n",
       "      <td>Rutherford-Mertz</td>\n",
       "      <td>grocery_pos</td>\n",
       "      <td>281.06</td>\n",
       "      <td>Jason</td>\n",
       "      <td>Murphy</td>\n",
       "      <td>M</td>\n",
       "      <td>542 Steve Curve Suite 011</td>\n",
       "      <td>Collettsville</td>\n",
       "      <td>...</td>\n",
       "      <td>-81.179483</td>\n",
       "      <td>1</td>\n",
       "      <td>30</td>\n",
       "      <td>21-30</td>\n",
       "      <td>1</td>\n",
       "      <td>Wednesday</td>\n",
       "      <td>2019-01</td>\n",
       "      <td>76</td>\n",
       "      <td>far</td>\n",
       "      <td>less</td>\n",
       "    </tr>\n",
       "    <tr>\n",
       "      <th>2472</th>\n",
       "      <td>2019-01-02 01:47:29</td>\n",
       "      <td>340187018810220</td>\n",
       "      <td>Jenkins, Hauck and Friesen</td>\n",
       "      <td>gas_transport</td>\n",
       "      <td>11.52</td>\n",
       "      <td>Misty</td>\n",
       "      <td>Hart</td>\n",
       "      <td>F</td>\n",
       "      <td>27954 Hall Mill Suite 575</td>\n",
       "      <td>San Antonio</td>\n",
       "      <td>...</td>\n",
       "      <td>-99.142791</td>\n",
       "      <td>1</td>\n",
       "      <td>58</td>\n",
       "      <td>51-60</td>\n",
       "      <td>1</td>\n",
       "      <td>Wednesday</td>\n",
       "      <td>2019-01</td>\n",
       "      <td>86</td>\n",
       "      <td>far</td>\n",
       "      <td>dense</td>\n",
       "    </tr>\n",
       "    <tr>\n",
       "      <th>2523</th>\n",
       "      <td>2019-01-02 03:05:23</td>\n",
       "      <td>340187018810220</td>\n",
       "      <td>Goodwin-Nitzsche</td>\n",
       "      <td>grocery_pos</td>\n",
       "      <td>276.31</td>\n",
       "      <td>Misty</td>\n",
       "      <td>Hart</td>\n",
       "      <td>F</td>\n",
       "      <td>27954 Hall Mill Suite 575</td>\n",
       "      <td>San Antonio</td>\n",
       "      <td>...</td>\n",
       "      <td>-98.836360</td>\n",
       "      <td>1</td>\n",
       "      <td>58</td>\n",
       "      <td>51-60</td>\n",
       "      <td>3</td>\n",
       "      <td>Wednesday</td>\n",
       "      <td>2019-01</td>\n",
       "      <td>45</td>\n",
       "      <td>nearby</td>\n",
       "      <td>dense</td>\n",
       "    </tr>\n",
       "    <tr>\n",
       "      <th>2546</th>\n",
       "      <td>2019-01-02 03:38:03</td>\n",
       "      <td>4613314721966</td>\n",
       "      <td>Erdman-Kertzmann</td>\n",
       "      <td>gas_transport</td>\n",
       "      <td>7.03</td>\n",
       "      <td>Jason</td>\n",
       "      <td>Murphy</td>\n",
       "      <td>M</td>\n",
       "      <td>542 Steve Curve Suite 011</td>\n",
       "      <td>Collettsville</td>\n",
       "      <td>...</td>\n",
       "      <td>-82.091010</td>\n",
       "      <td>1</td>\n",
       "      <td>30</td>\n",
       "      <td>21-30</td>\n",
       "      <td>3</td>\n",
       "      <td>Wednesday</td>\n",
       "      <td>2019-01</td>\n",
       "      <td>41</td>\n",
       "      <td>nearby</td>\n",
       "      <td>less</td>\n",
       "    </tr>\n",
       "    <tr>\n",
       "      <th>2553</th>\n",
       "      <td>2019-01-02 03:55:47</td>\n",
       "      <td>340187018810220</td>\n",
       "      <td>Koepp-Parker</td>\n",
       "      <td>grocery_pos</td>\n",
       "      <td>275.73</td>\n",
       "      <td>Misty</td>\n",
       "      <td>Hart</td>\n",
       "      <td>F</td>\n",
       "      <td>27954 Hall Mill Suite 575</td>\n",
       "      <td>San Antonio</td>\n",
       "      <td>...</td>\n",
       "      <td>-98.683410</td>\n",
       "      <td>1</td>\n",
       "      <td>58</td>\n",
       "      <td>51-60</td>\n",
       "      <td>3</td>\n",
       "      <td>Wednesday</td>\n",
       "      <td>2019-01</td>\n",
       "      <td>45</td>\n",
       "      <td>nearby</td>\n",
       "      <td>dense</td>\n",
       "    </tr>\n",
       "  </tbody>\n",
       "</table>\n",
       "<p>5 rows × 30 columns</p>\n",
       "</div>\n",
       "      <button class=\"colab-df-convert\" onclick=\"convertToInteractive('df-e224c701-90eb-4c4f-ae40-4c21301fd170')\"\n",
       "              title=\"Convert this dataframe to an interactive table.\"\n",
       "              style=\"display:none;\">\n",
       "        \n",
       "  <svg xmlns=\"http://www.w3.org/2000/svg\" height=\"24px\"viewBox=\"0 0 24 24\"\n",
       "       width=\"24px\">\n",
       "    <path d=\"M0 0h24v24H0V0z\" fill=\"none\"/>\n",
       "    <path d=\"M18.56 5.44l.94 2.06.94-2.06 2.06-.94-2.06-.94-.94-2.06-.94 2.06-2.06.94zm-11 1L8.5 8.5l.94-2.06 2.06-.94-2.06-.94L8.5 2.5l-.94 2.06-2.06.94zm10 10l.94 2.06.94-2.06 2.06-.94-2.06-.94-.94-2.06-.94 2.06-2.06.94z\"/><path d=\"M17.41 7.96l-1.37-1.37c-.4-.4-.92-.59-1.43-.59-.52 0-1.04.2-1.43.59L10.3 9.45l-7.72 7.72c-.78.78-.78 2.05 0 2.83L4 21.41c.39.39.9.59 1.41.59.51 0 1.02-.2 1.41-.59l7.78-7.78 2.81-2.81c.8-.78.8-2.07 0-2.86zM5.41 20L4 18.59l7.72-7.72 1.47 1.35L5.41 20z\"/>\n",
       "  </svg>\n",
       "      </button>\n",
       "      \n",
       "  <style>\n",
       "    .colab-df-container {\n",
       "      display:flex;\n",
       "      flex-wrap:wrap;\n",
       "      gap: 12px;\n",
       "    }\n",
       "\n",
       "    .colab-df-convert {\n",
       "      background-color: #E8F0FE;\n",
       "      border: none;\n",
       "      border-radius: 50%;\n",
       "      cursor: pointer;\n",
       "      display: none;\n",
       "      fill: #1967D2;\n",
       "      height: 32px;\n",
       "      padding: 0 0 0 0;\n",
       "      width: 32px;\n",
       "    }\n",
       "\n",
       "    .colab-df-convert:hover {\n",
       "      background-color: #E2EBFA;\n",
       "      box-shadow: 0px 1px 2px rgba(60, 64, 67, 0.3), 0px 1px 3px 1px rgba(60, 64, 67, 0.15);\n",
       "      fill: #174EA6;\n",
       "    }\n",
       "\n",
       "    [theme=dark] .colab-df-convert {\n",
       "      background-color: #3B4455;\n",
       "      fill: #D2E3FC;\n",
       "    }\n",
       "\n",
       "    [theme=dark] .colab-df-convert:hover {\n",
       "      background-color: #434B5C;\n",
       "      box-shadow: 0px 1px 3px 1px rgba(0, 0, 0, 0.15);\n",
       "      filter: drop-shadow(0px 1px 2px rgba(0, 0, 0, 0.3));\n",
       "      fill: #FFFFFF;\n",
       "    }\n",
       "  </style>\n",
       "\n",
       "      <script>\n",
       "        const buttonEl =\n",
       "          document.querySelector('#df-e224c701-90eb-4c4f-ae40-4c21301fd170 button.colab-df-convert');\n",
       "        buttonEl.style.display =\n",
       "          google.colab.kernel.accessAllowed ? 'block' : 'none';\n",
       "\n",
       "        async function convertToInteractive(key) {\n",
       "          const element = document.querySelector('#df-e224c701-90eb-4c4f-ae40-4c21301fd170');\n",
       "          const dataTable =\n",
       "            await google.colab.kernel.invokeFunction('convertToInteractive',\n",
       "                                                     [key], {});\n",
       "          if (!dataTable) return;\n",
       "\n",
       "          const docLinkHtml = 'Like what you see? Visit the ' +\n",
       "            '<a target=\"_blank\" href=https://colab.research.google.com/notebooks/data_table.ipynb>data table notebook</a>'\n",
       "            + ' to learn more about interactive tables.';\n",
       "          element.innerHTML = '';\n",
       "          dataTable['output_type'] = 'display_data';\n",
       "          await google.colab.output.renderOutput(dataTable, element);\n",
       "          const docLink = document.createElement('div');\n",
       "          docLink.innerHTML = docLinkHtml;\n",
       "          element.appendChild(docLink);\n",
       "        }\n",
       "      </script>\n",
       "    </div>\n",
       "  </div>\n",
       "  "
      ],
      "text/plain": [
       "     transaction_date_time  credit_card_number                    merchant  \\\n",
       "2449   2019-01-02 01:06:37       4613314721966            Rutherford-Mertz   \n",
       "2472   2019-01-02 01:47:29     340187018810220  Jenkins, Hauck and Friesen   \n",
       "2523   2019-01-02 03:05:23     340187018810220            Goodwin-Nitzsche   \n",
       "2546   2019-01-02 03:38:03       4613314721966            Erdman-Kertzmann   \n",
       "2553   2019-01-02 03:55:47     340187018810220                Koepp-Parker   \n",
       "\n",
       "           category  amount first_name last_name gender  \\\n",
       "2449    grocery_pos  281.06      Jason    Murphy      M   \n",
       "2472  gas_transport   11.52      Misty      Hart      F   \n",
       "2523    grocery_pos  276.31      Misty      Hart      F   \n",
       "2546  gas_transport    7.03      Jason    Murphy      M   \n",
       "2553    grocery_pos  275.73      Misty      Hart      F   \n",
       "\n",
       "                         street           city  ... merchant_longitude  \\\n",
       "2449  542 Steve Curve Suite 011  Collettsville  ...         -81.179483   \n",
       "2472  27954 Hall Mill Suite 575    San Antonio  ...         -99.142791   \n",
       "2523  27954 Hall Mill Suite 575    San Antonio  ...         -98.836360   \n",
       "2546  542 Steve Curve Suite 011  Collettsville  ...         -82.091010   \n",
       "2553  27954 Hall Mill Suite 575    San Antonio  ...         -98.683410   \n",
       "\n",
       "      is_fraud  age  age_group  transaction_hour transaction_day_of_week  \\\n",
       "2449         1   30      21-30                 1               Wednesday   \n",
       "2472         1   58      51-60                 1               Wednesday   \n",
       "2523         1   58      51-60                 3               Wednesday   \n",
       "2546         1   30      21-30                 3               Wednesday   \n",
       "2553         1   58      51-60                 3               Wednesday   \n",
       "\n",
       "     transaction_year_month distance  distance_segment  city_pop_segment  \n",
       "2449                2019-01       76               far              less  \n",
       "2472                2019-01       86               far             dense  \n",
       "2523                2019-01       45            nearby             dense  \n",
       "2546                2019-01       41            nearby              less  \n",
       "2553                2019-01       45            nearby             dense  \n",
       "\n",
       "[5 rows x 30 columns]"
      ]
     },
     "execution_count": 42,
     "metadata": {},
     "output_type": "execute_result"
    }
   ],
   "source": [
    "# creating a new datframe with only fraud transactions for further fraudulent analysis\n",
    "\n",
    "train_data1 = train_data[train_data['is_fraud']==1]\n",
    "train_data1.head()"
   ]
  },
  {
   "cell_type": "code",
   "execution_count": 43,
   "metadata": {
    "colab": {
     "base_uri": "https://localhost:8080/"
    },
    "id": "KeoQsZ_DFZ-l",
    "outputId": "7e9a9089-5291-4924-a554-29f91282d0b6"
   },
   "outputs": [
    {
     "data": {
      "text/plain": [
       "(7506, 30)"
      ]
     },
     "execution_count": 43,
     "metadata": {},
     "output_type": "execute_result"
    }
   ],
   "source": [
    "train_data1.shape"
   ]
  },
  {
   "cell_type": "markdown",
   "metadata": {
    "id": "keHYBFdTJhWh"
   },
   "source": [
    "**amount vs fraud_transactions**"
   ]
  },
  {
   "cell_type": "code",
   "execution_count": 44,
   "metadata": {
    "colab": {
     "base_uri": "https://localhost:8080/"
    },
    "id": "WOTN3VW_07kE",
    "outputId": "4bf8894c-1f16-466d-a70f-93c6bac90038"
   },
   "outputs": [
    {
     "data": {
      "text/plain": [
       "count    7506.000000\n",
       "mean      531.320092\n",
       "std       390.560070\n",
       "min         1.060000\n",
       "25%       245.662500\n",
       "50%       396.505000\n",
       "75%       900.875000\n",
       "max      1376.040000\n",
       "Name: amount, dtype: float64"
      ]
     },
     "execution_count": 44,
     "metadata": {},
     "output_type": "execute_result"
    }
   ],
   "source": [
    "train_data1['amount'].describe()"
   ]
  },
  {
   "cell_type": "code",
   "execution_count": 45,
   "metadata": {
    "colab": {
     "base_uri": "https://localhost:8080/",
     "height": 295
    },
    "id": "PSmOwi-3XuvX",
    "outputId": "d9d332b2-a1a9-4090-cb26-c2322d5708cb"
   },
   "outputs": [
    {
     "data": {
      "image/png": "[encoded data removed]",
      "text/plain": [
       "<Figure size 576x288 with 1 Axes>"
      ]
     },
     "metadata": {
      "needs_background": "light"
     },
     "output_type": "display_data"
    }
   ],
   "source": [
    "# plotting histogram\n",
    "plt.figure(figsize=(8,4))\n",
    "sns.histplot(data = train_data1, x='amount', hue='is_fraud')\n",
    "plt.title('Fraudulent Amount Count')\n",
    "plt.xlabel('Amount')\n",
    "plt.ylabel('Count')\n",
    "plt.show()"
   ]
  },
  {
   "cell_type": "markdown",
   "metadata": {
    "id": "1UF9W4gN2gDD"
   },
   "source": [
    "**Observation:**\n",
    "- The majority of the fraud is done with amount less than $100.\n",
    "- Since the fraudulent amount is that less thus, may be little difficult to keep track of it.\n",
    "___"
   ]
  },
  {
   "cell_type": "markdown",
   "metadata": {
    "id": "PmY5MgNg3rx3"
   },
   "source": [
    "**fraud_amount vs gender**"
   ]
  },
  {
   "cell_type": "code",
   "execution_count": 46,
   "metadata": {
    "colab": {
     "base_uri": "https://localhost:8080/",
     "height": 350
    },
    "id": "Qnr6BWiRIaHz",
    "outputId": "a4ded222-6196-4af7-c3b7-56f58f946fd4"
   },
   "outputs": [
    {
     "data": {
      "image/png": "[encoded data removed]",
      "text/plain": [
       "<Figure size 504x360 with 1 Axes>"
      ]
     },
     "metadata": {
      "needs_background": "light"
     },
     "output_type": "display_data"
    }
   ],
   "source": [
    "# density plot\n",
    "plt.figure(figsize=(7,5))\n",
    "plt.title('Fraudulent_Amount vs gender')\n",
    "sns.kdeplot(train_data1.amount,hue=train_data1.gender)\n",
    "plt.xlabel('Amount')\n",
    "plt.show()"
   ]
  },
  {
   "cell_type": "markdown",
   "metadata": {
    "id": "BPUtVZj_5y4y"
   },
   "source": [
    "**gender vs fraudulent_transactions**"
   ]
  },
  {
   "cell_type": "code",
   "execution_count": 47,
   "metadata": {
    "colab": {
     "base_uri": "https://localhost:8080/",
     "height": 295
    },
    "id": "ITd-M5_95wYy",
    "outputId": "3163dd74-2cf4-4fed-9c05-1108b56c6f09"
   },
   "outputs": [
    {
     "data": {
      "image/png": "[encoded data removed]",
      "text/plain": [
       "<Figure size 432x288 with 1 Axes>"
      ]
     },
     "metadata": {
      "needs_background": "light"
     },
     "output_type": "display_data"
    }
   ],
   "source": [
    "# plotting countplot\n",
    "sns.countplot(data=train_data1, x='gender', hue='is_fraud')\n",
    "plt.title('Gender vs Fraud')\n",
    "plt.xlabel('Gender')\n",
    "plt.ylabel('Count')\n",
    "plt.show()"
   ]
  },
  {
   "cell_type": "code",
   "execution_count": 48,
   "metadata": {
    "colab": {
     "base_uri": "https://localhost:8080/",
     "height": 112
    },
    "id": "LnMduiyRKtGo",
    "outputId": "5b2ab566-fda5-41d9-cf81-380dcdc815fc"
   },
   "outputs": [
    {
     "data": {
      "text/html": [
       "\n",
       "  <div id=\"df-c78edac7-f7bf-4e3c-89f4-9e3d01bb24a8\">\n",
       "    <div class=\"colab-df-container\">\n",
       "      <div>\n",
       "<style scoped>\n",
       "    .dataframe tbody tr th:only-of-type {\n",
       "        vertical-align: middle;\n",
       "    }\n",
       "\n",
       "    .dataframe tbody tr th {\n",
       "        vertical-align: top;\n",
       "    }\n",
       "\n",
       "    .dataframe thead th {\n",
       "        text-align: right;\n",
       "    }\n",
       "</style>\n",
       "<table border=\"1\" class=\"dataframe\">\n",
       "  <thead>\n",
       "    <tr style=\"text-align: right;\">\n",
       "      <th></th>\n",
       "      <th>gender</th>\n",
       "      <th>amount</th>\n",
       "    </tr>\n",
       "  </thead>\n",
       "  <tbody>\n",
       "    <tr>\n",
       "      <th>0</th>\n",
       "      <td>M</td>\n",
       "      <td>2142801.27</td>\n",
       "    </tr>\n",
       "    <tr>\n",
       "      <th>1</th>\n",
       "      <td>F</td>\n",
       "      <td>1845287.34</td>\n",
       "    </tr>\n",
       "  </tbody>\n",
       "</table>\n",
       "</div>\n",
       "      <button class=\"colab-df-convert\" onclick=\"convertToInteractive('df-c78edac7-f7bf-4e3c-89f4-9e3d01bb24a8')\"\n",
       "              title=\"Convert this dataframe to an interactive table.\"\n",
       "              style=\"display:none;\">\n",
       "        \n",
       "  <svg xmlns=\"http://www.w3.org/2000/svg\" height=\"24px\"viewBox=\"0 0 24 24\"\n",
       "       width=\"24px\">\n",
       "    <path d=\"M0 0h24v24H0V0z\" fill=\"none\"/>\n",
       "    <path d=\"M18.56 5.44l.94 2.06.94-2.06 2.06-.94-2.06-.94-.94-2.06-.94 2.06-2.06.94zm-11 1L8.5 8.5l.94-2.06 2.06-.94-2.06-.94L8.5 2.5l-.94 2.06-2.06.94zm10 10l.94 2.06.94-2.06 2.06-.94-2.06-.94-.94-2.06-.94 2.06-2.06.94z\"/><path d=\"M17.41 7.96l-1.37-1.37c-.4-.4-.92-.59-1.43-.59-.52 0-1.04.2-1.43.59L10.3 9.45l-7.72 7.72c-.78.78-.78 2.05 0 2.83L4 21.41c.39.39.9.59 1.41.59.51 0 1.02-.2 1.41-.59l7.78-7.78 2.81-2.81c.8-.78.8-2.07 0-2.86zM5.41 20L4 18.59l7.72-7.72 1.47 1.35L5.41 20z\"/>\n",
       "  </svg>\n",
       "      </button>\n",
       "      \n",
       "  <style>\n",
       "    .colab-df-container {\n",
       "      display:flex;\n",
       "      flex-wrap:wrap;\n",
       "      gap: 12px;\n",
       "    }\n",
       "\n",
       "    .colab-df-convert {\n",
       "      background-color: #E8F0FE;\n",
       "      border: none;\n",
       "      border-radius: 50%;\n",
       "      cursor: pointer;\n",
       "      display: none;\n",
       "      fill: #1967D2;\n",
       "      height: 32px;\n",
       "      padding: 0 0 0 0;\n",
       "      width: 32px;\n",
       "    }\n",
       "\n",
       "    .colab-df-convert:hover {\n",
       "      background-color: #E2EBFA;\n",
       "      box-shadow: 0px 1px 2px rgba(60, 64, 67, 0.3), 0px 1px 3px 1px rgba(60, 64, 67, 0.15);\n",
       "      fill: #174EA6;\n",
       "    }\n",
       "\n",
       "    [theme=dark] .colab-df-convert {\n",
       "      background-color: #3B4455;\n",
       "      fill: #D2E3FC;\n",
       "    }\n",
       "\n",
       "    [theme=dark] .colab-df-convert:hover {\n",
       "      background-color: #434B5C;\n",
       "      box-shadow: 0px 1px 3px 1px rgba(0, 0, 0, 0.15);\n",
       "      filter: drop-shadow(0px 1px 2px rgba(0, 0, 0, 0.3));\n",
       "      fill: #FFFFFF;\n",
       "    }\n",
       "  </style>\n",
       "\n",
       "      <script>\n",
       "        const buttonEl =\n",
       "          document.querySelector('#df-c78edac7-f7bf-4e3c-89f4-9e3d01bb24a8 button.colab-df-convert');\n",
       "        buttonEl.style.display =\n",
       "          google.colab.kernel.accessAllowed ? 'block' : 'none';\n",
       "\n",
       "        async function convertToInteractive(key) {\n",
       "          const element = document.querySelector('#df-c78edac7-f7bf-4e3c-89f4-9e3d01bb24a8');\n",
       "          const dataTable =\n",
       "            await google.colab.kernel.invokeFunction('convertToInteractive',\n",
       "                                                     [key], {});\n",
       "          if (!dataTable) return;\n",
       "\n",
       "          const docLinkHtml = 'Like what you see? Visit the ' +\n",
       "            '<a target=\"_blank\" href=https://colab.research.google.com/notebooks/data_table.ipynb>data table notebook</a>'\n",
       "            + ' to learn more about interactive tables.';\n",
       "          element.innerHTML = '';\n",
       "          dataTable['output_type'] = 'display_data';\n",
       "          await google.colab.output.renderOutput(dataTable, element);\n",
       "          const docLink = document.createElement('div');\n",
       "          docLink.innerHTML = docLinkHtml;\n",
       "          element.appendChild(docLink);\n",
       "        }\n",
       "      </script>\n",
       "    </div>\n",
       "  </div>\n",
       "  "
      ],
      "text/plain": [
       "  gender      amount\n",
       "0      M  2142801.27\n",
       "1      F  1845287.34"
      ]
     },
     "execution_count": 48,
     "metadata": {},
     "output_type": "execute_result"
    }
   ],
   "source": [
    "# gender vs fraudulent_amount\n",
    "gender = train_data1.groupby(by=\"gender\")['amount'].sum().sort_values(ascending=False).reset_index()\n",
    "gender = pd.DataFrame(gender, columns=['gender','amount'])\n",
    "gender.head()"
   ]
  },
  {
   "cell_type": "markdown",
   "metadata": {
    "id": "rGXtBrrX33hW"
   },
   "source": [
    "**Observations:**\n",
    "- Both Males and Females are almost equally Frauded. Thus, difficult to come to a conclusion who defaults more.\n",
    "\n",
    "- Fraudulent amount transacted by Male is 💲2,142,801.27, by Female is 💲1,845,287.34\n",
    "___"
   ]
  },
  {
   "cell_type": "markdown",
   "metadata": {
    "id": "h7G0FYxF3PIF"
   },
   "source": [
    "**category vs fraudulent_transactions**"
   ]
  },
  {
   "cell_type": "code",
   "execution_count": 49,
   "metadata": {
    "colab": {
     "base_uri": "https://localhost:8080/"
    },
    "id": "R38Px1293kjJ",
    "outputId": "2faf29ad-d197-4359-da79-3b71ef491654"
   },
   "outputs": [
    {
     "data": {
      "text/plain": [
       "grocery_pos       1743\n",
       "shopping_net      1713\n",
       "misc_net           915\n",
       "shopping_pos       843\n",
       "gas_transport      618\n",
       "misc_pos           250\n",
       "kids_pets          239\n",
       "entertainment      233\n",
       "personal_care      220\n",
       "home               198\n",
       "food_dining        151\n",
       "grocery_net        134\n",
       "health_fitness     133\n",
       "travel             116\n",
       "Name: category, dtype: int64"
      ]
     },
     "execution_count": 49,
     "metadata": {},
     "output_type": "execute_result"
    }
   ],
   "source": [
    "# category with highest no of frauds\n",
    "train_data1['category'].value_counts()"
   ]
  },
  {
   "cell_type": "code",
   "execution_count": 50,
   "metadata": {
    "colab": {
     "base_uri": "https://localhost:8080/",
     "height": 206
    },
    "id": "__c3zpaJLmnO",
    "outputId": "4bc3f7f7-b1da-4116-9e4e-5f2fe77dc5b4"
   },
   "outputs": [
    {
     "data": {
      "text/html": [
       "\n",
       "  <div id=\"df-bd83dc73-1035-4060-ac53-3c3afcea16e8\">\n",
       "    <div class=\"colab-df-container\">\n",
       "      <div>\n",
       "<style scoped>\n",
       "    .dataframe tbody tr th:only-of-type {\n",
       "        vertical-align: middle;\n",
       "    }\n",
       "\n",
       "    .dataframe tbody tr th {\n",
       "        vertical-align: top;\n",
       "    }\n",
       "\n",
       "    .dataframe thead th {\n",
       "        text-align: right;\n",
       "    }\n",
       "</style>\n",
       "<table border=\"1\" class=\"dataframe\">\n",
       "  <thead>\n",
       "    <tr style=\"text-align: right;\">\n",
       "      <th></th>\n",
       "      <th>category</th>\n",
       "      <th>amount</th>\n",
       "    </tr>\n",
       "  </thead>\n",
       "  <tbody>\n",
       "    <tr>\n",
       "      <th>0</th>\n",
       "      <td>shopping_net</td>\n",
       "      <td>1711723.71</td>\n",
       "    </tr>\n",
       "    <tr>\n",
       "      <th>1</th>\n",
       "      <td>shopping_pos</td>\n",
       "      <td>739245.09</td>\n",
       "    </tr>\n",
       "    <tr>\n",
       "      <th>2</th>\n",
       "      <td>misc_net</td>\n",
       "      <td>729266.76</td>\n",
       "    </tr>\n",
       "    <tr>\n",
       "      <th>3</th>\n",
       "      <td>grocery_pos</td>\n",
       "      <td>543797.90</td>\n",
       "    </tr>\n",
       "    <tr>\n",
       "      <th>4</th>\n",
       "      <td>entertainment</td>\n",
       "      <td>117323.79</td>\n",
       "    </tr>\n",
       "  </tbody>\n",
       "</table>\n",
       "</div>\n",
       "      <button class=\"colab-df-convert\" onclick=\"convertToInteractive('df-bd83dc73-1035-4060-ac53-3c3afcea16e8')\"\n",
       "              title=\"Convert this dataframe to an interactive table.\"\n",
       "              style=\"display:none;\">\n",
       "        \n",
       "  <svg xmlns=\"http://www.w3.org/2000/svg\" height=\"24px\"viewBox=\"0 0 24 24\"\n",
       "       width=\"24px\">\n",
       "    <path d=\"M0 0h24v24H0V0z\" fill=\"none\"/>\n",
       "    <path d=\"M18.56 5.44l.94 2.06.94-2.06 2.06-.94-2.06-.94-.94-2.06-.94 2.06-2.06.94zm-11 1L8.5 8.5l.94-2.06 2.06-.94-2.06-.94L8.5 2.5l-.94 2.06-2.06.94zm10 10l.94 2.06.94-2.06 2.06-.94-2.06-.94-.94-2.06-.94 2.06-2.06.94z\"/><path d=\"M17.41 7.96l-1.37-1.37c-.4-.4-.92-.59-1.43-.59-.52 0-1.04.2-1.43.59L10.3 9.45l-7.72 7.72c-.78.78-.78 2.05 0 2.83L4 21.41c.39.39.9.59 1.41.59.51 0 1.02-.2 1.41-.59l7.78-7.78 2.81-2.81c.8-.78.8-2.07 0-2.86zM5.41 20L4 18.59l7.72-7.72 1.47 1.35L5.41 20z\"/>\n",
       "  </svg>\n",
       "      </button>\n",
       "      \n",
       "  <style>\n",
       "    .colab-df-container {\n",
       "      display:flex;\n",
       "      flex-wrap:wrap;\n",
       "      gap: 12px;\n",
       "    }\n",
       "\n",
       "    .colab-df-convert {\n",
       "      background-color: #E8F0FE;\n",
       "      border: none;\n",
       "      border-radius: 50%;\n",
       "      cursor: pointer;\n",
       "      display: none;\n",
       "      fill: #1967D2;\n",
       "      height: 32px;\n",
       "      padding: 0 0 0 0;\n",
       "      width: 32px;\n",
       "    }\n",
       "\n",
       "    .colab-df-convert:hover {\n",
       "      background-color: #E2EBFA;\n",
       "      box-shadow: 0px 1px 2px rgba(60, 64, 67, 0.3), 0px 1px 3px 1px rgba(60, 64, 67, 0.15);\n",
       "      fill: #174EA6;\n",
       "    }\n",
       "\n",
       "    [theme=dark] .colab-df-convert {\n",
       "      background-color: #3B4455;\n",
       "      fill: #D2E3FC;\n",
       "    }\n",
       "\n",
       "    [theme=dark] .colab-df-convert:hover {\n",
       "      background-color: #434B5C;\n",
       "      box-shadow: 0px 1px 3px 1px rgba(0, 0, 0, 0.15);\n",
       "      filter: drop-shadow(0px 1px 2px rgba(0, 0, 0, 0.3));\n",
       "      fill: #FFFFFF;\n",
       "    }\n",
       "  </style>\n",
       "\n",
       "      <script>\n",
       "        const buttonEl =\n",
       "          document.querySelector('#df-bd83dc73-1035-4060-ac53-3c3afcea16e8 button.colab-df-convert');\n",
       "        buttonEl.style.display =\n",
       "          google.colab.kernel.accessAllowed ? 'block' : 'none';\n",
       "\n",
       "        async function convertToInteractive(key) {\n",
       "          const element = document.querySelector('#df-bd83dc73-1035-4060-ac53-3c3afcea16e8');\n",
       "          const dataTable =\n",
       "            await google.colab.kernel.invokeFunction('convertToInteractive',\n",
       "                                                     [key], {});\n",
       "          if (!dataTable) return;\n",
       "\n",
       "          const docLinkHtml = 'Like what you see? Visit the ' +\n",
       "            '<a target=\"_blank\" href=https://colab.research.google.com/notebooks/data_table.ipynb>data table notebook</a>'\n",
       "            + ' to learn more about interactive tables.';\n",
       "          element.innerHTML = '';\n",
       "          dataTable['output_type'] = 'display_data';\n",
       "          await google.colab.output.renderOutput(dataTable, element);\n",
       "          const docLink = document.createElement('div');\n",
       "          docLink.innerHTML = docLinkHtml;\n",
       "          element.appendChild(docLink);\n",
       "        }\n",
       "      </script>\n",
       "    </div>\n",
       "  </div>\n",
       "  "
      ],
      "text/plain": [
       "        category      amount\n",
       "0   shopping_net  1711723.71\n",
       "1   shopping_pos   739245.09\n",
       "2       misc_net   729266.76\n",
       "3    grocery_pos   543797.90\n",
       "4  entertainment   117323.79"
      ]
     },
     "execution_count": 50,
     "metadata": {},
     "output_type": "execute_result"
    }
   ],
   "source": [
    "# category vs fraudulent_amount\n",
    "category = train_data1.groupby(by=\"category\")['amount'].sum().sort_values(ascending=False).reset_index()\n",
    "category = pd.DataFrame(category, columns=['category','amount'])\n",
    "category.head()"
   ]
  },
  {
   "cell_type": "code",
   "execution_count": 51,
   "metadata": {
    "colab": {
     "base_uri": "https://localhost:8080/",
     "height": 452
    },
    "id": "be1xU8EuMqRf",
    "outputId": "469fe47e-76e8-4774-d693-4d95c8ec2d02"
   },
   "outputs": [
    {
     "data": {
      "image/png": "[encoded data removed]",
      "text/plain": [
       "<Figure size 936x432 with 1 Axes>"
      ]
     },
     "metadata": {
      "needs_background": "light"
     },
     "output_type": "display_data"
    }
   ],
   "source": [
    "# plotting\n",
    "plt.figure(figsize=(13,6))\n",
    "plt.title('Category_wise Fraud')\n",
    "sns.countplot(data=train_data1, x='category', hue='is_fraud')\n",
    "plt.xlabel('Category')\n",
    "plt.ylabel('Count')\n",
    "plt.xticks(rotation=45)\n",
    "plt.show()"
   ]
  },
  {
   "cell_type": "markdown",
   "metadata": {
    "id": "afV0aunv4fCE"
   },
   "source": [
    "**Observations:**\n",
    "- Majority of the (count of) frauduent transactions have been done on `grocery_pos category` follwed by `shopping_net` and misc_net and so on.\n",
    "- But when we see the fradulent transaction amount then `shopping_net category` tops the list with 💲1,711,723.71, followed by `shopping_pos category` with 💲739,245.09.\n",
    "___"
   ]
  },
  {
   "cell_type": "markdown",
   "metadata": {
    "id": "pQwTS5hA48XM"
   },
   "source": [
    "**age_group vs fraudulent_transaction**"
   ]
  },
  {
   "cell_type": "code",
   "execution_count": 52,
   "metadata": {
    "colab": {
     "base_uri": "https://localhost:8080/",
     "height": 295
    },
    "id": "-5wC4YnRGUEy",
    "outputId": "3f25abbb-18b0-48e9-9a1b-f6ba0e721bb3"
   },
   "outputs": [
    {
     "data": {
      "image/png": "[encoded data removed]",
      "text/plain": [
       "<Figure size 576x288 with 1 Axes>"
      ]
     },
     "metadata": {
      "needs_background": "light"
     },
     "output_type": "display_data"
    }
   ],
   "source": [
    "# plotting\n",
    "plt.figure(figsize=(8,4))\n",
    "sns.countplot(data=train_data1, x='age_group', hue='is_fraud')\n",
    "plt.title('Age_Group vs Fraud')\n",
    "plt.xlabel('Age Group')\n",
    "plt.ylabel('Count')\n",
    "plt.show()"
   ]
  },
  {
   "cell_type": "code",
   "execution_count": 53,
   "metadata": {
    "colab": {
     "base_uri": "https://localhost:8080/",
     "height": 206
    },
    "id": "IWV_Pq38NgpF",
    "outputId": "5c74a7e6-961b-4a99-9b87-b8db3de6ad03"
   },
   "outputs": [
    {
     "data": {
      "text/html": [
       "\n",
       "  <div id=\"df-757bc049-9dc9-4256-b5d3-d704a6832438\">\n",
       "    <div class=\"colab-df-container\">\n",
       "      <div>\n",
       "<style scoped>\n",
       "    .dataframe tbody tr th:only-of-type {\n",
       "        vertical-align: middle;\n",
       "    }\n",
       "\n",
       "    .dataframe tbody tr th {\n",
       "        vertical-align: top;\n",
       "    }\n",
       "\n",
       "    .dataframe thead th {\n",
       "        text-align: right;\n",
       "    }\n",
       "</style>\n",
       "<table border=\"1\" class=\"dataframe\">\n",
       "  <thead>\n",
       "    <tr style=\"text-align: right;\">\n",
       "      <th></th>\n",
       "      <th>age_group</th>\n",
       "      <th>amount</th>\n",
       "    </tr>\n",
       "  </thead>\n",
       "  <tbody>\n",
       "    <tr>\n",
       "      <th>0</th>\n",
       "      <td>60+</td>\n",
       "      <td>1109239.70</td>\n",
       "    </tr>\n",
       "    <tr>\n",
       "      <th>1</th>\n",
       "      <td>51-60</td>\n",
       "      <td>768487.86</td>\n",
       "    </tr>\n",
       "    <tr>\n",
       "      <th>2</th>\n",
       "      <td>41-50</td>\n",
       "      <td>682124.40</td>\n",
       "    </tr>\n",
       "    <tr>\n",
       "      <th>3</th>\n",
       "      <td>21-30</td>\n",
       "      <td>673608.50</td>\n",
       "    </tr>\n",
       "    <tr>\n",
       "      <th>4</th>\n",
       "      <td>31-40</td>\n",
       "      <td>598950.94</td>\n",
       "    </tr>\n",
       "  </tbody>\n",
       "</table>\n",
       "</div>\n",
       "      <button class=\"colab-df-convert\" onclick=\"convertToInteractive('df-757bc049-9dc9-4256-b5d3-d704a6832438')\"\n",
       "              title=\"Convert this dataframe to an interactive table.\"\n",
       "              style=\"display:none;\">\n",
       "        \n",
       "  <svg xmlns=\"http://www.w3.org/2000/svg\" height=\"24px\"viewBox=\"0 0 24 24\"\n",
       "       width=\"24px\">\n",
       "    <path d=\"M0 0h24v24H0V0z\" fill=\"none\"/>\n",
       "    <path d=\"M18.56 5.44l.94 2.06.94-2.06 2.06-.94-2.06-.94-.94-2.06-.94 2.06-2.06.94zm-11 1L8.5 8.5l.94-2.06 2.06-.94-2.06-.94L8.5 2.5l-.94 2.06-2.06.94zm10 10l.94 2.06.94-2.06 2.06-.94-2.06-.94-.94-2.06-.94 2.06-2.06.94z\"/><path d=\"M17.41 7.96l-1.37-1.37c-.4-.4-.92-.59-1.43-.59-.52 0-1.04.2-1.43.59L10.3 9.45l-7.72 7.72c-.78.78-.78 2.05 0 2.83L4 21.41c.39.39.9.59 1.41.59.51 0 1.02-.2 1.41-.59l7.78-7.78 2.81-2.81c.8-.78.8-2.07 0-2.86zM5.41 20L4 18.59l7.72-7.72 1.47 1.35L5.41 20z\"/>\n",
       "  </svg>\n",
       "      </button>\n",
       "      \n",
       "  <style>\n",
       "    .colab-df-container {\n",
       "      display:flex;\n",
       "      flex-wrap:wrap;\n",
       "      gap: 12px;\n",
       "    }\n",
       "\n",
       "    .colab-df-convert {\n",
       "      background-color: #E8F0FE;\n",
       "      border: none;\n",
       "      border-radius: 50%;\n",
       "      cursor: pointer;\n",
       "      display: none;\n",
       "      fill: #1967D2;\n",
       "      height: 32px;\n",
       "      padding: 0 0 0 0;\n",
       "      width: 32px;\n",
       "    }\n",
       "\n",
       "    .colab-df-convert:hover {\n",
       "      background-color: #E2EBFA;\n",
       "      box-shadow: 0px 1px 2px rgba(60, 64, 67, 0.3), 0px 1px 3px 1px rgba(60, 64, 67, 0.15);\n",
       "      fill: #174EA6;\n",
       "    }\n",
       "\n",
       "    [theme=dark] .colab-df-convert {\n",
       "      background-color: #3B4455;\n",
       "      fill: #D2E3FC;\n",
       "    }\n",
       "\n",
       "    [theme=dark] .colab-df-convert:hover {\n",
       "      background-color: #434B5C;\n",
       "      box-shadow: 0px 1px 3px 1px rgba(0, 0, 0, 0.15);\n",
       "      filter: drop-shadow(0px 1px 2px rgba(0, 0, 0, 0.3));\n",
       "      fill: #FFFFFF;\n",
       "    }\n",
       "  </style>\n",
       "\n",
       "      <script>\n",
       "        const buttonEl =\n",
       "          document.querySelector('#df-757bc049-9dc9-4256-b5d3-d704a6832438 button.colab-df-convert');\n",
       "        buttonEl.style.display =\n",
       "          google.colab.kernel.accessAllowed ? 'block' : 'none';\n",
       "\n",
       "        async function convertToInteractive(key) {\n",
       "          const element = document.querySelector('#df-757bc049-9dc9-4256-b5d3-d704a6832438');\n",
       "          const dataTable =\n",
       "            await google.colab.kernel.invokeFunction('convertToInteractive',\n",
       "                                                     [key], {});\n",
       "          if (!dataTable) return;\n",
       "\n",
       "          const docLinkHtml = 'Like what you see? Visit the ' +\n",
       "            '<a target=\"_blank\" href=https://colab.research.google.com/notebooks/data_table.ipynb>data table notebook</a>'\n",
       "            + ' to learn more about interactive tables.';\n",
       "          element.innerHTML = '';\n",
       "          dataTable['output_type'] = 'display_data';\n",
       "          await google.colab.output.renderOutput(dataTable, element);\n",
       "          const docLink = document.createElement('div');\n",
       "          docLink.innerHTML = docLinkHtml;\n",
       "          element.appendChild(docLink);\n",
       "        }\n",
       "      </script>\n",
       "    </div>\n",
       "  </div>\n",
       "  "
      ],
      "text/plain": [
       "  age_group      amount\n",
       "0       60+  1109239.70\n",
       "1     51-60   768487.86\n",
       "2     41-50   682124.40\n",
       "3     21-30   673608.50\n",
       "4     31-40   598950.94"
      ]
     },
     "execution_count": 53,
     "metadata": {},
     "output_type": "execute_result"
    }
   ],
   "source": [
    "# age_group vs fraudulent_amount\n",
    "age_group = train_data1.groupby(by=\"age_group\")['amount'].sum().sort_values(ascending=False).reset_index()\n",
    "age_group = pd.DataFrame(age_group, columns=['age_group','amount'])\n",
    "age_group.head()"
   ]
  },
  {
   "cell_type": "markdown",
   "metadata": {
    "id": "GFAAzTbW5Bbw"
   },
   "source": [
    "**Observations:**\n",
    "- Majority of the people who are victims of fraudulent transactions (by count) come under the age group of `60+ years` with `total amount of 💲1,109,239.70` followed by `41-50 years` `total amount of 💲768,487.86`.  \n",
    "___"
   ]
  },
  {
   "cell_type": "markdown",
   "metadata": {
    "id": "lDTi1ZIa_6Tw"
   },
   "source": [
    "**Fraudulent transaction weekday and time(hours)**"
   ]
  },
  {
   "cell_type": "code",
   "execution_count": 54,
   "metadata": {
    "colab": {
     "base_uri": "https://localhost:8080/",
     "height": 731
    },
    "id": "iiJT1CsCKKov",
    "outputId": "adf02877-affc-4961-b4b7-4cbf1d0fdedd"
   },
   "outputs": [
    {
     "data": {
      "image/png": "[encoded data removed]",
      "text/plain": [
       "<Figure size 1440x864 with 4 Axes>"
      ]
     },
     "metadata": {
      "needs_background": "light"
     },
     "output_type": "display_data"
    }
   ],
   "source": [
    "#transaction_day_of_week hour\n",
    "plt.figure(figsize=(20,12))\n",
    "\n",
    "plt.subplot(2,2,1)\n",
    "plt.title('Weekday vs Fraud')\n",
    "sns.countplot(data=train_data1, x='transaction_day_of_week', hue='is_fraud')\n",
    "plt.xlabel('Weekday')\n",
    "plt.ylabel('Count')\n",
    "\n",
    "plt.subplot(2,2,2)\n",
    "sns.countplot(data=train_data1, x='transaction_day_of_week', hue='gender')\n",
    "plt.title('Weekday_Fraud vs Gender')\n",
    "plt.xlabel('Weekday')\n",
    "plt.ylabel('Count')\n",
    "\n",
    "plt.subplot(2,2,3)\n",
    "sns.countplot(data=train_data1, x='transaction_hour', hue='is_fraud')\n",
    "plt.title('Hour_Of_Day vs Fraudulent_Transaction')\n",
    "plt.xlabel('Hour_Of_Day')\n",
    "\n",
    "plt.subplot(2,2,4)\n",
    "sns.kdeplot(data=train_data1, x='transaction_hour', hue='gender')\n",
    "plt.title('Hour_Of_Day_Fraudulent_Transaction vs Gender')\n",
    "plt.xlabel('Hour_Of_Day')\n",
    "\n",
    "plt.show()"
   ]
  },
  {
   "cell_type": "code",
   "execution_count": 55,
   "metadata": {
    "colab": {
     "base_uri": "https://localhost:8080/"
    },
    "id": "F_C5bHdfg8Bi",
    "outputId": "bfd2b01f-7952-4a62-ec96-f72dd0587836"
   },
   "outputs": [
    {
     "name": "stdout",
     "output_type": "stream",
     "text": [
      "  transaction_day_of_week     amount\n",
      "0                  Sunday  663864.01\n",
      "1                Saturday  636539.35\n",
      "2                  Monday  610146.66\n",
      "3                  Friday  581816.53\n",
      "4                Thursday  544490.00\n",
      "5                 Tuesday  501650.80\n",
      "6               Wednesday  449581.26\n",
      "\n",
      "     transaction_hour      amount\n",
      "0                 22  1274662.84\n",
      "1                 23  1209673.61\n",
      "2                  1   230736.79\n",
      "3                  2   222377.08\n",
      "4                  0   218345.21\n",
      "5                  3   211153.52\n",
      "6                 14    61338.04\n",
      "7                 19    52445.53\n",
      "8                 18    50594.97\n",
      "9                 21    49273.69\n",
      "10                17    48976.42\n",
      "11                15    48567.33\n",
      "12                13    47843.40\n",
      "13                16    47250.76\n",
      "14                20    44910.50\n",
      "15                12    42313.67\n",
      "16                 7    20314.37\n",
      "17                 5    18739.17\n",
      "18                 8    16400.34\n",
      "19                10    16397.40\n",
      "20                11    15265.87\n",
      "21                 4    14920.27\n",
      "22                 9    12961.10\n",
      "23                 6    12626.73\n"
     ]
    }
   ],
   "source": [
    "# week vs fraudulent_amount\n",
    "week = train_data1.groupby(by=['transaction_day_of_week'])['amount'].sum().sort_values(ascending=False).reset_index()\n",
    "week = pd.DataFrame(week, columns=['transaction_day_of_week','amount'])\n",
    "print(week)\n",
    "\n",
    "#hour vs fraudulent_amount\n",
    "hour = train_data1.groupby(by=['transaction_hour'])['amount'].sum().sort_values(ascending=False).reset_index()\n",
    "hour = pd.DataFrame(hour, columns=['transaction_hour','amount'])\n",
    "print('\\n',hour)"
   ]
  },
  {
   "cell_type": "markdown",
   "metadata": {
    "id": "Hf7zQij9-b8P"
   },
   "source": [
    "**Observations:**\n",
    "- Most of the fraudulent transactions are observed during weekend i.e. `(Saturday and Sunday)` with most transactions are registered by `Males on Saturday` and `Females on Sunday`.\n",
    "\n",
    "  Sunday total amount: 💲663,864.01\n",
    "\n",
    "  Saturday total amount: 💲636,539.35\n",
    "\n",
    "- Most of the fraudulent transactions are observed during odd hours i.e. `early morning (0-3am)` and `late night (22-23pm [10-11pm)` by both the genders.\n",
    "___"
   ]
  },
  {
   "cell_type": "markdown",
   "metadata": {
    "id": "g176HEJiADQW"
   },
   "source": [
    "**Fradulent_Transactions vs Year and Month**"
   ]
  },
  {
   "cell_type": "code",
   "execution_count": 56,
   "metadata": {
    "colab": {
     "base_uri": "https://localhost:8080/",
     "height": 350
    },
    "id": "9O3vu4xQGn6l",
    "outputId": "e4e2d8eb-479a-4ebe-b67b-f762b6811307"
   },
   "outputs": [
    {
     "data": {
      "image/png": "[encoded data removed]",
      "text/plain": [
       "<Figure size 1440x360 with 2 Axes>"
      ]
     },
     "metadata": {
      "needs_background": "light"
     },
     "output_type": "display_data"
    }
   ],
   "source": [
    "plt.figure(figsize=(20,5))\n",
    "\n",
    "plt.subplot(1,2,1)\n",
    "sns.countplot(x=train_data1['transaction_date_time'].dt.year, hue=train_data1['is_fraud'])\n",
    "plt.title('Year vs Fraudulent_Transaction')\n",
    "plt.xlabel('Year')\n",
    "plt.ylabel('Count')\n",
    "\n",
    "plt.subplot(1,2,2)\n",
    "sns.countplot(x=train_data1['transaction_date_time'].dt.month, hue=train_data1['is_fraud'])\n",
    "plt.title('Month vs Fraudulent_Transaction')\n",
    "plt.xlabel('Month')\n",
    "plt.ylabel('Count')\n",
    "\n",
    "plt.show()"
   ]
  },
  {
   "cell_type": "code",
   "execution_count": 57,
   "metadata": {
    "colab": {
     "base_uri": "https://localhost:8080/"
    },
    "id": "mOOzeiWDUZXH",
    "outputId": "f9aba0ec-3e28-48e8-b424-9d19e51a72b7"
   },
   "outputs": [
    {
     "name": "stdout",
     "output_type": "stream",
     "text": [
      "   year      amount\n",
      "0  2019  2767822.87\n",
      "1  2020  1220265.74\n",
      "\n",
      "     month     amount\n",
      "0       5  497775.49\n",
      "1       3  471727.69\n",
      "2       2  458001.19\n",
      "3       1  444375.74\n",
      "4       6  358434.41\n",
      "5       4  354241.27\n",
      "6      12  335157.54\n",
      "7      10  257739.72\n",
      "8       9  217675.37\n",
      "9       8  203951.13\n",
      "10     11  200307.47\n",
      "11      7  188701.59\n"
     ]
    }
   ],
   "source": [
    "train_data1['year']=train_data1['transaction_date_time'].dt.year\n",
    "train_data1['month']=train_data1['transaction_date_time'].dt.month\n",
    "\n",
    "# year vs fraudulent_amount\n",
    "year = train_data1.groupby(by=['year'])['amount'].sum().sort_values(ascending=False).reset_index()\n",
    "year = pd.DataFrame(year, columns=['year','amount'])\n",
    "print(year)\n",
    "\n",
    "# month vs fraudulent_amount\n",
    "month = train_data1.groupby(by=['month'])['amount'].sum().sort_values(ascending=False).reset_index()\n",
    "month = pd.DataFrame(month, columns=['month','amount'])\n",
    "print('\\n',month)"
   ]
  },
  {
   "cell_type": "markdown",
   "metadata": {
    "id": "S55FAfHdAn3a"
   },
   "source": [
    "**Observations:**\n",
    "- `Year 2019` registered maximum fraudulent transactions with total amount of 💲2,767,822.87.\n",
    "- Month `5(May)` amount 💲497,775.49 and `3(March)` amount 💲471,727.69 have registered maximum fraudulent transactions.\n",
    "___"
   ]
  },
  {
   "cell_type": "code",
   "execution_count": 58,
   "metadata": {
    "id": "McHBqEFcXdzG"
   },
   "outputs": [],
   "source": [
    "train_data1 = train_data1.drop(['year','month'], axis=1)"
   ]
  },
  {
   "cell_type": "markdown",
   "metadata": {
    "id": "2UEVJTbxA8QB"
   },
   "source": [
    "**States vs Frauds**"
   ]
  },
  {
   "cell_type": "code",
   "execution_count": 59,
   "metadata": {
    "colab": {
     "base_uri": "https://localhost:8080/"
    },
    "id": "-j4gadbyGoIu",
    "outputId": "7d734696-c584-40bc-c577-e3150beceda7"
   },
   "outputs": [
    {
     "data": {
      "text/plain": [
       "NY    555\n",
       "TX    479\n",
       "PA    458\n",
       "CA    326\n",
       "OH    321\n",
       "FL    281\n",
       "IL    248\n",
       "MI    238\n",
       "AL    215\n",
       "MN    207\n",
       "Name: state, dtype: int64"
      ]
     },
     "execution_count": 59,
     "metadata": {},
     "output_type": "execute_result"
    }
   ],
   "source": [
    "# top 10 states with highest frauds\n",
    "train_data1['state'].value_counts().head(10)"
   ]
  },
  {
   "cell_type": "code",
   "execution_count": 60,
   "metadata": {
    "colab": {
     "base_uri": "https://localhost:8080/",
     "height": 206
    },
    "id": "7v4HNxzNKTgK",
    "outputId": "d2dd6c03-04ca-4254-cca1-4b6080971429"
   },
   "outputs": [
    {
     "data": {
      "text/html": [
       "\n",
       "  <div id=\"df-5cc6a1dd-4758-443e-8ebc-26ec8856450b\">\n",
       "    <div class=\"colab-df-container\">\n",
       "      <div>\n",
       "<style scoped>\n",
       "    .dataframe tbody tr th:only-of-type {\n",
       "        vertical-align: middle;\n",
       "    }\n",
       "\n",
       "    .dataframe tbody tr th {\n",
       "        vertical-align: top;\n",
       "    }\n",
       "\n",
       "    .dataframe thead th {\n",
       "        text-align: right;\n",
       "    }\n",
       "</style>\n",
       "<table border=\"1\" class=\"dataframe\">\n",
       "  <thead>\n",
       "    <tr style=\"text-align: right;\">\n",
       "      <th></th>\n",
       "      <th>state</th>\n",
       "      <th>amount</th>\n",
       "    </tr>\n",
       "  </thead>\n",
       "  <tbody>\n",
       "    <tr>\n",
       "      <th>0</th>\n",
       "      <td>NY</td>\n",
       "      <td>295548.64</td>\n",
       "    </tr>\n",
       "    <tr>\n",
       "      <th>1</th>\n",
       "      <td>TX</td>\n",
       "      <td>265806.41</td>\n",
       "    </tr>\n",
       "    <tr>\n",
       "      <th>2</th>\n",
       "      <td>PA</td>\n",
       "      <td>244624.67</td>\n",
       "    </tr>\n",
       "    <tr>\n",
       "      <th>3</th>\n",
       "      <td>CA</td>\n",
       "      <td>170943.92</td>\n",
       "    </tr>\n",
       "    <tr>\n",
       "      <th>4</th>\n",
       "      <td>OH</td>\n",
       "      <td>168919.98</td>\n",
       "    </tr>\n",
       "  </tbody>\n",
       "</table>\n",
       "</div>\n",
       "      <button class=\"colab-df-convert\" onclick=\"convertToInteractive('df-5cc6a1dd-4758-443e-8ebc-26ec8856450b')\"\n",
       "              title=\"Convert this dataframe to an interactive table.\"\n",
       "              style=\"display:none;\">\n",
       "        \n",
       "  <svg xmlns=\"http://www.w3.org/2000/svg\" height=\"24px\"viewBox=\"0 0 24 24\"\n",
       "       width=\"24px\">\n",
       "    <path d=\"M0 0h24v24H0V0z\" fill=\"none\"/>\n",
       "    <path d=\"M18.56 5.44l.94 2.06.94-2.06 2.06-.94-2.06-.94-.94-2.06-.94 2.06-2.06.94zm-11 1L8.5 8.5l.94-2.06 2.06-.94-2.06-.94L8.5 2.5l-.94 2.06-2.06.94zm10 10l.94 2.06.94-2.06 2.06-.94-2.06-.94-.94-2.06-.94 2.06-2.06.94z\"/><path d=\"M17.41 7.96l-1.37-1.37c-.4-.4-.92-.59-1.43-.59-.52 0-1.04.2-1.43.59L10.3 9.45l-7.72 7.72c-.78.78-.78 2.05 0 2.83L4 21.41c.39.39.9.59 1.41.59.51 0 1.02-.2 1.41-.59l7.78-7.78 2.81-2.81c.8-.78.8-2.07 0-2.86zM5.41 20L4 18.59l7.72-7.72 1.47 1.35L5.41 20z\"/>\n",
       "  </svg>\n",
       "      </button>\n",
       "      \n",
       "  <style>\n",
       "    .colab-df-container {\n",
       "      display:flex;\n",
       "      flex-wrap:wrap;\n",
       "      gap: 12px;\n",
       "    }\n",
       "\n",
       "    .colab-df-convert {\n",
       "      background-color: #E8F0FE;\n",
       "      border: none;\n",
       "      border-radius: 50%;\n",
       "      cursor: pointer;\n",
       "      display: none;\n",
       "      fill: #1967D2;\n",
       "      height: 32px;\n",
       "      padding: 0 0 0 0;\n",
       "      width: 32px;\n",
       "    }\n",
       "\n",
       "    .colab-df-convert:hover {\n",
       "      background-color: #E2EBFA;\n",
       "      box-shadow: 0px 1px 2px rgba(60, 64, 67, 0.3), 0px 1px 3px 1px rgba(60, 64, 67, 0.15);\n",
       "      fill: #174EA6;\n",
       "    }\n",
       "\n",
       "    [theme=dark] .colab-df-convert {\n",
       "      background-color: #3B4455;\n",
       "      fill: #D2E3FC;\n",
       "    }\n",
       "\n",
       "    [theme=dark] .colab-df-convert:hover {\n",
       "      background-color: #434B5C;\n",
       "      box-shadow: 0px 1px 3px 1px rgba(0, 0, 0, 0.15);\n",
       "      filter: drop-shadow(0px 1px 2px rgba(0, 0, 0, 0.3));\n",
       "      fill: #FFFFFF;\n",
       "    }\n",
       "  </style>\n",
       "\n",
       "      <script>\n",
       "        const buttonEl =\n",
       "          document.querySelector('#df-5cc6a1dd-4758-443e-8ebc-26ec8856450b button.colab-df-convert');\n",
       "        buttonEl.style.display =\n",
       "          google.colab.kernel.accessAllowed ? 'block' : 'none';\n",
       "\n",
       "        async function convertToInteractive(key) {\n",
       "          const element = document.querySelector('#df-5cc6a1dd-4758-443e-8ebc-26ec8856450b');\n",
       "          const dataTable =\n",
       "            await google.colab.kernel.invokeFunction('convertToInteractive',\n",
       "                                                     [key], {});\n",
       "          if (!dataTable) return;\n",
       "\n",
       "          const docLinkHtml = 'Like what you see? Visit the ' +\n",
       "            '<a target=\"_blank\" href=https://colab.research.google.com/notebooks/data_table.ipynb>data table notebook</a>'\n",
       "            + ' to learn more about interactive tables.';\n",
       "          element.innerHTML = '';\n",
       "          dataTable['output_type'] = 'display_data';\n",
       "          await google.colab.output.renderOutput(dataTable, element);\n",
       "          const docLink = document.createElement('div');\n",
       "          docLink.innerHTML = docLinkHtml;\n",
       "          element.appendChild(docLink);\n",
       "        }\n",
       "      </script>\n",
       "    </div>\n",
       "  </div>\n",
       "  "
      ],
      "text/plain": [
       "  state     amount\n",
       "0    NY  295548.64\n",
       "1    TX  265806.41\n",
       "2    PA  244624.67\n",
       "3    CA  170943.92\n",
       "4    OH  168919.98"
      ]
     },
     "execution_count": 60,
     "metadata": {},
     "output_type": "execute_result"
    }
   ],
   "source": [
    "# state vs fraudulent_amount\n",
    "state = train_data1.groupby(by=\"state\")['amount'].sum().sort_values(ascending=False).reset_index()\n",
    "state = pd.DataFrame(state, columns=['state','amount'])\n",
    "state.head()"
   ]
  },
  {
   "cell_type": "code",
   "execution_count": 61,
   "metadata": {
    "colab": {
     "base_uri": "https://localhost:8080/",
     "height": 358
    },
    "id": "wiWmRYxcGoNM",
    "outputId": "0bc21e9e-8f06-481c-aa5e-ba9a74c9a0dc"
   },
   "outputs": [
    {
     "data": {
      "image/png": "[encoded data removed]",
      "text/plain": [
       "<Figure size 792x360 with 1 Axes>"
      ]
     },
     "metadata": {
      "needs_background": "light"
     },
     "output_type": "display_data"
    }
   ],
   "source": [
    "# plotting\n",
    "plt.figure(figsize=[11,5]),\n",
    "\n",
    "train_data1['state'].value_counts().head(10).plot.bar()\n",
    "plt.title('Top 10 States with highest Fraudulent_Transactions')\n",
    "plt.xlabel('States')\n",
    "plt.ylabel('Count')\n",
    "plt.xticks(rotation=45)\n",
    "\n",
    "plt.show()"
   ]
  },
  {
   "cell_type": "markdown",
   "metadata": {
    "id": "FLKBOdjNBhQ8"
   },
   "source": [
    "**Observations:**\n",
    "- `NY(NewYork)` and `TX(Texas)` have registered maximum number of fraudulent transactions followed by PA, CA and so on.\n",
    "- The amount of Fraudulent transaction in `NewYork is 💲 295,548.64` whereas in `Texas` the amount is `💲265,806.41`.\n",
    "___\n",
    "\n"
   ]
  },
  {
   "cell_type": "markdown",
   "metadata": {
    "id": "iFs_UizrCjoy"
   },
   "source": [
    "**city vs fraudulent_transactions**"
   ]
  },
  {
   "cell_type": "code",
   "execution_count": 62,
   "metadata": {
    "colab": {
     "base_uri": "https://localhost:8080/"
    },
    "id": "NrDoJy1BGoRz",
    "outputId": "98cf21c5-4762-4890-f203-373438e9df25"
   },
   "outputs": [
    {
     "data": {
      "text/plain": [
       "Houston       39\n",
       "Warren        33\n",
       "Huntsville    29\n",
       "Naples        29\n",
       "Dallas        27\n",
       "Tulsa         27\n",
       "Topeka        27\n",
       "Detroit       26\n",
       "Utica         25\n",
       "Randolph      25\n",
       "Name: city, dtype: int64"
      ]
     },
     "execution_count": 62,
     "metadata": {},
     "output_type": "execute_result"
    }
   ],
   "source": [
    "# top 10 cities with higest frauds\n",
    "train_data1['city'].value_counts().head(10)"
   ]
  },
  {
   "cell_type": "code",
   "execution_count": 63,
   "metadata": {
    "colab": {
     "base_uri": "https://localhost:8080/",
     "height": 206
    },
    "id": "cG_-x-XGKPhS",
    "outputId": "df2864b7-8cd7-40e8-943f-69768b694dab"
   },
   "outputs": [
    {
     "data": {
      "text/html": [
       "\n",
       "  <div id=\"df-b3c97eeb-4388-4e6c-9145-54b05cef1ba1\">\n",
       "    <div class=\"colab-df-container\">\n",
       "      <div>\n",
       "<style scoped>\n",
       "    .dataframe tbody tr th:only-of-type {\n",
       "        vertical-align: middle;\n",
       "    }\n",
       "\n",
       "    .dataframe tbody tr th {\n",
       "        vertical-align: top;\n",
       "    }\n",
       "\n",
       "    .dataframe thead th {\n",
       "        text-align: right;\n",
       "    }\n",
       "</style>\n",
       "<table border=\"1\" class=\"dataframe\">\n",
       "  <thead>\n",
       "    <tr style=\"text-align: right;\">\n",
       "      <th></th>\n",
       "      <th>city</th>\n",
       "      <th>amount</th>\n",
       "    </tr>\n",
       "  </thead>\n",
       "  <tbody>\n",
       "    <tr>\n",
       "      <th>0</th>\n",
       "      <td>Houston</td>\n",
       "      <td>21667.21</td>\n",
       "    </tr>\n",
       "    <tr>\n",
       "      <th>1</th>\n",
       "      <td>Dallas</td>\n",
       "      <td>19747.14</td>\n",
       "    </tr>\n",
       "    <tr>\n",
       "      <th>2</th>\n",
       "      <td>Warren</td>\n",
       "      <td>18221.79</td>\n",
       "    </tr>\n",
       "    <tr>\n",
       "      <th>3</th>\n",
       "      <td>Tulsa</td>\n",
       "      <td>17470.25</td>\n",
       "    </tr>\n",
       "    <tr>\n",
       "      <th>4</th>\n",
       "      <td>Naples</td>\n",
       "      <td>17220.43</td>\n",
       "    </tr>\n",
       "  </tbody>\n",
       "</table>\n",
       "</div>\n",
       "      <button class=\"colab-df-convert\" onclick=\"convertToInteractive('df-b3c97eeb-4388-4e6c-9145-54b05cef1ba1')\"\n",
       "              title=\"Convert this dataframe to an interactive table.\"\n",
       "              style=\"display:none;\">\n",
       "        \n",
       "  <svg xmlns=\"http://www.w3.org/2000/svg\" height=\"24px\"viewBox=\"0 0 24 24\"\n",
       "       width=\"24px\">\n",
       "    <path d=\"M0 0h24v24H0V0z\" fill=\"none\"/>\n",
       "    <path d=\"M18.56 5.44l.94 2.06.94-2.06 2.06-.94-2.06-.94-.94-2.06-.94 2.06-2.06.94zm-11 1L8.5 8.5l.94-2.06 2.06-.94-2.06-.94L8.5 2.5l-.94 2.06-2.06.94zm10 10l.94 2.06.94-2.06 2.06-.94-2.06-.94-.94-2.06-.94 2.06-2.06.94z\"/><path d=\"M17.41 7.96l-1.37-1.37c-.4-.4-.92-.59-1.43-.59-.52 0-1.04.2-1.43.59L10.3 9.45l-7.72 7.72c-.78.78-.78 2.05 0 2.83L4 21.41c.39.39.9.59 1.41.59.51 0 1.02-.2 1.41-.59l7.78-7.78 2.81-2.81c.8-.78.8-2.07 0-2.86zM5.41 20L4 18.59l7.72-7.72 1.47 1.35L5.41 20z\"/>\n",
       "  </svg>\n",
       "      </button>\n",
       "      \n",
       "  <style>\n",
       "    .colab-df-container {\n",
       "      display:flex;\n",
       "      flex-wrap:wrap;\n",
       "      gap: 12px;\n",
       "    }\n",
       "\n",
       "    .colab-df-convert {\n",
       "      background-color: #E8F0FE;\n",
       "      border: none;\n",
       "      border-radius: 50%;\n",
       "      cursor: pointer;\n",
       "      display: none;\n",
       "      fill: #1967D2;\n",
       "      height: 32px;\n",
       "      padding: 0 0 0 0;\n",
       "      width: 32px;\n",
       "    }\n",
       "\n",
       "    .colab-df-convert:hover {\n",
       "      background-color: #E2EBFA;\n",
       "      box-shadow: 0px 1px 2px rgba(60, 64, 67, 0.3), 0px 1px 3px 1px rgba(60, 64, 67, 0.15);\n",
       "      fill: #174EA6;\n",
       "    }\n",
       "\n",
       "    [theme=dark] .colab-df-convert {\n",
       "      background-color: #3B4455;\n",
       "      fill: #D2E3FC;\n",
       "    }\n",
       "\n",
       "    [theme=dark] .colab-df-convert:hover {\n",
       "      background-color: #434B5C;\n",
       "      box-shadow: 0px 1px 3px 1px rgba(0, 0, 0, 0.15);\n",
       "      filter: drop-shadow(0px 1px 2px rgba(0, 0, 0, 0.3));\n",
       "      fill: #FFFFFF;\n",
       "    }\n",
       "  </style>\n",
       "\n",
       "      <script>\n",
       "        const buttonEl =\n",
       "          document.querySelector('#df-b3c97eeb-4388-4e6c-9145-54b05cef1ba1 button.colab-df-convert');\n",
       "        buttonEl.style.display =\n",
       "          google.colab.kernel.accessAllowed ? 'block' : 'none';\n",
       "\n",
       "        async function convertToInteractive(key) {\n",
       "          const element = document.querySelector('#df-b3c97eeb-4388-4e6c-9145-54b05cef1ba1');\n",
       "          const dataTable =\n",
       "            await google.colab.kernel.invokeFunction('convertToInteractive',\n",
       "                                                     [key], {});\n",
       "          if (!dataTable) return;\n",
       "\n",
       "          const docLinkHtml = 'Like what you see? Visit the ' +\n",
       "            '<a target=\"_blank\" href=https://colab.research.google.com/notebooks/data_table.ipynb>data table notebook</a>'\n",
       "            + ' to learn more about interactive tables.';\n",
       "          element.innerHTML = '';\n",
       "          dataTable['output_type'] = 'display_data';\n",
       "          await google.colab.output.renderOutput(dataTable, element);\n",
       "          const docLink = document.createElement('div');\n",
       "          docLink.innerHTML = docLinkHtml;\n",
       "          element.appendChild(docLink);\n",
       "        }\n",
       "      </script>\n",
       "    </div>\n",
       "  </div>\n",
       "  "
      ],
      "text/plain": [
       "      city    amount\n",
       "0  Houston  21667.21\n",
       "1   Dallas  19747.14\n",
       "2   Warren  18221.79\n",
       "3    Tulsa  17470.25\n",
       "4   Naples  17220.43"
      ]
     },
     "execution_count": 63,
     "metadata": {},
     "output_type": "execute_result"
    }
   ],
   "source": [
    "# city vs fraudulent_amount\n",
    "city = train_data1.groupby(by=\"city\")['amount'].sum().sort_values(ascending=False).reset_index()\n",
    "city = pd.DataFrame(city, columns=['city','amount'])\n",
    "city.head()"
   ]
  },
  {
   "cell_type": "code",
   "execution_count": 64,
   "metadata": {
    "colab": {
     "base_uri": "https://localhost:8080/",
     "height": 328
    },
    "id": "VVtD8TKhGoWc",
    "outputId": "1687628a-dd41-4817-8ebd-32ebdc5cd06b"
   },
   "outputs": [
    {
     "data": {
      "image/png": "[encoded data removed]",
      "text/plain": [
       "<Figure size 576x288 with 1 Axes>"
      ]
     },
     "metadata": {
      "needs_background": "light"
     },
     "output_type": "display_data"
    }
   ],
   "source": [
    "# plotting\n",
    "plt.figure(figsize=(8,4))\n",
    "train_data1['city'].value_counts().head(10).plot.bar()\n",
    "plt.title('City vs Fraudulent_Transactions')\n",
    "plt.xlabel('City')\n",
    "plt.ylabel('Count')\n",
    "plt.xticks(rotation=45)\n",
    "plt.show()"
   ]
  },
  {
   "cell_type": "markdown",
   "metadata": {
    "id": "95VBUP9jjAMt"
   },
   "source": [
    "**Observations:**\n",
    "- Most number of fradulent transactions (`by number`) happen in the city of `Houston` followed by `Warren` and so on.\n",
    "- But in terms of `amount`,  `Houston with amount 💲21,667.21` tops the list followed by `Dallas with amount 💲19,747.14` and so on.\n",
    "___"
   ]
  },
  {
   "cell_type": "markdown",
   "metadata": {
    "id": "9xIUh78UZalX"
   },
   "source": [
    "**merchant vs fraudulent_trasactions**"
   ]
  },
  {
   "cell_type": "code",
   "execution_count": 65,
   "metadata": {
    "colab": {
     "base_uri": "https://localhost:8080/"
    },
    "id": "uZZv2MSCGobJ",
    "outputId": "0662d4c8-4c69-43b9-cd2c-7fbf9fcd4fed"
   },
   "outputs": [
    {
     "data": {
      "text/plain": [
       "Rau and Sons       49\n",
       "Cormier LLC        48\n",
       "Kozey-Boehm        48\n",
       "Doyle Ltd          47\n",
       "Vandervort-Funk    47\n",
       "Kilback LLC        47\n",
       "Padberg-Welch      44\n",
       "Kuhn LLC           44\n",
       "Terry-Huel         43\n",
       "Koepp-Witting      42\n",
       "Name: merchant, dtype: int64"
      ]
     },
     "execution_count": 65,
     "metadata": {},
     "output_type": "execute_result"
    }
   ],
   "source": [
    "train_data1['merchant'].value_counts().head(10)"
   ]
  },
  {
   "cell_type": "code",
   "execution_count": 66,
   "metadata": {
    "colab": {
     "base_uri": "https://localhost:8080/",
     "height": 206
    },
    "id": "AseimgcpZirE",
    "outputId": "c0248266-47fb-4d02-d791-47565273c521"
   },
   "outputs": [
    {
     "data": {
      "text/html": [
       "\n",
       "  <div id=\"df-4c324799-3bd1-4a8e-81a3-6ff16d74e972\">\n",
       "    <div class=\"colab-df-container\">\n",
       "      <div>\n",
       "<style scoped>\n",
       "    .dataframe tbody tr th:only-of-type {\n",
       "        vertical-align: middle;\n",
       "    }\n",
       "\n",
       "    .dataframe tbody tr th {\n",
       "        vertical-align: top;\n",
       "    }\n",
       "\n",
       "    .dataframe thead th {\n",
       "        text-align: right;\n",
       "    }\n",
       "</style>\n",
       "<table border=\"1\" class=\"dataframe\">\n",
       "  <thead>\n",
       "    <tr style=\"text-align: right;\">\n",
       "      <th></th>\n",
       "      <th>merchant</th>\n",
       "      <th>amount</th>\n",
       "    </tr>\n",
       "  </thead>\n",
       "  <tbody>\n",
       "    <tr>\n",
       "      <th>0</th>\n",
       "      <td>Kozey-Boehm</td>\n",
       "      <td>48189.98</td>\n",
       "    </tr>\n",
       "    <tr>\n",
       "      <th>1</th>\n",
       "      <td>Cormier LLC</td>\n",
       "      <td>44903.89</td>\n",
       "    </tr>\n",
       "    <tr>\n",
       "      <th>2</th>\n",
       "      <td>Jast Ltd</td>\n",
       "      <td>42560.34</td>\n",
       "    </tr>\n",
       "    <tr>\n",
       "      <th>3</th>\n",
       "      <td>Terry-Huel</td>\n",
       "      <td>42356.37</td>\n",
       "    </tr>\n",
       "    <tr>\n",
       "      <th>4</th>\n",
       "      <td>Goyette Inc</td>\n",
       "      <td>41580.84</td>\n",
       "    </tr>\n",
       "  </tbody>\n",
       "</table>\n",
       "</div>\n",
       "      <button class=\"colab-df-convert\" onclick=\"convertToInteractive('df-4c324799-3bd1-4a8e-81a3-6ff16d74e972')\"\n",
       "              title=\"Convert this dataframe to an interactive table.\"\n",
       "              style=\"display:none;\">\n",
       "        \n",
       "  <svg xmlns=\"http://www.w3.org/2000/svg\" height=\"24px\"viewBox=\"0 0 24 24\"\n",
       "       width=\"24px\">\n",
       "    <path d=\"M0 0h24v24H0V0z\" fill=\"none\"/>\n",
       "    <path d=\"M18.56 5.44l.94 2.06.94-2.06 2.06-.94-2.06-.94-.94-2.06-.94 2.06-2.06.94zm-11 1L8.5 8.5l.94-2.06 2.06-.94-2.06-.94L8.5 2.5l-.94 2.06-2.06.94zm10 10l.94 2.06.94-2.06 2.06-.94-2.06-.94-.94-2.06-.94 2.06-2.06.94z\"/><path d=\"M17.41 7.96l-1.37-1.37c-.4-.4-.92-.59-1.43-.59-.52 0-1.04.2-1.43.59L10.3 9.45l-7.72 7.72c-.78.78-.78 2.05 0 2.83L4 21.41c.39.39.9.59 1.41.59.51 0 1.02-.2 1.41-.59l7.78-7.78 2.81-2.81c.8-.78.8-2.07 0-2.86zM5.41 20L4 18.59l7.72-7.72 1.47 1.35L5.41 20z\"/>\n",
       "  </svg>\n",
       "      </button>\n",
       "      \n",
       "  <style>\n",
       "    .colab-df-container {\n",
       "      display:flex;\n",
       "      flex-wrap:wrap;\n",
       "      gap: 12px;\n",
       "    }\n",
       "\n",
       "    .colab-df-convert {\n",
       "      background-color: #E8F0FE;\n",
       "      border: none;\n",
       "      border-radius: 50%;\n",
       "      cursor: pointer;\n",
       "      display: none;\n",
       "      fill: #1967D2;\n",
       "      height: 32px;\n",
       "      padding: 0 0 0 0;\n",
       "      width: 32px;\n",
       "    }\n",
       "\n",
       "    .colab-df-convert:hover {\n",
       "      background-color: #E2EBFA;\n",
       "      box-shadow: 0px 1px 2px rgba(60, 64, 67, 0.3), 0px 1px 3px 1px rgba(60, 64, 67, 0.15);\n",
       "      fill: #174EA6;\n",
       "    }\n",
       "\n",
       "    [theme=dark] .colab-df-convert {\n",
       "      background-color: #3B4455;\n",
       "      fill: #D2E3FC;\n",
       "    }\n",
       "\n",
       "    [theme=dark] .colab-df-convert:hover {\n",
       "      background-color: #434B5C;\n",
       "      box-shadow: 0px 1px 3px 1px rgba(0, 0, 0, 0.15);\n",
       "      filter: drop-shadow(0px 1px 2px rgba(0, 0, 0, 0.3));\n",
       "      fill: #FFFFFF;\n",
       "    }\n",
       "  </style>\n",
       "\n",
       "      <script>\n",
       "        const buttonEl =\n",
       "          document.querySelector('#df-4c324799-3bd1-4a8e-81a3-6ff16d74e972 button.colab-df-convert');\n",
       "        buttonEl.style.display =\n",
       "          google.colab.kernel.accessAllowed ? 'block' : 'none';\n",
       "\n",
       "        async function convertToInteractive(key) {\n",
       "          const element = document.querySelector('#df-4c324799-3bd1-4a8e-81a3-6ff16d74e972');\n",
       "          const dataTable =\n",
       "            await google.colab.kernel.invokeFunction('convertToInteractive',\n",
       "                                                     [key], {});\n",
       "          if (!dataTable) return;\n",
       "\n",
       "          const docLinkHtml = 'Like what you see? Visit the ' +\n",
       "            '<a target=\"_blank\" href=https://colab.research.google.com/notebooks/data_table.ipynb>data table notebook</a>'\n",
       "            + ' to learn more about interactive tables.';\n",
       "          element.innerHTML = '';\n",
       "          dataTable['output_type'] = 'display_data';\n",
       "          await google.colab.output.renderOutput(dataTable, element);\n",
       "          const docLink = document.createElement('div');\n",
       "          docLink.innerHTML = docLinkHtml;\n",
       "          element.appendChild(docLink);\n",
       "        }\n",
       "      </script>\n",
       "    </div>\n",
       "  </div>\n",
       "  "
      ],
      "text/plain": [
       "      merchant    amount\n",
       "0  Kozey-Boehm  48189.98\n",
       "1  Cormier LLC  44903.89\n",
       "2     Jast Ltd  42560.34\n",
       "3   Terry-Huel  42356.37\n",
       "4  Goyette Inc  41580.84"
      ]
     },
     "execution_count": 66,
     "metadata": {},
     "output_type": "execute_result"
    }
   ],
   "source": [
    "# merchant vs fraudulent_amount\n",
    "merchant = train_data1.groupby(by='merchant')['amount'].sum().sort_values(ascending=False).reset_index()\n",
    "merchant = pd.DataFrame(merchant, columns=['merchant', 'amount'])\n",
    "merchant.head()"
   ]
  },
  {
   "cell_type": "code",
   "execution_count": 67,
   "metadata": {
    "colab": {
     "base_uri": "https://localhost:8080/",
     "height": 351
    },
    "id": "fwEAtk7F7fGk",
    "outputId": "d8e706c0-6327-491b-f9bb-ef23d6dda11f"
   },
   "outputs": [
    {
     "data": {
      "image/png": "[encoded data removed]",
      "text/plain": [
       "<Figure size 504x288 with 1 Axes>"
      ]
     },
     "metadata": {
      "needs_background": "light"
     },
     "output_type": "display_data"
    }
   ],
   "source": [
    "# plotting\n",
    "plt.figure(figsize=(7,4))\n",
    "train_data1['merchant'].value_counts().head(10).plot.bar()\n",
    "plt.title('Merchant vs Fraudulent_Transactions')\n",
    "plt.xlabel('Merchant')\n",
    "plt.ylabel('Count')\n",
    "plt.xticks(rotation=45)\n",
    "plt.show()"
   ]
  },
  {
   "cell_type": "markdown",
   "metadata": {
    "id": "TsWVc_wmaYB6"
   },
   "source": [
    "**Observations:**\n",
    "- Merchant `Rau and Sons` had most fraudulent transactions `by number` folowed by `Cormier LLC`.\n",
    "- But in terms of `amount` `Kozey-Boehm with amount 💲48,189.98` tops the list followed by `Cormier LLC with amount of 💲44,903.89`.\n",
    "____"
   ]
  },
  {
   "cell_type": "markdown",
   "metadata": {
    "id": "48Wy4Zzjbcxy"
   },
   "source": [
    "**city_popuplation_segment vs fraudulent_transactions**"
   ]
  },
  {
   "cell_type": "code",
   "execution_count": 68,
   "metadata": {
    "colab": {
     "base_uri": "https://localhost:8080/",
     "height": 296
    },
    "id": "tGh6Bwry63hE",
    "outputId": "15716195-8096-4886-f60a-e39952c9366a"
   },
   "outputs": [
    {
     "data": {
      "image/png": "[encoded data removed]",
      "text/plain": [
       "<Figure size 432x288 with 1 Axes>"
      ]
     },
     "metadata": {
      "needs_background": "light"
     },
     "output_type": "display_data"
    }
   ],
   "source": [
    "# plotting\n",
    "sns.countplot(data=train_data1, x='city_pop_segment', hue='is_fraud')\n",
    "plt.title('Population Segment_wise Fraud')\n",
    "plt.xlabel('City_Population_Segment')\n",
    "plt.ylabel('Count')\n",
    "plt.show()"
   ]
  },
  {
   "cell_type": "code",
   "execution_count": 69,
   "metadata": {
    "colab": {
     "base_uri": "https://localhost:8080/",
     "height": 143
    },
    "id": "TVbzu0aCkKNt",
    "outputId": "0076ebc2-3a1a-4020-8931-c656abedac02"
   },
   "outputs": [
    {
     "data": {
      "text/html": [
       "\n",
       "  <div id=\"df-8c3f8348-5b96-4f16-a277-cc119f82b0b7\">\n",
       "    <div class=\"colab-df-container\">\n",
       "      <div>\n",
       "<style scoped>\n",
       "    .dataframe tbody tr th:only-of-type {\n",
       "        vertical-align: middle;\n",
       "    }\n",
       "\n",
       "    .dataframe tbody tr th {\n",
       "        vertical-align: top;\n",
       "    }\n",
       "\n",
       "    .dataframe thead th {\n",
       "        text-align: right;\n",
       "    }\n",
       "</style>\n",
       "<table border=\"1\" class=\"dataframe\">\n",
       "  <thead>\n",
       "    <tr style=\"text-align: right;\">\n",
       "      <th></th>\n",
       "      <th>city_pop_segment</th>\n",
       "      <th>amount</th>\n",
       "    </tr>\n",
       "  </thead>\n",
       "  <tbody>\n",
       "    <tr>\n",
       "      <th>0</th>\n",
       "      <td>less</td>\n",
       "      <td>3758412.25</td>\n",
       "    </tr>\n",
       "    <tr>\n",
       "      <th>1</th>\n",
       "      <td>moderate</td>\n",
       "      <td>117413.41</td>\n",
       "    </tr>\n",
       "    <tr>\n",
       "      <th>2</th>\n",
       "      <td>dense</td>\n",
       "      <td>112262.95</td>\n",
       "    </tr>\n",
       "  </tbody>\n",
       "</table>\n",
       "</div>\n",
       "      <button class=\"colab-df-convert\" onclick=\"convertToInteractive('df-8c3f8348-5b96-4f16-a277-cc119f82b0b7')\"\n",
       "              title=\"Convert this dataframe to an interactive table.\"\n",
       "              style=\"display:none;\">\n",
       "        \n",
       "  <svg xmlns=\"http://www.w3.org/2000/svg\" height=\"24px\"viewBox=\"0 0 24 24\"\n",
       "       width=\"24px\">\n",
       "    <path d=\"M0 0h24v24H0V0z\" fill=\"none\"/>\n",
       "    <path d=\"M18.56 5.44l.94 2.06.94-2.06 2.06-.94-2.06-.94-.94-2.06-.94 2.06-2.06.94zm-11 1L8.5 8.5l.94-2.06 2.06-.94-2.06-.94L8.5 2.5l-.94 2.06-2.06.94zm10 10l.94 2.06.94-2.06 2.06-.94-2.06-.94-.94-2.06-.94 2.06-2.06.94z\"/><path d=\"M17.41 7.96l-1.37-1.37c-.4-.4-.92-.59-1.43-.59-.52 0-1.04.2-1.43.59L10.3 9.45l-7.72 7.72c-.78.78-.78 2.05 0 2.83L4 21.41c.39.39.9.59 1.41.59.51 0 1.02-.2 1.41-.59l7.78-7.78 2.81-2.81c.8-.78.8-2.07 0-2.86zM5.41 20L4 18.59l7.72-7.72 1.47 1.35L5.41 20z\"/>\n",
       "  </svg>\n",
       "      </button>\n",
       "      \n",
       "  <style>\n",
       "    .colab-df-container {\n",
       "      display:flex;\n",
       "      flex-wrap:wrap;\n",
       "      gap: 12px;\n",
       "    }\n",
       "\n",
       "    .colab-df-convert {\n",
       "      background-color: #E8F0FE;\n",
       "      border: none;\n",
       "      border-radius: 50%;\n",
       "      cursor: pointer;\n",
       "      display: none;\n",
       "      fill: #1967D2;\n",
       "      height: 32px;\n",
       "      padding: 0 0 0 0;\n",
       "      width: 32px;\n",
       "    }\n",
       "\n",
       "    .colab-df-convert:hover {\n",
       "      background-color: #E2EBFA;\n",
       "      box-shadow: 0px 1px 2px rgba(60, 64, 67, 0.3), 0px 1px 3px 1px rgba(60, 64, 67, 0.15);\n",
       "      fill: #174EA6;\n",
       "    }\n",
       "\n",
       "    [theme=dark] .colab-df-convert {\n",
       "      background-color: #3B4455;\n",
       "      fill: #D2E3FC;\n",
       "    }\n",
       "\n",
       "    [theme=dark] .colab-df-convert:hover {\n",
       "      background-color: #434B5C;\n",
       "      box-shadow: 0px 1px 3px 1px rgba(0, 0, 0, 0.15);\n",
       "      filter: drop-shadow(0px 1px 2px rgba(0, 0, 0, 0.3));\n",
       "      fill: #FFFFFF;\n",
       "    }\n",
       "  </style>\n",
       "\n",
       "      <script>\n",
       "        const buttonEl =\n",
       "          document.querySelector('#df-8c3f8348-5b96-4f16-a277-cc119f82b0b7 button.colab-df-convert');\n",
       "        buttonEl.style.display =\n",
       "          google.colab.kernel.accessAllowed ? 'block' : 'none';\n",
       "\n",
       "        async function convertToInteractive(key) {\n",
       "          const element = document.querySelector('#df-8c3f8348-5b96-4f16-a277-cc119f82b0b7');\n",
       "          const dataTable =\n",
       "            await google.colab.kernel.invokeFunction('convertToInteractive',\n",
       "                                                     [key], {});\n",
       "          if (!dataTable) return;\n",
       "\n",
       "          const docLinkHtml = 'Like what you see? Visit the ' +\n",
       "            '<a target=\"_blank\" href=https://colab.research.google.com/notebooks/data_table.ipynb>data table notebook</a>'\n",
       "            + ' to learn more about interactive tables.';\n",
       "          element.innerHTML = '';\n",
       "          dataTable['output_type'] = 'display_data';\n",
       "          await google.colab.output.renderOutput(dataTable, element);\n",
       "          const docLink = document.createElement('div');\n",
       "          docLink.innerHTML = docLinkHtml;\n",
       "          element.appendChild(docLink);\n",
       "        }\n",
       "      </script>\n",
       "    </div>\n",
       "  </div>\n",
       "  "
      ],
      "text/plain": [
       "  city_pop_segment      amount\n",
       "0             less  3758412.25\n",
       "1         moderate   117413.41\n",
       "2            dense   112262.95"
      ]
     },
     "execution_count": 69,
     "metadata": {},
     "output_type": "execute_result"
    }
   ],
   "source": [
    "# city_population_segment vs fraudulent_amount\n",
    "pop = train_data1.groupby(by='city_pop_segment')['amount'].sum().sort_values(ascending=False).reset_index()\n",
    "pop = pd.DataFrame(pop, columns=['city_pop_segment', 'amount'])\n",
    "pop.head()"
   ]
  },
  {
   "cell_type": "markdown",
   "metadata": {
    "id": "2xPO-k9ecwft"
   },
   "source": [
    "**Observation:**\n",
    "- Most of the fradulent transactions occured in the cities with `less number of popuplation amount of 💲3,758,412.25` followed by `moderate with amount of 💲117,413.41` and so on.\n",
    "___"
   ]
  },
  {
   "cell_type": "markdown",
   "metadata": {
    "id": "beLIqTYHc-9b"
   },
   "source": [
    "**job vs fraudulent_transaction**"
   ]
  },
  {
   "cell_type": "code",
   "execution_count": 70,
   "metadata": {
    "colab": {
     "base_uri": "https://localhost:8080/"
    },
    "id": "KLq0bhswe0Z7",
    "outputId": "84655c14-d5a3-4cfd-fe6b-c6cc9846cb77"
   },
   "outputs": [
    {
     "data": {
      "text/plain": [
       "Materials engineer                       62\n",
       "Trading standards officer                56\n",
       "Naval architect                          53\n",
       "Exhibition designer                      51\n",
       "Surveyor, land/geomatics                 50\n",
       "Mechanical engineer                      49\n",
       "Prison officer                           48\n",
       "Quantity surveyor                        48\n",
       "Audiological scientist                   46\n",
       "Senior tax professional/tax inspector    45\n",
       "Name: job, dtype: int64"
      ]
     },
     "execution_count": 70,
     "metadata": {},
     "output_type": "execute_result"
    }
   ],
   "source": [
    "train_data1['job'].value_counts().head(10)"
   ]
  },
  {
   "cell_type": "code",
   "execution_count": 71,
   "metadata": {
    "colab": {
     "base_uri": "https://localhost:8080/",
     "height": 206
    },
    "id": "uwVLFhNYdkeb",
    "outputId": "25f5bde3-8dde-463e-d258-1061fefdf265"
   },
   "outputs": [
    {
     "data": {
      "text/html": [
       "\n",
       "  <div id=\"df-406869a9-3e5b-4f59-a11d-60232ba8bbfc\">\n",
       "    <div class=\"colab-df-container\">\n",
       "      <div>\n",
       "<style scoped>\n",
       "    .dataframe tbody tr th:only-of-type {\n",
       "        vertical-align: middle;\n",
       "    }\n",
       "\n",
       "    .dataframe tbody tr th {\n",
       "        vertical-align: top;\n",
       "    }\n",
       "\n",
       "    .dataframe thead th {\n",
       "        text-align: right;\n",
       "    }\n",
       "</style>\n",
       "<table border=\"1\" class=\"dataframe\">\n",
       "  <thead>\n",
       "    <tr style=\"text-align: right;\">\n",
       "      <th></th>\n",
       "      <th>job</th>\n",
       "      <th>amount</th>\n",
       "    </tr>\n",
       "  </thead>\n",
       "  <tbody>\n",
       "    <tr>\n",
       "      <th>0</th>\n",
       "      <td>Materials engineer</td>\n",
       "      <td>34787.71</td>\n",
       "    </tr>\n",
       "    <tr>\n",
       "      <th>1</th>\n",
       "      <td>Naval architect</td>\n",
       "      <td>34638.89</td>\n",
       "    </tr>\n",
       "    <tr>\n",
       "      <th>2</th>\n",
       "      <td>Audiological scientist</td>\n",
       "      <td>30374.34</td>\n",
       "    </tr>\n",
       "    <tr>\n",
       "      <th>3</th>\n",
       "      <td>Quantity surveyor</td>\n",
       "      <td>28404.20</td>\n",
       "    </tr>\n",
       "    <tr>\n",
       "      <th>4</th>\n",
       "      <td>Senior tax professional/tax inspector</td>\n",
       "      <td>28331.54</td>\n",
       "    </tr>\n",
       "  </tbody>\n",
       "</table>\n",
       "</div>\n",
       "      <button class=\"colab-df-convert\" onclick=\"convertToInteractive('df-406869a9-3e5b-4f59-a11d-60232ba8bbfc')\"\n",
       "              title=\"Convert this dataframe to an interactive table.\"\n",
       "              style=\"display:none;\">\n",
       "        \n",
       "  <svg xmlns=\"http://www.w3.org/2000/svg\" height=\"24px\"viewBox=\"0 0 24 24\"\n",
       "       width=\"24px\">\n",
       "    <path d=\"M0 0h24v24H0V0z\" fill=\"none\"/>\n",
       "    <path d=\"M18.56 5.44l.94 2.06.94-2.06 2.06-.94-2.06-.94-.94-2.06-.94 2.06-2.06.94zm-11 1L8.5 8.5l.94-2.06 2.06-.94-2.06-.94L8.5 2.5l-.94 2.06-2.06.94zm10 10l.94 2.06.94-2.06 2.06-.94-2.06-.94-.94-2.06-.94 2.06-2.06.94z\"/><path d=\"M17.41 7.96l-1.37-1.37c-.4-.4-.92-.59-1.43-.59-.52 0-1.04.2-1.43.59L10.3 9.45l-7.72 7.72c-.78.78-.78 2.05 0 2.83L4 21.41c.39.39.9.59 1.41.59.51 0 1.02-.2 1.41-.59l7.78-7.78 2.81-2.81c.8-.78.8-2.07 0-2.86zM5.41 20L4 18.59l7.72-7.72 1.47 1.35L5.41 20z\"/>\n",
       "  </svg>\n",
       "      </button>\n",
       "      \n",
       "  <style>\n",
       "    .colab-df-container {\n",
       "      display:flex;\n",
       "      flex-wrap:wrap;\n",
       "      gap: 12px;\n",
       "    }\n",
       "\n",
       "    .colab-df-convert {\n",
       "      background-color: #E8F0FE;\n",
       "      border: none;\n",
       "      border-radius: 50%;\n",
       "      cursor: pointer;\n",
       "      display: none;\n",
       "      fill: #1967D2;\n",
       "      height: 32px;\n",
       "      padding: 0 0 0 0;\n",
       "      width: 32px;\n",
       "    }\n",
       "\n",
       "    .colab-df-convert:hover {\n",
       "      background-color: #E2EBFA;\n",
       "      box-shadow: 0px 1px 2px rgba(60, 64, 67, 0.3), 0px 1px 3px 1px rgba(60, 64, 67, 0.15);\n",
       "      fill: #174EA6;\n",
       "    }\n",
       "\n",
       "    [theme=dark] .colab-df-convert {\n",
       "      background-color: #3B4455;\n",
       "      fill: #D2E3FC;\n",
       "    }\n",
       "\n",
       "    [theme=dark] .colab-df-convert:hover {\n",
       "      background-color: #434B5C;\n",
       "      box-shadow: 0px 1px 3px 1px rgba(0, 0, 0, 0.15);\n",
       "      filter: drop-shadow(0px 1px 2px rgba(0, 0, 0, 0.3));\n",
       "      fill: #FFFFFF;\n",
       "    }\n",
       "  </style>\n",
       "\n",
       "      <script>\n",
       "        const buttonEl =\n",
       "          document.querySelector('#df-406869a9-3e5b-4f59-a11d-60232ba8bbfc button.colab-df-convert');\n",
       "        buttonEl.style.display =\n",
       "          google.colab.kernel.accessAllowed ? 'block' : 'none';\n",
       "\n",
       "        async function convertToInteractive(key) {\n",
       "          const element = document.querySelector('#df-406869a9-3e5b-4f59-a11d-60232ba8bbfc');\n",
       "          const dataTable =\n",
       "            await google.colab.kernel.invokeFunction('convertToInteractive',\n",
       "                                                     [key], {});\n",
       "          if (!dataTable) return;\n",
       "\n",
       "          const docLinkHtml = 'Like what you see? Visit the ' +\n",
       "            '<a target=\"_blank\" href=https://colab.research.google.com/notebooks/data_table.ipynb>data table notebook</a>'\n",
       "            + ' to learn more about interactive tables.';\n",
       "          element.innerHTML = '';\n",
       "          dataTable['output_type'] = 'display_data';\n",
       "          await google.colab.output.renderOutput(dataTable, element);\n",
       "          const docLink = document.createElement('div');\n",
       "          docLink.innerHTML = docLinkHtml;\n",
       "          element.appendChild(docLink);\n",
       "        }\n",
       "      </script>\n",
       "    </div>\n",
       "  </div>\n",
       "  "
      ],
      "text/plain": [
       "                                     job    amount\n",
       "0                     Materials engineer  34787.71\n",
       "1                        Naval architect  34638.89\n",
       "2                 Audiological scientist  30374.34\n",
       "3                      Quantity surveyor  28404.20\n",
       "4  Senior tax professional/tax inspector  28331.54"
      ]
     },
     "execution_count": 71,
     "metadata": {},
     "output_type": "execute_result"
    }
   ],
   "source": [
    "# job vs fraudulent_amount\n",
    "job = train_data1.groupby(by='job')['amount'].sum().sort_values(ascending=False).reset_index()\n",
    "job = pd.DataFrame(job, columns=['job', 'amount'])\n",
    "job.head()"
   ]
  },
  {
   "cell_type": "code",
   "execution_count": 72,
   "metadata": {
    "colab": {
     "base_uri": "https://localhost:8080/",
     "height": 469
    },
    "id": "U13QjR2Re_We",
    "outputId": "6c5da1a8-721c-4242-c7fc-73e153e11466"
   },
   "outputs": [
    {
     "data": {
      "image/png": "[encoded data removed]",
      "text/plain": [
       "<Figure size 576x288 with 1 Axes>"
      ]
     },
     "metadata": {
      "needs_background": "light"
     },
     "output_type": "display_data"
    }
   ],
   "source": [
    "#plotting\n",
    "plt.figure(figsize=(8,4))\n",
    "train_data1['job'].value_counts().head(10).plot.bar()\n",
    "plt.title('Jobs vs Fraudulent_Transactions ')\n",
    "plt.xlabel('Jobs')\n",
    "plt.ylabel('Count')\n",
    "plt.show()"
   ]
  },
  {
   "cell_type": "markdown",
   "metadata": {
    "id": "zfOzsNBtd0Gt"
   },
   "source": [
    "**Observations:**\n",
    "- People who work at `Materials engineer` are most prone to fraud follwed by `Trading standards officer` etc by count.\n",
    "- But in terms of `amount`, `Materials engineer with amount 💲34,787.71` tops the list followed by `Naval architect with amount 💲34,638.89`.  \n",
    "___"
   ]
  },
  {
   "cell_type": "markdown",
   "metadata": {
    "id": "vEeivfajewJ1"
   },
   "source": [
    "**distance_segment vs fraudulent_transaction**"
   ]
  },
  {
   "cell_type": "code",
   "execution_count": 73,
   "metadata": {
    "colab": {
     "base_uri": "https://localhost:8080/",
     "height": 297
    },
    "id": "xM2xMiaUfEcz",
    "outputId": "d96d4e2e-ada4-4f1d-cca4-4fd8b95cf3a8"
   },
   "outputs": [
    {
     "data": {
      "image/png": "[encoded data removed]",
      "text/plain": [
       "<Figure size 432x288 with 1 Axes>"
      ]
     },
     "metadata": {
      "needs_background": "light"
     },
     "output_type": "display_data"
    }
   ],
   "source": [
    "# plotting\n",
    "sns.countplot(data=train_data1, x='distance_segment', hue='is_fraud')\n",
    "plt.title('Distance_Segment vs Fraudulent_Transactions')\n",
    "plt.xlabel(\"Distance_Segment\")\n",
    "plt.ylabel('Count')\n",
    "plt.show()"
   ]
  },
  {
   "cell_type": "code",
   "execution_count": 74,
   "metadata": {
    "colab": {
     "base_uri": "https://localhost:8080/",
     "height": 143
    },
    "id": "7D51MTBpfI2u",
    "outputId": "124298fb-5d75-44f3-999a-9ff0fa258048"
   },
   "outputs": [
    {
     "data": {
      "text/html": [
       "\n",
       "  <div id=\"df-2a9b5b96-91e2-45de-a89d-556042ff6c71\">\n",
       "    <div class=\"colab-df-container\">\n",
       "      <div>\n",
       "<style scoped>\n",
       "    .dataframe tbody tr th:only-of-type {\n",
       "        vertical-align: middle;\n",
       "    }\n",
       "\n",
       "    .dataframe tbody tr th {\n",
       "        vertical-align: top;\n",
       "    }\n",
       "\n",
       "    .dataframe thead th {\n",
       "        text-align: right;\n",
       "    }\n",
       "</style>\n",
       "<table border=\"1\" class=\"dataframe\">\n",
       "  <thead>\n",
       "    <tr style=\"text-align: right;\">\n",
       "      <th></th>\n",
       "      <th>distance_segment</th>\n",
       "      <th>amount</th>\n",
       "    </tr>\n",
       "  </thead>\n",
       "  <tbody>\n",
       "    <tr>\n",
       "      <th>0</th>\n",
       "      <td>far</td>\n",
       "      <td>1999519.24</td>\n",
       "    </tr>\n",
       "    <tr>\n",
       "      <th>1</th>\n",
       "      <td>far_away</td>\n",
       "      <td>1356256.90</td>\n",
       "    </tr>\n",
       "    <tr>\n",
       "      <th>2</th>\n",
       "      <td>nearby</td>\n",
       "      <td>631595.52</td>\n",
       "    </tr>\n",
       "  </tbody>\n",
       "</table>\n",
       "</div>\n",
       "      <button class=\"colab-df-convert\" onclick=\"convertToInteractive('df-2a9b5b96-91e2-45de-a89d-556042ff6c71')\"\n",
       "              title=\"Convert this dataframe to an interactive table.\"\n",
       "              style=\"display:none;\">\n",
       "        \n",
       "  <svg xmlns=\"http://www.w3.org/2000/svg\" height=\"24px\"viewBox=\"0 0 24 24\"\n",
       "       width=\"24px\">\n",
       "    <path d=\"M0 0h24v24H0V0z\" fill=\"none\"/>\n",
       "    <path d=\"M18.56 5.44l.94 2.06.94-2.06 2.06-.94-2.06-.94-.94-2.06-.94 2.06-2.06.94zm-11 1L8.5 8.5l.94-2.06 2.06-.94-2.06-.94L8.5 2.5l-.94 2.06-2.06.94zm10 10l.94 2.06.94-2.06 2.06-.94-2.06-.94-.94-2.06-.94 2.06-2.06.94z\"/><path d=\"M17.41 7.96l-1.37-1.37c-.4-.4-.92-.59-1.43-.59-.52 0-1.04.2-1.43.59L10.3 9.45l-7.72 7.72c-.78.78-.78 2.05 0 2.83L4 21.41c.39.39.9.59 1.41.59.51 0 1.02-.2 1.41-.59l7.78-7.78 2.81-2.81c.8-.78.8-2.07 0-2.86zM5.41 20L4 18.59l7.72-7.72 1.47 1.35L5.41 20z\"/>\n",
       "  </svg>\n",
       "      </button>\n",
       "      \n",
       "  <style>\n",
       "    .colab-df-container {\n",
       "      display:flex;\n",
       "      flex-wrap:wrap;\n",
       "      gap: 12px;\n",
       "    }\n",
       "\n",
       "    .colab-df-convert {\n",
       "      background-color: #E8F0FE;\n",
       "      border: none;\n",
       "      border-radius: 50%;\n",
       "      cursor: pointer;\n",
       "      display: none;\n",
       "      fill: #1967D2;\n",
       "      height: 32px;\n",
       "      padding: 0 0 0 0;\n",
       "      width: 32px;\n",
       "    }\n",
       "\n",
       "    .colab-df-convert:hover {\n",
       "      background-color: #E2EBFA;\n",
       "      box-shadow: 0px 1px 2px rgba(60, 64, 67, 0.3), 0px 1px 3px 1px rgba(60, 64, 67, 0.15);\n",
       "      fill: #174EA6;\n",
       "    }\n",
       "\n",
       "    [theme=dark] .colab-df-convert {\n",
       "      background-color: #3B4455;\n",
       "      fill: #D2E3FC;\n",
       "    }\n",
       "\n",
       "    [theme=dark] .colab-df-convert:hover {\n",
       "      background-color: #434B5C;\n",
       "      box-shadow: 0px 1px 3px 1px rgba(0, 0, 0, 0.15);\n",
       "      filter: drop-shadow(0px 1px 2px rgba(0, 0, 0, 0.3));\n",
       "      fill: #FFFFFF;\n",
       "    }\n",
       "  </style>\n",
       "\n",
       "      <script>\n",
       "        const buttonEl =\n",
       "          document.querySelector('#df-2a9b5b96-91e2-45de-a89d-556042ff6c71 button.colab-df-convert');\n",
       "        buttonEl.style.display =\n",
       "          google.colab.kernel.accessAllowed ? 'block' : 'none';\n",
       "\n",
       "        async function convertToInteractive(key) {\n",
       "          const element = document.querySelector('#df-2a9b5b96-91e2-45de-a89d-556042ff6c71');\n",
       "          const dataTable =\n",
       "            await google.colab.kernel.invokeFunction('convertToInteractive',\n",
       "                                                     [key], {});\n",
       "          if (!dataTable) return;\n",
       "\n",
       "          const docLinkHtml = 'Like what you see? Visit the ' +\n",
       "            '<a target=\"_blank\" href=https://colab.research.google.com/notebooks/data_table.ipynb>data table notebook</a>'\n",
       "            + ' to learn more about interactive tables.';\n",
       "          element.innerHTML = '';\n",
       "          dataTable['output_type'] = 'display_data';\n",
       "          await google.colab.output.renderOutput(dataTable, element);\n",
       "          const docLink = document.createElement('div');\n",
       "          docLink.innerHTML = docLinkHtml;\n",
       "          element.appendChild(docLink);\n",
       "        }\n",
       "      </script>\n",
       "    </div>\n",
       "  </div>\n",
       "  "
      ],
      "text/plain": [
       "  distance_segment      amount\n",
       "0              far  1999519.24\n",
       "1         far_away  1356256.90\n",
       "2           nearby   631595.52"
      ]
     },
     "execution_count": 74,
     "metadata": {},
     "output_type": "execute_result"
    }
   ],
   "source": [
    "# distance_segment vs fraudulent_amount\n",
    "distance_segment = train_data1.groupby(by='distance_segment')['amount'].sum().sort_values(ascending=False).reset_index()\n",
    "distance_segment = pd.DataFrame(distance_segment, columns=['distance_segment', 'amount'])\n",
    "distance_segment.head()"
   ]
  },
  {
   "cell_type": "markdown",
   "metadata": {
    "id": "U6VGZmMZfYhI"
   },
   "source": [
    "**Observations:**\n",
    "- People who are `far amount 💲1,999,519.24'` from merchants locations are more prone to fraud followed by the people who are `far_away amount 💲1,356,256.90` from merchants locations.\n",
    "___"
   ]
  },
  {
   "cell_type": "markdown",
   "metadata": {
    "id": "KKcS6RM7XJlm"
   },
   "source": [
    "### **EDA Observations:**\n",
    "\n",
    "- The majority of the fraud is done with `amount less than $100`.\n",
    "- Since the fraudulent amount is that less thus, may be little difficult to keep track of it.\n",
    "\n",
    "\n",
    "- Both Males and Females are almost `equally Frauded`. Thus, difficult to come to a conclusion who defaults more.\n",
    "- Fraudulent amount transacted by `Male is 💲2,142,801.27`.\n",
    "by `Female is 💲1,845,287.34`\n",
    "\n",
    "\n",
    "- Majority of the (count of) frauduent transactions have been done on `grocery_pos category` follwed by `shopping_net` and misc_net and so on.\n",
    "- But when we see the fradulent transaction amount then `shopping_net category` tops the list with 💲1,711,723.71, followed by `shopping_pos category` with 💲739,245.09.\n",
    "\n",
    "\n",
    "- Majority of the people who are victims of fraudulent transactions (by count) come under the age group of `60+ years` with `total amount of 💲1,109,239.70` followed by `41-50 years` `total amount of 💲768,487.86`.  \n",
    "\n",
    "\n",
    "- Most of the fraudulent transactions are observed during weekend i.e. `(Saturday and Sunday)` with most transactions are registered by `Males on Saturday` and `Females on Sunday`.\n",
    "\n",
    "  Sunday total amount: 💲663,864.01\n",
    "\n",
    "  Saturday total amount: 💲636,539.35\n",
    "- Most of the fraudulent transactions are observed during odd hours i.e. `early morning (0-3am)` and `late night (22-23pm [10-11pm)` by both the genders.\n",
    "                                                                                                                           \n",
    "- `Year 2019` registered maximum fraudulent transactions with total amount of 💲2,767,822.87.\n",
    "- Month `5(May)` amount 💲497,775.49 and `3(March)` amount 💲471,727.69 have registered maximum fraudulent transactions.\n",
    "                                                                                                                           \n",
    "- `NY(NewYork)` and `TX(Texas)` have registered maximum number of fraudulent transactions followed by PA, CA and so on.\n",
    "- The amount of Fraudulent transaction in `NewYork is 💲 295,548.64` whereas in `Texas` the amount is `💲265,806.41`.\n",
    "\n",
    "\n",
    "- Most number of fradulent transactions (`by number`) happen in the city of `Houston` followed by `Warren` and so on.\n",
    "- But in terms of `amount`,  `Houston\twith amount 💲21,667.21` tops the list followed by `Dallas\twith amount 💲19,747.14` and so on.\n",
    "                                                                                                                           \n",
    "- Merchant `Rau and Sons` had most fraudulent transactions `by number` folowed by `Cormier LLC`.\n",
    "- But in terms of `amount` `Kozey-Boehm\twith amount 💲 48,189.98` tops the list followed by `Cormier LLC with amount of 💲44,903.89`.\n",
    "                                                                                                                           \n",
    "- Most of the fradulent transactions occured in the cities with `less number of popuplation amount of 💲3,758,412.25` followed by `moderate with amount  of 💲117,413.41` and so on.\n",
    "                                                                                                                           \n",
    "- People who work at `Materials engineer` are most prone to fraud follwed by `Trading standards officer` etc by count.\n",
    "- But in terms of `amount`, `Materials engineer\twith amount 💲34,787.71` tops the list followed by `Naval architect\twith amount 💲34,638.89`.  \n",
    "                                                                                                                           \n",
    "- People who are `far amount 💲1,999,519.24'` from merchants locations are more prone to fraud followed by the people who are `far_away amount 💲1,356,256.90` from merchants locations."
   ]
  },
  {
   "cell_type": "code",
   "execution_count": 75,
   "metadata": {
    "colab": {
     "base_uri": "https://localhost:8080/"
    },
    "id": "EWAhgiZLjwZs",
    "outputId": "69552537-bd20-4d43-ec18-c8bb918e1b71"
   },
   "outputs": [
    {
     "data": {
      "text/plain": [
       "transaction_date_time      1274791\n",
       "credit_card_number             983\n",
       "merchant                       693\n",
       "category                        14\n",
       "amount                       52928\n",
       "first_name                     352\n",
       "last_name                      481\n",
       "gender                           2\n",
       "street                         983\n",
       "city                           894\n",
       "state                           51\n",
       "zip                            970\n",
       "latitude                       968\n",
       "longitude                      969\n",
       "city_pop                       879\n",
       "job                            494\n",
       "dob                            968\n",
       "transaction_id             1296675\n",
       "unix_time                  1274823\n",
       "merchant_latitude          1247805\n",
       "merchant_longitude         1275745\n",
       "is_fraud                         2\n",
       "age                             83\n",
       "age_group                        6\n",
       "transaction_hour                24\n",
       "transaction_day_of_week          7\n",
       "transaction_year_month          18\n",
       "distance                       156\n",
       "distance_segment                 3\n",
       "city_pop_segment                 3\n",
       "dtype: int64"
      ]
     },
     "execution_count": 75,
     "metadata": {},
     "output_type": "execute_result"
    }
   ],
   "source": [
    "# looking at unique values\n",
    "train_data.nunique()"
   ]
  },
  {
   "cell_type": "code",
   "execution_count": 76,
   "metadata": {
    "colab": {
     "base_uri": "https://localhost:8080/",
     "height": 521
    },
    "id": "qkxWZFdMjC5O",
    "outputId": "f3d49590-f50a-497c-c15a-cfdb86b46949"
   },
   "outputs": [
    {
     "data": {
      "text/html": [
       "\n",
       "  <div id=\"df-c2daaff1-defd-45b8-b0ca-dc7bac780117\">\n",
       "    <div class=\"colab-df-container\">\n",
       "      <div>\n",
       "<style scoped>\n",
       "    .dataframe tbody tr th:only-of-type {\n",
       "        vertical-align: middle;\n",
       "    }\n",
       "\n",
       "    .dataframe tbody tr th {\n",
       "        vertical-align: top;\n",
       "    }\n",
       "\n",
       "    .dataframe thead th {\n",
       "        text-align: right;\n",
       "    }\n",
       "</style>\n",
       "<table border=\"1\" class=\"dataframe\">\n",
       "  <thead>\n",
       "    <tr style=\"text-align: right;\">\n",
       "      <th></th>\n",
       "      <th>credit_card_number</th>\n",
       "      <th>amount</th>\n",
       "      <th>zip</th>\n",
       "      <th>latitude</th>\n",
       "      <th>longitude</th>\n",
       "      <th>city_pop</th>\n",
       "      <th>unix_time</th>\n",
       "      <th>merchant_latitude</th>\n",
       "      <th>merchant_longitude</th>\n",
       "      <th>is_fraud</th>\n",
       "      <th>age</th>\n",
       "      <th>transaction_hour</th>\n",
       "      <th>distance</th>\n",
       "    </tr>\n",
       "  </thead>\n",
       "  <tbody>\n",
       "    <tr>\n",
       "      <th>credit_card_number</th>\n",
       "      <td>1.000000</td>\n",
       "      <td>0.001769</td>\n",
       "      <td>0.041459</td>\n",
       "      <td>-0.059271</td>\n",
       "      <td>-0.048278</td>\n",
       "      <td>-0.008991</td>\n",
       "      <td>0.000354</td>\n",
       "      <td>-0.058942</td>\n",
       "      <td>-0.048252</td>\n",
       "      <td>-0.000981</td>\n",
       "      <td>-0.001048</td>\n",
       "      <td>-0.000801</td>\n",
       "      <td>-0.000571</td>\n",
       "    </tr>\n",
       "    <tr>\n",
       "      <th>amount</th>\n",
       "      <td>0.001769</td>\n",
       "      <td>1.000000</td>\n",
       "      <td>0.001843</td>\n",
       "      <td>-0.001926</td>\n",
       "      <td>-0.000187</td>\n",
       "      <td>0.005818</td>\n",
       "      <td>-0.000293</td>\n",
       "      <td>-0.001873</td>\n",
       "      <td>-0.000151</td>\n",
       "      <td>0.219404</td>\n",
       "      <td>-0.009750</td>\n",
       "      <td>-0.022811</td>\n",
       "      <td>-0.001238</td>\n",
       "    </tr>\n",
       "    <tr>\n",
       "      <th>zip</th>\n",
       "      <td>0.041459</td>\n",
       "      <td>0.001843</td>\n",
       "      <td>1.000000</td>\n",
       "      <td>-0.114290</td>\n",
       "      <td>-0.909732</td>\n",
       "      <td>0.078467</td>\n",
       "      <td>0.000670</td>\n",
       "      <td>-0.113561</td>\n",
       "      <td>-0.908924</td>\n",
       "      <td>-0.002162</td>\n",
       "      <td>0.010604</td>\n",
       "      <td>0.005938</td>\n",
       "      <td>-0.001608</td>\n",
       "    </tr>\n",
       "    <tr>\n",
       "      <th>latitude</th>\n",
       "      <td>-0.059271</td>\n",
       "      <td>-0.001926</td>\n",
       "      <td>-0.114290</td>\n",
       "      <td>1.000000</td>\n",
       "      <td>-0.015533</td>\n",
       "      <td>-0.155730</td>\n",
       "      <td>0.000632</td>\n",
       "      <td>0.993592</td>\n",
       "      <td>-0.015509</td>\n",
       "      <td>0.001894</td>\n",
       "      <td>0.048103</td>\n",
       "      <td>-0.011508</td>\n",
       "      <td>0.000212</td>\n",
       "    </tr>\n",
       "    <tr>\n",
       "      <th>longitude</th>\n",
       "      <td>-0.048278</td>\n",
       "      <td>-0.000187</td>\n",
       "      <td>-0.909732</td>\n",
       "      <td>-0.015533</td>\n",
       "      <td>1.000000</td>\n",
       "      <td>-0.052715</td>\n",
       "      <td>-0.000642</td>\n",
       "      <td>-0.015452</td>\n",
       "      <td>0.999120</td>\n",
       "      <td>0.001721</td>\n",
       "      <td>-0.029823</td>\n",
       "      <td>-0.002290</td>\n",
       "      <td>0.001717</td>\n",
       "    </tr>\n",
       "    <tr>\n",
       "      <th>city_pop</th>\n",
       "      <td>-0.008991</td>\n",
       "      <td>0.005818</td>\n",
       "      <td>0.078467</td>\n",
       "      <td>-0.155730</td>\n",
       "      <td>-0.052715</td>\n",
       "      <td>1.000000</td>\n",
       "      <td>-0.001714</td>\n",
       "      <td>-0.154781</td>\n",
       "      <td>-0.052687</td>\n",
       "      <td>0.002136</td>\n",
       "      <td>-0.092655</td>\n",
       "      <td>0.020381</td>\n",
       "      <td>-0.000207</td>\n",
       "    </tr>\n",
       "    <tr>\n",
       "      <th>unix_time</th>\n",
       "      <td>0.000354</td>\n",
       "      <td>-0.000293</td>\n",
       "      <td>0.000670</td>\n",
       "      <td>0.000632</td>\n",
       "      <td>-0.000642</td>\n",
       "      <td>-0.001714</td>\n",
       "      <td>1.000000</td>\n",
       "      <td>0.000561</td>\n",
       "      <td>-0.000635</td>\n",
       "      <td>-0.005078</td>\n",
       "      <td>0.019796</td>\n",
       "      <td>0.000756</td>\n",
       "      <td>-0.000980</td>\n",
       "    </tr>\n",
       "    <tr>\n",
       "      <th>merchant_latitude</th>\n",
       "      <td>-0.058942</td>\n",
       "      <td>-0.001873</td>\n",
       "      <td>-0.113561</td>\n",
       "      <td>0.993592</td>\n",
       "      <td>-0.015452</td>\n",
       "      <td>-0.154781</td>\n",
       "      <td>0.000561</td>\n",
       "      <td>1.000000</td>\n",
       "      <td>-0.015431</td>\n",
       "      <td>0.001741</td>\n",
       "      <td>0.047715</td>\n",
       "      <td>-0.011378</td>\n",
       "      <td>0.000097</td>\n",
       "    </tr>\n",
       "    <tr>\n",
       "      <th>merchant_longitude</th>\n",
       "      <td>-0.048252</td>\n",
       "      <td>-0.000151</td>\n",
       "      <td>-0.908924</td>\n",
       "      <td>-0.015509</td>\n",
       "      <td>0.999120</td>\n",
       "      <td>-0.052687</td>\n",
       "      <td>-0.000635</td>\n",
       "      <td>-0.015431</td>\n",
       "      <td>1.000000</td>\n",
       "      <td>0.001721</td>\n",
       "      <td>-0.029746</td>\n",
       "      <td>-0.002325</td>\n",
       "      <td>0.001750</td>\n",
       "    </tr>\n",
       "    <tr>\n",
       "      <th>is_fraud</th>\n",
       "      <td>-0.000981</td>\n",
       "      <td>0.219404</td>\n",
       "      <td>-0.002162</td>\n",
       "      <td>0.001894</td>\n",
       "      <td>0.001721</td>\n",
       "      <td>0.002136</td>\n",
       "      <td>-0.005078</td>\n",
       "      <td>0.001741</td>\n",
       "      <td>0.001721</td>\n",
       "      <td>1.000000</td>\n",
       "      <td>0.012272</td>\n",
       "      <td>0.013799</td>\n",
       "      <td>0.000427</td>\n",
       "    </tr>\n",
       "    <tr>\n",
       "      <th>age</th>\n",
       "      <td>-0.001048</td>\n",
       "      <td>-0.009750</td>\n",
       "      <td>0.010604</td>\n",
       "      <td>0.048103</td>\n",
       "      <td>-0.029823</td>\n",
       "      <td>-0.092655</td>\n",
       "      <td>0.019796</td>\n",
       "      <td>0.047715</td>\n",
       "      <td>-0.029746</td>\n",
       "      <td>0.012272</td>\n",
       "      <td>1.000000</td>\n",
       "      <td>-0.172952</td>\n",
       "      <td>-0.001159</td>\n",
       "    </tr>\n",
       "    <tr>\n",
       "      <th>transaction_hour</th>\n",
       "      <td>-0.000801</td>\n",
       "      <td>-0.022811</td>\n",
       "      <td>0.005938</td>\n",
       "      <td>-0.011508</td>\n",
       "      <td>-0.002290</td>\n",
       "      <td>0.020381</td>\n",
       "      <td>0.000756</td>\n",
       "      <td>-0.011378</td>\n",
       "      <td>-0.002325</td>\n",
       "      <td>0.013799</td>\n",
       "      <td>-0.172952</td>\n",
       "      <td>1.000000</td>\n",
       "      <td>-0.000735</td>\n",
       "    </tr>\n",
       "    <tr>\n",
       "      <th>distance</th>\n",
       "      <td>-0.000571</td>\n",
       "      <td>-0.001238</td>\n",
       "      <td>-0.001608</td>\n",
       "      <td>0.000212</td>\n",
       "      <td>0.001717</td>\n",
       "      <td>-0.000207</td>\n",
       "      <td>-0.000980</td>\n",
       "      <td>0.000097</td>\n",
       "      <td>0.001750</td>\n",
       "      <td>0.000427</td>\n",
       "      <td>-0.001159</td>\n",
       "      <td>-0.000735</td>\n",
       "      <td>1.000000</td>\n",
       "    </tr>\n",
       "  </tbody>\n",
       "</table>\n",
       "</div>\n",
       "      <button class=\"colab-df-convert\" onclick=\"convertToInteractive('df-c2daaff1-defd-45b8-b0ca-dc7bac780117')\"\n",
       "              title=\"Convert this dataframe to an interactive table.\"\n",
       "              style=\"display:none;\">\n",
       "        \n",
       "  <svg xmlns=\"http://www.w3.org/2000/svg\" height=\"24px\"viewBox=\"0 0 24 24\"\n",
       "       width=\"24px\">\n",
       "    <path d=\"M0 0h24v24H0V0z\" fill=\"none\"/>\n",
       "    <path d=\"M18.56 5.44l.94 2.06.94-2.06 2.06-.94-2.06-.94-.94-2.06-.94 2.06-2.06.94zm-11 1L8.5 8.5l.94-2.06 2.06-.94-2.06-.94L8.5 2.5l-.94 2.06-2.06.94zm10 10l.94 2.06.94-2.06 2.06-.94-2.06-.94-.94-2.06-.94 2.06-2.06.94z\"/><path d=\"M17.41 7.96l-1.37-1.37c-.4-.4-.92-.59-1.43-.59-.52 0-1.04.2-1.43.59L10.3 9.45l-7.72 7.72c-.78.78-.78 2.05 0 2.83L4 21.41c.39.39.9.59 1.41.59.51 0 1.02-.2 1.41-.59l7.78-7.78 2.81-2.81c.8-.78.8-2.07 0-2.86zM5.41 20L4 18.59l7.72-7.72 1.47 1.35L5.41 20z\"/>\n",
       "  </svg>\n",
       "      </button>\n",
       "      \n",
       "  <style>\n",
       "    .colab-df-container {\n",
       "      display:flex;\n",
       "      flex-wrap:wrap;\n",
       "      gap: 12px;\n",
       "    }\n",
       "\n",
       "    .colab-df-convert {\n",
       "      background-color: #E8F0FE;\n",
       "      border: none;\n",
       "      border-radius: 50%;\n",
       "      cursor: pointer;\n",
       "      display: none;\n",
       "      fill: #1967D2;\n",
       "      height: 32px;\n",
       "      padding: 0 0 0 0;\n",
       "      width: 32px;\n",
       "    }\n",
       "\n",
       "    .colab-df-convert:hover {\n",
       "      background-color: #E2EBFA;\n",
       "      box-shadow: 0px 1px 2px rgba(60, 64, 67, 0.3), 0px 1px 3px 1px rgba(60, 64, 67, 0.15);\n",
       "      fill: #174EA6;\n",
       "    }\n",
       "\n",
       "    [theme=dark] .colab-df-convert {\n",
       "      background-color: #3B4455;\n",
       "      fill: #D2E3FC;\n",
       "    }\n",
       "\n",
       "    [theme=dark] .colab-df-convert:hover {\n",
       "      background-color: #434B5C;\n",
       "      box-shadow: 0px 1px 3px 1px rgba(0, 0, 0, 0.15);\n",
       "      filter: drop-shadow(0px 1px 2px rgba(0, 0, 0, 0.3));\n",
       "      fill: #FFFFFF;\n",
       "    }\n",
       "  </style>\n",
       "\n",
       "      <script>\n",
       "        const buttonEl =\n",
       "          document.querySelector('#df-c2daaff1-defd-45b8-b0ca-dc7bac780117 button.colab-df-convert');\n",
       "        buttonEl.style.display =\n",
       "          google.colab.kernel.accessAllowed ? 'block' : 'none';\n",
       "\n",
       "        async function convertToInteractive(key) {\n",
       "          const element = document.querySelector('#df-c2daaff1-defd-45b8-b0ca-dc7bac780117');\n",
       "          const dataTable =\n",
       "            await google.colab.kernel.invokeFunction('convertToInteractive',\n",
       "                                                     [key], {});\n",
       "          if (!dataTable) return;\n",
       "\n",
       "          const docLinkHtml = 'Like what you see? Visit the ' +\n",
       "            '<a target=\"_blank\" href=https://colab.research.google.com/notebooks/data_table.ipynb>data table notebook</a>'\n",
       "            + ' to learn more about interactive tables.';\n",
       "          element.innerHTML = '';\n",
       "          dataTable['output_type'] = 'display_data';\n",
       "          await google.colab.output.renderOutput(dataTable, element);\n",
       "          const docLink = document.createElement('div');\n",
       "          docLink.innerHTML = docLinkHtml;\n",
       "          element.appendChild(docLink);\n",
       "        }\n",
       "      </script>\n",
       "    </div>\n",
       "  </div>\n",
       "  "
      ],
      "text/plain": [
       "                    credit_card_number    amount       zip  latitude  \\\n",
       "credit_card_number            1.000000  0.001769  0.041459 -0.059271   \n",
       "amount                        0.001769  1.000000  0.001843 -0.001926   \n",
       "zip                           0.041459  0.001843  1.000000 -0.114290   \n",
       "latitude                     -0.059271 -0.001926 -0.114290  1.000000   \n",
       "longitude                    -0.048278 -0.000187 -0.909732 -0.015533   \n",
       "city_pop                     -0.008991  0.005818  0.078467 -0.155730   \n",
       "unix_time                     0.000354 -0.000293  0.000670  0.000632   \n",
       "merchant_latitude            -0.058942 -0.001873 -0.113561  0.993592   \n",
       "merchant_longitude           -0.048252 -0.000151 -0.908924 -0.015509   \n",
       "is_fraud                     -0.000981  0.219404 -0.002162  0.001894   \n",
       "age                          -0.001048 -0.009750  0.010604  0.048103   \n",
       "transaction_hour             -0.000801 -0.022811  0.005938 -0.011508   \n",
       "distance                     -0.000571 -0.001238 -0.001608  0.000212   \n",
       "\n",
       "                    longitude  city_pop  unix_time  merchant_latitude  \\\n",
       "credit_card_number  -0.048278 -0.008991   0.000354          -0.058942   \n",
       "amount              -0.000187  0.005818  -0.000293          -0.001873   \n",
       "zip                 -0.909732  0.078467   0.000670          -0.113561   \n",
       "latitude            -0.015533 -0.155730   0.000632           0.993592   \n",
       "longitude            1.000000 -0.052715  -0.000642          -0.015452   \n",
       "city_pop            -0.052715  1.000000  -0.001714          -0.154781   \n",
       "unix_time           -0.000642 -0.001714   1.000000           0.000561   \n",
       "merchant_latitude   -0.015452 -0.154781   0.000561           1.000000   \n",
       "merchant_longitude   0.999120 -0.052687  -0.000635          -0.015431   \n",
       "is_fraud             0.001721  0.002136  -0.005078           0.001741   \n",
       "age                 -0.029823 -0.092655   0.019796           0.047715   \n",
       "transaction_hour    -0.002290  0.020381   0.000756          -0.011378   \n",
       "distance             0.001717 -0.000207  -0.000980           0.000097   \n",
       "\n",
       "                    merchant_longitude  is_fraud       age  transaction_hour  \\\n",
       "credit_card_number           -0.048252 -0.000981 -0.001048         -0.000801   \n",
       "amount                       -0.000151  0.219404 -0.009750         -0.022811   \n",
       "zip                          -0.908924 -0.002162  0.010604          0.005938   \n",
       "latitude                     -0.015509  0.001894  0.048103         -0.011508   \n",
       "longitude                     0.999120  0.001721 -0.029823         -0.002290   \n",
       "city_pop                     -0.052687  0.002136 -0.092655          0.020381   \n",
       "unix_time                    -0.000635 -0.005078  0.019796          0.000756   \n",
       "merchant_latitude            -0.015431  0.001741  0.047715         -0.011378   \n",
       "merchant_longitude            1.000000  0.001721 -0.029746         -0.002325   \n",
       "is_fraud                      0.001721  1.000000  0.012272          0.013799   \n",
       "age                          -0.029746  0.012272  1.000000         -0.172952   \n",
       "transaction_hour             -0.002325  0.013799 -0.172952          1.000000   \n",
       "distance                      0.001750  0.000427 -0.001159         -0.000735   \n",
       "\n",
       "                    distance  \n",
       "credit_card_number -0.000571  \n",
       "amount             -0.001238  \n",
       "zip                -0.001608  \n",
       "latitude            0.000212  \n",
       "longitude           0.001717  \n",
       "city_pop           -0.000207  \n",
       "unix_time          -0.000980  \n",
       "merchant_latitude   0.000097  \n",
       "merchant_longitude  0.001750  \n",
       "is_fraud            0.000427  \n",
       "age                -0.001159  \n",
       "transaction_hour   -0.000735  \n",
       "distance            1.000000  "
      ]
     },
     "execution_count": 76,
     "metadata": {},
     "output_type": "execute_result"
    }
   ],
   "source": [
    "# correlation matrix\n",
    "corr = train_data.corr()\n",
    "corr"
   ]
  },
  {
   "cell_type": "code",
   "execution_count": 77,
   "metadata": {
    "colab": {
     "base_uri": "https://localhost:8080/",
     "height": 577
    },
    "id": "LT9e8O4wi1Bi",
    "outputId": "251e6eb5-088b-4910-a48d-94f81d7768a3"
   },
   "outputs": [
    {
     "data": {
      "image/png": "[encoded data removed]",
      "text/plain": [
       "<Figure size 1080x576 with 2 Axes>"
      ]
     },
     "metadata": {
      "needs_background": "light"
     },
     "output_type": "display_data"
    }
   ],
   "source": [
    "# plotting heatmap\n",
    "plt.figure(figsize=(15,8))\n",
    "sns.heatmap(train_data.corr(), annot=True)\n",
    "plt.show()"
   ]
  },
  {
   "cell_type": "code",
   "execution_count": 78,
   "metadata": {
    "id": "xBadTn1GjweK"
   },
   "outputs": [],
   "source": [
    "# dropping columns no longer required\n",
    "train_data2 = train_data.drop(['transaction_date_time','transaction_year_month', 'credit_card_number', 'first_name', 'last_name', 'street', 'city', 'zip', 'latitude', 'longitude',\n",
    "                              'city_pop', 'merchant', 'dob', 'transaction_id', 'unix_time', 'merchant_latitude', 'merchant_longitude', 'age', 'distance',\n",
    "                              'job','state'], axis=1)"
   ]
  },
  {
   "cell_type": "code",
   "execution_count": 79,
   "metadata": {
    "colab": {
     "base_uri": "https://localhost:8080/"
    },
    "id": "xFptddc2jQAj",
    "outputId": "b4672339-5416-41cc-d661-5ab357f25133"
   },
   "outputs": [
    {
     "name": "stdout",
     "output_type": "stream",
     "text": [
      "<class 'pandas.core.frame.DataFrame'>\n",
      "RangeIndex: 1296675 entries, 0 to 1296674\n",
      "Data columns (total 9 columns):\n",
      " #   Column                   Non-Null Count    Dtype   \n",
      "---  ------                   --------------    -----   \n",
      " 0   category                 1296675 non-null  object  \n",
      " 1   amount                   1296675 non-null  float64 \n",
      " 2   gender                   1296675 non-null  object  \n",
      " 3   is_fraud                 1296675 non-null  int64   \n",
      " 4   age_group                1296675 non-null  category\n",
      " 5   transaction_hour         1296675 non-null  int64   \n",
      " 6   transaction_day_of_week  1296675 non-null  object  \n",
      " 7   distance_segment         1296585 non-null  category\n",
      " 8   city_pop_segment         1296675 non-null  category\n",
      "dtypes: category(3), float64(1), int64(2), object(3)\n",
      "memory usage: 63.1+ MB\n"
     ]
    }
   ],
   "source": [
    "train_data2.info()"
   ]
  },
  {
   "cell_type": "code",
   "execution_count": 80,
   "metadata": {
    "id": "h1edUFChGzDa"
   },
   "outputs": [],
   "source": [
    "# storings the columns in new_vars\n",
    "new_vars = ['category','amount','is_fraud','age_group','transaction_hour','transaction_day_of_week','distance_segment','city_pop_segment']"
   ]
  },
  {
   "cell_type": "code",
   "execution_count": 81,
   "metadata": {
    "colab": {
     "base_uri": "https://localhost:8080/"
    },
    "id": "kn1MbBpA_uJA",
    "outputId": "9cef66fb-d27b-4f64-f953-2f356a31e522"
   },
   "outputs": [
    {
     "data": {
      "text/plain": [
       "(1296675, 30)"
      ]
     },
     "execution_count": 81,
     "metadata": {},
     "output_type": "execute_result"
    }
   ],
   "source": [
    "# looking at dimensions\n",
    "train_data.shape"
   ]
  },
  {
   "cell_type": "code",
   "execution_count": 82,
   "metadata": {
    "colab": {
     "base_uri": "https://localhost:8080/"
    },
    "id": "6Ibex800kyLm",
    "outputId": "bf44ae6f-1761-42c3-bfcd-9d043e6b0cc0"
   },
   "outputs": [
    {
     "data": {
      "text/plain": [
       "(1296675, 9)"
      ]
     },
     "execution_count": 82,
     "metadata": {},
     "output_type": "execute_result"
    }
   ],
   "source": [
    "# looking at dimensions\n",
    "train_data2.shape"
   ]
  },
  {
   "cell_type": "markdown",
   "metadata": {
    "id": "rBOVcs02xxEF"
   },
   "source": [
    "**creating dummies**"
   ]
  },
  {
   "cell_type": "code",
   "execution_count": 83,
   "metadata": {
    "id": "QuUTMGL7jwsV"
   },
   "outputs": [],
   "source": [
    "dummy = pd.get_dummies(train_data2[['category', 'gender', 'age_group','transaction_day_of_week', 'distance_segment', 'city_pop_segment']],\n",
    "                                  drop_first=True)\n",
    "\n",
    "# adding results to train_data\n",
    "train_data2 = pd.concat([train_data2, dummy],axis=1)"
   ]
  },
  {
   "cell_type": "code",
   "execution_count": 84,
   "metadata": {
    "colab": {
     "base_uri": "https://localhost:8080/"
    },
    "id": "mmOC_CHUjw7m",
    "outputId": "f7285917-1cdb-4eef-8db2-7cd343032412"
   },
   "outputs": [
    {
     "data": {
      "text/plain": [
       "Index(['category', 'amount', 'gender', 'is_fraud', 'age_group',\n",
       "       'transaction_hour', 'transaction_day_of_week', 'distance_segment',\n",
       "       'city_pop_segment', 'category_food_dining', 'category_gas_transport',\n",
       "       'category_grocery_net', 'category_grocery_pos',\n",
       "       'category_health_fitness', 'category_home', 'category_kids_pets',\n",
       "       'category_misc_net', 'category_misc_pos', 'category_personal_care',\n",
       "       'category_shopping_net', 'category_shopping_pos', 'category_travel',\n",
       "       'gender_M', 'age_group_21-30', 'age_group_31-40', 'age_group_41-50',\n",
       "       'age_group_51-60', 'age_group_60+', 'transaction_day_of_week_Monday',\n",
       "       'transaction_day_of_week_Saturday', 'transaction_day_of_week_Sunday',\n",
       "       'transaction_day_of_week_Thursday', 'transaction_day_of_week_Tuesday',\n",
       "       'transaction_day_of_week_Wednesday', 'distance_segment_far',\n",
       "       'distance_segment_far_away', 'city_pop_segment_moderate',\n",
       "       'city_pop_segment_dense'],\n",
       "      dtype='object')"
      ]
     },
     "execution_count": 84,
     "metadata": {},
     "output_type": "execute_result"
    }
   ],
   "source": [
    "# looking at columns afer creating dummies\n",
    "train_data2.columns"
   ]
  },
  {
   "cell_type": "code",
   "execution_count": 85,
   "metadata": {
    "id": "teb3_vKozuSd"
   },
   "outputs": [],
   "source": [
    "# We have created dummies for the below variables, so we can drop them\n",
    "train_data2 = train_data2.drop(['category', 'gender', 'age_group','transaction_day_of_week', 'distance_segment', 'city_pop_segment'], axis=1)"
   ]
  },
  {
   "cell_type": "code",
   "execution_count": 86,
   "metadata": {
    "colab": {
     "base_uri": "https://localhost:8080/"
    },
    "id": "hHKfNhIzz85n",
    "outputId": "88fe4823-522b-4163-b907-a8f42ea3e0f0"
   },
   "outputs": [
    {
     "data": {
      "text/plain": [
       "Index(['amount', 'is_fraud', 'transaction_hour', 'category_food_dining',\n",
       "       'category_gas_transport', 'category_grocery_net',\n",
       "       'category_grocery_pos', 'category_health_fitness', 'category_home',\n",
       "       'category_kids_pets', 'category_misc_net', 'category_misc_pos',\n",
       "       'category_personal_care', 'category_shopping_net',\n",
       "       'category_shopping_pos', 'category_travel', 'gender_M',\n",
       "       'age_group_21-30', 'age_group_31-40', 'age_group_41-50',\n",
       "       'age_group_51-60', 'age_group_60+', 'transaction_day_of_week_Monday',\n",
       "       'transaction_day_of_week_Saturday', 'transaction_day_of_week_Sunday',\n",
       "       'transaction_day_of_week_Thursday', 'transaction_day_of_week_Tuesday',\n",
       "       'transaction_day_of_week_Wednesday', 'distance_segment_far',\n",
       "       'distance_segment_far_away', 'city_pop_segment_moderate',\n",
       "       'city_pop_segment_dense'],\n",
       "      dtype='object')"
      ]
     },
     "execution_count": 86,
     "metadata": {},
     "output_type": "execute_result"
    }
   ],
   "source": [
    "# looking at all the columns\n",
    "train_data2.columns"
   ]
  },
  {
   "cell_type": "code",
   "execution_count": 87,
   "metadata": {
    "colab": {
     "base_uri": "https://localhost:8080/"
    },
    "id": "Uk75EZ2mjw_c",
    "outputId": "343c5b34-2c54-4943-bd53-5c69f2f83ada"
   },
   "outputs": [
    {
     "data": {
      "text/plain": [
       "(1296675, 32)"
      ]
     },
     "execution_count": 87,
     "metadata": {},
     "output_type": "execute_result"
    }
   ],
   "source": [
    "# looking at dimensions\n",
    "train_data2.shape"
   ]
  },
  {
   "cell_type": "code",
   "execution_count": 88,
   "metadata": {
    "colab": {
     "base_uri": "https://localhost:8080/",
     "height": 300
    },
    "id": "hoAIiRJrma5E",
    "outputId": "9a2d73e8-da4e-468a-c0ce-a44290937551"
   },
   "outputs": [
    {
     "data": {
      "text/html": [
       "\n",
       "  <div id=\"df-04e61265-7ecb-4bc8-89bf-c93ad2731eb5\">\n",
       "    <div class=\"colab-df-container\">\n",
       "      <div>\n",
       "<style scoped>\n",
       "    .dataframe tbody tr th:only-of-type {\n",
       "        vertical-align: middle;\n",
       "    }\n",
       "\n",
       "    .dataframe tbody tr th {\n",
       "        vertical-align: top;\n",
       "    }\n",
       "\n",
       "    .dataframe thead th {\n",
       "        text-align: right;\n",
       "    }\n",
       "</style>\n",
       "<table border=\"1\" class=\"dataframe\">\n",
       "  <thead>\n",
       "    <tr style=\"text-align: right;\">\n",
       "      <th></th>\n",
       "      <th>amount</th>\n",
       "      <th>is_fraud</th>\n",
       "      <th>transaction_hour</th>\n",
       "      <th>category_food_dining</th>\n",
       "      <th>category_gas_transport</th>\n",
       "      <th>category_grocery_net</th>\n",
       "      <th>category_grocery_pos</th>\n",
       "      <th>category_health_fitness</th>\n",
       "      <th>category_home</th>\n",
       "      <th>category_kids_pets</th>\n",
       "      <th>...</th>\n",
       "      <th>transaction_day_of_week_Monday</th>\n",
       "      <th>transaction_day_of_week_Saturday</th>\n",
       "      <th>transaction_day_of_week_Sunday</th>\n",
       "      <th>transaction_day_of_week_Thursday</th>\n",
       "      <th>transaction_day_of_week_Tuesday</th>\n",
       "      <th>transaction_day_of_week_Wednesday</th>\n",
       "      <th>distance_segment_far</th>\n",
       "      <th>distance_segment_far_away</th>\n",
       "      <th>city_pop_segment_moderate</th>\n",
       "      <th>city_pop_segment_dense</th>\n",
       "    </tr>\n",
       "  </thead>\n",
       "  <tbody>\n",
       "    <tr>\n",
       "      <th>0</th>\n",
       "      <td>4.97</td>\n",
       "      <td>0</td>\n",
       "      <td>0</td>\n",
       "      <td>0</td>\n",
       "      <td>0</td>\n",
       "      <td>0</td>\n",
       "      <td>0</td>\n",
       "      <td>0</td>\n",
       "      <td>0</td>\n",
       "      <td>0</td>\n",
       "      <td>...</td>\n",
       "      <td>0</td>\n",
       "      <td>0</td>\n",
       "      <td>0</td>\n",
       "      <td>0</td>\n",
       "      <td>1</td>\n",
       "      <td>0</td>\n",
       "      <td>1</td>\n",
       "      <td>0</td>\n",
       "      <td>0</td>\n",
       "      <td>0</td>\n",
       "    </tr>\n",
       "    <tr>\n",
       "      <th>1</th>\n",
       "      <td>107.23</td>\n",
       "      <td>0</td>\n",
       "      <td>0</td>\n",
       "      <td>0</td>\n",
       "      <td>0</td>\n",
       "      <td>0</td>\n",
       "      <td>1</td>\n",
       "      <td>0</td>\n",
       "      <td>0</td>\n",
       "      <td>0</td>\n",
       "      <td>...</td>\n",
       "      <td>0</td>\n",
       "      <td>0</td>\n",
       "      <td>0</td>\n",
       "      <td>0</td>\n",
       "      <td>1</td>\n",
       "      <td>0</td>\n",
       "      <td>0</td>\n",
       "      <td>0</td>\n",
       "      <td>0</td>\n",
       "      <td>0</td>\n",
       "    </tr>\n",
       "    <tr>\n",
       "      <th>2</th>\n",
       "      <td>220.11</td>\n",
       "      <td>0</td>\n",
       "      <td>0</td>\n",
       "      <td>0</td>\n",
       "      <td>0</td>\n",
       "      <td>0</td>\n",
       "      <td>0</td>\n",
       "      <td>0</td>\n",
       "      <td>0</td>\n",
       "      <td>0</td>\n",
       "      <td>...</td>\n",
       "      <td>0</td>\n",
       "      <td>0</td>\n",
       "      <td>0</td>\n",
       "      <td>0</td>\n",
       "      <td>1</td>\n",
       "      <td>0</td>\n",
       "      <td>0</td>\n",
       "      <td>1</td>\n",
       "      <td>0</td>\n",
       "      <td>0</td>\n",
       "    </tr>\n",
       "    <tr>\n",
       "      <th>3</th>\n",
       "      <td>45.00</td>\n",
       "      <td>0</td>\n",
       "      <td>0</td>\n",
       "      <td>0</td>\n",
       "      <td>1</td>\n",
       "      <td>0</td>\n",
       "      <td>0</td>\n",
       "      <td>0</td>\n",
       "      <td>0</td>\n",
       "      <td>0</td>\n",
       "      <td>...</td>\n",
       "      <td>0</td>\n",
       "      <td>0</td>\n",
       "      <td>0</td>\n",
       "      <td>0</td>\n",
       "      <td>1</td>\n",
       "      <td>0</td>\n",
       "      <td>0</td>\n",
       "      <td>1</td>\n",
       "      <td>0</td>\n",
       "      <td>0</td>\n",
       "    </tr>\n",
       "    <tr>\n",
       "      <th>4</th>\n",
       "      <td>41.96</td>\n",
       "      <td>0</td>\n",
       "      <td>0</td>\n",
       "      <td>0</td>\n",
       "      <td>0</td>\n",
       "      <td>0</td>\n",
       "      <td>0</td>\n",
       "      <td>0</td>\n",
       "      <td>0</td>\n",
       "      <td>0</td>\n",
       "      <td>...</td>\n",
       "      <td>0</td>\n",
       "      <td>0</td>\n",
       "      <td>0</td>\n",
       "      <td>0</td>\n",
       "      <td>1</td>\n",
       "      <td>0</td>\n",
       "      <td>1</td>\n",
       "      <td>0</td>\n",
       "      <td>0</td>\n",
       "      <td>0</td>\n",
       "    </tr>\n",
       "  </tbody>\n",
       "</table>\n",
       "<p>5 rows × 32 columns</p>\n",
       "</div>\n",
       "      <button class=\"colab-df-convert\" onclick=\"convertToInteractive('df-04e61265-7ecb-4bc8-89bf-c93ad2731eb5')\"\n",
       "              title=\"Convert this dataframe to an interactive table.\"\n",
       "              style=\"display:none;\">\n",
       "        \n",
       "  <svg xmlns=\"http://www.w3.org/2000/svg\" height=\"24px\"viewBox=\"0 0 24 24\"\n",
       "       width=\"24px\">\n",
       "    <path d=\"M0 0h24v24H0V0z\" fill=\"none\"/>\n",
       "    <path d=\"M18.56 5.44l.94 2.06.94-2.06 2.06-.94-2.06-.94-.94-2.06-.94 2.06-2.06.94zm-11 1L8.5 8.5l.94-2.06 2.06-.94-2.06-.94L8.5 2.5l-.94 2.06-2.06.94zm10 10l.94 2.06.94-2.06 2.06-.94-2.06-.94-.94-2.06-.94 2.06-2.06.94z\"/><path d=\"M17.41 7.96l-1.37-1.37c-.4-.4-.92-.59-1.43-.59-.52 0-1.04.2-1.43.59L10.3 9.45l-7.72 7.72c-.78.78-.78 2.05 0 2.83L4 21.41c.39.39.9.59 1.41.59.51 0 1.02-.2 1.41-.59l7.78-7.78 2.81-2.81c.8-.78.8-2.07 0-2.86zM5.41 20L4 18.59l7.72-7.72 1.47 1.35L5.41 20z\"/>\n",
       "  </svg>\n",
       "      </button>\n",
       "      \n",
       "  <style>\n",
       "    .colab-df-container {\n",
       "      display:flex;\n",
       "      flex-wrap:wrap;\n",
       "      gap: 12px;\n",
       "    }\n",
       "\n",
       "    .colab-df-convert {\n",
       "      background-color: #E8F0FE;\n",
       "      border: none;\n",
       "      border-radius: 50%;\n",
       "      cursor: pointer;\n",
       "      display: none;\n",
       "      fill: #1967D2;\n",
       "      height: 32px;\n",
       "      padding: 0 0 0 0;\n",
       "      width: 32px;\n",
       "    }\n",
       "\n",
       "    .colab-df-convert:hover {\n",
       "      background-color: #E2EBFA;\n",
       "      box-shadow: 0px 1px 2px rgba(60, 64, 67, 0.3), 0px 1px 3px 1px rgba(60, 64, 67, 0.15);\n",
       "      fill: #174EA6;\n",
       "    }\n",
       "\n",
       "    [theme=dark] .colab-df-convert {\n",
       "      background-color: #3B4455;\n",
       "      fill: #D2E3FC;\n",
       "    }\n",
       "\n",
       "    [theme=dark] .colab-df-convert:hover {\n",
       "      background-color: #434B5C;\n",
       "      box-shadow: 0px 1px 3px 1px rgba(0, 0, 0, 0.15);\n",
       "      filter: drop-shadow(0px 1px 2px rgba(0, 0, 0, 0.3));\n",
       "      fill: #FFFFFF;\n",
       "    }\n",
       "  </style>\n",
       "\n",
       "      <script>\n",
       "        const buttonEl =\n",
       "          document.querySelector('#df-04e61265-7ecb-4bc8-89bf-c93ad2731eb5 button.colab-df-convert');\n",
       "        buttonEl.style.display =\n",
       "          google.colab.kernel.accessAllowed ? 'block' : 'none';\n",
       "\n",
       "        async function convertToInteractive(key) {\n",
       "          const element = document.querySelector('#df-04e61265-7ecb-4bc8-89bf-c93ad2731eb5');\n",
       "          const dataTable =\n",
       "            await google.colab.kernel.invokeFunction('convertToInteractive',\n",
       "                                                     [key], {});\n",
       "          if (!dataTable) return;\n",
       "\n",
       "          const docLinkHtml = 'Like what you see? Visit the ' +\n",
       "            '<a target=\"_blank\" href=https://colab.research.google.com/notebooks/data_table.ipynb>data table notebook</a>'\n",
       "            + ' to learn more about interactive tables.';\n",
       "          element.innerHTML = '';\n",
       "          dataTable['output_type'] = 'display_data';\n",
       "          await google.colab.output.renderOutput(dataTable, element);\n",
       "          const docLink = document.createElement('div');\n",
       "          docLink.innerHTML = docLinkHtml;\n",
       "          element.appendChild(docLink);\n",
       "        }\n",
       "      </script>\n",
       "    </div>\n",
       "  </div>\n",
       "  "
      ],
      "text/plain": [
       "   amount  is_fraud  transaction_hour  category_food_dining  \\\n",
       "0    4.97         0                 0                     0   \n",
       "1  107.23         0                 0                     0   \n",
       "2  220.11         0                 0                     0   \n",
       "3   45.00         0                 0                     0   \n",
       "4   41.96         0                 0                     0   \n",
       "\n",
       "   category_gas_transport  category_grocery_net  category_grocery_pos  \\\n",
       "0                       0                     0                     0   \n",
       "1                       0                     0                     1   \n",
       "2                       0                     0                     0   \n",
       "3                       1                     0                     0   \n",
       "4                       0                     0                     0   \n",
       "\n",
       "   category_health_fitness  category_home  category_kids_pets  ...  \\\n",
       "0                        0              0                   0  ...   \n",
       "1                        0              0                   0  ...   \n",
       "2                        0              0                   0  ...   \n",
       "3                        0              0                   0  ...   \n",
       "4                        0              0                   0  ...   \n",
       "\n",
       "   transaction_day_of_week_Monday  transaction_day_of_week_Saturday  \\\n",
       "0                               0                                 0   \n",
       "1                               0                                 0   \n",
       "2                               0                                 0   \n",
       "3                               0                                 0   \n",
       "4                               0                                 0   \n",
       "\n",
       "   transaction_day_of_week_Sunday  transaction_day_of_week_Thursday  \\\n",
       "0                               0                                 0   \n",
       "1                               0                                 0   \n",
       "2                               0                                 0   \n",
       "3                               0                                 0   \n",
       "4                               0                                 0   \n",
       "\n",
       "   transaction_day_of_week_Tuesday  transaction_day_of_week_Wednesday  \\\n",
       "0                                1                                  0   \n",
       "1                                1                                  0   \n",
       "2                                1                                  0   \n",
       "3                                1                                  0   \n",
       "4                                1                                  0   \n",
       "\n",
       "   distance_segment_far  distance_segment_far_away  city_pop_segment_moderate  \\\n",
       "0                     1                          0                          0   \n",
       "1                     0                          0                          0   \n",
       "2                     0                          1                          0   \n",
       "3                     0                          1                          0   \n",
       "4                     1                          0                          0   \n",
       "\n",
       "   city_pop_segment_dense  \n",
       "0                       0  \n",
       "1                       0  \n",
       "2                       0  \n",
       "3                       0  \n",
       "4                       0  \n",
       "\n",
       "[5 rows x 32 columns]"
      ]
     },
     "execution_count": 88,
     "metadata": {},
     "output_type": "execute_result"
    }
   ],
   "source": [
    "#top 5 rows\n",
    "train_data2.head()"
   ]
  },
  {
   "cell_type": "markdown",
   "metadata": {
    "id": "T74HAWGe0SYB"
   },
   "source": [
    "## **3) Train/Test Data Splitting**"
   ]
  },
  {
   "cell_type": "code",
   "execution_count": 89,
   "metadata": {
    "id": "m4GvgT50jxE5"
   },
   "outputs": [],
   "source": [
    "# importing library\n",
    "from sklearn.model_selection import train_test_split"
   ]
  },
  {
   "cell_type": "code",
   "execution_count": 90,
   "metadata": {
    "id": "o1660BkVjxIt"
   },
   "outputs": [],
   "source": [
    "# creating X and y variables\n",
    "X = train_data2.drop('is_fraud', axis=1)\n",
    "y = train_data2['is_fraud']"
   ]
  },
  {
   "cell_type": "code",
   "execution_count": 91,
   "metadata": {
    "colab": {
     "base_uri": "https://localhost:8080/",
     "height": 300
    },
    "id": "2CehqoCNjxN3",
    "outputId": "430b02d5-fdf9-4f5d-f6fc-4ae169d38bb2"
   },
   "outputs": [
    {
     "data": {
      "text/html": [
       "\n",
       "  <div id=\"df-6184ebdf-c99b-4956-b54f-7cde142c2be9\">\n",
       "    <div class=\"colab-df-container\">\n",
       "      <div>\n",
       "<style scoped>\n",
       "    .dataframe tbody tr th:only-of-type {\n",
       "        vertical-align: middle;\n",
       "    }\n",
       "\n",
       "    .dataframe tbody tr th {\n",
       "        vertical-align: top;\n",
       "    }\n",
       "\n",
       "    .dataframe thead th {\n",
       "        text-align: right;\n",
       "    }\n",
       "</style>\n",
       "<table border=\"1\" class=\"dataframe\">\n",
       "  <thead>\n",
       "    <tr style=\"text-align: right;\">\n",
       "      <th></th>\n",
       "      <th>amount</th>\n",
       "      <th>transaction_hour</th>\n",
       "      <th>category_food_dining</th>\n",
       "      <th>category_gas_transport</th>\n",
       "      <th>category_grocery_net</th>\n",
       "      <th>category_grocery_pos</th>\n",
       "      <th>category_health_fitness</th>\n",
       "      <th>category_home</th>\n",
       "      <th>category_kids_pets</th>\n",
       "      <th>category_misc_net</th>\n",
       "      <th>...</th>\n",
       "      <th>transaction_day_of_week_Monday</th>\n",
       "      <th>transaction_day_of_week_Saturday</th>\n",
       "      <th>transaction_day_of_week_Sunday</th>\n",
       "      <th>transaction_day_of_week_Thursday</th>\n",
       "      <th>transaction_day_of_week_Tuesday</th>\n",
       "      <th>transaction_day_of_week_Wednesday</th>\n",
       "      <th>distance_segment_far</th>\n",
       "      <th>distance_segment_far_away</th>\n",
       "      <th>city_pop_segment_moderate</th>\n",
       "      <th>city_pop_segment_dense</th>\n",
       "    </tr>\n",
       "  </thead>\n",
       "  <tbody>\n",
       "    <tr>\n",
       "      <th>0</th>\n",
       "      <td>4.97</td>\n",
       "      <td>0</td>\n",
       "      <td>0</td>\n",
       "      <td>0</td>\n",
       "      <td>0</td>\n",
       "      <td>0</td>\n",
       "      <td>0</td>\n",
       "      <td>0</td>\n",
       "      <td>0</td>\n",
       "      <td>1</td>\n",
       "      <td>...</td>\n",
       "      <td>0</td>\n",
       "      <td>0</td>\n",
       "      <td>0</td>\n",
       "      <td>0</td>\n",
       "      <td>1</td>\n",
       "      <td>0</td>\n",
       "      <td>1</td>\n",
       "      <td>0</td>\n",
       "      <td>0</td>\n",
       "      <td>0</td>\n",
       "    </tr>\n",
       "    <tr>\n",
       "      <th>1</th>\n",
       "      <td>107.23</td>\n",
       "      <td>0</td>\n",
       "      <td>0</td>\n",
       "      <td>0</td>\n",
       "      <td>0</td>\n",
       "      <td>1</td>\n",
       "      <td>0</td>\n",
       "      <td>0</td>\n",
       "      <td>0</td>\n",
       "      <td>0</td>\n",
       "      <td>...</td>\n",
       "      <td>0</td>\n",
       "      <td>0</td>\n",
       "      <td>0</td>\n",
       "      <td>0</td>\n",
       "      <td>1</td>\n",
       "      <td>0</td>\n",
       "      <td>0</td>\n",
       "      <td>0</td>\n",
       "      <td>0</td>\n",
       "      <td>0</td>\n",
       "    </tr>\n",
       "    <tr>\n",
       "      <th>2</th>\n",
       "      <td>220.11</td>\n",
       "      <td>0</td>\n",
       "      <td>0</td>\n",
       "      <td>0</td>\n",
       "      <td>0</td>\n",
       "      <td>0</td>\n",
       "      <td>0</td>\n",
       "      <td>0</td>\n",
       "      <td>0</td>\n",
       "      <td>0</td>\n",
       "      <td>...</td>\n",
       "      <td>0</td>\n",
       "      <td>0</td>\n",
       "      <td>0</td>\n",
       "      <td>0</td>\n",
       "      <td>1</td>\n",
       "      <td>0</td>\n",
       "      <td>0</td>\n",
       "      <td>1</td>\n",
       "      <td>0</td>\n",
       "      <td>0</td>\n",
       "    </tr>\n",
       "    <tr>\n",
       "      <th>3</th>\n",
       "      <td>45.00</td>\n",
       "      <td>0</td>\n",
       "      <td>0</td>\n",
       "      <td>1</td>\n",
       "      <td>0</td>\n",
       "      <td>0</td>\n",
       "      <td>0</td>\n",
       "      <td>0</td>\n",
       "      <td>0</td>\n",
       "      <td>0</td>\n",
       "      <td>...</td>\n",
       "      <td>0</td>\n",
       "      <td>0</td>\n",
       "      <td>0</td>\n",
       "      <td>0</td>\n",
       "      <td>1</td>\n",
       "      <td>0</td>\n",
       "      <td>0</td>\n",
       "      <td>1</td>\n",
       "      <td>0</td>\n",
       "      <td>0</td>\n",
       "    </tr>\n",
       "    <tr>\n",
       "      <th>4</th>\n",
       "      <td>41.96</td>\n",
       "      <td>0</td>\n",
       "      <td>0</td>\n",
       "      <td>0</td>\n",
       "      <td>0</td>\n",
       "      <td>0</td>\n",
       "      <td>0</td>\n",
       "      <td>0</td>\n",
       "      <td>0</td>\n",
       "      <td>0</td>\n",
       "      <td>...</td>\n",
       "      <td>0</td>\n",
       "      <td>0</td>\n",
       "      <td>0</td>\n",
       "      <td>0</td>\n",
       "      <td>1</td>\n",
       "      <td>0</td>\n",
       "      <td>1</td>\n",
       "      <td>0</td>\n",
       "      <td>0</td>\n",
       "      <td>0</td>\n",
       "    </tr>\n",
       "  </tbody>\n",
       "</table>\n",
       "<p>5 rows × 31 columns</p>\n",
       "</div>\n",
       "      <button class=\"colab-df-convert\" onclick=\"convertToInteractive('df-6184ebdf-c99b-4956-b54f-7cde142c2be9')\"\n",
       "              title=\"Convert this dataframe to an interactive table.\"\n",
       "              style=\"display:none;\">\n",
       "        \n",
       "  <svg xmlns=\"http://www.w3.org/2000/svg\" height=\"24px\"viewBox=\"0 0 24 24\"\n",
       "       width=\"24px\">\n",
       "    <path d=\"M0 0h24v24H0V0z\" fill=\"none\"/>\n",
       "    <path d=\"M18.56 5.44l.94 2.06.94-2.06 2.06-.94-2.06-.94-.94-2.06-.94 2.06-2.06.94zm-11 1L8.5 8.5l.94-2.06 2.06-.94-2.06-.94L8.5 2.5l-.94 2.06-2.06.94zm10 10l.94 2.06.94-2.06 2.06-.94-2.06-.94-.94-2.06-.94 2.06-2.06.94z\"/><path d=\"M17.41 7.96l-1.37-1.37c-.4-.4-.92-.59-1.43-.59-.52 0-1.04.2-1.43.59L10.3 9.45l-7.72 7.72c-.78.78-.78 2.05 0 2.83L4 21.41c.39.39.9.59 1.41.59.51 0 1.02-.2 1.41-.59l7.78-7.78 2.81-2.81c.8-.78.8-2.07 0-2.86zM5.41 20L4 18.59l7.72-7.72 1.47 1.35L5.41 20z\"/>\n",
       "  </svg>\n",
       "      </button>\n",
       "      \n",
       "  <style>\n",
       "    .colab-df-container {\n",
       "      display:flex;\n",
       "      flex-wrap:wrap;\n",
       "      gap: 12px;\n",
       "    }\n",
       "\n",
       "    .colab-df-convert {\n",
       "      background-color: #E8F0FE;\n",
       "      border: none;\n",
       "      border-radius: 50%;\n",
       "      cursor: pointer;\n",
       "      display: none;\n",
       "      fill: #1967D2;\n",
       "      height: 32px;\n",
       "      padding: 0 0 0 0;\n",
       "      width: 32px;\n",
       "    }\n",
       "\n",
       "    .colab-df-convert:hover {\n",
       "      background-color: #E2EBFA;\n",
       "      box-shadow: 0px 1px 2px rgba(60, 64, 67, 0.3), 0px 1px 3px 1px rgba(60, 64, 67, 0.15);\n",
       "      fill: #174EA6;\n",
       "    }\n",
       "\n",
       "    [theme=dark] .colab-df-convert {\n",
       "      background-color: #3B4455;\n",
       "      fill: #D2E3FC;\n",
       "    }\n",
       "\n",
       "    [theme=dark] .colab-df-convert:hover {\n",
       "      background-color: #434B5C;\n",
       "      box-shadow: 0px 1px 3px 1px rgba(0, 0, 0, 0.15);\n",
       "      filter: drop-shadow(0px 1px 2px rgba(0, 0, 0, 0.3));\n",
       "      fill: #FFFFFF;\n",
       "    }\n",
       "  </style>\n",
       "\n",
       "      <script>\n",
       "        const buttonEl =\n",
       "          document.querySelector('#df-6184ebdf-c99b-4956-b54f-7cde142c2be9 button.colab-df-convert');\n",
       "        buttonEl.style.display =\n",
       "          google.colab.kernel.accessAllowed ? 'block' : 'none';\n",
       "\n",
       "        async function convertToInteractive(key) {\n",
       "          const element = document.querySelector('#df-6184ebdf-c99b-4956-b54f-7cde142c2be9');\n",
       "          const dataTable =\n",
       "            await google.colab.kernel.invokeFunction('convertToInteractive',\n",
       "                                                     [key], {});\n",
       "          if (!dataTable) return;\n",
       "\n",
       "          const docLinkHtml = 'Like what you see? Visit the ' +\n",
       "            '<a target=\"_blank\" href=https://colab.research.google.com/notebooks/data_table.ipynb>data table notebook</a>'\n",
       "            + ' to learn more about interactive tables.';\n",
       "          element.innerHTML = '';\n",
       "          dataTable['output_type'] = 'display_data';\n",
       "          await google.colab.output.renderOutput(dataTable, element);\n",
       "          const docLink = document.createElement('div');\n",
       "          docLink.innerHTML = docLinkHtml;\n",
       "          element.appendChild(docLink);\n",
       "        }\n",
       "      </script>\n",
       "    </div>\n",
       "  </div>\n",
       "  "
      ],
      "text/plain": [
       "   amount  transaction_hour  category_food_dining  category_gas_transport  \\\n",
       "0    4.97                 0                     0                       0   \n",
       "1  107.23                 0                     0                       0   \n",
       "2  220.11                 0                     0                       0   \n",
       "3   45.00                 0                     0                       1   \n",
       "4   41.96                 0                     0                       0   \n",
       "\n",
       "   category_grocery_net  category_grocery_pos  category_health_fitness  \\\n",
       "0                     0                     0                        0   \n",
       "1                     0                     1                        0   \n",
       "2                     0                     0                        0   \n",
       "3                     0                     0                        0   \n",
       "4                     0                     0                        0   \n",
       "\n",
       "   category_home  category_kids_pets  category_misc_net  ...  \\\n",
       "0              0                   0                  1  ...   \n",
       "1              0                   0                  0  ...   \n",
       "2              0                   0                  0  ...   \n",
       "3              0                   0                  0  ...   \n",
       "4              0                   0                  0  ...   \n",
       "\n",
       "   transaction_day_of_week_Monday  transaction_day_of_week_Saturday  \\\n",
       "0                               0                                 0   \n",
       "1                               0                                 0   \n",
       "2                               0                                 0   \n",
       "3                               0                                 0   \n",
       "4                               0                                 0   \n",
       "\n",
       "   transaction_day_of_week_Sunday  transaction_day_of_week_Thursday  \\\n",
       "0                               0                                 0   \n",
       "1                               0                                 0   \n",
       "2                               0                                 0   \n",
       "3                               0                                 0   \n",
       "4                               0                                 0   \n",
       "\n",
       "   transaction_day_of_week_Tuesday  transaction_day_of_week_Wednesday  \\\n",
       "0                                1                                  0   \n",
       "1                                1                                  0   \n",
       "2                                1                                  0   \n",
       "3                                1                                  0   \n",
       "4                                1                                  0   \n",
       "\n",
       "   distance_segment_far  distance_segment_far_away  city_pop_segment_moderate  \\\n",
       "0                     1                          0                          0   \n",
       "1                     0                          0                          0   \n",
       "2                     0                          1                          0   \n",
       "3                     0                          1                          0   \n",
       "4                     1                          0                          0   \n",
       "\n",
       "   city_pop_segment_dense  \n",
       "0                       0  \n",
       "1                       0  \n",
       "2                       0  \n",
       "3                       0  \n",
       "4                       0  \n",
       "\n",
       "[5 rows x 31 columns]"
      ]
     },
     "execution_count": 91,
     "metadata": {},
     "output_type": "execute_result"
    }
   ],
   "source": [
    "# top 5 rows\n",
    "X.head()"
   ]
  },
  {
   "cell_type": "code",
   "execution_count": 92,
   "metadata": {
    "colab": {
     "base_uri": "https://localhost:8080/"
    },
    "id": "FJwlSlcbjxc8",
    "outputId": "8dcab49e-9f93-4a78-d5dd-bfa6f6212262"
   },
   "outputs": [
    {
     "data": {
      "text/plain": [
       "0    0\n",
       "1    0\n",
       "2    0\n",
       "3    0\n",
       "4    0\n",
       "Name: is_fraud, dtype: int64"
      ]
     },
     "execution_count": 92,
     "metadata": {},
     "output_type": "execute_result"
    }
   ],
   "source": [
    "# top 5 rows\n",
    "y.head()"
   ]
  },
  {
   "cell_type": "code",
   "execution_count": 93,
   "metadata": {
    "colab": {
     "base_uri": "https://localhost:8080/"
    },
    "id": "DgjYskrbjxhW",
    "outputId": "cbba0265-2196-43ee-afd9-5d66113bef8c"
   },
   "outputs": [
    {
     "data": {
      "text/plain": [
       "((1296675, 31), (1296675,))"
      ]
     },
     "execution_count": 93,
     "metadata": {},
     "output_type": "execute_result"
    }
   ],
   "source": [
    "# dimension of x and y\n",
    "X.shape, y.shape"
   ]
  },
  {
   "cell_type": "code",
   "execution_count": 94,
   "metadata": {
    "id": "btjanIicjxm7"
   },
   "outputs": [],
   "source": [
    "# train_test_split\n",
    "X_train, X_test, y_train, y_test = train_test_split(X, y, test_size=0.3, stratify=y, random_state=56)"
   ]
  },
  {
   "cell_type": "code",
   "execution_count": 95,
   "metadata": {
    "colab": {
     "base_uri": "https://localhost:8080/"
    },
    "id": "He00Sv-jj3gm",
    "outputId": "29311164-9cc9-4b5a-a800-ea0e08ea5b4c"
   },
   "outputs": [
    {
     "data": {
      "text/plain": [
       "((907672, 31), (389003, 31), (907672,), (389003,))"
      ]
     },
     "execution_count": 95,
     "metadata": {},
     "output_type": "execute_result"
    }
   ],
   "source": [
    "#dimension\n",
    "X_train.shape, X_test.shape, y_train.shape, y_test.shape"
   ]
  },
  {
   "cell_type": "markdown",
   "metadata": {
    "id": "DIe8X0WU2ELd"
   },
   "source": [
    "#### **Feature Scaling**"
   ]
  },
  {
   "cell_type": "code",
   "execution_count": 96,
   "metadata": {
    "id": "yYgwy09b2DbC"
   },
   "outputs": [],
   "source": [
    "#importing library\n",
    "from sklearn.preprocessing import StandardScaler"
   ]
  },
  {
   "cell_type": "code",
   "execution_count": 97,
   "metadata": {
    "colab": {
     "base_uri": "https://localhost:8080/",
     "height": 300
    },
    "id": "oUQGgHqu17lR",
    "outputId": "b1f0daff-63eb-4f29-cf0e-67dabbdd671f"
   },
   "outputs": [
    {
     "data": {
      "text/html": [
       "\n",
       "  <div id=\"df-06b7f59b-b3e4-4123-ae37-13b3b8ca0e0a\">\n",
       "    <div class=\"colab-df-container\">\n",
       "      <div>\n",
       "<style scoped>\n",
       "    .dataframe tbody tr th:only-of-type {\n",
       "        vertical-align: middle;\n",
       "    }\n",
       "\n",
       "    .dataframe tbody tr th {\n",
       "        vertical-align: top;\n",
       "    }\n",
       "\n",
       "    .dataframe thead th {\n",
       "        text-align: right;\n",
       "    }\n",
       "</style>\n",
       "<table border=\"1\" class=\"dataframe\">\n",
       "  <thead>\n",
       "    <tr style=\"text-align: right;\">\n",
       "      <th></th>\n",
       "      <th>amount</th>\n",
       "      <th>transaction_hour</th>\n",
       "      <th>category_food_dining</th>\n",
       "      <th>category_gas_transport</th>\n",
       "      <th>category_grocery_net</th>\n",
       "      <th>category_grocery_pos</th>\n",
       "      <th>category_health_fitness</th>\n",
       "      <th>category_home</th>\n",
       "      <th>category_kids_pets</th>\n",
       "      <th>category_misc_net</th>\n",
       "      <th>...</th>\n",
       "      <th>transaction_day_of_week_Monday</th>\n",
       "      <th>transaction_day_of_week_Saturday</th>\n",
       "      <th>transaction_day_of_week_Sunday</th>\n",
       "      <th>transaction_day_of_week_Thursday</th>\n",
       "      <th>transaction_day_of_week_Tuesday</th>\n",
       "      <th>transaction_day_of_week_Wednesday</th>\n",
       "      <th>distance_segment_far</th>\n",
       "      <th>distance_segment_far_away</th>\n",
       "      <th>city_pop_segment_moderate</th>\n",
       "      <th>city_pop_segment_dense</th>\n",
       "    </tr>\n",
       "  </thead>\n",
       "  <tbody>\n",
       "    <tr>\n",
       "      <th>641317</th>\n",
       "      <td>-0.172316</td>\n",
       "      <td>1.349029</td>\n",
       "      <td>0</td>\n",
       "      <td>0</td>\n",
       "      <td>0</td>\n",
       "      <td>0</td>\n",
       "      <td>0</td>\n",
       "      <td>1</td>\n",
       "      <td>0</td>\n",
       "      <td>0</td>\n",
       "      <td>...</td>\n",
       "      <td>0</td>\n",
       "      <td>0</td>\n",
       "      <td>1</td>\n",
       "      <td>0</td>\n",
       "      <td>0</td>\n",
       "      <td>0</td>\n",
       "      <td>1</td>\n",
       "      <td>0</td>\n",
       "      <td>0</td>\n",
       "      <td>0</td>\n",
       "    </tr>\n",
       "    <tr>\n",
       "      <th>387277</th>\n",
       "      <td>0.104604</td>\n",
       "      <td>0.468991</td>\n",
       "      <td>0</td>\n",
       "      <td>0</td>\n",
       "      <td>0</td>\n",
       "      <td>0</td>\n",
       "      <td>0</td>\n",
       "      <td>0</td>\n",
       "      <td>0</td>\n",
       "      <td>0</td>\n",
       "      <td>...</td>\n",
       "      <td>0</td>\n",
       "      <td>0</td>\n",
       "      <td>0</td>\n",
       "      <td>0</td>\n",
       "      <td>0</td>\n",
       "      <td>1</td>\n",
       "      <td>1</td>\n",
       "      <td>0</td>\n",
       "      <td>0</td>\n",
       "      <td>0</td>\n",
       "    </tr>\n",
       "    <tr>\n",
       "      <th>304003</th>\n",
       "      <td>-0.412094</td>\n",
       "      <td>0.468991</td>\n",
       "      <td>0</td>\n",
       "      <td>0</td>\n",
       "      <td>0</td>\n",
       "      <td>0</td>\n",
       "      <td>0</td>\n",
       "      <td>0</td>\n",
       "      <td>0</td>\n",
       "      <td>0</td>\n",
       "      <td>...</td>\n",
       "      <td>1</td>\n",
       "      <td>0</td>\n",
       "      <td>0</td>\n",
       "      <td>0</td>\n",
       "      <td>0</td>\n",
       "      <td>0</td>\n",
       "      <td>1</td>\n",
       "      <td>0</td>\n",
       "      <td>0</td>\n",
       "      <td>0</td>\n",
       "    </tr>\n",
       "    <tr>\n",
       "      <th>1129822</th>\n",
       "      <td>-0.098581</td>\n",
       "      <td>-1.877775</td>\n",
       "      <td>0</td>\n",
       "      <td>0</td>\n",
       "      <td>0</td>\n",
       "      <td>1</td>\n",
       "      <td>0</td>\n",
       "      <td>0</td>\n",
       "      <td>0</td>\n",
       "      <td>0</td>\n",
       "      <td>...</td>\n",
       "      <td>0</td>\n",
       "      <td>0</td>\n",
       "      <td>0</td>\n",
       "      <td>0</td>\n",
       "      <td>0</td>\n",
       "      <td>1</td>\n",
       "      <td>1</td>\n",
       "      <td>0</td>\n",
       "      <td>0</td>\n",
       "      <td>0</td>\n",
       "    </tr>\n",
       "    <tr>\n",
       "      <th>372757</th>\n",
       "      <td>0.184550</td>\n",
       "      <td>1.055683</td>\n",
       "      <td>0</td>\n",
       "      <td>0</td>\n",
       "      <td>0</td>\n",
       "      <td>0</td>\n",
       "      <td>0</td>\n",
       "      <td>0</td>\n",
       "      <td>1</td>\n",
       "      <td>0</td>\n",
       "      <td>...</td>\n",
       "      <td>0</td>\n",
       "      <td>0</td>\n",
       "      <td>0</td>\n",
       "      <td>0</td>\n",
       "      <td>0</td>\n",
       "      <td>0</td>\n",
       "      <td>1</td>\n",
       "      <td>0</td>\n",
       "      <td>0</td>\n",
       "      <td>0</td>\n",
       "    </tr>\n",
       "  </tbody>\n",
       "</table>\n",
       "<p>5 rows × 31 columns</p>\n",
       "</div>\n",
       "      <button class=\"colab-df-convert\" onclick=\"convertToInteractive('df-06b7f59b-b3e4-4123-ae37-13b3b8ca0e0a')\"\n",
       "              title=\"Convert this dataframe to an interactive table.\"\n",
       "              style=\"display:none;\">\n",
       "        \n",
       "  <svg xmlns=\"http://www.w3.org/2000/svg\" height=\"24px\"viewBox=\"0 0 24 24\"\n",
       "       width=\"24px\">\n",
       "    <path d=\"M0 0h24v24H0V0z\" fill=\"none\"/>\n",
       "    <path d=\"M18.56 5.44l.94 2.06.94-2.06 2.06-.94-2.06-.94-.94-2.06-.94 2.06-2.06.94zm-11 1L8.5 8.5l.94-2.06 2.06-.94-2.06-.94L8.5 2.5l-.94 2.06-2.06.94zm10 10l.94 2.06.94-2.06 2.06-.94-2.06-.94-.94-2.06-.94 2.06-2.06.94z\"/><path d=\"M17.41 7.96l-1.37-1.37c-.4-.4-.92-.59-1.43-.59-.52 0-1.04.2-1.43.59L10.3 9.45l-7.72 7.72c-.78.78-.78 2.05 0 2.83L4 21.41c.39.39.9.59 1.41.59.51 0 1.02-.2 1.41-.59l7.78-7.78 2.81-2.81c.8-.78.8-2.07 0-2.86zM5.41 20L4 18.59l7.72-7.72 1.47 1.35L5.41 20z\"/>\n",
       "  </svg>\n",
       "      </button>\n",
       "      \n",
       "  <style>\n",
       "    .colab-df-container {\n",
       "      display:flex;\n",
       "      flex-wrap:wrap;\n",
       "      gap: 12px;\n",
       "    }\n",
       "\n",
       "    .colab-df-convert {\n",
       "      background-color: #E8F0FE;\n",
       "      border: none;\n",
       "      border-radius: 50%;\n",
       "      cursor: pointer;\n",
       "      display: none;\n",
       "      fill: #1967D2;\n",
       "      height: 32px;\n",
       "      padding: 0 0 0 0;\n",
       "      width: 32px;\n",
       "    }\n",
       "\n",
       "    .colab-df-convert:hover {\n",
       "      background-color: #E2EBFA;\n",
       "      box-shadow: 0px 1px 2px rgba(60, 64, 67, 0.3), 0px 1px 3px 1px rgba(60, 64, 67, 0.15);\n",
       "      fill: #174EA6;\n",
       "    }\n",
       "\n",
       "    [theme=dark] .colab-df-convert {\n",
       "      background-color: #3B4455;\n",
       "      fill: #D2E3FC;\n",
       "    }\n",
       "\n",
       "    [theme=dark] .colab-df-convert:hover {\n",
       "      background-color: #434B5C;\n",
       "      box-shadow: 0px 1px 3px 1px rgba(0, 0, 0, 0.15);\n",
       "      filter: drop-shadow(0px 1px 2px rgba(0, 0, 0, 0.3));\n",
       "      fill: #FFFFFF;\n",
       "    }\n",
       "  </style>\n",
       "\n",
       "      <script>\n",
       "        const buttonEl =\n",
       "          document.querySelector('#df-06b7f59b-b3e4-4123-ae37-13b3b8ca0e0a button.colab-df-convert');\n",
       "        buttonEl.style.display =\n",
       "          google.colab.kernel.accessAllowed ? 'block' : 'none';\n",
       "\n",
       "        async function convertToInteractive(key) {\n",
       "          const element = document.querySelector('#df-06b7f59b-b3e4-4123-ae37-13b3b8ca0e0a');\n",
       "          const dataTable =\n",
       "            await google.colab.kernel.invokeFunction('convertToInteractive',\n",
       "                                                     [key], {});\n",
       "          if (!dataTable) return;\n",
       "\n",
       "          const docLinkHtml = 'Like what you see? Visit the ' +\n",
       "            '<a target=\"_blank\" href=https://colab.research.google.com/notebooks/data_table.ipynb>data table notebook</a>'\n",
       "            + ' to learn more about interactive tables.';\n",
       "          element.innerHTML = '';\n",
       "          dataTable['output_type'] = 'display_data';\n",
       "          await google.colab.output.renderOutput(dataTable, element);\n",
       "          const docLink = document.createElement('div');\n",
       "          docLink.innerHTML = docLinkHtml;\n",
       "          element.appendChild(docLink);\n",
       "        }\n",
       "      </script>\n",
       "    </div>\n",
       "  </div>\n",
       "  "
      ],
      "text/plain": [
       "           amount  transaction_hour  category_food_dining  \\\n",
       "641317  -0.172316          1.349029                     0   \n",
       "387277   0.104604          0.468991                     0   \n",
       "304003  -0.412094          0.468991                     0   \n",
       "1129822 -0.098581         -1.877775                     0   \n",
       "372757   0.184550          1.055683                     0   \n",
       "\n",
       "         category_gas_transport  category_grocery_net  category_grocery_pos  \\\n",
       "641317                        0                     0                     0   \n",
       "387277                        0                     0                     0   \n",
       "304003                        0                     0                     0   \n",
       "1129822                       0                     0                     1   \n",
       "372757                        0                     0                     0   \n",
       "\n",
       "         category_health_fitness  category_home  category_kids_pets  \\\n",
       "641317                         0              1                   0   \n",
       "387277                         0              0                   0   \n",
       "304003                         0              0                   0   \n",
       "1129822                        0              0                   0   \n",
       "372757                         0              0                   1   \n",
       "\n",
       "         category_misc_net  ...  transaction_day_of_week_Monday  \\\n",
       "641317                   0  ...                               0   \n",
       "387277                   0  ...                               0   \n",
       "304003                   0  ...                               1   \n",
       "1129822                  0  ...                               0   \n",
       "372757                   0  ...                               0   \n",
       "\n",
       "         transaction_day_of_week_Saturday  transaction_day_of_week_Sunday  \\\n",
       "641317                                  0                               1   \n",
       "387277                                  0                               0   \n",
       "304003                                  0                               0   \n",
       "1129822                                 0                               0   \n",
       "372757                                  0                               0   \n",
       "\n",
       "         transaction_day_of_week_Thursday  transaction_day_of_week_Tuesday  \\\n",
       "641317                                  0                                0   \n",
       "387277                                  0                                0   \n",
       "304003                                  0                                0   \n",
       "1129822                                 0                                0   \n",
       "372757                                  0                                0   \n",
       "\n",
       "         transaction_day_of_week_Wednesday  distance_segment_far  \\\n",
       "641317                                   0                     1   \n",
       "387277                                   1                     1   \n",
       "304003                                   0                     1   \n",
       "1129822                                  1                     1   \n",
       "372757                                   0                     1   \n",
       "\n",
       "         distance_segment_far_away  city_pop_segment_moderate  \\\n",
       "641317                           0                          0   \n",
       "387277                           0                          0   \n",
       "304003                           0                          0   \n",
       "1129822                          0                          0   \n",
       "372757                           0                          0   \n",
       "\n",
       "         city_pop_segment_dense  \n",
       "641317                        0  \n",
       "387277                        0  \n",
       "304003                        0  \n",
       "1129822                       0  \n",
       "372757                        0  \n",
       "\n",
       "[5 rows x 31 columns]"
      ]
     },
     "execution_count": 97,
     "metadata": {},
     "output_type": "execute_result"
    }
   ],
   "source": [
    "# scaling the features\n",
    "scaler = StandardScaler()\n",
    "X_train[['amount', 'transaction_hour']] = scaler.fit_transform(X_train[['amount', 'transaction_hour']])\n",
    "X_train.head()"
   ]
  },
  {
   "cell_type": "markdown",
   "metadata": {
    "id": "cROnwhcO3xBM"
   },
   "source": [
    "#### **Data Imbalance Check**"
   ]
  },
  {
   "cell_type": "code",
   "execution_count": 98,
   "metadata": {
    "colab": {
     "base_uri": "https://localhost:8080/"
    },
    "id": "6-FPYMNS2iDG",
    "outputId": "d3afb9a7-155e-4cc0-8c70-f4971600c6ff"
   },
   "outputs": [
    {
     "data": {
      "text/plain": [
       "0    0.994211\n",
       "1    0.005789\n",
       "Name: is_fraud, dtype: float64"
      ]
     },
     "execution_count": 98,
     "metadata": {},
     "output_type": "execute_result"
    }
   ],
   "source": [
    "# looing at the distribution\n",
    "train_data2['is_fraud'].value_counts(normalize=True)"
   ]
  },
  {
   "cell_type": "code",
   "execution_count": 99,
   "metadata": {
    "colab": {
     "base_uri": "https://localhost:8080/",
     "height": 248
    },
    "id": "trMwlBT52jWe",
    "outputId": "23835a59-3fd8-4c02-a998-de119444d31d"
   },
   "outputs": [
    {
     "data": {
      "image/png": "[encoded data removed]",
      "text/plain": [
       "<Figure size 432x288 with 1 Axes>"
      ]
     },
     "metadata": {},
     "output_type": "display_data"
    }
   ],
   "source": [
    "# plotting pie chart to see the distribution\n",
    "(train_data2['is_fraud'].value_counts(normalize=True)*100).plot.pie(autopct='%1.1f%%')\n",
    "plt.show()"
   ]
  },
  {
   "cell_type": "markdown",
   "metadata": {
    "id": "eP9PFZD038Sp"
   },
   "source": [
    "\n",
    "*   Data is **`highly imbalanced`**.\n",
    "*   Only 0.6% of the transaction is fraudulent where as remaining 99.4% transactions are genuine.\n",
    "\n",
    "- Since data is highly imbalanced, so `accuracy metrics is ruled out` for model evaluation. So, we'll use **recall** and precision  for evaluation`, `recall specifically` as we need the fradulent transaction to be identified correctly.\n",
    "--- \n",
    "\n"
   ]
  },
  {
   "cell_type": "markdown",
   "metadata": {
    "id": "J65JsRP04iA6"
   },
   "source": [
    "We can handle imbalanced classes by balancing the classes by increasing minority or decreasing majority.\n",
    "\n",
    "We can do that by following few techniques:\n",
    "\n",
    "1. Random Under-Sampling\n",
    "2. Random Over-Sampling\n",
    "3. SMOTE - Synthetic Minority Oversampling Technique\n",
    "4. ADASYN - Adaptive Synthetic Sampling Method\n",
    "\n",
    "\n",
    "---\n",
    "\n",
    "\n"
   ]
  },
  {
   "cell_type": "markdown",
   "metadata": {
    "id": "ZLQJ2OJ95Wnv"
   },
   "source": [
    "## **4) Model Building** "
   ]
  },
  {
   "cell_type": "markdown",
   "metadata": {
    "id": "YTn_ufpA5mNx"
   },
   "source": [
    "#### **Logistic Regression**\n",
    "\n"
   ]
  },
  {
   "cell_type": "code",
   "execution_count": 100,
   "metadata": {
    "id": "2uR0HMP934_F"
   },
   "outputs": [],
   "source": [
    "# importing libraries\n",
    "from sklearn.linear_model import LogisticRegression\n",
    "from collections import Counter\n",
    "from sklearn.metrics import precision_score, recall_score, confusion_matrix, classification_report, accuracy_score, f1_score"
   ]
  },
  {
   "cell_type": "markdown",
   "metadata": {
    "id": "BRZ4VDPFmI6Z"
   },
   "source": [
    "___\n",
    "**Model Number: 1 (Logistic Regression Base)**\n",
    "\n"
   ]
  },
  {
   "cell_type": "code",
   "execution_count": 101,
   "metadata": {
    "id": "O6UCoz0i4g5J"
   },
   "outputs": [],
   "source": [
    "# logistic regression model (Base) without handling data imbalance\n",
    "\n",
    "# initialize\n",
    "lreg = LogisticRegression()\n",
    "#fitting the model\n",
    "lreg.fit(X_train, y_train)\n",
    "\n",
    "# predicting on test\n",
    "y_pred = lreg.predict(X_test)"
   ]
  },
  {
   "cell_type": "code",
   "execution_count": 102,
   "metadata": {
    "colab": {
     "base_uri": "https://localhost:8080/"
    },
    "id": "Rr83ZhFV3mrq",
    "outputId": "1ade601b-e804-4c30-c987-de12ecd0ab9a"
   },
   "outputs": [
    {
     "name": "stdout",
     "output_type": "stream",
     "text": [
      "Accuracy:  0.027971506646478305\n",
      "F1 score:  0.011502606386037928\n",
      "Recall:  0.9769094138543517\n",
      "Precision:  0.005785363031530229\n",
      "\n",
      " clasification report:\n",
      "               precision    recall  f1-score   support\n",
      "\n",
      "           0       0.99      0.02      0.04    386751\n",
      "           1       0.01      0.98      0.01      2252\n",
      "\n",
      "    accuracy                           0.03    389003\n",
      "   macro avg       0.50      0.50      0.03    389003\n",
      "weighted avg       0.99      0.03      0.04    389003\n",
      "\n",
      "\n",
      " confussion matrix:\n",
      " [[  8681 378070]\n",
      " [    52   2200]]\n"
     ]
    }
   ],
   "source": [
    "# looking at evaluation metric\n",
    "print ('Accuracy: ', accuracy_score(y_test, y_pred))\n",
    "print ('F1 score: ', f1_score(y_test, y_pred))\n",
    "print ('Recall: ', recall_score(y_test, y_pred))\n",
    "print ('Precision: ', precision_score(y_test, y_pred))\n",
    "print ('\\n clasification report:\\n', classification_report(y_test,y_pred))\n",
    "print ('\\n confussion matrix:\\n',confusion_matrix(y_test, y_pred))"
   ]
  },
  {
   "cell_type": "markdown",
   "metadata": {
    "id": "l0v6CxhVmSJ4"
   },
   "source": [
    "___\n",
    "**Model Number: 2 (Logistic Regression Random_UnderSampling)**"
   ]
  },
  {
   "cell_type": "code",
   "execution_count": 103,
   "metadata": {
    "colab": {
     "base_uri": "https://localhost:8080/"
    },
    "id": "NFTu3XHf7D2w",
    "outputId": "f1de472a-ca14-4d36-f10f-b36f36bc4b3b"
   },
   "outputs": [
    {
     "data": {
      "text/plain": [
       "10508"
      ]
     },
     "execution_count": 103,
     "metadata": {},
     "output_type": "execute_result"
    }
   ],
   "source": [
    "# Random Undersampling\n",
    "\n",
    "#importing library\n",
    "from imblearn.under_sampling import RandomUnderSampler\n",
    "\n",
    "#initialize\n",
    "under_sample = RandomUnderSampler(random_state = 5)\n",
    "#fitting\n",
    "X_resampled_us, y_resampled_us = under_sample.fit_resample(X_train, y_train)\n",
    "len(X_resampled_us)"
   ]
  },
  {
   "cell_type": "code",
   "execution_count": 104,
   "metadata": {
    "colab": {
     "base_uri": "https://localhost:8080/"
    },
    "id": "xu1uHVaiALSv",
    "outputId": "3429a659-dde7-4add-a02f-2ab40b3afa93"
   },
   "outputs": [
    {
     "name": "stdout",
     "output_type": "stream",
     "text": [
      "[(0, 5254), (1, 5254)]\n"
     ]
    }
   ],
   "source": [
    "print(sorted(Counter(y_resampled_us).items()))"
   ]
  },
  {
   "cell_type": "code",
   "execution_count": 105,
   "metadata": {
    "id": "u38FFgXZAVae"
   },
   "outputs": [],
   "source": [
    "# applying on logistic regression\n",
    "lreg_us = LogisticRegression()\n",
    "lreg_us.fit(X_resampled_us, y_resampled_us)\n",
    "\n",
    "y_pred_us = lreg_us.predict(X_test)"
   ]
  },
  {
   "cell_type": "code",
   "execution_count": 106,
   "metadata": {
    "colab": {
     "base_uri": "https://localhost:8080/"
    },
    "id": "4ysjvZ5fAaCO",
    "outputId": "094a461a-2be8-4fa6-ef1b-b5c82b1e25e5"
   },
   "outputs": [
    {
     "name": "stdout",
     "output_type": "stream",
     "text": [
      "Accuracy:  0.010370099973522055\n",
      "F1 score:  0.011564344640064908\n",
      "Recall:  1.0\n",
      "Precision:  0.005815800279426994\n",
      "\n",
      " clasification report:\n",
      "               precision    recall  f1-score   support\n",
      "\n",
      "           0       1.00      0.00      0.01    386751\n",
      "           1       0.01      1.00      0.01      2252\n",
      "\n",
      "    accuracy                           0.01    389003\n",
      "   macro avg       0.50      0.50      0.01    389003\n",
      "weighted avg       0.99      0.01      0.01    389003\n",
      "\n",
      "\n",
      " confussion matrix:\n",
      " [[  1782 384969]\n",
      " [     0   2252]]\n"
     ]
    }
   ],
   "source": [
    "print ('Accuracy: ', accuracy_score(y_test, y_pred_us))\n",
    "print ('F1 score: ', f1_score(y_test, y_pred_us))\n",
    "print ('Recall: ', recall_score(y_test, y_pred_us))\n",
    "print ('Precision: ', precision_score(y_test, y_pred_us))\n",
    "print ('\\n clasification report:\\n', classification_report(y_test,y_pred_us))\n",
    "print ('\\n confussion matrix:\\n',confusion_matrix(y_test, y_pred_us))\n"
   ]
  },
  {
   "cell_type": "markdown",
   "metadata": {
    "id": "deFfl93CmYDh"
   },
   "source": [
    "___\n",
    "**Model Number: 3 (Logistic Regression Random_OverSampling)**"
   ]
  },
  {
   "cell_type": "code",
   "execution_count": 107,
   "metadata": {
    "colab": {
     "base_uri": "https://localhost:8080/"
    },
    "id": "1csu2bUTAb6T",
    "outputId": "d595176c-331c-4ddc-c1bc-07ae053f0c8b"
   },
   "outputs": [
    {
     "data": {
      "text/plain": [
       "1804836"
      ]
     },
     "execution_count": 107,
     "metadata": {},
     "output_type": "execute_result"
    }
   ],
   "source": [
    "# Random OverSampling\n",
    "\n",
    "#importing library\n",
    "from imblearn.over_sampling import RandomOverSampler\n",
    "\n",
    "#initialize\n",
    "over_sample = RandomOverSampler(sampling_strategy = 1)\n",
    "\n",
    "#fitting\n",
    "X_resampled_os, y_resampled_os = over_sample.fit_resample(X_train, y_train)\n",
    "len(X_resampled_os)"
   ]
  },
  {
   "cell_type": "code",
   "execution_count": 108,
   "metadata": {
    "colab": {
     "base_uri": "https://localhost:8080/"
    },
    "id": "J2XhS-pMBH6g",
    "outputId": "1fca7e2f-b758-419d-8d5c-5fad0523920f"
   },
   "outputs": [
    {
     "name": "stdout",
     "output_type": "stream",
     "text": [
      "[(0, 902418), (1, 902418)]\n"
     ]
    }
   ],
   "source": [
    "print(sorted(Counter(y_resampled_os).items()))"
   ]
  },
  {
   "cell_type": "code",
   "execution_count": 109,
   "metadata": {
    "id": "8epIM1rwBnDL"
   },
   "outputs": [],
   "source": [
    "# applying on logistic regression\n",
    "lreg_os = LogisticRegression()\n",
    "lreg_os.fit(X_resampled_os, y_resampled_os)\n",
    "\n",
    "y_pred_os = lreg_os.predict(X_test)"
   ]
  },
  {
   "cell_type": "code",
   "execution_count": 110,
   "metadata": {
    "colab": {
     "base_uri": "https://localhost:8080/"
    },
    "id": "W6zEmy8kmkuZ",
    "outputId": "494c89f6-74bd-4363-aa10-e477bf1bc12a"
   },
   "outputs": [
    {
     "name": "stdout",
     "output_type": "stream",
     "text": [
      "Accuracy:  0.010483209641056753\n",
      "F1 score:  0.011565651248366197\n",
      "Recall:  1.0\n",
      "Precision:  0.0058164612050819135\n",
      "\n",
      " clasification report:\n",
      "               precision    recall  f1-score   support\n",
      "\n",
      "           0       1.00      0.00      0.01    386751\n",
      "           1       0.01      1.00      0.01      2252\n",
      "\n",
      "    accuracy                           0.01    389003\n",
      "   macro avg       0.50      0.50      0.01    389003\n",
      "weighted avg       0.99      0.01      0.01    389003\n",
      "\n",
      "\n",
      " confussion matrix:\n",
      " [[  1826 384925]\n",
      " [     0   2252]]\n"
     ]
    }
   ],
   "source": [
    "# looking at evaluation metric\n",
    "print ('Accuracy: ', accuracy_score(y_test, y_pred_os))\n",
    "print ('F1 score: ', f1_score(y_test, y_pred_os))\n",
    "print ('Recall: ', recall_score(y_test, y_pred_os))\n",
    "print ('Precision: ', precision_score(y_test, y_pred_os))\n",
    "print ('\\n clasification report:\\n', classification_report(y_test,y_pred_os))\n",
    "print ('\\n confussion matrix:\\n',confusion_matrix(y_test, y_pred_os))\n"
   ]
  },
  {
   "cell_type": "markdown",
   "metadata": {
    "id": "Ugy9FBdUm4Xz"
   },
   "source": [
    "___\n",
    "**Model Number: 4 (Logistic Regression SMOTE)**"
   ]
  },
  {
   "cell_type": "code",
   "execution_count": 111,
   "metadata": {
    "colab": {
     "base_uri": "https://localhost:8080/"
    },
    "id": "F-DVA69PmtU3",
    "outputId": "369b4784-6d0e-41b3-ea89-366ba41c2d99"
   },
   "outputs": [
    {
     "data": {
      "text/plain": [
       "1804836"
      ]
     },
     "execution_count": 111,
     "metadata": {},
     "output_type": "execute_result"
    }
   ],
   "source": [
    "# SMOTE\n",
    "\n",
    "#importing lobrary\n",
    "from imblearn.over_sampling import SMOTE\n",
    "\n",
    "#initialize\n",
    "smt = SMOTE(random_state=45, k_neighbors=5)\n",
    "\n",
    "#fit\n",
    "X_resampled_smt, y_resampled_smt = smt.fit_resample(X_train, y_train)\n",
    "len(X_resampled_smt)"
   ]
  },
  {
   "cell_type": "code",
   "execution_count": 112,
   "metadata": {
    "colab": {
     "base_uri": "https://localhost:8080/"
    },
    "id": "Fe2raZQDmu97",
    "outputId": "c93881c6-b0d2-4370-cf85-83c8abe8708e"
   },
   "outputs": [
    {
     "name": "stdout",
     "output_type": "stream",
     "text": [
      "[(0, 902418), (1, 902418)]\n"
     ]
    }
   ],
   "source": [
    "print(sorted(Counter(y_resampled_smt).items()))"
   ]
  },
  {
   "cell_type": "code",
   "execution_count": 113,
   "metadata": {
    "id": "nwCAPYYZmxM1"
   },
   "outputs": [],
   "source": [
    "# applying logistic regression\n",
    "lreg_smt = LogisticRegression()\n",
    "lreg_smt.fit(X_resampled_smt, y_resampled_smt)\n",
    "\n",
    "y_pred_smt = lreg_smt.predict(X_test)"
   ]
  },
  {
   "cell_type": "code",
   "execution_count": 114,
   "metadata": {
    "colab": {
     "base_uri": "https://localhost:8080/"
    },
    "id": "-y8DPLIKmzZe",
    "outputId": "618f9274-686f-4947-c80f-663fd435073a"
   },
   "outputs": [
    {
     "name": "stdout",
     "output_type": "stream",
     "text": [
      "Accuracy:  0.013331516723521413\n",
      "F1 score:  0.011598651630996005\n",
      "Recall:  1.0\n",
      "Precision:  0.005833154177103056\n",
      "\n",
      " clasification report:\n",
      "               precision    recall  f1-score   support\n",
      "\n",
      "           0       1.00      0.01      0.02    386751\n",
      "           1       0.01      1.00      0.01      2252\n",
      "\n",
      "    accuracy                           0.01    389003\n",
      "   macro avg       0.50      0.50      0.01    389003\n",
      "weighted avg       0.99      0.01      0.02    389003\n",
      "\n",
      "\n",
      " confussion matrix:\n",
      " [[  2934 383817]\n",
      " [     0   2252]]\n"
     ]
    }
   ],
   "source": [
    "# looking at evaluation metric\n",
    "print ('Accuracy: ', accuracy_score(y_test, y_pred_smt))\n",
    "print ('F1 score: ', f1_score(y_test, y_pred_smt))\n",
    "print ('Recall: ', recall_score(y_test, y_pred_smt))\n",
    "print ('Precision: ', precision_score(y_test, y_pred_smt))\n",
    "print ('\\n clasification report:\\n', classification_report(y_test,y_pred_smt))\n",
    "print ('\\n confussion matrix:\\n',confusion_matrix(y_test, y_pred_smt))\n"
   ]
  },
  {
   "cell_type": "markdown",
   "metadata": {
    "id": "ic5-SgacnxNu"
   },
   "source": [
    "___\n",
    "**Model Number: 5 (Logistic Regression ADASYN)**"
   ]
  },
  {
   "cell_type": "code",
   "execution_count": 115,
   "metadata": {
    "colab": {
     "base_uri": "https://localhost:8080/"
    },
    "id": "e4MIGW1_m_pe",
    "outputId": "ed52b2ff-8e29-49fb-95f9-0e6f613e0f29"
   },
   "outputs": [
    {
     "data": {
      "text/plain": [
       "1805787"
      ]
     },
     "execution_count": 115,
     "metadata": {},
     "output_type": "execute_result"
    }
   ],
   "source": [
    "# ADASYN\n",
    "\n",
    "#imporitng library\n",
    "from imblearn.over_sampling import ADASYN\n",
    "\n",
    "#initialize\n",
    "ada = ADASYN(random_state=45, n_neighbors=5)\n",
    "\n",
    "#fit\n",
    "X_resampled_ada, y_resampled_ada = ada.fit_resample(X_train, y_train)\n",
    "len(X_resampled_ada)"
   ]
  },
  {
   "cell_type": "code",
   "execution_count": 116,
   "metadata": {
    "colab": {
     "base_uri": "https://localhost:8080/"
    },
    "id": "znLmzLySnA6r",
    "outputId": "b9877e6c-0579-48d1-a6c6-2d47d655b3dc"
   },
   "outputs": [
    {
     "name": "stdout",
     "output_type": "stream",
     "text": [
      "[(0, 902418), (1, 903369)]\n"
     ]
    }
   ],
   "source": [
    "print(sorted(Counter(y_resampled_ada).items()))"
   ]
  },
  {
   "cell_type": "code",
   "execution_count": 117,
   "metadata": {
    "id": "8EzBCQCznDDL"
   },
   "outputs": [],
   "source": [
    "# applying on logistic regression\n",
    "lreg_ada = LogisticRegression()\n",
    "lreg_ada.fit(X_resampled_ada, y_resampled_ada)\n",
    "\n",
    "y_pred_ada = lreg_ada.predict(X_test)"
   ]
  },
  {
   "cell_type": "code",
   "execution_count": 118,
   "metadata": {
    "colab": {
     "base_uri": "https://localhost:8080/"
    },
    "id": "-89AUK-inFp9",
    "outputId": "f2510d26-92fb-4dc2-fa83-50be106af8a0"
   },
   "outputs": [
    {
     "name": "stdout",
     "output_type": "stream",
     "text": [
      "Accuracy:  0.013110438736976322\n",
      "F1 score:  0.011596083489741432\n",
      "Recall:  1.0\n",
      "Precision:  0.0058318550840983545\n",
      "\n",
      " clasification report:\n",
      "               precision    recall  f1-score   support\n",
      "\n",
      "           0       1.00      0.01      0.01    386751\n",
      "           1       0.01      1.00      0.01      2252\n",
      "\n",
      "    accuracy                           0.01    389003\n",
      "   macro avg       0.50      0.50      0.01    389003\n",
      "weighted avg       0.99      0.01      0.01    389003\n",
      "\n",
      "\n",
      " confussion matrix:\n",
      " [[  2848 383903]\n",
      " [     0   2252]]\n"
     ]
    }
   ],
   "source": [
    "# looking at evaluation metric\n",
    "print ('Accuracy: ', accuracy_score(y_test, y_pred_ada))\n",
    "print ('F1 score: ', f1_score(y_test, y_pred_ada))\n",
    "print ('Recall: ', recall_score(y_test, y_pred_ada))\n",
    "print ('Precision: ', precision_score(y_test, y_pred_ada))\n",
    "print ('\\n clasification report:\\n', classification_report(y_test,y_pred_ada))\n",
    "print ('\\n confussion matrix:\\n',confusion_matrix(y_test, y_pred_ada))\n"
   ]
  },
  {
   "cell_type": "markdown",
   "metadata": {
    "id": "inuSmwT5nQgX"
   },
   "source": [
    "___\n",
    "#### **Decision Tree**\n",
    "\n",
    "**Model Number: 6 (Decision Tree Base)**"
   ]
  },
  {
   "cell_type": "code",
   "execution_count": 119,
   "metadata": {
    "id": "DV67sU9OnHvK"
   },
   "outputs": [],
   "source": [
    "# Decision Trees - Base\n",
    "\n",
    "#importing library\n",
    "from sklearn.tree import DecisionTreeClassifier\n",
    "\n",
    "#initialize\n",
    "dtc = DecisionTreeClassifier(random_state=0)\n",
    "#fit\n",
    "dtc.fit(X_train, y_train)\n",
    "#predicting on test\n",
    "y_pred_dtc = dtc.predict(X_test)"
   ]
  },
  {
   "cell_type": "code",
   "execution_count": 120,
   "metadata": {
    "colab": {
     "base_uri": "https://localhost:8080/"
    },
    "id": "1auJhh7inc8w",
    "outputId": "549711c2-4724-4715-c7ac-02f4a07e9305"
   },
   "outputs": [
    {
     "name": "stdout",
     "output_type": "stream",
     "text": [
      "Accuracy:  0.9189517818628649\n",
      "F1 score:  0.0006973058637083993\n",
      "Recall:  0.004884547069271759\n",
      "Precision:  0.00037545224930029354\n",
      "\n",
      " clasification report:\n",
      "               precision    recall  f1-score   support\n",
      "\n",
      "           0       0.99      0.92      0.96    386751\n",
      "           1       0.00      0.00      0.00      2252\n",
      "\n",
      "    accuracy                           0.92    389003\n",
      "   macro avg       0.50      0.46      0.48    389003\n",
      "weighted avg       0.99      0.92      0.95    389003\n",
      "\n",
      "\n",
      " confussion matrix:\n",
      " [[357464  29287]\n",
      " [  2241     11]]\n"
     ]
    }
   ],
   "source": [
    "# lookig at evaluation metrics\n",
    "print ('Accuracy: ', accuracy_score(y_test, y_pred_dtc))\n",
    "print ('F1 score: ', f1_score(y_test, y_pred_dtc))\n",
    "print ('Recall: ', recall_score(y_test, y_pred_dtc))\n",
    "print ('Precision: ', precision_score(y_test, y_pred_dtc))\n",
    "print ('\\n clasification report:\\n', classification_report(y_test,y_pred_dtc))\n",
    "print ('\\n confussion matrix:\\n',confusion_matrix(y_test, y_pred_dtc))\n"
   ]
  },
  {
   "cell_type": "markdown",
   "metadata": {
    "id": "YAMAhC58oKCu"
   },
   "source": [
    "___\n",
    "**Model Number: 7 (Decision Tree Random_UnderSampling)**"
   ]
  },
  {
   "cell_type": "code",
   "execution_count": 121,
   "metadata": {
    "id": "jbDZN21OnqZr"
   },
   "outputs": [],
   "source": [
    "# Decision Trees - Random UnderSampling\n",
    "\n",
    "from sklearn.tree import DecisionTreeClassifier\n",
    "dtc_us = DecisionTreeClassifier(random_state=0)\n",
    "dtc_us.fit(X_resampled_us, y_resampled_us)\n",
    "\n",
    "y_pred_dtc_us = dtc_us.predict(X_test)"
   ]
  },
  {
   "cell_type": "code",
   "execution_count": 122,
   "metadata": {
    "colab": {
     "base_uri": "https://localhost:8080/"
    },
    "id": "iBSTTPvRnvno",
    "outputId": "f028c81c-c9a1-4e0e-e681-6445cb1f81b5"
   },
   "outputs": [
    {
     "name": "stdout",
     "output_type": "stream",
     "text": [
      "Accuracy:  0.8701115415562348\n",
      "F1 score:  0.0020934963363814113\n",
      "Recall:  0.023534635879218474\n",
      "Precision:  0.0010954713627250366\n",
      "\n",
      " clasification report:\n",
      "               precision    recall  f1-score   support\n",
      "\n",
      "           0       0.99      0.88      0.93    386751\n",
      "           1       0.00      0.02      0.00      2252\n",
      "\n",
      "    accuracy                           0.87    389003\n",
      "   macro avg       0.50      0.45      0.47    389003\n",
      "weighted avg       0.99      0.87      0.93    389003\n",
      "\n",
      "\n",
      " confussion matrix:\n",
      " [[338423  48328]\n",
      " [  2199     53]]\n"
     ]
    }
   ],
   "source": [
    "#looking at evaluation metric\n",
    "print ('Accuracy: ', accuracy_score(y_test, y_pred_dtc_us))\n",
    "print ('F1 score: ', f1_score(y_test, y_pred_dtc_us))\n",
    "print ('Recall: ', recall_score(y_test, y_pred_dtc_us))\n",
    "print ('Precision: ', precision_score(y_test, y_pred_dtc_us))\n",
    "print ('\\n clasification report:\\n', classification_report(y_test,y_pred_dtc_us))\n",
    "print ('\\n confussion matrix:\\n',confusion_matrix(y_test, y_pred_dtc_us))\n"
   ]
  },
  {
   "cell_type": "markdown",
   "metadata": {
    "id": "Vc6BKJV4oa2X"
   },
   "source": [
    "___\n",
    "**Model Number: 8 (Decision Tree Random_OverSampling)**"
   ]
  },
  {
   "cell_type": "code",
   "execution_count": 123,
   "metadata": {
    "id": "xMdkU95an1OL"
   },
   "outputs": [],
   "source": [
    "# Decision Trees - Random Over-Sampling\n",
    "from sklearn.tree import DecisionTreeClassifier\n",
    "dtc_os = DecisionTreeClassifier(random_state=0)\n",
    "dtc_os.fit(X_resampled_os, y_resampled_os)\n",
    "\n",
    "y_pred_dtc_os = dtc_os.predict(X_test)"
   ]
  },
  {
   "cell_type": "code",
   "execution_count": 124,
   "metadata": {
    "colab": {
     "base_uri": "https://localhost:8080/"
    },
    "id": "SWwIRPxkn6EU",
    "outputId": "377fd2e0-491e-4b07-8f93-40202d4a0100"
   },
   "outputs": [
    {
     "name": "stdout",
     "output_type": "stream",
     "text": [
      "Accuracy:  0.9508101479937173\n",
      "F1 score:  0.0008354655109393765\n",
      "Recall:  0.003552397868561279\n",
      "Precision:  0.0004734007929463282\n",
      "\n",
      " clasification report:\n",
      "               precision    recall  f1-score   support\n",
      "\n",
      "           0       0.99      0.96      0.97    386751\n",
      "           1       0.00      0.00      0.00      2252\n",
      "\n",
      "    accuracy                           0.95    389003\n",
      "   macro avg       0.50      0.48      0.49    389003\n",
      "weighted avg       0.99      0.95      0.97    389003\n",
      "\n",
      "\n",
      " confussion matrix:\n",
      " [[369860  16891]\n",
      " [  2244      8]]\n"
     ]
    }
   ],
   "source": [
    "# looking at evaluation metrics\n",
    "print ('Accuracy: ', accuracy_score(y_test, y_pred_dtc_os))\n",
    "print ('F1 score: ', f1_score(y_test, y_pred_dtc_os))\n",
    "print ('Recall: ', recall_score(y_test, y_pred_dtc_os))\n",
    "print ('Precision: ', precision_score(y_test, y_pred_dtc_os))\n",
    "print ('\\n clasification report:\\n', classification_report(y_test,y_pred_dtc_os))\n",
    "print ('\\n confussion matrix:\\n',confusion_matrix(y_test, y_pred_dtc_os))\n"
   ]
  },
  {
   "cell_type": "markdown",
   "metadata": {
    "id": "k__cgTzNoh79"
   },
   "source": [
    "___\n",
    "**Model Number: 9 (Decision Tree SMOTE)**"
   ]
  },
  {
   "cell_type": "code",
   "execution_count": 125,
   "metadata": {
    "id": "Jt_YMgBen8LA"
   },
   "outputs": [],
   "source": [
    "# Decision Trees - SMOTE\n",
    "from sklearn.tree import DecisionTreeClassifier\n",
    "dtc_smt = DecisionTreeClassifier(random_state=0)\n",
    "dtc_smt.fit(X_resampled_smt, y_resampled_smt)\n",
    "\n",
    "y_pred_dtc_smt = dtc_smt.predict(X_test)"
   ]
  },
  {
   "cell_type": "code",
   "execution_count": 126,
   "metadata": {
    "colab": {
     "base_uri": "https://localhost:8080/"
    },
    "id": "6CnB4j51oASo",
    "outputId": "29bc837b-227c-4277-88f5-0a865f71b1c3"
   },
   "outputs": [
    {
     "name": "stdout",
     "output_type": "stream",
     "text": [
      "Accuracy:  0.9432497949887276\n",
      "F1 score:  0.0004527755139002083\n",
      "Recall:  0.002220248667850799\n",
      "Precision:  0.00025209236664313804\n",
      "\n",
      " clasification report:\n",
      "               precision    recall  f1-score   support\n",
      "\n",
      "           0       0.99      0.95      0.97    386751\n",
      "           1       0.00      0.00      0.00      2252\n",
      "\n",
      "    accuracy                           0.94    389003\n",
      "   macro avg       0.50      0.48      0.49    389003\n",
      "weighted avg       0.99      0.94      0.97    389003\n",
      "\n",
      "\n",
      " confussion matrix:\n",
      " [[366922  19829]\n",
      " [  2247      5]]\n"
     ]
    }
   ],
   "source": [
    "# looking at evaluation metrics\n",
    "print ('Accuracy: ', accuracy_score(y_test, y_pred_dtc_smt))\n",
    "print ('F1 score: ', f1_score(y_test, y_pred_dtc_smt))\n",
    "print ('Recall: ', recall_score(y_test, y_pred_dtc_smt))\n",
    "print ('Precision: ', precision_score(y_test, y_pred_dtc_smt))\n",
    "print ('\\n clasification report:\\n', classification_report(y_test,y_pred_dtc_smt))\n",
    "print ('\\n confussion matrix:\\n',confusion_matrix(y_test, y_pred_dtc_smt))\n"
   ]
  },
  {
   "cell_type": "markdown",
   "metadata": {
    "id": "RsuWhnP5onTZ"
   },
   "source": [
    "___\n",
    "**Model Number: 10 (Decision Tree ADASYN)**"
   ]
  },
  {
   "cell_type": "code",
   "execution_count": 127,
   "metadata": {
    "id": "af-5Fa7qoENX"
   },
   "outputs": [],
   "source": [
    "# Decision Trees - ADASYN\n",
    "from sklearn.tree import DecisionTreeClassifier\n",
    "dtc_ada = DecisionTreeClassifier(random_state=0)\n",
    "dtc_ada.fit(X_resampled_ada, y_resampled_ada)\n",
    "\n",
    "y_pred_dtc_ada = dtc_ada.predict(X_test)"
   ]
  },
  {
   "cell_type": "code",
   "execution_count": 128,
   "metadata": {
    "colab": {
     "base_uri": "https://localhost:8080/"
    },
    "id": "65qo1F4soKA0",
    "outputId": "91dae2d3-656a-4384-8822-8361fa350112"
   },
   "outputs": [
    {
     "name": "stdout",
     "output_type": "stream",
     "text": [
      "Accuracy:  0.9446379590902898\n",
      "F1 score:  0.0006496519721577727\n",
      "Recall:  0.003108348134991119\n",
      "Precision:  0.00036273188931495494\n",
      "\n",
      " clasification report:\n",
      "               precision    recall  f1-score   support\n",
      "\n",
      "           0       0.99      0.95      0.97    386751\n",
      "           1       0.00      0.00      0.00      2252\n",
      "\n",
      "    accuracy                           0.94    389003\n",
      "   macro avg       0.50      0.48      0.49    389003\n",
      "weighted avg       0.99      0.94      0.97    389003\n",
      "\n",
      "\n",
      " confussion matrix:\n",
      " [[367460  19291]\n",
      " [  2245      7]]\n"
     ]
    }
   ],
   "source": [
    "# looking at evaluation metrics\n",
    "print ('Accuracy: ', accuracy_score(y_test, y_pred_dtc_ada))\n",
    "print ('F1 score: ', f1_score(y_test, y_pred_dtc_ada))\n",
    "print ('Recall: ', recall_score(y_test, y_pred_dtc_ada))\n",
    "print ('Precision: ', precision_score(y_test, y_pred_dtc_ada))\n",
    "print ('\\n clasification report:\\n', classification_report(y_test,y_pred_dtc_ada))\n",
    "print ('\\n confussion matrix:\\n',confusion_matrix(y_test, y_pred_dtc_ada))\n"
   ]
  },
  {
   "cell_type": "markdown",
   "metadata": {
    "id": "bBwj5iq5oWS9"
   },
   "source": [
    "___\n",
    "#### **Random Forest**\n",
    "**Model Number: 11 (Random Forest Base)**"
   ]
  },
  {
   "cell_type": "code",
   "execution_count": 129,
   "metadata": {
    "id": "0x4u9ZewoPTg"
   },
   "outputs": [],
   "source": [
    "# Random Forest - Base\n",
    "\n",
    "#importing library\n",
    "from sklearn.ensemble import RandomForestClassifier\n",
    "\n",
    "#initialize\n",
    "rf = RandomForestClassifier()\n",
    "#fitting\n",
    "rf.fit(X_train, y_train)\n",
    "#predicting\n",
    "y_pred_rf = rf.predict(X_test)"
   ]
  },
  {
   "cell_type": "code",
   "execution_count": 130,
   "metadata": {
    "colab": {
     "base_uri": "https://localhost:8080/"
    },
    "id": "IfwzNwvWoL_k",
    "outputId": "6a87d1e2-264e-4dd3-d2e4-547b7f416dc9"
   },
   "outputs": [
    {
     "name": "stdout",
     "output_type": "stream",
     "text": [
      "Accuracy:  0.8812142836944702\n",
      "F1 score:  0.03342676651466343\n",
      "Recall:  0.35479573712255774\n",
      "Precision:  0.017539623304210387\n",
      "\n",
      " clasification report:\n",
      "               precision    recall  f1-score   support\n",
      "\n",
      "           0       1.00      0.88      0.94    386751\n",
      "           1       0.02      0.35      0.03      2252\n",
      "\n",
      "    accuracy                           0.88    389003\n",
      "   macro avg       0.51      0.62      0.49    389003\n",
      "weighted avg       0.99      0.88      0.93    389003\n",
      "\n",
      "\n",
      " confussion matrix:\n",
      " [[341996  44755]\n",
      " [  1453    799]]\n"
     ]
    }
   ],
   "source": [
    "#looking at evaluation metrics\n",
    "print ('Accuracy: ', accuracy_score(y_test, y_pred_rf))\n",
    "print ('F1 score: ', f1_score(y_test, y_pred_rf))\n",
    "print ('Recall: ', recall_score(y_test, y_pred_rf))\n",
    "print ('Precision: ', precision_score(y_test, y_pred_rf))\n",
    "print ('\\n clasification report:\\n', classification_report(y_test,y_pred_rf))\n",
    "print ('\\n confussion matrix:\\n',confusion_matrix(y_test, y_pred_rf))\n"
   ]
  },
  {
   "cell_type": "markdown",
   "metadata": {
    "id": "1gRJ7qlnozvX"
   },
   "source": [
    "___\n",
    "**Model Number: 12 (Random Forest Random_UnderSampling)**"
   ]
  },
  {
   "cell_type": "code",
   "execution_count": 131,
   "metadata": {
    "id": "1R72uKJToc3B"
   },
   "outputs": [],
   "source": [
    "# Random Forest - Random UnderSampling\n",
    "rf_us = RandomForestClassifier()\n",
    "rf_us.fit(X_resampled_us, y_resampled_us)\n",
    "\n",
    "y_pred_rf_us = rf_us.predict(X_test)"
   ]
  },
  {
   "cell_type": "code",
   "execution_count": 132,
   "metadata": {
    "colab": {
     "base_uri": "https://localhost:8080/"
    },
    "id": "hjqyJT8Yofwv",
    "outputId": "5c7bba0f-cb32-45b7-d5e5-784e675b18c0"
   },
   "outputs": [
    {
     "name": "stdout",
     "output_type": "stream",
     "text": [
      "Accuracy:  0.2547795261219065\n",
      "F1 score:  0.013234348034760587\n",
      "Recall:  0.8632326820603907\n",
      "Precision:  0.006668290290159812\n",
      "\n",
      " clasification report:\n",
      "               precision    recall  f1-score   support\n",
      "\n",
      "           0       1.00      0.25      0.40    386751\n",
      "           1       0.01      0.86      0.01      2252\n",
      "\n",
      "    accuracy                           0.25    389003\n",
      "   macro avg       0.50      0.56      0.21    389003\n",
      "weighted avg       0.99      0.25      0.40    389003\n",
      "\n",
      "\n",
      " confussion matrix:\n",
      " [[ 97166 289585]\n",
      " [   308   1944]]\n"
     ]
    }
   ],
   "source": [
    "# looking at evaluation metrics\n",
    "print ('Accuracy: ', accuracy_score(y_test, y_pred_rf_us))\n",
    "print ('F1 score: ', f1_score(y_test, y_pred_rf_us))\n",
    "print ('Recall: ', recall_score(y_test, y_pred_rf_us))\n",
    "print ('Precision: ', precision_score(y_test, y_pred_rf_us))\n",
    "print ('\\n clasification report:\\n', classification_report(y_test,y_pred_rf_us))\n",
    "print ('\\n confussion matrix:\\n',confusion_matrix(y_test, y_pred_rf_us))\n"
   ]
  },
  {
   "cell_type": "markdown",
   "metadata": {
    "id": "o7ajmYhEo6QZ"
   },
   "source": [
    "___\n",
    "**Model Number: 13 (Random Forest Random_OverSampling)**"
   ]
  },
  {
   "cell_type": "code",
   "execution_count": 133,
   "metadata": {
    "id": "8bu7bN0HoiFO"
   },
   "outputs": [],
   "source": [
    "# Random Forest - Random Over-Sampling\n",
    "rf_os = RandomForestClassifier()\n",
    "rf_os.fit(X_resampled_os, y_resampled_os)\n",
    "\n",
    "y_pred_rf_os = rf_os.predict(X_test)"
   ]
  },
  {
   "cell_type": "code",
   "execution_count": 134,
   "metadata": {
    "colab": {
     "base_uri": "https://localhost:8080/"
    },
    "id": "vrcNxUvmonph",
    "outputId": "d9fb79f1-2fb7-401f-8274-750d023d8ef6"
   },
   "outputs": [
    {
     "name": "stdout",
     "output_type": "stream",
     "text": [
      "Accuracy:  0.8614278038986846\n",
      "F1 score:  0.027880471046509533\n",
      "Recall:  0.3432504440497336\n",
      "Precision:  0.014530348314817948\n",
      "\n",
      " clasification report:\n",
      "               precision    recall  f1-score   support\n",
      "\n",
      "           0       1.00      0.86      0.93    386751\n",
      "           1       0.01      0.34      0.03      2252\n",
      "\n",
      "    accuracy                           0.86    389003\n",
      "   macro avg       0.51      0.60      0.48    389003\n",
      "weighted avg       0.99      0.86      0.92    389003\n",
      "\n",
      "\n",
      " confussion matrix:\n",
      " [[334325  52426]\n",
      " [  1479    773]]\n"
     ]
    }
   ],
   "source": [
    "#lookig at evaluation metrics\n",
    "print ('Accuracy: ', accuracy_score(y_test, y_pred_rf_os))\n",
    "print ('F1 score: ', f1_score(y_test, y_pred_rf_os))\n",
    "print ('Recall: ', recall_score(y_test, y_pred_rf_os))\n",
    "print ('Precision: ', precision_score(y_test, y_pred_rf_os))\n",
    "print ('\\n clasification report:\\n', classification_report(y_test,y_pred_rf_os))\n",
    "print ('\\n confussion matrix:\\n',confusion_matrix(y_test, y_pred_rf_os))\n"
   ]
  },
  {
   "cell_type": "markdown",
   "metadata": {
    "id": "kVzHADrjpPF1"
   },
   "source": [
    "___\n",
    "**Model Number: 14 (Random Forest SMOTE)**"
   ]
  },
  {
   "cell_type": "code",
   "execution_count": 135,
   "metadata": {
    "id": "PrfzoXrco1sS"
   },
   "outputs": [],
   "source": [
    "# Random Forest - SMOTE\n",
    "rf_smt = RandomForestClassifier()\n",
    "rf_smt.fit(X_resampled_smt, y_resampled_smt)\n",
    "\n",
    "y_pred_rf_smt = rf_smt.predict(X_test)"
   ]
  },
  {
   "cell_type": "code",
   "execution_count": 136,
   "metadata": {
    "colab": {
     "base_uri": "https://localhost:8080/"
    },
    "id": "ARXR3Q5uo4qf",
    "outputId": "f35f4d01-cc2d-4ba5-bc46-a2688d52e58c"
   },
   "outputs": [
    {
     "name": "stdout",
     "output_type": "stream",
     "text": [
      "Accuracy:  0.8607003030824955\n",
      "F1 score:  0.020816769063968194\n",
      "Recall:  0.2557726465364121\n",
      "Precision:  0.0108499095840868\n",
      "\n",
      " clasification report:\n",
      "               precision    recall  f1-score   support\n",
      "\n",
      "           0       1.00      0.86      0.93    386751\n",
      "           1       0.01      0.26      0.02      2252\n",
      "\n",
      "    accuracy                           0.86    389003\n",
      "   macro avg       0.50      0.56      0.47    389003\n",
      "weighted avg       0.99      0.86      0.92    389003\n",
      "\n",
      "\n",
      " confussion matrix:\n",
      " [[334239  52512]\n",
      " [  1676    576]]\n"
     ]
    }
   ],
   "source": [
    "# looking at evaluation metrics\n",
    "print ('Accuracy: ', accuracy_score(y_test, y_pred_rf_smt))\n",
    "print ('F1 score: ', f1_score(y_test, y_pred_rf_smt))\n",
    "print ('Recall: ', recall_score(y_test, y_pred_rf_smt))\n",
    "print ('Precision: ', precision_score(y_test, y_pred_rf_smt))\n",
    "print ('\\n clasification report:\\n', classification_report(y_test,y_pred_rf_smt))\n",
    "print ('\\n confussion matrix:\\n',confusion_matrix(y_test, y_pred_rf_smt))\n"
   ]
  },
  {
   "cell_type": "markdown",
   "metadata": {
    "id": "vvv9suQ1pduh"
   },
   "source": [
    "___\n",
    "**Model Number: 15 (Random Forest ADASYN)**"
   ]
  },
  {
   "cell_type": "code",
   "execution_count": 137,
   "metadata": {
    "id": "aVT4Sdyxo6gf"
   },
   "outputs": [],
   "source": [
    "# Random Forest - ADASYN\n",
    "rf_ada = RandomForestClassifier()\n",
    "rf_ada.fit(X_resampled_ada, y_resampled_ada)\n",
    "\n",
    "y_pred_rf_ada = rf_ada.predict(X_test)"
   ]
  },
  {
   "cell_type": "code",
   "execution_count": 138,
   "metadata": {
    "colab": {
     "base_uri": "https://localhost:8080/"
    },
    "id": "MNVXx8Oyo9In",
    "outputId": "dc5e1a4b-f835-46a1-af00-728c45615a28"
   },
   "outputs": [
    {
     "name": "stdout",
     "output_type": "stream",
     "text": [
      "Accuracy:  0.8481297059405711\n",
      "F1 score:  0.0219845710690991\n",
      "Recall:  0.29484902309058614\n",
      "Precision:  0.011417959211748117\n",
      "\n",
      " clasification report:\n",
      "               precision    recall  f1-score   support\n",
      "\n",
      "           0       1.00      0.85      0.92    386751\n",
      "           1       0.01      0.29      0.02      2252\n",
      "\n",
      "    accuracy                           0.85    389003\n",
      "   macro avg       0.50      0.57      0.47    389003\n",
      "weighted avg       0.99      0.85      0.91    389003\n",
      "\n",
      "\n",
      " confussion matrix:\n",
      " [[329261  57490]\n",
      " [  1588    664]]\n"
     ]
    }
   ],
   "source": [
    "# looking at evaluation metrics\n",
    "print ('Accuracy: ', accuracy_score(y_test, y_pred_rf_ada))\n",
    "print ('F1 score: ', f1_score(y_test, y_pred_rf_ada))\n",
    "print ('Recall: ', recall_score(y_test, y_pred_rf_ada))\n",
    "print ('Precision: ', precision_score(y_test, y_pred_rf_ada))\n",
    "print ('\\n clasification report:\\n', classification_report(y_test,y_pred_rf_ada))\n",
    "print ('\\n confussion matrix:\\n',confusion_matrix(y_test, y_pred_rf_ada))\n"
   ]
  },
  {
   "cell_type": "markdown",
   "metadata": {
    "id": "6BW3_ZWAkcb-"
   },
   "source": [
    "___\n",
    "- We'll move ahead with model : **`Logistic Regression SMOTE`**. As, it fullfills our model selection requirement.\n",
    "___"
   ]
  },
  {
   "cell_type": "code",
   "execution_count": 140,
   "metadata": {
    "id": "ybpj_iDXnTUu"
   },
   "outputs": [],
   "source": [
    "#importing library\n",
    "from sklearn.feature_selection import RFE\n",
    "rfe = RFE(estimator = lreg_smt, n_features_to_select= 15)\n",
    "rfe_res = rfe.fit(X_train,y_train)"
   ]
  },
  {
   "cell_type": "code",
   "execution_count": 141,
   "metadata": {
    "colab": {
     "base_uri": "https://localhost:8080/"
    },
    "id": "QysE4V3nb4Oo",
    "outputId": "a415a1b9-1302-46b7-c772-d496d53de472"
   },
   "outputs": [
    {
     "data": {
      "text/plain": [
       "Index(['amount', 'transaction_hour', 'category_food_dining',\n",
       "       'category_gas_transport', 'category_grocery_net',\n",
       "       'category_grocery_pos', 'category_health_fitness', 'category_home',\n",
       "       'category_misc_net', 'category_misc_pos', 'category_shopping_net',\n",
       "       'category_shopping_pos', 'category_travel', 'age_group_51-60',\n",
       "       'age_group_60+'],\n",
       "      dtype='object')"
      ]
     },
     "execution_count": 141,
     "metadata": {},
     "output_type": "execute_result"
    }
   ],
   "source": [
    "# columns which were selected by RFE\n",
    "X_train.columns[rfe_res.support_]"
   ]
  },
  {
   "cell_type": "code",
   "execution_count": 142,
   "metadata": {
    "colab": {
     "base_uri": "https://localhost:8080/",
     "height": 1000
    },
    "id": "EFiDVUPOcJZX",
    "outputId": "ffb7973c-49e7-42df-e6f1-950c5ee8bb01"
   },
   "outputs": [
    {
     "data": {
      "text/html": [
       "\n",
       "  <div id=\"df-293db19c-348c-4ca3-8ac7-177e7b62adcb\">\n",
       "    <div class=\"colab-df-container\">\n",
       "      <div>\n",
       "<style scoped>\n",
       "    .dataframe tbody tr th:only-of-type {\n",
       "        vertical-align: middle;\n",
       "    }\n",
       "\n",
       "    .dataframe tbody tr th {\n",
       "        vertical-align: top;\n",
       "    }\n",
       "\n",
       "    .dataframe thead th {\n",
       "        text-align: right;\n",
       "    }\n",
       "</style>\n",
       "<table border=\"1\" class=\"dataframe\">\n",
       "  <thead>\n",
       "    <tr style=\"text-align: right;\">\n",
       "      <th></th>\n",
       "      <th>Varname</th>\n",
       "      <th>Imp</th>\n",
       "    </tr>\n",
       "  </thead>\n",
       "  <tbody>\n",
       "    <tr>\n",
       "      <th>0</th>\n",
       "      <td>amount</td>\n",
       "      <td>0.578725</td>\n",
       "    </tr>\n",
       "    <tr>\n",
       "      <th>1</th>\n",
       "      <td>transaction_hour</td>\n",
       "      <td>0.137755</td>\n",
       "    </tr>\n",
       "    <tr>\n",
       "      <th>5</th>\n",
       "      <td>category_grocery_pos</td>\n",
       "      <td>0.061107</td>\n",
       "    </tr>\n",
       "    <tr>\n",
       "      <th>3</th>\n",
       "      <td>category_gas_transport</td>\n",
       "      <td>0.021551</td>\n",
       "    </tr>\n",
       "    <tr>\n",
       "      <th>20</th>\n",
       "      <td>age_group_60+</td>\n",
       "      <td>0.020514</td>\n",
       "    </tr>\n",
       "    <tr>\n",
       "      <th>19</th>\n",
       "      <td>age_group_51-60</td>\n",
       "      <td>0.018190</td>\n",
       "    </tr>\n",
       "    <tr>\n",
       "      <th>15</th>\n",
       "      <td>gender_M</td>\n",
       "      <td>0.017141</td>\n",
       "    </tr>\n",
       "    <tr>\n",
       "      <th>9</th>\n",
       "      <td>category_misc_net</td>\n",
       "      <td>0.015286</td>\n",
       "    </tr>\n",
       "    <tr>\n",
       "      <th>12</th>\n",
       "      <td>category_shopping_net</td>\n",
       "      <td>0.012628</td>\n",
       "    </tr>\n",
       "    <tr>\n",
       "      <th>10</th>\n",
       "      <td>category_misc_pos</td>\n",
       "      <td>0.012627</td>\n",
       "    </tr>\n",
       "    <tr>\n",
       "      <th>14</th>\n",
       "      <td>category_travel</td>\n",
       "      <td>0.009205</td>\n",
       "    </tr>\n",
       "    <tr>\n",
       "      <th>18</th>\n",
       "      <td>age_group_41-50</td>\n",
       "      <td>0.009068</td>\n",
       "    </tr>\n",
       "    <tr>\n",
       "      <th>17</th>\n",
       "      <td>age_group_31-40</td>\n",
       "      <td>0.008869</td>\n",
       "    </tr>\n",
       "    <tr>\n",
       "      <th>16</th>\n",
       "      <td>age_group_21-30</td>\n",
       "      <td>0.008866</td>\n",
       "    </tr>\n",
       "    <tr>\n",
       "      <th>13</th>\n",
       "      <td>category_shopping_pos</td>\n",
       "      <td>0.008619</td>\n",
       "    </tr>\n",
       "    <tr>\n",
       "      <th>27</th>\n",
       "      <td>distance_segment_far</td>\n",
       "      <td>0.007705</td>\n",
       "    </tr>\n",
       "    <tr>\n",
       "      <th>28</th>\n",
       "      <td>distance_segment_far_away</td>\n",
       "      <td>0.007552</td>\n",
       "    </tr>\n",
       "    <tr>\n",
       "      <th>22</th>\n",
       "      <td>transaction_day_of_week_Saturday</td>\n",
       "      <td>0.005236</td>\n",
       "    </tr>\n",
       "    <tr>\n",
       "      <th>21</th>\n",
       "      <td>transaction_day_of_week_Monday</td>\n",
       "      <td>0.005005</td>\n",
       "    </tr>\n",
       "    <tr>\n",
       "      <th>23</th>\n",
       "      <td>transaction_day_of_week_Sunday</td>\n",
       "      <td>0.004883</td>\n",
       "    </tr>\n",
       "    <tr>\n",
       "      <th>25</th>\n",
       "      <td>transaction_day_of_week_Tuesday</td>\n",
       "      <td>0.004596</td>\n",
       "    </tr>\n",
       "    <tr>\n",
       "      <th>24</th>\n",
       "      <td>transaction_day_of_week_Thursday</td>\n",
       "      <td>0.004442</td>\n",
       "    </tr>\n",
       "    <tr>\n",
       "      <th>26</th>\n",
       "      <td>transaction_day_of_week_Wednesday</td>\n",
       "      <td>0.004153</td>\n",
       "    </tr>\n",
       "    <tr>\n",
       "      <th>7</th>\n",
       "      <td>category_home</td>\n",
       "      <td>0.003454</td>\n",
       "    </tr>\n",
       "    <tr>\n",
       "      <th>29</th>\n",
       "      <td>city_pop_segment_moderate</td>\n",
       "      <td>0.002834</td>\n",
       "    </tr>\n",
       "    <tr>\n",
       "      <th>30</th>\n",
       "      <td>city_pop_segment_dense</td>\n",
       "      <td>0.002502</td>\n",
       "    </tr>\n",
       "    <tr>\n",
       "      <th>4</th>\n",
       "      <td>category_grocery_net</td>\n",
       "      <td>0.001703</td>\n",
       "    </tr>\n",
       "    <tr>\n",
       "      <th>2</th>\n",
       "      <td>category_food_dining</td>\n",
       "      <td>0.001647</td>\n",
       "    </tr>\n",
       "    <tr>\n",
       "      <th>11</th>\n",
       "      <td>category_personal_care</td>\n",
       "      <td>0.001494</td>\n",
       "    </tr>\n",
       "    <tr>\n",
       "      <th>8</th>\n",
       "      <td>category_kids_pets</td>\n",
       "      <td>0.001425</td>\n",
       "    </tr>\n",
       "    <tr>\n",
       "      <th>6</th>\n",
       "      <td>category_health_fitness</td>\n",
       "      <td>0.001218</td>\n",
       "    </tr>\n",
       "  </tbody>\n",
       "</table>\n",
       "</div>\n",
       "      <button class=\"colab-df-convert\" onclick=\"convertToInteractive('df-293db19c-348c-4ca3-8ac7-177e7b62adcb')\"\n",
       "              title=\"Convert this dataframe to an interactive table.\"\n",
       "              style=\"display:none;\">\n",
       "        \n",
       "  <svg xmlns=\"http://www.w3.org/2000/svg\" height=\"24px\"viewBox=\"0 0 24 24\"\n",
       "       width=\"24px\">\n",
       "    <path d=\"M0 0h24v24H0V0z\" fill=\"none\"/>\n",
       "    <path d=\"M18.56 5.44l.94 2.06.94-2.06 2.06-.94-2.06-.94-.94-2.06-.94 2.06-2.06.94zm-11 1L8.5 8.5l.94-2.06 2.06-.94-2.06-.94L8.5 2.5l-.94 2.06-2.06.94zm10 10l.94 2.06.94-2.06 2.06-.94-2.06-.94-.94-2.06-.94 2.06-2.06.94z\"/><path d=\"M17.41 7.96l-1.37-1.37c-.4-.4-.92-.59-1.43-.59-.52 0-1.04.2-1.43.59L10.3 9.45l-7.72 7.72c-.78.78-.78 2.05 0 2.83L4 21.41c.39.39.9.59 1.41.59.51 0 1.02-.2 1.41-.59l7.78-7.78 2.81-2.81c.8-.78.8-2.07 0-2.86zM5.41 20L4 18.59l7.72-7.72 1.47 1.35L5.41 20z\"/>\n",
       "  </svg>\n",
       "      </button>\n",
       "      \n",
       "  <style>\n",
       "    .colab-df-container {\n",
       "      display:flex;\n",
       "      flex-wrap:wrap;\n",
       "      gap: 12px;\n",
       "    }\n",
       "\n",
       "    .colab-df-convert {\n",
       "      background-color: #E8F0FE;\n",
       "      border: none;\n",
       "      border-radius: 50%;\n",
       "      cursor: pointer;\n",
       "      display: none;\n",
       "      fill: #1967D2;\n",
       "      height: 32px;\n",
       "      padding: 0 0 0 0;\n",
       "      width: 32px;\n",
       "    }\n",
       "\n",
       "    .colab-df-convert:hover {\n",
       "      background-color: #E2EBFA;\n",
       "      box-shadow: 0px 1px 2px rgba(60, 64, 67, 0.3), 0px 1px 3px 1px rgba(60, 64, 67, 0.15);\n",
       "      fill: #174EA6;\n",
       "    }\n",
       "\n",
       "    [theme=dark] .colab-df-convert {\n",
       "      background-color: #3B4455;\n",
       "      fill: #D2E3FC;\n",
       "    }\n",
       "\n",
       "    [theme=dark] .colab-df-convert:hover {\n",
       "      background-color: #434B5C;\n",
       "      box-shadow: 0px 1px 3px 1px rgba(0, 0, 0, 0.15);\n",
       "      filter: drop-shadow(0px 1px 2px rgba(0, 0, 0, 0.3));\n",
       "      fill: #FFFFFF;\n",
       "    }\n",
       "  </style>\n",
       "\n",
       "      <script>\n",
       "        const buttonEl =\n",
       "          document.querySelector('#df-293db19c-348c-4ca3-8ac7-177e7b62adcb button.colab-df-convert');\n",
       "        buttonEl.style.display =\n",
       "          google.colab.kernel.accessAllowed ? 'block' : 'none';\n",
       "\n",
       "        async function convertToInteractive(key) {\n",
       "          const element = document.querySelector('#df-293db19c-348c-4ca3-8ac7-177e7b62adcb');\n",
       "          const dataTable =\n",
       "            await google.colab.kernel.invokeFunction('convertToInteractive',\n",
       "                                                     [key], {});\n",
       "          if (!dataTable) return;\n",
       "\n",
       "          const docLinkHtml = 'Like what you see? Visit the ' +\n",
       "            '<a target=\"_blank\" href=https://colab.research.google.com/notebooks/data_table.ipynb>data table notebook</a>'\n",
       "            + ' to learn more about interactive tables.';\n",
       "          element.innerHTML = '';\n",
       "          dataTable['output_type'] = 'display_data';\n",
       "          await google.colab.output.renderOutput(dataTable, element);\n",
       "          const docLink = document.createElement('div');\n",
       "          docLink.innerHTML = docLinkHtml;\n",
       "          element.appendChild(docLink);\n",
       "        }\n",
       "      </script>\n",
       "    </div>\n",
       "  </div>\n",
       "  "
      ],
      "text/plain": [
       "                              Varname       Imp\n",
       "0                              amount  0.578725\n",
       "1                    transaction_hour  0.137755\n",
       "5                category_grocery_pos  0.061107\n",
       "3              category_gas_transport  0.021551\n",
       "20                      age_group_60+  0.020514\n",
       "19                    age_group_51-60  0.018190\n",
       "15                           gender_M  0.017141\n",
       "9                   category_misc_net  0.015286\n",
       "12              category_shopping_net  0.012628\n",
       "10                  category_misc_pos  0.012627\n",
       "14                    category_travel  0.009205\n",
       "18                    age_group_41-50  0.009068\n",
       "17                    age_group_31-40  0.008869\n",
       "16                    age_group_21-30  0.008866\n",
       "13              category_shopping_pos  0.008619\n",
       "27               distance_segment_far  0.007705\n",
       "28          distance_segment_far_away  0.007552\n",
       "22   transaction_day_of_week_Saturday  0.005236\n",
       "21     transaction_day_of_week_Monday  0.005005\n",
       "23     transaction_day_of_week_Sunday  0.004883\n",
       "25    transaction_day_of_week_Tuesday  0.004596\n",
       "24   transaction_day_of_week_Thursday  0.004442\n",
       "26  transaction_day_of_week_Wednesday  0.004153\n",
       "7                       category_home  0.003454\n",
       "29          city_pop_segment_moderate  0.002834\n",
       "30             city_pop_segment_dense  0.002502\n",
       "4                category_grocery_net  0.001703\n",
       "2                category_food_dining  0.001647\n",
       "11             category_personal_care  0.001494\n",
       "8                  category_kids_pets  0.001425\n",
       "6             category_health_fitness  0.001218"
      ]
     },
     "execution_count": 142,
     "metadata": {},
     "output_type": "execute_result"
    }
   ],
   "source": [
    "# let's check the support columns rankings\n",
    "#list(zip(X_test_data.columns,rfe.support_,rfe.ranking_))\n",
    "\n",
    "imp_df = pd.DataFrame({\n",
    "    \"Varname\": X_train.columns,\n",
    "    \"Imp\": rf.feature_importances_\n",
    "})\n",
    "\n",
    "imp_df.sort_values(by=\"Imp\", ascending=False)"
   ]
  },
  {
   "cell_type": "code",
   "execution_count": 143,
   "metadata": {
    "colab": {
     "base_uri": "https://localhost:8080/"
    },
    "id": "YcTGuEF1oMtx",
    "outputId": "236315ea-db92-4eb0-f950-0443cbbbb024"
   },
   "outputs": [
    {
     "data": {
      "text/plain": [
       "[('amount', True, 1),\n",
       " ('transaction_hour', True, 1),\n",
       " ('category_food_dining', True, 1),\n",
       " ('category_gas_transport', True, 1),\n",
       " ('category_grocery_net', True, 1),\n",
       " ('category_grocery_pos', True, 1),\n",
       " ('category_health_fitness', True, 1),\n",
       " ('category_home', True, 1),\n",
       " ('category_kids_pets', False, 2),\n",
       " ('category_misc_net', True, 1),\n",
       " ('category_misc_pos', True, 1),\n",
       " ('category_personal_care', False, 3),\n",
       " ('category_shopping_net', True, 1),\n",
       " ('category_shopping_pos', True, 1),\n",
       " ('category_travel', True, 1),\n",
       " ('gender_M', False, 5),\n",
       " ('age_group_21-30', False, 8),\n",
       " ('age_group_31-40', False, 11),\n",
       " ('age_group_41-50', False, 14),\n",
       " ('age_group_51-60', True, 1),\n",
       " ('age_group_60+', True, 1),\n",
       " ('transaction_day_of_week_Monday', False, 4),\n",
       " ('transaction_day_of_week_Saturday', False, 10),\n",
       " ('transaction_day_of_week_Sunday', False, 6),\n",
       " ('transaction_day_of_week_Thursday', False, 16),\n",
       " ('transaction_day_of_week_Tuesday', False, 9),\n",
       " ('transaction_day_of_week_Wednesday', False, 17),\n",
       " ('distance_segment_far', False, 13),\n",
       " ('distance_segment_far_away', False, 15),\n",
       " ('city_pop_segment_moderate', False, 7),\n",
       " ('city_pop_segment_dense', False, 12)]"
      ]
     },
     "execution_count": 143,
     "metadata": {},
     "output_type": "execute_result"
    }
   ],
   "source": [
    "list(zip(X_train.columns,rfe.support_,rfe.ranking_))"
   ]
  },
  {
   "cell_type": "markdown",
   "metadata": {
    "id": "qJb1rWtRk1K5"
   },
   "source": [
    "#### **Test Dataset**"
   ]
  },
  {
   "cell_type": "code",
   "execution_count": 144,
   "metadata": {
    "colab": {
     "base_uri": "https://localhost:8080/",
     "height": 525
    },
    "id": "W1ENFqmnFn4U",
    "outputId": "5c959860-9a87-4df8-b392-294f65a20ac3"
   },
   "outputs": [
    {
     "data": {
      "text/html": [
       "\n",
       "  <div id=\"df-a8d66340-50fb-4af6-a91a-69bc88bb8a6f\">\n",
       "    <div class=\"colab-df-container\">\n",
       "      <div>\n",
       "<style scoped>\n",
       "    .dataframe tbody tr th:only-of-type {\n",
       "        vertical-align: middle;\n",
       "    }\n",
       "\n",
       "    .dataframe tbody tr th {\n",
       "        vertical-align: top;\n",
       "    }\n",
       "\n",
       "    .dataframe thead th {\n",
       "        text-align: right;\n",
       "    }\n",
       "</style>\n",
       "<table border=\"1\" class=\"dataframe\">\n",
       "  <thead>\n",
       "    <tr style=\"text-align: right;\">\n",
       "      <th></th>\n",
       "      <th>Unnamed: 0</th>\n",
       "      <th>trans_date_trans_time</th>\n",
       "      <th>cc_num</th>\n",
       "      <th>merchant</th>\n",
       "      <th>category</th>\n",
       "      <th>amt</th>\n",
       "      <th>first</th>\n",
       "      <th>last</th>\n",
       "      <th>gender</th>\n",
       "      <th>street</th>\n",
       "      <th>...</th>\n",
       "      <th>lat</th>\n",
       "      <th>long</th>\n",
       "      <th>city_pop</th>\n",
       "      <th>job</th>\n",
       "      <th>dob</th>\n",
       "      <th>trans_num</th>\n",
       "      <th>unix_time</th>\n",
       "      <th>merch_lat</th>\n",
       "      <th>merch_long</th>\n",
       "      <th>is_fraud</th>\n",
       "    </tr>\n",
       "  </thead>\n",
       "  <tbody>\n",
       "    <tr>\n",
       "      <th>0</th>\n",
       "      <td>0</td>\n",
       "      <td>2020-06-21 12:14:25</td>\n",
       "      <td>2291163933867244</td>\n",
       "      <td>fraud_Kirlin and Sons</td>\n",
       "      <td>personal_care</td>\n",
       "      <td>2.86</td>\n",
       "      <td>Jeff</td>\n",
       "      <td>Elliott</td>\n",
       "      <td>M</td>\n",
       "      <td>351 Darlene Green</td>\n",
       "      <td>...</td>\n",
       "      <td>33.9659</td>\n",
       "      <td>-80.9355</td>\n",
       "      <td>333497</td>\n",
       "      <td>Mechanical engineer</td>\n",
       "      <td>1968-03-19</td>\n",
       "      <td>2da90c7d74bd46a0caf3777415b3ebd3</td>\n",
       "      <td>1371816865</td>\n",
       "      <td>33.986391</td>\n",
       "      <td>-81.200714</td>\n",
       "      <td>0</td>\n",
       "    </tr>\n",
       "    <tr>\n",
       "      <th>1</th>\n",
       "      <td>1</td>\n",
       "      <td>2020-06-21 12:14:33</td>\n",
       "      <td>3573030041201292</td>\n",
       "      <td>fraud_Sporer-Keebler</td>\n",
       "      <td>personal_care</td>\n",
       "      <td>29.84</td>\n",
       "      <td>Joanne</td>\n",
       "      <td>Williams</td>\n",
       "      <td>F</td>\n",
       "      <td>3638 Marsh Union</td>\n",
       "      <td>...</td>\n",
       "      <td>40.3207</td>\n",
       "      <td>-110.4360</td>\n",
       "      <td>302</td>\n",
       "      <td>Sales professional, IT</td>\n",
       "      <td>1990-01-17</td>\n",
       "      <td>324cc204407e99f51b0d6ca0055005e7</td>\n",
       "      <td>1371816873</td>\n",
       "      <td>39.450498</td>\n",
       "      <td>-109.960431</td>\n",
       "      <td>0</td>\n",
       "    </tr>\n",
       "    <tr>\n",
       "      <th>2</th>\n",
       "      <td>2</td>\n",
       "      <td>2020-06-21 12:14:53</td>\n",
       "      <td>3598215285024754</td>\n",
       "      <td>fraud_Swaniawski, Nitzsche and Welch</td>\n",
       "      <td>health_fitness</td>\n",
       "      <td>41.28</td>\n",
       "      <td>Ashley</td>\n",
       "      <td>Lopez</td>\n",
       "      <td>F</td>\n",
       "      <td>9333 Valentine Point</td>\n",
       "      <td>...</td>\n",
       "      <td>40.6729</td>\n",
       "      <td>-73.5365</td>\n",
       "      <td>34496</td>\n",
       "      <td>Librarian, public</td>\n",
       "      <td>1970-10-21</td>\n",
       "      <td>c81755dbbbea9d5c77f094348a7579be</td>\n",
       "      <td>1371816893</td>\n",
       "      <td>40.495810</td>\n",
       "      <td>-74.196111</td>\n",
       "      <td>0</td>\n",
       "    </tr>\n",
       "    <tr>\n",
       "      <th>3</th>\n",
       "      <td>3</td>\n",
       "      <td>2020-06-21 12:15:15</td>\n",
       "      <td>3591919803438423</td>\n",
       "      <td>fraud_Haley Group</td>\n",
       "      <td>misc_pos</td>\n",
       "      <td>60.05</td>\n",
       "      <td>Brian</td>\n",
       "      <td>Williams</td>\n",
       "      <td>M</td>\n",
       "      <td>32941 Krystal Mill Apt. 552</td>\n",
       "      <td>...</td>\n",
       "      <td>28.5697</td>\n",
       "      <td>-80.8191</td>\n",
       "      <td>54767</td>\n",
       "      <td>Set designer</td>\n",
       "      <td>1987-07-25</td>\n",
       "      <td>2159175b9efe66dc301f149d3d5abf8c</td>\n",
       "      <td>1371816915</td>\n",
       "      <td>28.812398</td>\n",
       "      <td>-80.883061</td>\n",
       "      <td>0</td>\n",
       "    </tr>\n",
       "    <tr>\n",
       "      <th>4</th>\n",
       "      <td>4</td>\n",
       "      <td>2020-06-21 12:15:17</td>\n",
       "      <td>3526826139003047</td>\n",
       "      <td>fraud_Johnston-Casper</td>\n",
       "      <td>travel</td>\n",
       "      <td>3.19</td>\n",
       "      <td>Nathan</td>\n",
       "      <td>Massey</td>\n",
       "      <td>M</td>\n",
       "      <td>5783 Evan Roads Apt. 465</td>\n",
       "      <td>...</td>\n",
       "      <td>44.2529</td>\n",
       "      <td>-85.0170</td>\n",
       "      <td>1126</td>\n",
       "      <td>Furniture designer</td>\n",
       "      <td>1955-07-06</td>\n",
       "      <td>57ff021bd3f328f8738bb535c302a31b</td>\n",
       "      <td>1371816917</td>\n",
       "      <td>44.959148</td>\n",
       "      <td>-85.884734</td>\n",
       "      <td>0</td>\n",
       "    </tr>\n",
       "  </tbody>\n",
       "</table>\n",
       "<p>5 rows × 23 columns</p>\n",
       "</div>\n",
       "      <button class=\"colab-df-convert\" onclick=\"convertToInteractive('df-a8d66340-50fb-4af6-a91a-69bc88bb8a6f')\"\n",
       "              title=\"Convert this dataframe to an interactive table.\"\n",
       "              style=\"display:none;\">\n",
       "        \n",
       "  <svg xmlns=\"http://www.w3.org/2000/svg\" height=\"24px\"viewBox=\"0 0 24 24\"\n",
       "       width=\"24px\">\n",
       "    <path d=\"M0 0h24v24H0V0z\" fill=\"none\"/>\n",
       "    <path d=\"M18.56 5.44l.94 2.06.94-2.06 2.06-.94-2.06-.94-.94-2.06-.94 2.06-2.06.94zm-11 1L8.5 8.5l.94-2.06 2.06-.94-2.06-.94L8.5 2.5l-.94 2.06-2.06.94zm10 10l.94 2.06.94-2.06 2.06-.94-2.06-.94-.94-2.06-.94 2.06-2.06.94z\"/><path d=\"M17.41 7.96l-1.37-1.37c-.4-.4-.92-.59-1.43-.59-.52 0-1.04.2-1.43.59L10.3 9.45l-7.72 7.72c-.78.78-.78 2.05 0 2.83L4 21.41c.39.39.9.59 1.41.59.51 0 1.02-.2 1.41-.59l7.78-7.78 2.81-2.81c.8-.78.8-2.07 0-2.86zM5.41 20L4 18.59l7.72-7.72 1.47 1.35L5.41 20z\"/>\n",
       "  </svg>\n",
       "      </button>\n",
       "      \n",
       "  <style>\n",
       "    .colab-df-container {\n",
       "      display:flex;\n",
       "      flex-wrap:wrap;\n",
       "      gap: 12px;\n",
       "    }\n",
       "\n",
       "    .colab-df-convert {\n",
       "      background-color: #E8F0FE;\n",
       "      border: none;\n",
       "      border-radius: 50%;\n",
       "      cursor: pointer;\n",
       "      display: none;\n",
       "      fill: #1967D2;\n",
       "      height: 32px;\n",
       "      padding: 0 0 0 0;\n",
       "      width: 32px;\n",
       "    }\n",
       "\n",
       "    .colab-df-convert:hover {\n",
       "      background-color: #E2EBFA;\n",
       "      box-shadow: 0px 1px 2px rgba(60, 64, 67, 0.3), 0px 1px 3px 1px rgba(60, 64, 67, 0.15);\n",
       "      fill: #174EA6;\n",
       "    }\n",
       "\n",
       "    [theme=dark] .colab-df-convert {\n",
       "      background-color: #3B4455;\n",
       "      fill: #D2E3FC;\n",
       "    }\n",
       "\n",
       "    [theme=dark] .colab-df-convert:hover {\n",
       "      background-color: #434B5C;\n",
       "      box-shadow: 0px 1px 3px 1px rgba(0, 0, 0, 0.15);\n",
       "      filter: drop-shadow(0px 1px 2px rgba(0, 0, 0, 0.3));\n",
       "      fill: #FFFFFF;\n",
       "    }\n",
       "  </style>\n",
       "\n",
       "      <script>\n",
       "        const buttonEl =\n",
       "          document.querySelector('#df-a8d66340-50fb-4af6-a91a-69bc88bb8a6f button.colab-df-convert');\n",
       "        buttonEl.style.display =\n",
       "          google.colab.kernel.accessAllowed ? 'block' : 'none';\n",
       "\n",
       "        async function convertToInteractive(key) {\n",
       "          const element = document.querySelector('#df-a8d66340-50fb-4af6-a91a-69bc88bb8a6f');\n",
       "          const dataTable =\n",
       "            await google.colab.kernel.invokeFunction('convertToInteractive',\n",
       "                                                     [key], {});\n",
       "          if (!dataTable) return;\n",
       "\n",
       "          const docLinkHtml = 'Like what you see? Visit the ' +\n",
       "            '<a target=\"_blank\" href=https://colab.research.google.com/notebooks/data_table.ipynb>data table notebook</a>'\n",
       "            + ' to learn more about interactive tables.';\n",
       "          element.innerHTML = '';\n",
       "          dataTable['output_type'] = 'display_data';\n",
       "          await google.colab.output.renderOutput(dataTable, element);\n",
       "          const docLink = document.createElement('div');\n",
       "          docLink.innerHTML = docLinkHtml;\n",
       "          element.appendChild(docLink);\n",
       "        }\n",
       "      </script>\n",
       "    </div>\n",
       "  </div>\n",
       "  "
      ],
      "text/plain": [
       "   Unnamed: 0 trans_date_trans_time            cc_num  \\\n",
       "0           0   2020-06-21 12:14:25  2291163933867244   \n",
       "1           1   2020-06-21 12:14:33  3573030041201292   \n",
       "2           2   2020-06-21 12:14:53  3598215285024754   \n",
       "3           3   2020-06-21 12:15:15  3591919803438423   \n",
       "4           4   2020-06-21 12:15:17  3526826139003047   \n",
       "\n",
       "                               merchant        category    amt   first  \\\n",
       "0                 fraud_Kirlin and Sons   personal_care   2.86    Jeff   \n",
       "1                  fraud_Sporer-Keebler   personal_care  29.84  Joanne   \n",
       "2  fraud_Swaniawski, Nitzsche and Welch  health_fitness  41.28  Ashley   \n",
       "3                     fraud_Haley Group        misc_pos  60.05   Brian   \n",
       "4                 fraud_Johnston-Casper          travel   3.19  Nathan   \n",
       "\n",
       "       last gender                       street  ...      lat      long  \\\n",
       "0   Elliott      M            351 Darlene Green  ...  33.9659  -80.9355   \n",
       "1  Williams      F             3638 Marsh Union  ...  40.3207 -110.4360   \n",
       "2     Lopez      F         9333 Valentine Point  ...  40.6729  -73.5365   \n",
       "3  Williams      M  32941 Krystal Mill Apt. 552  ...  28.5697  -80.8191   \n",
       "4    Massey      M     5783 Evan Roads Apt. 465  ...  44.2529  -85.0170   \n",
       "\n",
       "   city_pop                     job         dob  \\\n",
       "0    333497     Mechanical engineer  1968-03-19   \n",
       "1       302  Sales professional, IT  1990-01-17   \n",
       "2     34496       Librarian, public  1970-10-21   \n",
       "3     54767            Set designer  1987-07-25   \n",
       "4      1126      Furniture designer  1955-07-06   \n",
       "\n",
       "                          trans_num   unix_time  merch_lat  merch_long  \\\n",
       "0  2da90c7d74bd46a0caf3777415b3ebd3  1371816865  33.986391  -81.200714   \n",
       "1  324cc204407e99f51b0d6ca0055005e7  1371816873  39.450498 -109.960431   \n",
       "2  c81755dbbbea9d5c77f094348a7579be  1371816893  40.495810  -74.196111   \n",
       "3  2159175b9efe66dc301f149d3d5abf8c  1371816915  28.812398  -80.883061   \n",
       "4  57ff021bd3f328f8738bb535c302a31b  1371816917  44.959148  -85.884734   \n",
       "\n",
       "   is_fraud  \n",
       "0         0  \n",
       "1         0  \n",
       "2         0  \n",
       "3         0  \n",
       "4         0  \n",
       "\n",
       "[5 rows x 23 columns]"
      ]
     },
     "execution_count": 144,
     "metadata": {},
     "output_type": "execute_result"
    }
   ],
   "source": [
    "# top 5 rows\n",
    "test_data.head()"
   ]
  },
  {
   "cell_type": "code",
   "execution_count": 145,
   "metadata": {
    "colab": {
     "base_uri": "https://localhost:8080/"
    },
    "id": "RVk-Ow8PFqMc",
    "outputId": "3f0f4382-2b33-418e-a632-74ac1ea9bad4"
   },
   "outputs": [
    {
     "data": {
      "text/plain": [
       "(555719, 23)"
      ]
     },
     "execution_count": 145,
     "metadata": {},
     "output_type": "execute_result"
    }
   ],
   "source": [
    "# dimensions\n",
    "test_data.shape"
   ]
  },
  {
   "cell_type": "code",
   "execution_count": 146,
   "metadata": {
    "id": "DvZ6rwrnFtaZ"
   },
   "outputs": [],
   "source": [
    "# Making necessary changes on test_data\n",
    "\n",
    "# dropping the 'Unnamed: 0' column\n",
    "test_data = test_data.drop('Unnamed: 0', axis=1)\n",
    "\n",
    "# renaming columns for better understanding\n",
    "test_data.rename(columns = {\"trans_date_trans_time\":\"transaction_date_time\",\n",
    "                         \"cc_num\":\"credit_card_number\",\n",
    "                         \"amt\":\"amount\",\n",
    "                         \"first\":\"first_name\",\n",
    "                         \"last\":\"last_name\",\n",
    "                         \"lat\":\"latitude\",\n",
    "                         \"long\":\"longitude\",\n",
    "                         \"trans_num\":\"transaction_id\",\n",
    "                         \"merch_lat\":\"merchant_latitude\",\n",
    "                         \"merch_long\":\"merchant_longitude\"},\n",
    "                inplace=True)\n",
    "\n",
    "# converting 'trans_date_trans_time' and 'dob' into datetime format\n",
    "test_data['transaction_date_time'] = pd.to_datetime(test_data['transaction_date_time'])\n",
    "test_data['dob'] = pd.to_datetime(test_data['dob'])\n",
    "\n",
    "\n",
    "# Extracting age from dob column\n",
    "test_data['age'] = np.round((test_data['transaction_date_time'] - test_data['dob'])/np.timedelta64(1, 'Y')) #see numpy lib doc \"https://numpy.org/doc/stable/reference/arrays.datetime.html\"\n",
    "test_data['age'] = test_data['age'].astype(int)\n",
    "\n",
    "# creating new column age_group by binnig age\n",
    "test_data['age_group'] = pd.cut(test_data.age, [0,20,30,40,50,60,99], labels=['<20','21-30','31-40','41-50','51-60','60+'])\n",
    "test_data.head()\n",
    "\n",
    "\n",
    "#extracting 'transaction_hour' from transaction_date_time column\n",
    "test_data['transaction_hour'] = test_data['transaction_date_time'].dt.hour\n",
    "\n",
    "#extracting 'day of the week' from transaction_date_time column\n",
    "test_data['transaction_day_of_week'] = test_data['transaction_date_time'].dt.day_name()\n",
    "\n",
    "#extracting 'year_month' from transaction_date_time column\n",
    "test_data['transaction_year_month'] = test_data['transaction_date_time'].dt.to_period('M')\n",
    "\n",
    "\n",
    "# calulating distance from customer to merchant\n",
    "lat_diff = abs(test_data['latitude'] - test_data['merchant_latitude'])\n",
    "long_diff = abs(test_data['longitude'] - test_data['merchant_longitude'])\n",
    "\n",
    "# between each degree of longitude and latitude is about 69 miles or 110 kilometers.\n",
    "# apply pythagoras to calculate the displacement\n",
    "test_data['distance'] = np.round(np.sqrt(pow(lat_diff*110,2)+pow(long_diff*110,2)),2)\n",
    "test_data['distance'] = test_data['distance'].astype(int)\n",
    "\n",
    "\n",
    "# ceating new column city_pop_segment from city_pop for better understanding\n",
    "test_data['distance_segment'] = pd.cut(test_data.distance, [0,50,100,200], labels=['nearby','far','far_away'])\n",
    "\n",
    "# ceating new column city_pop_segment from city_pop for better understanding\n",
    "test_data['city_pop_segment'] = pd.cut(test_data.city_pop, [0,500000,1000000,5000000], labels=['less','moderate','dense'])\n",
    "\n",
    "# dropping columns no longer required\n",
    "test_data2 = test_data.drop(['transaction_date_time','transaction_year_month', 'credit_card_number', 'first_name', 'last_name', 'street', 'city', 'zip', 'latitude', 'longitude',\n",
    "                              'city_pop', 'merchant', 'dob', 'transaction_id', 'unix_time', 'merchant_latitude', 'merchant_longitude', 'age', 'distance',\n",
    "                              'job','state'], axis=1)\n",
    "# 'transaction_year_month'\n",
    "\n",
    "# creating dummies\n",
    "dummy1 = pd.get_dummies(test_data2[['category', 'gender', 'age_group','transaction_day_of_week', 'distance_segment', 'city_pop_segment']],\n",
    "                                  drop_first=True)\n",
    "\n",
    "# adding results to train_data\n",
    "test_data2 = pd.concat([test_data2, dummy1],axis=1)\n",
    "\n",
    "# We have created dummies for the below variables, so we can drop them\n",
    "test_data2 = test_data2.drop(['category', 'gender', 'age_group','transaction_day_of_week', 'distance_segment', 'city_pop_segment'], axis=1)"
   ]
  },
  {
   "cell_type": "markdown",
   "metadata": {
    "id": "vrDanu-zlKmY"
   },
   "source": [
    "## **Step 5: Evaluating model on Test_Dataset**"
   ]
  },
  {
   "cell_type": "code",
   "execution_count": 147,
   "metadata": {
    "id": "-qk4P_aSRX9R"
   },
   "outputs": [],
   "source": [
    "# creating X and y variables\n",
    "X_test_data = test_data2.drop('is_fraud', axis=1)\n",
    "y_test_data = test_data2['is_fraud']\n",
    "\n",
    "# scaling the features\n",
    "scaler = StandardScaler()\n",
    "X_test_data[['amount', 'transaction_hour']] = scaler.fit_transform(X_test_data[['amount', 'transaction_hour']])\n",
    "X_test_data.head()\n",
    "\n",
    "#predict\n",
    "y_test_pred = lreg_smt.predict(X_test_data)"
   ]
  },
  {
   "cell_type": "code",
   "execution_count": 148,
   "metadata": {
    "colab": {
     "base_uri": "https://localhost:8080/",
     "height": 206
    },
    "id": "T4hZmzsFRgug",
    "outputId": "b18a51c5-8550-4997-de3d-fe34d7c88050"
   },
   "outputs": [
    {
     "data": {
      "text/html": [
       "\n",
       "  <div id=\"df-5db2916e-b695-4e00-81e9-aa479059480b\">\n",
       "    <div class=\"colab-df-container\">\n",
       "      <div>\n",
       "<style scoped>\n",
       "    .dataframe tbody tr th:only-of-type {\n",
       "        vertical-align: middle;\n",
       "    }\n",
       "\n",
       "    .dataframe tbody tr th {\n",
       "        vertical-align: top;\n",
       "    }\n",
       "\n",
       "    .dataframe thead th {\n",
       "        text-align: right;\n",
       "    }\n",
       "</style>\n",
       "<table border=\"1\" class=\"dataframe\">\n",
       "  <thead>\n",
       "    <tr style=\"text-align: right;\">\n",
       "      <th></th>\n",
       "      <th>Actual</th>\n",
       "      <th>Pred_Prob</th>\n",
       "    </tr>\n",
       "  </thead>\n",
       "  <tbody>\n",
       "    <tr>\n",
       "      <th>0</th>\n",
       "      <td>0</td>\n",
       "      <td>0</td>\n",
       "    </tr>\n",
       "    <tr>\n",
       "      <th>1</th>\n",
       "      <td>0</td>\n",
       "      <td>0</td>\n",
       "    </tr>\n",
       "    <tr>\n",
       "      <th>2</th>\n",
       "      <td>0</td>\n",
       "      <td>0</td>\n",
       "    </tr>\n",
       "    <tr>\n",
       "      <th>3</th>\n",
       "      <td>0</td>\n",
       "      <td>0</td>\n",
       "    </tr>\n",
       "    <tr>\n",
       "      <th>4</th>\n",
       "      <td>0</td>\n",
       "      <td>0</td>\n",
       "    </tr>\n",
       "  </tbody>\n",
       "</table>\n",
       "</div>\n",
       "      <button class=\"colab-df-convert\" onclick=\"convertToInteractive('df-5db2916e-b695-4e00-81e9-aa479059480b')\"\n",
       "              title=\"Convert this dataframe to an interactive table.\"\n",
       "              style=\"display:none;\">\n",
       "        \n",
       "  <svg xmlns=\"http://www.w3.org/2000/svg\" height=\"24px\"viewBox=\"0 0 24 24\"\n",
       "       width=\"24px\">\n",
       "    <path d=\"M0 0h24v24H0V0z\" fill=\"none\"/>\n",
       "    <path d=\"M18.56 5.44l.94 2.06.94-2.06 2.06-.94-2.06-.94-.94-2.06-.94 2.06-2.06.94zm-11 1L8.5 8.5l.94-2.06 2.06-.94-2.06-.94L8.5 2.5l-.94 2.06-2.06.94zm10 10l.94 2.06.94-2.06 2.06-.94-2.06-.94-.94-2.06-.94 2.06-2.06.94z\"/><path d=\"M17.41 7.96l-1.37-1.37c-.4-.4-.92-.59-1.43-.59-.52 0-1.04.2-1.43.59L10.3 9.45l-7.72 7.72c-.78.78-.78 2.05 0 2.83L4 21.41c.39.39.9.59 1.41.59.51 0 1.02-.2 1.41-.59l7.78-7.78 2.81-2.81c.8-.78.8-2.07 0-2.86zM5.41 20L4 18.59l7.72-7.72 1.47 1.35L5.41 20z\"/>\n",
       "  </svg>\n",
       "      </button>\n",
       "      \n",
       "  <style>\n",
       "    .colab-df-container {\n",
       "      display:flex;\n",
       "      flex-wrap:wrap;\n",
       "      gap: 12px;\n",
       "    }\n",
       "\n",
       "    .colab-df-convert {\n",
       "      background-color: #E8F0FE;\n",
       "      border: none;\n",
       "      border-radius: 50%;\n",
       "      cursor: pointer;\n",
       "      display: none;\n",
       "      fill: #1967D2;\n",
       "      height: 32px;\n",
       "      padding: 0 0 0 0;\n",
       "      width: 32px;\n",
       "    }\n",
       "\n",
       "    .colab-df-convert:hover {\n",
       "      background-color: #E2EBFA;\n",
       "      box-shadow: 0px 1px 2px rgba(60, 64, 67, 0.3), 0px 1px 3px 1px rgba(60, 64, 67, 0.15);\n",
       "      fill: #174EA6;\n",
       "    }\n",
       "\n",
       "    [theme=dark] .colab-df-convert {\n",
       "      background-color: #3B4455;\n",
       "      fill: #D2E3FC;\n",
       "    }\n",
       "\n",
       "    [theme=dark] .colab-df-convert:hover {\n",
       "      background-color: #434B5C;\n",
       "      box-shadow: 0px 1px 3px 1px rgba(0, 0, 0, 0.15);\n",
       "      filter: drop-shadow(0px 1px 2px rgba(0, 0, 0, 0.3));\n",
       "      fill: #FFFFFF;\n",
       "    }\n",
       "  </style>\n",
       "\n",
       "      <script>\n",
       "        const buttonEl =\n",
       "          document.querySelector('#df-5db2916e-b695-4e00-81e9-aa479059480b button.colab-df-convert');\n",
       "        buttonEl.style.display =\n",
       "          google.colab.kernel.accessAllowed ? 'block' : 'none';\n",
       "\n",
       "        async function convertToInteractive(key) {\n",
       "          const element = document.querySelector('#df-5db2916e-b695-4e00-81e9-aa479059480b');\n",
       "          const dataTable =\n",
       "            await google.colab.kernel.invokeFunction('convertToInteractive',\n",
       "                                                     [key], {});\n",
       "          if (!dataTable) return;\n",
       "\n",
       "          const docLinkHtml = 'Like what you see? Visit the ' +\n",
       "            '<a target=\"_blank\" href=https://colab.research.google.com/notebooks/data_table.ipynb>data table notebook</a>'\n",
       "            + ' to learn more about interactive tables.';\n",
       "          element.innerHTML = '';\n",
       "          dataTable['output_type'] = 'display_data';\n",
       "          await google.colab.output.renderOutput(dataTable, element);\n",
       "          const docLink = document.createElement('div');\n",
       "          docLink.innerHTML = docLinkHtml;\n",
       "          element.appendChild(docLink);\n",
       "        }\n",
       "      </script>\n",
       "    </div>\n",
       "  </div>\n",
       "  "
      ],
      "text/plain": [
       "   Actual  Pred_Prob\n",
       "0       0          0\n",
       "1       0          0\n",
       "2       0          0\n",
       "3       0          0\n",
       "4       0          0"
      ]
     },
     "execution_count": 148,
     "metadata": {},
     "output_type": "execute_result"
    }
   ],
   "source": [
    "# assigning of values\n",
    "predictions_test = pd.DataFrame({\"Actual\": y_test_data,\"Pred_Prob\" : y_test_pred})\n",
    "predictions_test.head()"
   ]
  },
  {
   "cell_type": "code",
   "execution_count": 149,
   "metadata": {
    "id": "g-3Hig4JRmFR"
   },
   "outputs": [],
   "source": [
    "predictions_test[\"Final\"] = predictions_test[\"Pred_Prob\"].map(lambda x: 0 if x<0.01 else 1)"
   ]
  },
  {
   "cell_type": "code",
   "execution_count": 150,
   "metadata": {
    "colab": {
     "base_uri": "https://localhost:8080/"
    },
    "id": "TDQ9yRBKb_I3",
    "outputId": "15608055-475f-4ece-ee43-d82df2a02888"
   },
   "outputs": [
    {
     "data": {
      "text/plain": [
       "0.02774742902727919"
      ]
     },
     "execution_count": 150,
     "metadata": {},
     "output_type": "execute_result"
    }
   ],
   "source": [
    "# precision_score\n",
    "precision_score(predictions_test[\"Actual\"],predictions_test[\"Final\"])"
   ]
  },
  {
   "cell_type": "code",
   "execution_count": 151,
   "metadata": {
    "colab": {
     "base_uri": "https://localhost:8080/"
    },
    "id": "GnEddrQXRp4q",
    "outputId": "3e98299d-6d7f-431b-8691-dbf34b2189d8"
   },
   "outputs": [
    {
     "data": {
      "text/plain": [
       "0.745920745920746"
      ]
     },
     "execution_count": 151,
     "metadata": {},
     "output_type": "execute_result"
    }
   ],
   "source": [
    "#recall_score\n",
    "recall_score(predictions_test[\"Actual\"],predictions_test[\"Final\"])"
   ]
  },
  {
   "cell_type": "code",
   "execution_count": 152,
   "metadata": {
    "colab": {
     "base_uri": "https://localhost:8080/"
    },
    "id": "OF7MXXBHRzb6",
    "outputId": "8e3b5a43-9954-4974-ef28-24cf35cdf579"
   },
   "outputs": [
    {
     "name": "stdout",
     "output_type": "stream",
     "text": [
      "              precision    recall  f1-score   support\n",
      "\n",
      "           0       1.00      0.90      0.95    553574\n",
      "           1       0.03      0.75      0.05      2145\n",
      "\n",
      "    accuracy                           0.90    555719\n",
      "   macro avg       0.51      0.82      0.50    555719\n",
      "weighted avg       1.00      0.90      0.94    555719\n",
      "\n"
     ]
    }
   ],
   "source": [
    "# classification_report\n",
    "print(classification_report(predictions_test[\"Actual\"],predictions_test[\"Final\"]))"
   ]
  },
  {
   "cell_type": "markdown",
   "metadata": {
    "id": "xbbfXrAyr7zM"
   },
   "source": [
    "___\n",
    "- Our model has worked well on unseen (test) data quit well as we have achieved a recall value of 75% i.e our model is able recognize/identify fraudulent transaction as fraud when they are actually fradulent in 75% of the cases. \n",
    "___"
   ]
  },
  {
   "cell_type": "code",
   "execution_count": 153,
   "metadata": {
    "colab": {
     "base_uri": "https://localhost:8080/",
     "height": 206
    },
    "id": "m9fS909qR5AH",
    "outputId": "c7504e31-8c86-4486-919c-92d4ef6c39af"
   },
   "outputs": [
    {
     "data": {
      "text/html": [
       "\n",
       "  <div id=\"df-27309793-90b9-4e54-be4b-5b417b550152\">\n",
       "    <div class=\"colab-df-container\">\n",
       "      <div>\n",
       "<style scoped>\n",
       "    .dataframe tbody tr th:only-of-type {\n",
       "        vertical-align: middle;\n",
       "    }\n",
       "\n",
       "    .dataframe tbody tr th {\n",
       "        vertical-align: top;\n",
       "    }\n",
       "\n",
       "    .dataframe thead th {\n",
       "        text-align: right;\n",
       "    }\n",
       "</style>\n",
       "<table border=\"1\" class=\"dataframe\">\n",
       "  <thead>\n",
       "    <tr style=\"text-align: right;\">\n",
       "      <th></th>\n",
       "      <th>Actual</th>\n",
       "      <th>Pred_Prob</th>\n",
       "      <th>Final</th>\n",
       "    </tr>\n",
       "  </thead>\n",
       "  <tbody>\n",
       "    <tr>\n",
       "      <th>0</th>\n",
       "      <td>0</td>\n",
       "      <td>0</td>\n",
       "      <td>0</td>\n",
       "    </tr>\n",
       "    <tr>\n",
       "      <th>1</th>\n",
       "      <td>0</td>\n",
       "      <td>0</td>\n",
       "      <td>0</td>\n",
       "    </tr>\n",
       "    <tr>\n",
       "      <th>2</th>\n",
       "      <td>0</td>\n",
       "      <td>0</td>\n",
       "      <td>0</td>\n",
       "    </tr>\n",
       "    <tr>\n",
       "      <th>3</th>\n",
       "      <td>0</td>\n",
       "      <td>0</td>\n",
       "      <td>0</td>\n",
       "    </tr>\n",
       "    <tr>\n",
       "      <th>4</th>\n",
       "      <td>0</td>\n",
       "      <td>0</td>\n",
       "      <td>0</td>\n",
       "    </tr>\n",
       "  </tbody>\n",
       "</table>\n",
       "</div>\n",
       "      <button class=\"colab-df-convert\" onclick=\"convertToInteractive('df-27309793-90b9-4e54-be4b-5b417b550152')\"\n",
       "              title=\"Convert this dataframe to an interactive table.\"\n",
       "              style=\"display:none;\">\n",
       "        \n",
       "  <svg xmlns=\"http://www.w3.org/2000/svg\" height=\"24px\"viewBox=\"0 0 24 24\"\n",
       "       width=\"24px\">\n",
       "    <path d=\"M0 0h24v24H0V0z\" fill=\"none\"/>\n",
       "    <path d=\"M18.56 5.44l.94 2.06.94-2.06 2.06-.94-2.06-.94-.94-2.06-.94 2.06-2.06.94zm-11 1L8.5 8.5l.94-2.06 2.06-.94-2.06-.94L8.5 2.5l-.94 2.06-2.06.94zm10 10l.94 2.06.94-2.06 2.06-.94-2.06-.94-.94-2.06-.94 2.06-2.06.94z\"/><path d=\"M17.41 7.96l-1.37-1.37c-.4-.4-.92-.59-1.43-.59-.52 0-1.04.2-1.43.59L10.3 9.45l-7.72 7.72c-.78.78-.78 2.05 0 2.83L4 21.41c.39.39.9.59 1.41.59.51 0 1.02-.2 1.41-.59l7.78-7.78 2.81-2.81c.8-.78.8-2.07 0-2.86zM5.41 20L4 18.59l7.72-7.72 1.47 1.35L5.41 20z\"/>\n",
       "  </svg>\n",
       "      </button>\n",
       "      \n",
       "  <style>\n",
       "    .colab-df-container {\n",
       "      display:flex;\n",
       "      flex-wrap:wrap;\n",
       "      gap: 12px;\n",
       "    }\n",
       "\n",
       "    .colab-df-convert {\n",
       "      background-color: #E8F0FE;\n",
       "      border: none;\n",
       "      border-radius: 50%;\n",
       "      cursor: pointer;\n",
       "      display: none;\n",
       "      fill: #1967D2;\n",
       "      height: 32px;\n",
       "      padding: 0 0 0 0;\n",
       "      width: 32px;\n",
       "    }\n",
       "\n",
       "    .colab-df-convert:hover {\n",
       "      background-color: #E2EBFA;\n",
       "      box-shadow: 0px 1px 2px rgba(60, 64, 67, 0.3), 0px 1px 3px 1px rgba(60, 64, 67, 0.15);\n",
       "      fill: #174EA6;\n",
       "    }\n",
       "\n",
       "    [theme=dark] .colab-df-convert {\n",
       "      background-color: #3B4455;\n",
       "      fill: #D2E3FC;\n",
       "    }\n",
       "\n",
       "    [theme=dark] .colab-df-convert:hover {\n",
       "      background-color: #434B5C;\n",
       "      box-shadow: 0px 1px 3px 1px rgba(0, 0, 0, 0.15);\n",
       "      filter: drop-shadow(0px 1px 2px rgba(0, 0, 0, 0.3));\n",
       "      fill: #FFFFFF;\n",
       "    }\n",
       "  </style>\n",
       "\n",
       "      <script>\n",
       "        const buttonEl =\n",
       "          document.querySelector('#df-27309793-90b9-4e54-be4b-5b417b550152 button.colab-df-convert');\n",
       "        buttonEl.style.display =\n",
       "          google.colab.kernel.accessAllowed ? 'block' : 'none';\n",
       "\n",
       "        async function convertToInteractive(key) {\n",
       "          const element = document.querySelector('#df-27309793-90b9-4e54-be4b-5b417b550152');\n",
       "          const dataTable =\n",
       "            await google.colab.kernel.invokeFunction('convertToInteractive',\n",
       "                                                     [key], {});\n",
       "          if (!dataTable) return;\n",
       "\n",
       "          const docLinkHtml = 'Like what you see? Visit the ' +\n",
       "            '<a target=\"_blank\" href=https://colab.research.google.com/notebooks/data_table.ipynb>data table notebook</a>'\n",
       "            + ' to learn more about interactive tables.';\n",
       "          element.innerHTML = '';\n",
       "          dataTable['output_type'] = 'display_data';\n",
       "          await google.colab.output.renderOutput(dataTable, element);\n",
       "          const docLink = document.createElement('div');\n",
       "          docLink.innerHTML = docLinkHtml;\n",
       "          element.appendChild(docLink);\n",
       "        }\n",
       "      </script>\n",
       "    </div>\n",
       "  </div>\n",
       "  "
      ],
      "text/plain": [
       "   Actual  Pred_Prob  Final\n",
       "0       0          0      0\n",
       "1       0          0      0\n",
       "2       0          0      0\n",
       "3       0          0      0\n",
       "4       0          0      0"
      ]
     },
     "execution_count": 153,
     "metadata": {},
     "output_type": "execute_result"
    }
   ],
   "source": [
    "# top 5 rows\n",
    "predictions_test.head()"
   ]
  },
  {
   "cell_type": "code",
   "execution_count": 154,
   "metadata": {
    "id": "gYpG9xfxa9nv"
   },
   "outputs": [],
   "source": [
    "# creating year and month columns\n",
    "test_data['year']=test_data['transaction_date_time'].dt.year\n",
    "test_data['month']=test_data['transaction_date_time'].dt.month\n"
   ]
  },
  {
   "cell_type": "code",
   "execution_count": 155,
   "metadata": {
    "id": "Zla6__iZR_A7"
   },
   "outputs": [],
   "source": [
    "# Combining date with predictions\n",
    "predictions_test = pd.merge(test_data[[\"transaction_date_time\",\"month\",\"year\"]],predictions_test,right_index=True,left_index= True)"
   ]
  },
  {
   "cell_type": "code",
   "execution_count": 156,
   "metadata": {
    "colab": {
     "base_uri": "https://localhost:8080/",
     "height": 206
    },
    "id": "rt6OamFASdsd",
    "outputId": "495660a8-51ac-4074-f8ad-e0a7b8eaed4b"
   },
   "outputs": [
    {
     "data": {
      "text/html": [
       "\n",
       "  <div id=\"df-985e1120-c285-4601-b66c-80cb735de7bf\">\n",
       "    <div class=\"colab-df-container\">\n",
       "      <div>\n",
       "<style scoped>\n",
       "    .dataframe tbody tr th:only-of-type {\n",
       "        vertical-align: middle;\n",
       "    }\n",
       "\n",
       "    .dataframe tbody tr th {\n",
       "        vertical-align: top;\n",
       "    }\n",
       "\n",
       "    .dataframe thead th {\n",
       "        text-align: right;\n",
       "    }\n",
       "</style>\n",
       "<table border=\"1\" class=\"dataframe\">\n",
       "  <thead>\n",
       "    <tr style=\"text-align: right;\">\n",
       "      <th></th>\n",
       "      <th>transaction_date_time</th>\n",
       "      <th>month</th>\n",
       "      <th>year</th>\n",
       "      <th>Actual</th>\n",
       "      <th>Pred_Prob</th>\n",
       "      <th>Final</th>\n",
       "    </tr>\n",
       "  </thead>\n",
       "  <tbody>\n",
       "    <tr>\n",
       "      <th>0</th>\n",
       "      <td>2020-06-21 12:14:25</td>\n",
       "      <td>6</td>\n",
       "      <td>2020</td>\n",
       "      <td>0</td>\n",
       "      <td>0</td>\n",
       "      <td>0</td>\n",
       "    </tr>\n",
       "    <tr>\n",
       "      <th>1</th>\n",
       "      <td>2020-06-21 12:14:33</td>\n",
       "      <td>6</td>\n",
       "      <td>2020</td>\n",
       "      <td>0</td>\n",
       "      <td>0</td>\n",
       "      <td>0</td>\n",
       "    </tr>\n",
       "    <tr>\n",
       "      <th>2</th>\n",
       "      <td>2020-06-21 12:14:53</td>\n",
       "      <td>6</td>\n",
       "      <td>2020</td>\n",
       "      <td>0</td>\n",
       "      <td>0</td>\n",
       "      <td>0</td>\n",
       "    </tr>\n",
       "    <tr>\n",
       "      <th>3</th>\n",
       "      <td>2020-06-21 12:15:15</td>\n",
       "      <td>6</td>\n",
       "      <td>2020</td>\n",
       "      <td>0</td>\n",
       "      <td>0</td>\n",
       "      <td>0</td>\n",
       "    </tr>\n",
       "    <tr>\n",
       "      <th>4</th>\n",
       "      <td>2020-06-21 12:15:17</td>\n",
       "      <td>6</td>\n",
       "      <td>2020</td>\n",
       "      <td>0</td>\n",
       "      <td>0</td>\n",
       "      <td>0</td>\n",
       "    </tr>\n",
       "  </tbody>\n",
       "</table>\n",
       "</div>\n",
       "      <button class=\"colab-df-convert\" onclick=\"convertToInteractive('df-985e1120-c285-4601-b66c-80cb735de7bf')\"\n",
       "              title=\"Convert this dataframe to an interactive table.\"\n",
       "              style=\"display:none;\">\n",
       "        \n",
       "  <svg xmlns=\"http://www.w3.org/2000/svg\" height=\"24px\"viewBox=\"0 0 24 24\"\n",
       "       width=\"24px\">\n",
       "    <path d=\"M0 0h24v24H0V0z\" fill=\"none\"/>\n",
       "    <path d=\"M18.56 5.44l.94 2.06.94-2.06 2.06-.94-2.06-.94-.94-2.06-.94 2.06-2.06.94zm-11 1L8.5 8.5l.94-2.06 2.06-.94-2.06-.94L8.5 2.5l-.94 2.06-2.06.94zm10 10l.94 2.06.94-2.06 2.06-.94-2.06-.94-.94-2.06-.94 2.06-2.06.94z\"/><path d=\"M17.41 7.96l-1.37-1.37c-.4-.4-.92-.59-1.43-.59-.52 0-1.04.2-1.43.59L10.3 9.45l-7.72 7.72c-.78.78-.78 2.05 0 2.83L4 21.41c.39.39.9.59 1.41.59.51 0 1.02-.2 1.41-.59l7.78-7.78 2.81-2.81c.8-.78.8-2.07 0-2.86zM5.41 20L4 18.59l7.72-7.72 1.47 1.35L5.41 20z\"/>\n",
       "  </svg>\n",
       "      </button>\n",
       "      \n",
       "  <style>\n",
       "    .colab-df-container {\n",
       "      display:flex;\n",
       "      flex-wrap:wrap;\n",
       "      gap: 12px;\n",
       "    }\n",
       "\n",
       "    .colab-df-convert {\n",
       "      background-color: #E8F0FE;\n",
       "      border: none;\n",
       "      border-radius: 50%;\n",
       "      cursor: pointer;\n",
       "      display: none;\n",
       "      fill: #1967D2;\n",
       "      height: 32px;\n",
       "      padding: 0 0 0 0;\n",
       "      width: 32px;\n",
       "    }\n",
       "\n",
       "    .colab-df-convert:hover {\n",
       "      background-color: #E2EBFA;\n",
       "      box-shadow: 0px 1px 2px rgba(60, 64, 67, 0.3), 0px 1px 3px 1px rgba(60, 64, 67, 0.15);\n",
       "      fill: #174EA6;\n",
       "    }\n",
       "\n",
       "    [theme=dark] .colab-df-convert {\n",
       "      background-color: #3B4455;\n",
       "      fill: #D2E3FC;\n",
       "    }\n",
       "\n",
       "    [theme=dark] .colab-df-convert:hover {\n",
       "      background-color: #434B5C;\n",
       "      box-shadow: 0px 1px 3px 1px rgba(0, 0, 0, 0.15);\n",
       "      filter: drop-shadow(0px 1px 2px rgba(0, 0, 0, 0.3));\n",
       "      fill: #FFFFFF;\n",
       "    }\n",
       "  </style>\n",
       "\n",
       "      <script>\n",
       "        const buttonEl =\n",
       "          document.querySelector('#df-985e1120-c285-4601-b66c-80cb735de7bf button.colab-df-convert');\n",
       "        buttonEl.style.display =\n",
       "          google.colab.kernel.accessAllowed ? 'block' : 'none';\n",
       "\n",
       "        async function convertToInteractive(key) {\n",
       "          const element = document.querySelector('#df-985e1120-c285-4601-b66c-80cb735de7bf');\n",
       "          const dataTable =\n",
       "            await google.colab.kernel.invokeFunction('convertToInteractive',\n",
       "                                                     [key], {});\n",
       "          if (!dataTable) return;\n",
       "\n",
       "          const docLinkHtml = 'Like what you see? Visit the ' +\n",
       "            '<a target=\"_blank\" href=https://colab.research.google.com/notebooks/data_table.ipynb>data table notebook</a>'\n",
       "            + ' to learn more about interactive tables.';\n",
       "          element.innerHTML = '';\n",
       "          dataTable['output_type'] = 'display_data';\n",
       "          await google.colab.output.renderOutput(dataTable, element);\n",
       "          const docLink = document.createElement('div');\n",
       "          docLink.innerHTML = docLinkHtml;\n",
       "          element.appendChild(docLink);\n",
       "        }\n",
       "      </script>\n",
       "    </div>\n",
       "  </div>\n",
       "  "
      ],
      "text/plain": [
       "  transaction_date_time  month  year  Actual  Pred_Prob  Final\n",
       "0   2020-06-21 12:14:25      6  2020       0          0      0\n",
       "1   2020-06-21 12:14:33      6  2020       0          0      0\n",
       "2   2020-06-21 12:14:53      6  2020       0          0      0\n",
       "3   2020-06-21 12:15:15      6  2020       0          0      0\n",
       "4   2020-06-21 12:15:17      6  2020       0          0      0"
      ]
     },
     "execution_count": 156,
     "metadata": {},
     "output_type": "execute_result"
    }
   ],
   "source": [
    "# top 5 rows\n",
    "predictions_test.head()"
   ]
  },
  {
   "cell_type": "markdown",
   "metadata": {
    "id": "-ZK-SHXbF-aO"
   },
   "source": [
    "## **Step 6: Cost Benefit Analysis**\n",
    "\n",
    "- Please also refer to the **`cost benefit analysis execl file`** provided. "
   ]
  },
  {
   "cell_type": "code",
   "execution_count": 157,
   "metadata": {
    "colab": {
     "base_uri": "https://localhost:8080/"
    },
    "id": "vpISP4d75hBY",
    "outputId": "004a7142-c9b2-4401-f48b-8a68df749d57"
   },
   "outputs": [
    {
     "data": {
      "text/plain": [
       "79388.43"
      ]
     },
     "execution_count": 157,
     "metadata": {},
     "output_type": "execute_result"
    }
   ],
   "source": [
    "# Average Number of transactions per month\n",
    "test_data[\"month\"] = test_data[\"transaction_date_time\"].dt.month\n",
    "test_data[\"year\"] = test_data[\"transaction_date_time\"].dt.year\n",
    "result1 = (test_data.groupby(by = [\"year\",\"month\"]).count()).mean()\n",
    "np.round(result1[1],2)"
   ]
  },
  {
   "cell_type": "code",
   "execution_count": 158,
   "metadata": {
    "colab": {
     "base_uri": "https://localhost:8080/"
    },
    "id": "xnrL1svw6FXL",
    "outputId": "17178aac-7da3-4185-d77c-df1d22d63ae2"
   },
   "outputs": [
    {
     "data": {
      "text/plain": [
       "306.42857142857144"
      ]
     },
     "execution_count": 158,
     "metadata": {},
     "output_type": "execute_result"
    }
   ],
   "source": [
    "#Average Number of Fraudulent transactions per month\n",
    "result2 = (test_data[test_data[\"is_fraud\"]==1].groupby(by = [\"year\",\"month\"]).count()).mean()\n",
    "result2[1]"
   ]
  },
  {
   "cell_type": "code",
   "execution_count": 159,
   "metadata": {
    "colab": {
     "base_uri": "https://localhost:8080/"
    },
    "id": "k0kvv4168Isk",
    "outputId": "46a98e61-0177-4d00-882b-6e95df2411b4"
   },
   "outputs": [
    {
     "data": {
      "text/plain": [
       "528.3564941724942"
      ]
     },
     "execution_count": 159,
     "metadata": {},
     "output_type": "execute_result"
    }
   ],
   "source": [
    "#Average amount per fraud transaction\n",
    "result3 = test_data[test_data[\"is_fraud\"]==1][\"amount\"].sum()/test_data[test_data[\"is_fraud\"]==1].count()\n",
    "result3[1]"
   ]
  },
  {
   "cell_type": "code",
   "execution_count": 160,
   "metadata": {
    "colab": {
     "base_uri": "https://localhost:8080/"
    },
    "id": "H8pNEOGWSpA4",
    "outputId": "1df878fa-e0d1-4bc9-9203-e5fb583a41e9"
   },
   "outputs": [
    {
     "data": {
      "text/plain": [
       "8237.57142857143"
      ]
     },
     "execution_count": 160,
     "metadata": {},
     "output_type": "execute_result"
    }
   ],
   "source": [
    "# Average number of transactions detected as fraud by the model,\n",
    "TF = (predictions_test[(predictions_test[\"Final\"]==1)].groupby(by=[\"year\",\"month\"]).count()).mean()[1]\n",
    "TF"
   ]
  },
  {
   "cell_type": "code",
   "execution_count": 162,
   "metadata": {
    "colab": {
     "base_uri": "https://localhost:8080/"
    },
    "id": "TdBCpAE9cjmf",
    "outputId": "7b58fae1-7cb8-4005-abbc-22923a2d6a79"
   },
   "outputs": [
    {
     "data": {
      "text/plain": [
       "77.85714285714286"
      ]
     },
     "execution_count": 162,
     "metadata": {},
     "output_type": "execute_result"
    }
   ],
   "source": [
    "# Average number of transactions per month that are fraudulent but not detected by the model (FN)\n",
    "\n",
    "FN = (predictions_test[(predictions_test[\"Final\"]==0) & (predictions_test[\"Actual\"] == 1)].groupby(by=[\"year\",\"month\"]).count()).mean()[1]\n",
    "FN"
   ]
  },
  {
   "cell_type": "markdown",
   "metadata": {
    "id": "skjf-J6XrBY8"
   },
   "source": [
    "___\n",
    "**Scope:**\n",
    "- The Scope of this model is not limited to the models/algorithms done above. This project can further be explored using other algorithms like KNN,XGBoost etc.\n"
   ]
  },
  {
   "cell_type": "markdown",
   "metadata": {
    "id": "rpyXv6KHuZ6R"
   },
   "source": [
    "___\n",
    "- Additional files provided along with this document as part of project:\n",
    "\n",
    "  1. Structured Problem Solving (excel file)   \n",
    "  2. Root Cause Analysis (pdf file)\n",
    "  3. Cost Benefit Analysis (excel file)\n",
    "  4. PPT\n",
    "  5. Video Presentation\n",
    "___\n",
    "\n"
   ]
  },
  {
   "cell_type": "markdown",
   "metadata": {
    "id": "GO_dCFcSuvai"
   },
   "source": [
    "                                             **PROJECT ENDS HERE**"
   ]
  }
 ],
 "metadata": {
  "colab": {
   "collapsed_sections": [
    "doLELFV7LF3K",
    "3Bs49D8PLF6-"
   ],
   "provenance": []
  },
  "kernelspec": {
   "display_name": "Python 3",
   "language": "python",
   "name": "python3"
  },
  "language_info": {
   "codemirror_mode": {
    "name": "ipython",
    "version": 3
   },
   "file_extension": ".py",
   "mimetype": "text/x-python",
   "name": "python",
   "nbconvert_exporter": "python",
   "pygments_lexer": "ipython3",
   "version": "3.8.8"
  }
 },
 "nbformat": 4,
 "nbformat_minor": 1
}
